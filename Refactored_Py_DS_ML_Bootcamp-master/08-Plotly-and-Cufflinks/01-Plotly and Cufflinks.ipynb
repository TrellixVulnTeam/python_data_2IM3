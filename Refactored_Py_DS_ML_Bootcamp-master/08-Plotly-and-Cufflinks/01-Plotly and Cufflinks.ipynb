{
 "cells": [
  {
   "cell_type": "markdown",
   "metadata": {},
   "source": [
    "___\n",
    "\n",
    "<a href='http://www.pieriandata.com'> <img src='../Pierian_Data_Logo.png' /></a>\n",
    "___\n",
    "# Plotly and Cufflinks"
   ]
  },
  {
   "cell_type": "markdown",
   "metadata": {},
   "source": [
    "Plotly is a library that allows you to create interactive plots that you can use in dashboards or websites (you can save them as html files or static images).\n",
    "\n",
    "## Installation\n",
    "\n",
    "In order for this all to work, you'll need to install plotly and cufflinks to call plots directly off of a pandas dataframe. These libraries are not currently available through **conda** but are available through **pip**. Install the libraries at your command line/terminal using:\n",
    "\n",
    "    pip install plotly\n",
    "    pip install cufflinks\n",
    "\n",
    "** NOTE: Make sure you only have one installation of Python on your computer when you do this, otherwise the installation may not work. **\n",
    "\n",
    "## Imports and Set-up"
   ]
  },
  {
   "cell_type": "code",
   "execution_count": 4,
   "metadata": {},
   "outputs": [],
   "source": [
    "import pandas as pd\n",
    "import numpy as np\n",
    "%matplotlib inline"
   ]
  },
  {
   "cell_type": "code",
   "execution_count": 5,
   "metadata": {},
   "outputs": [
    {
     "name": "stdout",
     "output_type": "stream",
     "text": [
      "4.14.3\n"
     ]
    }
   ],
   "source": [
    "from plotly import __version__\n",
    "from plotly.offline import download_plotlyjs, init_notebook_mode, plot, iplot\n",
    "\n",
    "print(__version__) # requires version >= 1.9.0"
   ]
  },
  {
   "cell_type": "code",
   "execution_count": 6,
   "metadata": {},
   "outputs": [],
   "source": [
    "import cufflinks as cf"
   ]
  },
  {
   "cell_type": "code",
   "execution_count": 7,
   "metadata": {},
   "outputs": [
    {
     "data": {
      "text/html": [
       "        <script type=\"text/javascript\">\n",
       "        window.PlotlyConfig = {MathJaxConfig: 'local'};\n",
       "        if (window.MathJax) {MathJax.Hub.Config({SVG: {font: \"STIX-Web\"}});}\n",
       "        if (typeof require !== 'undefined') {\n",
       "        require.undef(\"plotly\");\n",
       "        requirejs.config({\n",
       "            paths: {\n",
       "                'plotly': ['https://cdn.plot.ly/plotly-latest.min']\n",
       "            }\n",
       "        });\n",
       "        require(['plotly'], function(Plotly) {\n",
       "            window._Plotly = Plotly;\n",
       "        });\n",
       "        }\n",
       "        </script>\n",
       "        "
      ]
     },
     "metadata": {},
     "output_type": "display_data"
    }
   ],
   "source": [
    "# For Notebooks\n",
    "init_notebook_mode(connected=True)"
   ]
  },
  {
   "cell_type": "code",
   "execution_count": 8,
   "metadata": {},
   "outputs": [
    {
     "data": {
      "text/html": [
       "        <script type=\"text/javascript\">\n",
       "        window.PlotlyConfig = {MathJaxConfig: 'local'};\n",
       "        if (window.MathJax) {MathJax.Hub.Config({SVG: {font: \"STIX-Web\"}});}\n",
       "        if (typeof require !== 'undefined') {\n",
       "        require.undef(\"plotly\");\n",
       "        requirejs.config({\n",
       "            paths: {\n",
       "                'plotly': ['https://cdn.plot.ly/plotly-latest.min']\n",
       "            }\n",
       "        });\n",
       "        require(['plotly'], function(Plotly) {\n",
       "            window._Plotly = Plotly;\n",
       "        });\n",
       "        }\n",
       "        </script>\n",
       "        "
      ]
     },
     "metadata": {},
     "output_type": "display_data"
    }
   ],
   "source": [
    "# For offline use\n",
    "cf.go_offline()"
   ]
  },
  {
   "cell_type": "markdown",
   "metadata": {},
   "source": [
    "### Fake Data"
   ]
  },
  {
   "cell_type": "code",
   "execution_count": 9,
   "metadata": {},
   "outputs": [],
   "source": [
    "df = pd.DataFrame(np.random.randn(100,4),columns='A B C D'.split())"
   ]
  },
  {
   "cell_type": "code",
   "execution_count": 10,
   "metadata": {},
   "outputs": [
    {
     "data": {
      "text/html": [
       "<div>\n",
       "<style scoped>\n",
       "    .dataframe tbody tr th:only-of-type {\n",
       "        vertical-align: middle;\n",
       "    }\n",
       "\n",
       "    .dataframe tbody tr th {\n",
       "        vertical-align: top;\n",
       "    }\n",
       "\n",
       "    .dataframe thead th {\n",
       "        text-align: right;\n",
       "    }\n",
       "</style>\n",
       "<table border=\"1\" class=\"dataframe\">\n",
       "  <thead>\n",
       "    <tr style=\"text-align: right;\">\n",
       "      <th></th>\n",
       "      <th>A</th>\n",
       "      <th>B</th>\n",
       "      <th>C</th>\n",
       "      <th>D</th>\n",
       "    </tr>\n",
       "  </thead>\n",
       "  <tbody>\n",
       "    <tr>\n",
       "      <th>0</th>\n",
       "      <td>0.878418</td>\n",
       "      <td>-0.493037</td>\n",
       "      <td>1.500707</td>\n",
       "      <td>0.096198</td>\n",
       "    </tr>\n",
       "    <tr>\n",
       "      <th>1</th>\n",
       "      <td>-0.380639</td>\n",
       "      <td>0.325030</td>\n",
       "      <td>0.462638</td>\n",
       "      <td>2.371871</td>\n",
       "    </tr>\n",
       "    <tr>\n",
       "      <th>2</th>\n",
       "      <td>-0.015162</td>\n",
       "      <td>0.958334</td>\n",
       "      <td>1.165051</td>\n",
       "      <td>-0.735009</td>\n",
       "    </tr>\n",
       "    <tr>\n",
       "      <th>3</th>\n",
       "      <td>-0.901621</td>\n",
       "      <td>0.189870</td>\n",
       "      <td>1.714225</td>\n",
       "      <td>-0.193753</td>\n",
       "    </tr>\n",
       "    <tr>\n",
       "      <th>4</th>\n",
       "      <td>1.501484</td>\n",
       "      <td>1.311646</td>\n",
       "      <td>0.153984</td>\n",
       "      <td>0.325416</td>\n",
       "    </tr>\n",
       "  </tbody>\n",
       "</table>\n",
       "</div>"
      ],
      "text/plain": [
       "          A         B         C         D\n",
       "0  0.878418 -0.493037  1.500707  0.096198\n",
       "1 -0.380639  0.325030  0.462638  2.371871\n",
       "2 -0.015162  0.958334  1.165051 -0.735009\n",
       "3 -0.901621  0.189870  1.714225 -0.193753\n",
       "4  1.501484  1.311646  0.153984  0.325416"
      ]
     },
     "execution_count": 10,
     "metadata": {},
     "output_type": "execute_result"
    }
   ],
   "source": [
    "df.head()"
   ]
  },
  {
   "cell_type": "code",
   "execution_count": 11,
   "metadata": {},
   "outputs": [],
   "source": [
    "df2 = pd.DataFrame({'Category':['A','B','C'],'Values':[32,43,50]})"
   ]
  },
  {
   "cell_type": "code",
   "execution_count": 12,
   "metadata": {},
   "outputs": [
    {
     "data": {
      "text/html": [
       "<div>\n",
       "<style scoped>\n",
       "    .dataframe tbody tr th:only-of-type {\n",
       "        vertical-align: middle;\n",
       "    }\n",
       "\n",
       "    .dataframe tbody tr th {\n",
       "        vertical-align: top;\n",
       "    }\n",
       "\n",
       "    .dataframe thead th {\n",
       "        text-align: right;\n",
       "    }\n",
       "</style>\n",
       "<table border=\"1\" class=\"dataframe\">\n",
       "  <thead>\n",
       "    <tr style=\"text-align: right;\">\n",
       "      <th></th>\n",
       "      <th>Category</th>\n",
       "      <th>Values</th>\n",
       "    </tr>\n",
       "  </thead>\n",
       "  <tbody>\n",
       "    <tr>\n",
       "      <th>0</th>\n",
       "      <td>A</td>\n",
       "      <td>32</td>\n",
       "    </tr>\n",
       "    <tr>\n",
       "      <th>1</th>\n",
       "      <td>B</td>\n",
       "      <td>43</td>\n",
       "    </tr>\n",
       "    <tr>\n",
       "      <th>2</th>\n",
       "      <td>C</td>\n",
       "      <td>50</td>\n",
       "    </tr>\n",
       "  </tbody>\n",
       "</table>\n",
       "</div>"
      ],
      "text/plain": [
       "  Category  Values\n",
       "0        A      32\n",
       "1        B      43\n",
       "2        C      50"
      ]
     },
     "execution_count": 12,
     "metadata": {},
     "output_type": "execute_result"
    }
   ],
   "source": [
    "df2.head()"
   ]
  },
  {
   "cell_type": "markdown",
   "metadata": {},
   "source": [
    "## Using Cufflinks and iplot()\n",
    "\n",
    "* scatter\n",
    "* bar\n",
    "* box\n",
    "* spread\n",
    "* ratio\n",
    "* heatmap\n",
    "* surface\n",
    "* histogram\n",
    "* bubble"
   ]
  },
  {
   "cell_type": "markdown",
   "metadata": {},
   "source": [
    "## Scatter"
   ]
  },
  {
   "cell_type": "code",
   "execution_count": 13,
   "metadata": {},
   "outputs": [
    {
     "data": {
      "application/vnd.plotly.v1+json": {
       "config": {
        "linkText": "Export to plot.ly",
        "plotlyServerURL": "https://plot.ly",
        "showLink": true
       },
       "data": [
        {
         "line": {
          "color": "rgba(255, 153, 51, 1.0)",
          "dash": "solid",
          "shape": "linear",
          "width": 1.3
         },
         "marker": {
          "size": 10,
          "symbol": "circle"
         },
         "mode": "markers",
         "name": "B",
         "text": "",
         "type": "scatter",
         "x": [
          0.8784182869438022,
          -0.3806389397043157,
          -0.015161610170961225,
          -0.9016207963843829,
          1.5014835535230446,
          0.638181087090259,
          -0.17587623889792092,
          -0.664965902036214,
          -0.5503517666986742,
          0.7412790574276407,
          -0.3413855854978848,
          -0.14321019701085397,
          0.6189236491204758,
          -1.3274582091937592,
          -0.6011515749002577,
          -0.3711948051377429,
          0.22774803593324108,
          -0.1799100326269736,
          -0.751501350518013,
          1.2726380379037925,
          0.17853445966183684,
          0.9029346884572302,
          -0.30475724605130877,
          1.1242992014697217,
          -0.34803042426193503,
          -0.2789327833471177,
          -0.48089000530870313,
          -0.8898578379398597,
          -0.4052291987803923,
          0.13910870604580186,
          -1.5928955584327276,
          1.087535267725178,
          -1.0477189352750904,
          -0.28876647921209253,
          0.23969910604040176,
          -1.047455217258851,
          -0.5833553130384778,
          0.02618941267039,
          -1.3134439425363735,
          0.37447051250925434,
          -0.23665849744398545,
          0.38366374968200445,
          0.38879693498090745,
          -2.489474520445726,
          -1.9558898206788757,
          -1.2820583243852897,
          1.6396600196257145,
          0.3257421775403651,
          0.268439850249584,
          0.254911311026306,
          -0.039997268578202474,
          -1.7304810128630073,
          0.8792983780516312,
          -0.34944303317429876,
          -0.24483344544345187,
          1.3422438252491682,
          -0.019157905591640125,
          0.48254027223419876,
          0.22916419374642585,
          -1.10244764076685,
          0.4387464394595617,
          0.49869501960824053,
          0.8896596416653044,
          -2.2247096358959375,
          0.25806961050697097,
          -0.8950588291502402,
          1.077536774493091,
          1.392456455805473,
          1.8714710818287612,
          -0.9079560039649784,
          0.5852837098112604,
          -1.3540490258003222,
          1.5937634330895467,
          1.136176797108421,
          -1.228998731272284,
          0.32499698703778784,
          -1.0600488813061035,
          0.16014813932158212,
          -0.11395722536452274,
          0.5525871357354079,
          0.1992200743903423,
          1.4432928977698434,
          -0.053842849506307945,
          0.5796916613556059,
          -0.13646583791057929,
          1.1385161923835618,
          0.25425497724742774,
          0.06459608638843127,
          -0.8272692613159764,
          -0.13056663733668503,
          1.9531971698255062,
          -1.200128548980169,
          -0.7083682008920325,
          0.046109888970466854,
          -0.1794017215311147,
          -0.2804450420349651,
          0.47294127780493245,
          -0.7939966373692098,
          0.3515341825448959,
          2.4246217604627764
         ],
         "y": [
          -0.4930365779602038,
          0.3250304022261739,
          0.9583344497638379,
          0.18987007370510067,
          1.3116461956482248,
          -0.6220817679528079,
          1.1176365968869961,
          -0.9258464578846678,
          -1.2240936631275416,
          -1.233544955793205,
          -0.3237490841563232,
          0.9123258973854688,
          0.22842642137253671,
          0.97394659908097,
          0.7117637750549505,
          -0.5015085289746392,
          -0.20916801428743456,
          1.2552264592940754,
          -0.08368782602850174,
          0.3695360809011424,
          0.37111403545690363,
          0.6782737012924119,
          0.4797622410012238,
          2.911253138754174,
          -1.512623993787851,
          -2.56331258059585,
          0.5615782223372155,
          -0.835984426866699,
          -0.44454088029925015,
          0.23385361385822392,
          0.649676684703017,
          0.33734517766819383,
          0.07386186184447749,
          1.2849074240198488,
          -0.7590870044987608,
          0.9617909879870938,
          0.7792637515682848,
          0.19076653572726923,
          -0.9743666833686444,
          0.6382514812525082,
          -0.5440458953899364,
          0.7456070716698415,
          0.12989614246183692,
          -1.6423156210534684,
          1.7163396732325287,
          -0.45416706950050567,
          0.4441043716591119,
          -1.224061455455319,
          0.5332178930668302,
          2.019759276110566,
          0.36277696743342686,
          -1.8556915806269134,
          0.492238886798876,
          -1.54995228762088,
          -0.04113350096243654,
          -0.6434973828541718,
          0.8661086529225488,
          0.9989323504656847,
          0.541137576993134,
          1.2391192072924329,
          0.5745147693028827,
          -0.2414084320240968,
          0.541309991070589,
          0.7859289747510708,
          1.4831153439368039,
          -0.5254666265863034,
          -0.7021612584368963,
          -0.28667722150976127,
          0.6385384203001963,
          0.1594149116250348,
          -1.4050472102870275,
          -0.7673306354425335,
          0.7441053584114531,
          -0.31765516460868404,
          1.6164404742814527,
          1.243123471433262,
          0.49469166601581016,
          0.06350558800969401,
          0.6383441449086565,
          0.16265538575948088,
          -0.4586828174957983,
          -1.997774359164692,
          0.3451467817844908,
          -0.9849906422659223,
          1.296687209780314,
          -0.617686845046229,
          -0.8107617488505277,
          -0.6900329691237589,
          -0.37413489066330313,
          -0.6005443256657182,
          -1.046402165049117,
          0.4896257869686791,
          0.5601417492243187,
          -1.383651457886147,
          0.8410728557430217,
          -0.405818172853134,
          -0.3831616014981088,
          0.4658052982328494,
          0.20681148045450257,
          0.4565200818659963
         ]
        }
       ],
       "layout": {
        "legend": {
         "bgcolor": "#F5F6F9",
         "font": {
          "color": "#4D5663"
         }
        },
        "paper_bgcolor": "#F5F6F9",
        "plot_bgcolor": "#F5F6F9",
        "template": {
         "data": {
          "bar": [
           {
            "error_x": {
             "color": "#2a3f5f"
            },
            "error_y": {
             "color": "#2a3f5f"
            },
            "marker": {
             "line": {
              "color": "#E5ECF6",
              "width": 0.5
             }
            },
            "type": "bar"
           }
          ],
          "barpolar": [
           {
            "marker": {
             "line": {
              "color": "#E5ECF6",
              "width": 0.5
             }
            },
            "type": "barpolar"
           }
          ],
          "carpet": [
           {
            "aaxis": {
             "endlinecolor": "#2a3f5f",
             "gridcolor": "white",
             "linecolor": "white",
             "minorgridcolor": "white",
             "startlinecolor": "#2a3f5f"
            },
            "baxis": {
             "endlinecolor": "#2a3f5f",
             "gridcolor": "white",
             "linecolor": "white",
             "minorgridcolor": "white",
             "startlinecolor": "#2a3f5f"
            },
            "type": "carpet"
           }
          ],
          "choropleth": [
           {
            "colorbar": {
             "outlinewidth": 0,
             "ticks": ""
            },
            "type": "choropleth"
           }
          ],
          "contour": [
           {
            "colorbar": {
             "outlinewidth": 0,
             "ticks": ""
            },
            "colorscale": [
             [
              0,
              "#0d0887"
             ],
             [
              0.1111111111111111,
              "#46039f"
             ],
             [
              0.2222222222222222,
              "#7201a8"
             ],
             [
              0.3333333333333333,
              "#9c179e"
             ],
             [
              0.4444444444444444,
              "#bd3786"
             ],
             [
              0.5555555555555556,
              "#d8576b"
             ],
             [
              0.6666666666666666,
              "#ed7953"
             ],
             [
              0.7777777777777778,
              "#fb9f3a"
             ],
             [
              0.8888888888888888,
              "#fdca26"
             ],
             [
              1,
              "#f0f921"
             ]
            ],
            "type": "contour"
           }
          ],
          "contourcarpet": [
           {
            "colorbar": {
             "outlinewidth": 0,
             "ticks": ""
            },
            "type": "contourcarpet"
           }
          ],
          "heatmap": [
           {
            "colorbar": {
             "outlinewidth": 0,
             "ticks": ""
            },
            "colorscale": [
             [
              0,
              "#0d0887"
             ],
             [
              0.1111111111111111,
              "#46039f"
             ],
             [
              0.2222222222222222,
              "#7201a8"
             ],
             [
              0.3333333333333333,
              "#9c179e"
             ],
             [
              0.4444444444444444,
              "#bd3786"
             ],
             [
              0.5555555555555556,
              "#d8576b"
             ],
             [
              0.6666666666666666,
              "#ed7953"
             ],
             [
              0.7777777777777778,
              "#fb9f3a"
             ],
             [
              0.8888888888888888,
              "#fdca26"
             ],
             [
              1,
              "#f0f921"
             ]
            ],
            "type": "heatmap"
           }
          ],
          "heatmapgl": [
           {
            "colorbar": {
             "outlinewidth": 0,
             "ticks": ""
            },
            "colorscale": [
             [
              0,
              "#0d0887"
             ],
             [
              0.1111111111111111,
              "#46039f"
             ],
             [
              0.2222222222222222,
              "#7201a8"
             ],
             [
              0.3333333333333333,
              "#9c179e"
             ],
             [
              0.4444444444444444,
              "#bd3786"
             ],
             [
              0.5555555555555556,
              "#d8576b"
             ],
             [
              0.6666666666666666,
              "#ed7953"
             ],
             [
              0.7777777777777778,
              "#fb9f3a"
             ],
             [
              0.8888888888888888,
              "#fdca26"
             ],
             [
              1,
              "#f0f921"
             ]
            ],
            "type": "heatmapgl"
           }
          ],
          "histogram": [
           {
            "marker": {
             "colorbar": {
              "outlinewidth": 0,
              "ticks": ""
             }
            },
            "type": "histogram"
           }
          ],
          "histogram2d": [
           {
            "colorbar": {
             "outlinewidth": 0,
             "ticks": ""
            },
            "colorscale": [
             [
              0,
              "#0d0887"
             ],
             [
              0.1111111111111111,
              "#46039f"
             ],
             [
              0.2222222222222222,
              "#7201a8"
             ],
             [
              0.3333333333333333,
              "#9c179e"
             ],
             [
              0.4444444444444444,
              "#bd3786"
             ],
             [
              0.5555555555555556,
              "#d8576b"
             ],
             [
              0.6666666666666666,
              "#ed7953"
             ],
             [
              0.7777777777777778,
              "#fb9f3a"
             ],
             [
              0.8888888888888888,
              "#fdca26"
             ],
             [
              1,
              "#f0f921"
             ]
            ],
            "type": "histogram2d"
           }
          ],
          "histogram2dcontour": [
           {
            "colorbar": {
             "outlinewidth": 0,
             "ticks": ""
            },
            "colorscale": [
             [
              0,
              "#0d0887"
             ],
             [
              0.1111111111111111,
              "#46039f"
             ],
             [
              0.2222222222222222,
              "#7201a8"
             ],
             [
              0.3333333333333333,
              "#9c179e"
             ],
             [
              0.4444444444444444,
              "#bd3786"
             ],
             [
              0.5555555555555556,
              "#d8576b"
             ],
             [
              0.6666666666666666,
              "#ed7953"
             ],
             [
              0.7777777777777778,
              "#fb9f3a"
             ],
             [
              0.8888888888888888,
              "#fdca26"
             ],
             [
              1,
              "#f0f921"
             ]
            ],
            "type": "histogram2dcontour"
           }
          ],
          "mesh3d": [
           {
            "colorbar": {
             "outlinewidth": 0,
             "ticks": ""
            },
            "type": "mesh3d"
           }
          ],
          "parcoords": [
           {
            "line": {
             "colorbar": {
              "outlinewidth": 0,
              "ticks": ""
             }
            },
            "type": "parcoords"
           }
          ],
          "pie": [
           {
            "automargin": true,
            "type": "pie"
           }
          ],
          "scatter": [
           {
            "marker": {
             "colorbar": {
              "outlinewidth": 0,
              "ticks": ""
             }
            },
            "type": "scatter"
           }
          ],
          "scatter3d": [
           {
            "line": {
             "colorbar": {
              "outlinewidth": 0,
              "ticks": ""
             }
            },
            "marker": {
             "colorbar": {
              "outlinewidth": 0,
              "ticks": ""
             }
            },
            "type": "scatter3d"
           }
          ],
          "scattercarpet": [
           {
            "marker": {
             "colorbar": {
              "outlinewidth": 0,
              "ticks": ""
             }
            },
            "type": "scattercarpet"
           }
          ],
          "scattergeo": [
           {
            "marker": {
             "colorbar": {
              "outlinewidth": 0,
              "ticks": ""
             }
            },
            "type": "scattergeo"
           }
          ],
          "scattergl": [
           {
            "marker": {
             "colorbar": {
              "outlinewidth": 0,
              "ticks": ""
             }
            },
            "type": "scattergl"
           }
          ],
          "scattermapbox": [
           {
            "marker": {
             "colorbar": {
              "outlinewidth": 0,
              "ticks": ""
             }
            },
            "type": "scattermapbox"
           }
          ],
          "scatterpolar": [
           {
            "marker": {
             "colorbar": {
              "outlinewidth": 0,
              "ticks": ""
             }
            },
            "type": "scatterpolar"
           }
          ],
          "scatterpolargl": [
           {
            "marker": {
             "colorbar": {
              "outlinewidth": 0,
              "ticks": ""
             }
            },
            "type": "scatterpolargl"
           }
          ],
          "scatterternary": [
           {
            "marker": {
             "colorbar": {
              "outlinewidth": 0,
              "ticks": ""
             }
            },
            "type": "scatterternary"
           }
          ],
          "surface": [
           {
            "colorbar": {
             "outlinewidth": 0,
             "ticks": ""
            },
            "colorscale": [
             [
              0,
              "#0d0887"
             ],
             [
              0.1111111111111111,
              "#46039f"
             ],
             [
              0.2222222222222222,
              "#7201a8"
             ],
             [
              0.3333333333333333,
              "#9c179e"
             ],
             [
              0.4444444444444444,
              "#bd3786"
             ],
             [
              0.5555555555555556,
              "#d8576b"
             ],
             [
              0.6666666666666666,
              "#ed7953"
             ],
             [
              0.7777777777777778,
              "#fb9f3a"
             ],
             [
              0.8888888888888888,
              "#fdca26"
             ],
             [
              1,
              "#f0f921"
             ]
            ],
            "type": "surface"
           }
          ],
          "table": [
           {
            "cells": {
             "fill": {
              "color": "#EBF0F8"
             },
             "line": {
              "color": "white"
             }
            },
            "header": {
             "fill": {
              "color": "#C8D4E3"
             },
             "line": {
              "color": "white"
             }
            },
            "type": "table"
           }
          ]
         },
         "layout": {
          "annotationdefaults": {
           "arrowcolor": "#2a3f5f",
           "arrowhead": 0,
           "arrowwidth": 1
          },
          "autotypenumbers": "strict",
          "coloraxis": {
           "colorbar": {
            "outlinewidth": 0,
            "ticks": ""
           }
          },
          "colorscale": {
           "diverging": [
            [
             0,
             "#8e0152"
            ],
            [
             0.1,
             "#c51b7d"
            ],
            [
             0.2,
             "#de77ae"
            ],
            [
             0.3,
             "#f1b6da"
            ],
            [
             0.4,
             "#fde0ef"
            ],
            [
             0.5,
             "#f7f7f7"
            ],
            [
             0.6,
             "#e6f5d0"
            ],
            [
             0.7,
             "#b8e186"
            ],
            [
             0.8,
             "#7fbc41"
            ],
            [
             0.9,
             "#4d9221"
            ],
            [
             1,
             "#276419"
            ]
           ],
           "sequential": [
            [
             0,
             "#0d0887"
            ],
            [
             0.1111111111111111,
             "#46039f"
            ],
            [
             0.2222222222222222,
             "#7201a8"
            ],
            [
             0.3333333333333333,
             "#9c179e"
            ],
            [
             0.4444444444444444,
             "#bd3786"
            ],
            [
             0.5555555555555556,
             "#d8576b"
            ],
            [
             0.6666666666666666,
             "#ed7953"
            ],
            [
             0.7777777777777778,
             "#fb9f3a"
            ],
            [
             0.8888888888888888,
             "#fdca26"
            ],
            [
             1,
             "#f0f921"
            ]
           ],
           "sequentialminus": [
            [
             0,
             "#0d0887"
            ],
            [
             0.1111111111111111,
             "#46039f"
            ],
            [
             0.2222222222222222,
             "#7201a8"
            ],
            [
             0.3333333333333333,
             "#9c179e"
            ],
            [
             0.4444444444444444,
             "#bd3786"
            ],
            [
             0.5555555555555556,
             "#d8576b"
            ],
            [
             0.6666666666666666,
             "#ed7953"
            ],
            [
             0.7777777777777778,
             "#fb9f3a"
            ],
            [
             0.8888888888888888,
             "#fdca26"
            ],
            [
             1,
             "#f0f921"
            ]
           ]
          },
          "colorway": [
           "#636efa",
           "#EF553B",
           "#00cc96",
           "#ab63fa",
           "#FFA15A",
           "#19d3f3",
           "#FF6692",
           "#B6E880",
           "#FF97FF",
           "#FECB52"
          ],
          "font": {
           "color": "#2a3f5f"
          },
          "geo": {
           "bgcolor": "white",
           "lakecolor": "white",
           "landcolor": "#E5ECF6",
           "showlakes": true,
           "showland": true,
           "subunitcolor": "white"
          },
          "hoverlabel": {
           "align": "left"
          },
          "hovermode": "closest",
          "mapbox": {
           "style": "light"
          },
          "paper_bgcolor": "white",
          "plot_bgcolor": "#E5ECF6",
          "polar": {
           "angularaxis": {
            "gridcolor": "white",
            "linecolor": "white",
            "ticks": ""
           },
           "bgcolor": "#E5ECF6",
           "radialaxis": {
            "gridcolor": "white",
            "linecolor": "white",
            "ticks": ""
           }
          },
          "scene": {
           "xaxis": {
            "backgroundcolor": "#E5ECF6",
            "gridcolor": "white",
            "gridwidth": 2,
            "linecolor": "white",
            "showbackground": true,
            "ticks": "",
            "zerolinecolor": "white"
           },
           "yaxis": {
            "backgroundcolor": "#E5ECF6",
            "gridcolor": "white",
            "gridwidth": 2,
            "linecolor": "white",
            "showbackground": true,
            "ticks": "",
            "zerolinecolor": "white"
           },
           "zaxis": {
            "backgroundcolor": "#E5ECF6",
            "gridcolor": "white",
            "gridwidth": 2,
            "linecolor": "white",
            "showbackground": true,
            "ticks": "",
            "zerolinecolor": "white"
           }
          },
          "shapedefaults": {
           "line": {
            "color": "#2a3f5f"
           }
          },
          "ternary": {
           "aaxis": {
            "gridcolor": "white",
            "linecolor": "white",
            "ticks": ""
           },
           "baxis": {
            "gridcolor": "white",
            "linecolor": "white",
            "ticks": ""
           },
           "bgcolor": "#E5ECF6",
           "caxis": {
            "gridcolor": "white",
            "linecolor": "white",
            "ticks": ""
           }
          },
          "title": {
           "x": 0.05
          },
          "xaxis": {
           "automargin": true,
           "gridcolor": "white",
           "linecolor": "white",
           "ticks": "",
           "title": {
            "standoff": 15
           },
           "zerolinecolor": "white",
           "zerolinewidth": 2
          },
          "yaxis": {
           "automargin": true,
           "gridcolor": "white",
           "linecolor": "white",
           "ticks": "",
           "title": {
            "standoff": 15
           },
           "zerolinecolor": "white",
           "zerolinewidth": 2
          }
         }
        },
        "title": {
         "font": {
          "color": "#4D5663"
         }
        },
        "xaxis": {
         "gridcolor": "#E1E5ED",
         "showgrid": true,
         "tickfont": {
          "color": "#4D5663"
         },
         "title": {
          "font": {
           "color": "#4D5663"
          },
          "text": ""
         },
         "zerolinecolor": "#E1E5ED"
        },
        "yaxis": {
         "gridcolor": "#E1E5ED",
         "showgrid": true,
         "tickfont": {
          "color": "#4D5663"
         },
         "title": {
          "font": {
           "color": "#4D5663"
          },
          "text": ""
         },
         "zerolinecolor": "#E1E5ED"
        }
       }
      },
      "text/html": [
       "<div>                            <div id=\"ab8dd448-58ee-4b9a-b513-aeab18a18a33\" class=\"plotly-graph-div\" style=\"height:525px; width:100%;\"></div>            <script type=\"text/javascript\">                require([\"plotly\"], function(Plotly) {                    window.PLOTLYENV=window.PLOTLYENV || {};\n",
       "                    window.PLOTLYENV.BASE_URL='https://plot.ly';                                    if (document.getElementById(\"ab8dd448-58ee-4b9a-b513-aeab18a18a33\")) {                    Plotly.newPlot(                        \"ab8dd448-58ee-4b9a-b513-aeab18a18a33\",                        [{\"line\": {\"color\": \"rgba(255, 153, 51, 1.0)\", \"dash\": \"solid\", \"shape\": \"linear\", \"width\": 1.3}, \"marker\": {\"size\": 10, \"symbol\": \"circle\"}, \"mode\": \"markers\", \"name\": \"B\", \"text\": \"\", \"type\": \"scatter\", \"x\": [0.8784182869438022, -0.3806389397043157, -0.015161610170961225, -0.9016207963843829, 1.5014835535230446, 0.638181087090259, -0.17587623889792092, -0.664965902036214, -0.5503517666986742, 0.7412790574276407, -0.3413855854978848, -0.14321019701085397, 0.6189236491204758, -1.3274582091937592, -0.6011515749002577, -0.3711948051377429, 0.22774803593324108, -0.1799100326269736, -0.751501350518013, 1.2726380379037925, 0.17853445966183684, 0.9029346884572302, -0.30475724605130877, 1.1242992014697217, -0.34803042426193503, -0.2789327833471177, -0.48089000530870313, -0.8898578379398597, -0.4052291987803923, 0.13910870604580186, -1.5928955584327276, 1.087535267725178, -1.0477189352750904, -0.28876647921209253, 0.23969910604040176, -1.047455217258851, -0.5833553130384778, 0.02618941267039, -1.3134439425363735, 0.37447051250925434, -0.23665849744398545, 0.38366374968200445, 0.38879693498090745, -2.489474520445726, -1.9558898206788757, -1.2820583243852897, 1.6396600196257145, 0.3257421775403651, 0.268439850249584, 0.254911311026306, -0.039997268578202474, -1.7304810128630073, 0.8792983780516312, -0.34944303317429876, -0.24483344544345187, 1.3422438252491682, -0.019157905591640125, 0.48254027223419876, 0.22916419374642585, -1.10244764076685, 0.4387464394595617, 0.49869501960824053, 0.8896596416653044, -2.2247096358959375, 0.25806961050697097, -0.8950588291502402, 1.077536774493091, 1.392456455805473, 1.8714710818287612, -0.9079560039649784, 0.5852837098112604, -1.3540490258003222, 1.5937634330895467, 1.136176797108421, -1.228998731272284, 0.32499698703778784, -1.0600488813061035, 0.16014813932158212, -0.11395722536452274, 0.5525871357354079, 0.1992200743903423, 1.4432928977698434, -0.053842849506307945, 0.5796916613556059, -0.13646583791057929, 1.1385161923835618, 0.25425497724742774, 0.06459608638843127, -0.8272692613159764, -0.13056663733668503, 1.9531971698255062, -1.200128548980169, -0.7083682008920325, 0.046109888970466854, -0.1794017215311147, -0.2804450420349651, 0.47294127780493245, -0.7939966373692098, 0.3515341825448959, 2.4246217604627764], \"y\": [-0.4930365779602038, 0.3250304022261739, 0.9583344497638379, 0.18987007370510067, 1.3116461956482248, -0.6220817679528079, 1.1176365968869961, -0.9258464578846678, -1.2240936631275416, -1.233544955793205, -0.3237490841563232, 0.9123258973854688, 0.22842642137253671, 0.97394659908097, 0.7117637750549505, -0.5015085289746392, -0.20916801428743456, 1.2552264592940754, -0.08368782602850174, 0.3695360809011424, 0.37111403545690363, 0.6782737012924119, 0.4797622410012238, 2.911253138754174, -1.512623993787851, -2.56331258059585, 0.5615782223372155, -0.835984426866699, -0.44454088029925015, 0.23385361385822392, 0.649676684703017, 0.33734517766819383, 0.07386186184447749, 1.2849074240198488, -0.7590870044987608, 0.9617909879870938, 0.7792637515682848, 0.19076653572726923, -0.9743666833686444, 0.6382514812525082, -0.5440458953899364, 0.7456070716698415, 0.12989614246183692, -1.6423156210534684, 1.7163396732325287, -0.45416706950050567, 0.4441043716591119, -1.224061455455319, 0.5332178930668302, 2.019759276110566, 0.36277696743342686, -1.8556915806269134, 0.492238886798876, -1.54995228762088, -0.04113350096243654, -0.6434973828541718, 0.8661086529225488, 0.9989323504656847, 0.541137576993134, 1.2391192072924329, 0.5745147693028827, -0.2414084320240968, 0.541309991070589, 0.7859289747510708, 1.4831153439368039, -0.5254666265863034, -0.7021612584368963, -0.28667722150976127, 0.6385384203001963, 0.1594149116250348, -1.4050472102870275, -0.7673306354425335, 0.7441053584114531, -0.31765516460868404, 1.6164404742814527, 1.243123471433262, 0.49469166601581016, 0.06350558800969401, 0.6383441449086565, 0.16265538575948088, -0.4586828174957983, -1.997774359164692, 0.3451467817844908, -0.9849906422659223, 1.296687209780314, -0.617686845046229, -0.8107617488505277, -0.6900329691237589, -0.37413489066330313, -0.6005443256657182, -1.046402165049117, 0.4896257869686791, 0.5601417492243187, -1.383651457886147, 0.8410728557430217, -0.405818172853134, -0.3831616014981088, 0.4658052982328494, 0.20681148045450257, 0.4565200818659963]}],                        {\"legend\": {\"bgcolor\": \"#F5F6F9\", \"font\": {\"color\": \"#4D5663\"}}, \"paper_bgcolor\": \"#F5F6F9\", \"plot_bgcolor\": \"#F5F6F9\", \"template\": {\"data\": {\"bar\": [{\"error_x\": {\"color\": \"#2a3f5f\"}, \"error_y\": {\"color\": \"#2a3f5f\"}, \"marker\": {\"line\": {\"color\": \"#E5ECF6\", \"width\": 0.5}}, \"type\": \"bar\"}], \"barpolar\": [{\"marker\": {\"line\": {\"color\": \"#E5ECF6\", \"width\": 0.5}}, \"type\": \"barpolar\"}], \"carpet\": [{\"aaxis\": {\"endlinecolor\": \"#2a3f5f\", \"gridcolor\": \"white\", \"linecolor\": \"white\", \"minorgridcolor\": \"white\", \"startlinecolor\": \"#2a3f5f\"}, \"baxis\": {\"endlinecolor\": \"#2a3f5f\", \"gridcolor\": \"white\", \"linecolor\": \"white\", \"minorgridcolor\": \"white\", \"startlinecolor\": \"#2a3f5f\"}, \"type\": \"carpet\"}], \"choropleth\": [{\"colorbar\": {\"outlinewidth\": 0, \"ticks\": \"\"}, \"type\": \"choropleth\"}], \"contour\": [{\"colorbar\": {\"outlinewidth\": 0, \"ticks\": \"\"}, \"colorscale\": [[0.0, \"#0d0887\"], [0.1111111111111111, \"#46039f\"], [0.2222222222222222, \"#7201a8\"], [0.3333333333333333, \"#9c179e\"], [0.4444444444444444, \"#bd3786\"], [0.5555555555555556, \"#d8576b\"], [0.6666666666666666, \"#ed7953\"], [0.7777777777777778, \"#fb9f3a\"], [0.8888888888888888, \"#fdca26\"], [1.0, \"#f0f921\"]], \"type\": \"contour\"}], \"contourcarpet\": [{\"colorbar\": {\"outlinewidth\": 0, \"ticks\": \"\"}, \"type\": \"contourcarpet\"}], \"heatmap\": [{\"colorbar\": {\"outlinewidth\": 0, \"ticks\": \"\"}, \"colorscale\": [[0.0, \"#0d0887\"], [0.1111111111111111, \"#46039f\"], [0.2222222222222222, \"#7201a8\"], [0.3333333333333333, \"#9c179e\"], [0.4444444444444444, \"#bd3786\"], [0.5555555555555556, \"#d8576b\"], [0.6666666666666666, \"#ed7953\"], [0.7777777777777778, \"#fb9f3a\"], [0.8888888888888888, \"#fdca26\"], [1.0, \"#f0f921\"]], \"type\": \"heatmap\"}], \"heatmapgl\": [{\"colorbar\": {\"outlinewidth\": 0, \"ticks\": \"\"}, \"colorscale\": [[0.0, \"#0d0887\"], [0.1111111111111111, \"#46039f\"], [0.2222222222222222, \"#7201a8\"], [0.3333333333333333, \"#9c179e\"], [0.4444444444444444, \"#bd3786\"], [0.5555555555555556, \"#d8576b\"], [0.6666666666666666, \"#ed7953\"], [0.7777777777777778, \"#fb9f3a\"], [0.8888888888888888, \"#fdca26\"], [1.0, \"#f0f921\"]], \"type\": \"heatmapgl\"}], \"histogram\": [{\"marker\": {\"colorbar\": {\"outlinewidth\": 0, \"ticks\": \"\"}}, \"type\": \"histogram\"}], \"histogram2d\": [{\"colorbar\": {\"outlinewidth\": 0, \"ticks\": \"\"}, \"colorscale\": [[0.0, \"#0d0887\"], [0.1111111111111111, \"#46039f\"], [0.2222222222222222, \"#7201a8\"], [0.3333333333333333, \"#9c179e\"], [0.4444444444444444, \"#bd3786\"], [0.5555555555555556, \"#d8576b\"], [0.6666666666666666, \"#ed7953\"], [0.7777777777777778, \"#fb9f3a\"], [0.8888888888888888, \"#fdca26\"], [1.0, \"#f0f921\"]], \"type\": \"histogram2d\"}], \"histogram2dcontour\": [{\"colorbar\": {\"outlinewidth\": 0, \"ticks\": \"\"}, \"colorscale\": [[0.0, \"#0d0887\"], [0.1111111111111111, \"#46039f\"], [0.2222222222222222, \"#7201a8\"], [0.3333333333333333, \"#9c179e\"], [0.4444444444444444, \"#bd3786\"], [0.5555555555555556, \"#d8576b\"], [0.6666666666666666, \"#ed7953\"], [0.7777777777777778, \"#fb9f3a\"], [0.8888888888888888, \"#fdca26\"], [1.0, \"#f0f921\"]], \"type\": \"histogram2dcontour\"}], \"mesh3d\": [{\"colorbar\": {\"outlinewidth\": 0, \"ticks\": \"\"}, \"type\": \"mesh3d\"}], \"parcoords\": [{\"line\": {\"colorbar\": {\"outlinewidth\": 0, \"ticks\": \"\"}}, \"type\": \"parcoords\"}], \"pie\": [{\"automargin\": true, \"type\": \"pie\"}], \"scatter\": [{\"marker\": {\"colorbar\": {\"outlinewidth\": 0, \"ticks\": \"\"}}, \"type\": \"scatter\"}], \"scatter3d\": [{\"line\": {\"colorbar\": {\"outlinewidth\": 0, \"ticks\": \"\"}}, \"marker\": {\"colorbar\": {\"outlinewidth\": 0, \"ticks\": \"\"}}, \"type\": \"scatter3d\"}], \"scattercarpet\": [{\"marker\": {\"colorbar\": {\"outlinewidth\": 0, \"ticks\": \"\"}}, \"type\": \"scattercarpet\"}], \"scattergeo\": [{\"marker\": {\"colorbar\": {\"outlinewidth\": 0, \"ticks\": \"\"}}, \"type\": \"scattergeo\"}], \"scattergl\": [{\"marker\": {\"colorbar\": {\"outlinewidth\": 0, \"ticks\": \"\"}}, \"type\": \"scattergl\"}], \"scattermapbox\": [{\"marker\": {\"colorbar\": {\"outlinewidth\": 0, \"ticks\": \"\"}}, \"type\": \"scattermapbox\"}], \"scatterpolar\": [{\"marker\": {\"colorbar\": {\"outlinewidth\": 0, \"ticks\": \"\"}}, \"type\": \"scatterpolar\"}], \"scatterpolargl\": [{\"marker\": {\"colorbar\": {\"outlinewidth\": 0, \"ticks\": \"\"}}, \"type\": \"scatterpolargl\"}], \"scatterternary\": [{\"marker\": {\"colorbar\": {\"outlinewidth\": 0, \"ticks\": \"\"}}, \"type\": \"scatterternary\"}], \"surface\": [{\"colorbar\": {\"outlinewidth\": 0, \"ticks\": \"\"}, \"colorscale\": [[0.0, \"#0d0887\"], [0.1111111111111111, \"#46039f\"], [0.2222222222222222, \"#7201a8\"], [0.3333333333333333, \"#9c179e\"], [0.4444444444444444, \"#bd3786\"], [0.5555555555555556, \"#d8576b\"], [0.6666666666666666, \"#ed7953\"], [0.7777777777777778, \"#fb9f3a\"], [0.8888888888888888, \"#fdca26\"], [1.0, \"#f0f921\"]], \"type\": \"surface\"}], \"table\": [{\"cells\": {\"fill\": {\"color\": \"#EBF0F8\"}, \"line\": {\"color\": \"white\"}}, \"header\": {\"fill\": {\"color\": \"#C8D4E3\"}, \"line\": {\"color\": \"white\"}}, \"type\": \"table\"}]}, \"layout\": {\"annotationdefaults\": {\"arrowcolor\": \"#2a3f5f\", \"arrowhead\": 0, \"arrowwidth\": 1}, \"autotypenumbers\": \"strict\", \"coloraxis\": {\"colorbar\": {\"outlinewidth\": 0, \"ticks\": \"\"}}, \"colorscale\": {\"diverging\": [[0, \"#8e0152\"], [0.1, \"#c51b7d\"], [0.2, \"#de77ae\"], [0.3, \"#f1b6da\"], [0.4, \"#fde0ef\"], [0.5, \"#f7f7f7\"], [0.6, \"#e6f5d0\"], [0.7, \"#b8e186\"], [0.8, \"#7fbc41\"], [0.9, \"#4d9221\"], [1, \"#276419\"]], \"sequential\": [[0.0, \"#0d0887\"], [0.1111111111111111, \"#46039f\"], [0.2222222222222222, \"#7201a8\"], [0.3333333333333333, \"#9c179e\"], [0.4444444444444444, \"#bd3786\"], [0.5555555555555556, \"#d8576b\"], [0.6666666666666666, \"#ed7953\"], [0.7777777777777778, \"#fb9f3a\"], [0.8888888888888888, \"#fdca26\"], [1.0, \"#f0f921\"]], \"sequentialminus\": [[0.0, \"#0d0887\"], [0.1111111111111111, \"#46039f\"], [0.2222222222222222, \"#7201a8\"], [0.3333333333333333, \"#9c179e\"], [0.4444444444444444, \"#bd3786\"], [0.5555555555555556, \"#d8576b\"], [0.6666666666666666, \"#ed7953\"], [0.7777777777777778, \"#fb9f3a\"], [0.8888888888888888, \"#fdca26\"], [1.0, \"#f0f921\"]]}, \"colorway\": [\"#636efa\", \"#EF553B\", \"#00cc96\", \"#ab63fa\", \"#FFA15A\", \"#19d3f3\", \"#FF6692\", \"#B6E880\", \"#FF97FF\", \"#FECB52\"], \"font\": {\"color\": \"#2a3f5f\"}, \"geo\": {\"bgcolor\": \"white\", \"lakecolor\": \"white\", \"landcolor\": \"#E5ECF6\", \"showlakes\": true, \"showland\": true, \"subunitcolor\": \"white\"}, \"hoverlabel\": {\"align\": \"left\"}, \"hovermode\": \"closest\", \"mapbox\": {\"style\": \"light\"}, \"paper_bgcolor\": \"white\", \"plot_bgcolor\": \"#E5ECF6\", \"polar\": {\"angularaxis\": {\"gridcolor\": \"white\", \"linecolor\": \"white\", \"ticks\": \"\"}, \"bgcolor\": \"#E5ECF6\", \"radialaxis\": {\"gridcolor\": \"white\", \"linecolor\": \"white\", \"ticks\": \"\"}}, \"scene\": {\"xaxis\": {\"backgroundcolor\": \"#E5ECF6\", \"gridcolor\": \"white\", \"gridwidth\": 2, \"linecolor\": \"white\", \"showbackground\": true, \"ticks\": \"\", \"zerolinecolor\": \"white\"}, \"yaxis\": {\"backgroundcolor\": \"#E5ECF6\", \"gridcolor\": \"white\", \"gridwidth\": 2, \"linecolor\": \"white\", \"showbackground\": true, \"ticks\": \"\", \"zerolinecolor\": \"white\"}, \"zaxis\": {\"backgroundcolor\": \"#E5ECF6\", \"gridcolor\": \"white\", \"gridwidth\": 2, \"linecolor\": \"white\", \"showbackground\": true, \"ticks\": \"\", \"zerolinecolor\": \"white\"}}, \"shapedefaults\": {\"line\": {\"color\": \"#2a3f5f\"}}, \"ternary\": {\"aaxis\": {\"gridcolor\": \"white\", \"linecolor\": \"white\", \"ticks\": \"\"}, \"baxis\": {\"gridcolor\": \"white\", \"linecolor\": \"white\", \"ticks\": \"\"}, \"bgcolor\": \"#E5ECF6\", \"caxis\": {\"gridcolor\": \"white\", \"linecolor\": \"white\", \"ticks\": \"\"}}, \"title\": {\"x\": 0.05}, \"xaxis\": {\"automargin\": true, \"gridcolor\": \"white\", \"linecolor\": \"white\", \"ticks\": \"\", \"title\": {\"standoff\": 15}, \"zerolinecolor\": \"white\", \"zerolinewidth\": 2}, \"yaxis\": {\"automargin\": true, \"gridcolor\": \"white\", \"linecolor\": \"white\", \"ticks\": \"\", \"title\": {\"standoff\": 15}, \"zerolinecolor\": \"white\", \"zerolinewidth\": 2}}}, \"title\": {\"font\": {\"color\": \"#4D5663\"}}, \"xaxis\": {\"gridcolor\": \"#E1E5ED\", \"showgrid\": true, \"tickfont\": {\"color\": \"#4D5663\"}, \"title\": {\"font\": {\"color\": \"#4D5663\"}, \"text\": \"\"}, \"zerolinecolor\": \"#E1E5ED\"}, \"yaxis\": {\"gridcolor\": \"#E1E5ED\", \"showgrid\": true, \"tickfont\": {\"color\": \"#4D5663\"}, \"title\": {\"font\": {\"color\": \"#4D5663\"}, \"text\": \"\"}, \"zerolinecolor\": \"#E1E5ED\"}},                        {\"showLink\": true, \"linkText\": \"Export to plot.ly\", \"plotlyServerURL\": \"https://plot.ly\", \"responsive\": true}                    ).then(function(){\n",
       "                            \n",
       "var gd = document.getElementById('ab8dd448-58ee-4b9a-b513-aeab18a18a33');\n",
       "var x = new MutationObserver(function (mutations, observer) {{\n",
       "        var display = window.getComputedStyle(gd).display;\n",
       "        if (!display || display === 'none') {{\n",
       "            console.log([gd, 'removed!']);\n",
       "            Plotly.purge(gd);\n",
       "            observer.disconnect();\n",
       "        }}\n",
       "}});\n",
       "\n",
       "// Listen for the removal of the full notebook cells\n",
       "var notebookContainer = gd.closest('#notebook-container');\n",
       "if (notebookContainer) {{\n",
       "    x.observe(notebookContainer, {childList: true});\n",
       "}}\n",
       "\n",
       "// Listen for the clearing of the current output cell\n",
       "var outputEl = gd.closest('.output');\n",
       "if (outputEl) {{\n",
       "    x.observe(outputEl, {childList: true});\n",
       "}}\n",
       "\n",
       "                        })                };                });            </script>        </div>"
      ]
     },
     "metadata": {},
     "output_type": "display_data"
    }
   ],
   "source": [
    "df.iplot(kind='scatter',x='A',y='B',mode='markers',size=10)"
   ]
  },
  {
   "cell_type": "markdown",
   "metadata": {},
   "source": [
    "## Bar Plots"
   ]
  },
  {
   "cell_type": "code",
   "execution_count": 14,
   "metadata": {},
   "outputs": [
    {
     "data": {
      "application/vnd.plotly.v1+json": {
       "config": {
        "linkText": "Export to plot.ly",
        "plotlyServerURL": "https://plot.ly",
        "showLink": true
       },
       "data": [
        {
         "marker": {
          "color": "rgba(255, 153, 51, 0.6)",
          "line": {
           "color": "rgba(255, 153, 51, 1.0)",
           "width": 1
          }
         },
         "name": "Values",
         "orientation": "v",
         "text": "",
         "type": "bar",
         "x": [
          "A",
          "B",
          "C"
         ],
         "y": [
          32,
          43,
          50
         ]
        }
       ],
       "layout": {
        "legend": {
         "bgcolor": "#F5F6F9",
         "font": {
          "color": "#4D5663"
         }
        },
        "paper_bgcolor": "#F5F6F9",
        "plot_bgcolor": "#F5F6F9",
        "template": {
         "data": {
          "bar": [
           {
            "error_x": {
             "color": "#2a3f5f"
            },
            "error_y": {
             "color": "#2a3f5f"
            },
            "marker": {
             "line": {
              "color": "#E5ECF6",
              "width": 0.5
             }
            },
            "type": "bar"
           }
          ],
          "barpolar": [
           {
            "marker": {
             "line": {
              "color": "#E5ECF6",
              "width": 0.5
             }
            },
            "type": "barpolar"
           }
          ],
          "carpet": [
           {
            "aaxis": {
             "endlinecolor": "#2a3f5f",
             "gridcolor": "white",
             "linecolor": "white",
             "minorgridcolor": "white",
             "startlinecolor": "#2a3f5f"
            },
            "baxis": {
             "endlinecolor": "#2a3f5f",
             "gridcolor": "white",
             "linecolor": "white",
             "minorgridcolor": "white",
             "startlinecolor": "#2a3f5f"
            },
            "type": "carpet"
           }
          ],
          "choropleth": [
           {
            "colorbar": {
             "outlinewidth": 0,
             "ticks": ""
            },
            "type": "choropleth"
           }
          ],
          "contour": [
           {
            "colorbar": {
             "outlinewidth": 0,
             "ticks": ""
            },
            "colorscale": [
             [
              0,
              "#0d0887"
             ],
             [
              0.1111111111111111,
              "#46039f"
             ],
             [
              0.2222222222222222,
              "#7201a8"
             ],
             [
              0.3333333333333333,
              "#9c179e"
             ],
             [
              0.4444444444444444,
              "#bd3786"
             ],
             [
              0.5555555555555556,
              "#d8576b"
             ],
             [
              0.6666666666666666,
              "#ed7953"
             ],
             [
              0.7777777777777778,
              "#fb9f3a"
             ],
             [
              0.8888888888888888,
              "#fdca26"
             ],
             [
              1,
              "#f0f921"
             ]
            ],
            "type": "contour"
           }
          ],
          "contourcarpet": [
           {
            "colorbar": {
             "outlinewidth": 0,
             "ticks": ""
            },
            "type": "contourcarpet"
           }
          ],
          "heatmap": [
           {
            "colorbar": {
             "outlinewidth": 0,
             "ticks": ""
            },
            "colorscale": [
             [
              0,
              "#0d0887"
             ],
             [
              0.1111111111111111,
              "#46039f"
             ],
             [
              0.2222222222222222,
              "#7201a8"
             ],
             [
              0.3333333333333333,
              "#9c179e"
             ],
             [
              0.4444444444444444,
              "#bd3786"
             ],
             [
              0.5555555555555556,
              "#d8576b"
             ],
             [
              0.6666666666666666,
              "#ed7953"
             ],
             [
              0.7777777777777778,
              "#fb9f3a"
             ],
             [
              0.8888888888888888,
              "#fdca26"
             ],
             [
              1,
              "#f0f921"
             ]
            ],
            "type": "heatmap"
           }
          ],
          "heatmapgl": [
           {
            "colorbar": {
             "outlinewidth": 0,
             "ticks": ""
            },
            "colorscale": [
             [
              0,
              "#0d0887"
             ],
             [
              0.1111111111111111,
              "#46039f"
             ],
             [
              0.2222222222222222,
              "#7201a8"
             ],
             [
              0.3333333333333333,
              "#9c179e"
             ],
             [
              0.4444444444444444,
              "#bd3786"
             ],
             [
              0.5555555555555556,
              "#d8576b"
             ],
             [
              0.6666666666666666,
              "#ed7953"
             ],
             [
              0.7777777777777778,
              "#fb9f3a"
             ],
             [
              0.8888888888888888,
              "#fdca26"
             ],
             [
              1,
              "#f0f921"
             ]
            ],
            "type": "heatmapgl"
           }
          ],
          "histogram": [
           {
            "marker": {
             "colorbar": {
              "outlinewidth": 0,
              "ticks": ""
             }
            },
            "type": "histogram"
           }
          ],
          "histogram2d": [
           {
            "colorbar": {
             "outlinewidth": 0,
             "ticks": ""
            },
            "colorscale": [
             [
              0,
              "#0d0887"
             ],
             [
              0.1111111111111111,
              "#46039f"
             ],
             [
              0.2222222222222222,
              "#7201a8"
             ],
             [
              0.3333333333333333,
              "#9c179e"
             ],
             [
              0.4444444444444444,
              "#bd3786"
             ],
             [
              0.5555555555555556,
              "#d8576b"
             ],
             [
              0.6666666666666666,
              "#ed7953"
             ],
             [
              0.7777777777777778,
              "#fb9f3a"
             ],
             [
              0.8888888888888888,
              "#fdca26"
             ],
             [
              1,
              "#f0f921"
             ]
            ],
            "type": "histogram2d"
           }
          ],
          "histogram2dcontour": [
           {
            "colorbar": {
             "outlinewidth": 0,
             "ticks": ""
            },
            "colorscale": [
             [
              0,
              "#0d0887"
             ],
             [
              0.1111111111111111,
              "#46039f"
             ],
             [
              0.2222222222222222,
              "#7201a8"
             ],
             [
              0.3333333333333333,
              "#9c179e"
             ],
             [
              0.4444444444444444,
              "#bd3786"
             ],
             [
              0.5555555555555556,
              "#d8576b"
             ],
             [
              0.6666666666666666,
              "#ed7953"
             ],
             [
              0.7777777777777778,
              "#fb9f3a"
             ],
             [
              0.8888888888888888,
              "#fdca26"
             ],
             [
              1,
              "#f0f921"
             ]
            ],
            "type": "histogram2dcontour"
           }
          ],
          "mesh3d": [
           {
            "colorbar": {
             "outlinewidth": 0,
             "ticks": ""
            },
            "type": "mesh3d"
           }
          ],
          "parcoords": [
           {
            "line": {
             "colorbar": {
              "outlinewidth": 0,
              "ticks": ""
             }
            },
            "type": "parcoords"
           }
          ],
          "pie": [
           {
            "automargin": true,
            "type": "pie"
           }
          ],
          "scatter": [
           {
            "marker": {
             "colorbar": {
              "outlinewidth": 0,
              "ticks": ""
             }
            },
            "type": "scatter"
           }
          ],
          "scatter3d": [
           {
            "line": {
             "colorbar": {
              "outlinewidth": 0,
              "ticks": ""
             }
            },
            "marker": {
             "colorbar": {
              "outlinewidth": 0,
              "ticks": ""
             }
            },
            "type": "scatter3d"
           }
          ],
          "scattercarpet": [
           {
            "marker": {
             "colorbar": {
              "outlinewidth": 0,
              "ticks": ""
             }
            },
            "type": "scattercarpet"
           }
          ],
          "scattergeo": [
           {
            "marker": {
             "colorbar": {
              "outlinewidth": 0,
              "ticks": ""
             }
            },
            "type": "scattergeo"
           }
          ],
          "scattergl": [
           {
            "marker": {
             "colorbar": {
              "outlinewidth": 0,
              "ticks": ""
             }
            },
            "type": "scattergl"
           }
          ],
          "scattermapbox": [
           {
            "marker": {
             "colorbar": {
              "outlinewidth": 0,
              "ticks": ""
             }
            },
            "type": "scattermapbox"
           }
          ],
          "scatterpolar": [
           {
            "marker": {
             "colorbar": {
              "outlinewidth": 0,
              "ticks": ""
             }
            },
            "type": "scatterpolar"
           }
          ],
          "scatterpolargl": [
           {
            "marker": {
             "colorbar": {
              "outlinewidth": 0,
              "ticks": ""
             }
            },
            "type": "scatterpolargl"
           }
          ],
          "scatterternary": [
           {
            "marker": {
             "colorbar": {
              "outlinewidth": 0,
              "ticks": ""
             }
            },
            "type": "scatterternary"
           }
          ],
          "surface": [
           {
            "colorbar": {
             "outlinewidth": 0,
             "ticks": ""
            },
            "colorscale": [
             [
              0,
              "#0d0887"
             ],
             [
              0.1111111111111111,
              "#46039f"
             ],
             [
              0.2222222222222222,
              "#7201a8"
             ],
             [
              0.3333333333333333,
              "#9c179e"
             ],
             [
              0.4444444444444444,
              "#bd3786"
             ],
             [
              0.5555555555555556,
              "#d8576b"
             ],
             [
              0.6666666666666666,
              "#ed7953"
             ],
             [
              0.7777777777777778,
              "#fb9f3a"
             ],
             [
              0.8888888888888888,
              "#fdca26"
             ],
             [
              1,
              "#f0f921"
             ]
            ],
            "type": "surface"
           }
          ],
          "table": [
           {
            "cells": {
             "fill": {
              "color": "#EBF0F8"
             },
             "line": {
              "color": "white"
             }
            },
            "header": {
             "fill": {
              "color": "#C8D4E3"
             },
             "line": {
              "color": "white"
             }
            },
            "type": "table"
           }
          ]
         },
         "layout": {
          "annotationdefaults": {
           "arrowcolor": "#2a3f5f",
           "arrowhead": 0,
           "arrowwidth": 1
          },
          "autotypenumbers": "strict",
          "coloraxis": {
           "colorbar": {
            "outlinewidth": 0,
            "ticks": ""
           }
          },
          "colorscale": {
           "diverging": [
            [
             0,
             "#8e0152"
            ],
            [
             0.1,
             "#c51b7d"
            ],
            [
             0.2,
             "#de77ae"
            ],
            [
             0.3,
             "#f1b6da"
            ],
            [
             0.4,
             "#fde0ef"
            ],
            [
             0.5,
             "#f7f7f7"
            ],
            [
             0.6,
             "#e6f5d0"
            ],
            [
             0.7,
             "#b8e186"
            ],
            [
             0.8,
             "#7fbc41"
            ],
            [
             0.9,
             "#4d9221"
            ],
            [
             1,
             "#276419"
            ]
           ],
           "sequential": [
            [
             0,
             "#0d0887"
            ],
            [
             0.1111111111111111,
             "#46039f"
            ],
            [
             0.2222222222222222,
             "#7201a8"
            ],
            [
             0.3333333333333333,
             "#9c179e"
            ],
            [
             0.4444444444444444,
             "#bd3786"
            ],
            [
             0.5555555555555556,
             "#d8576b"
            ],
            [
             0.6666666666666666,
             "#ed7953"
            ],
            [
             0.7777777777777778,
             "#fb9f3a"
            ],
            [
             0.8888888888888888,
             "#fdca26"
            ],
            [
             1,
             "#f0f921"
            ]
           ],
           "sequentialminus": [
            [
             0,
             "#0d0887"
            ],
            [
             0.1111111111111111,
             "#46039f"
            ],
            [
             0.2222222222222222,
             "#7201a8"
            ],
            [
             0.3333333333333333,
             "#9c179e"
            ],
            [
             0.4444444444444444,
             "#bd3786"
            ],
            [
             0.5555555555555556,
             "#d8576b"
            ],
            [
             0.6666666666666666,
             "#ed7953"
            ],
            [
             0.7777777777777778,
             "#fb9f3a"
            ],
            [
             0.8888888888888888,
             "#fdca26"
            ],
            [
             1,
             "#f0f921"
            ]
           ]
          },
          "colorway": [
           "#636efa",
           "#EF553B",
           "#00cc96",
           "#ab63fa",
           "#FFA15A",
           "#19d3f3",
           "#FF6692",
           "#B6E880",
           "#FF97FF",
           "#FECB52"
          ],
          "font": {
           "color": "#2a3f5f"
          },
          "geo": {
           "bgcolor": "white",
           "lakecolor": "white",
           "landcolor": "#E5ECF6",
           "showlakes": true,
           "showland": true,
           "subunitcolor": "white"
          },
          "hoverlabel": {
           "align": "left"
          },
          "hovermode": "closest",
          "mapbox": {
           "style": "light"
          },
          "paper_bgcolor": "white",
          "plot_bgcolor": "#E5ECF6",
          "polar": {
           "angularaxis": {
            "gridcolor": "white",
            "linecolor": "white",
            "ticks": ""
           },
           "bgcolor": "#E5ECF6",
           "radialaxis": {
            "gridcolor": "white",
            "linecolor": "white",
            "ticks": ""
           }
          },
          "scene": {
           "xaxis": {
            "backgroundcolor": "#E5ECF6",
            "gridcolor": "white",
            "gridwidth": 2,
            "linecolor": "white",
            "showbackground": true,
            "ticks": "",
            "zerolinecolor": "white"
           },
           "yaxis": {
            "backgroundcolor": "#E5ECF6",
            "gridcolor": "white",
            "gridwidth": 2,
            "linecolor": "white",
            "showbackground": true,
            "ticks": "",
            "zerolinecolor": "white"
           },
           "zaxis": {
            "backgroundcolor": "#E5ECF6",
            "gridcolor": "white",
            "gridwidth": 2,
            "linecolor": "white",
            "showbackground": true,
            "ticks": "",
            "zerolinecolor": "white"
           }
          },
          "shapedefaults": {
           "line": {
            "color": "#2a3f5f"
           }
          },
          "ternary": {
           "aaxis": {
            "gridcolor": "white",
            "linecolor": "white",
            "ticks": ""
           },
           "baxis": {
            "gridcolor": "white",
            "linecolor": "white",
            "ticks": ""
           },
           "bgcolor": "#E5ECF6",
           "caxis": {
            "gridcolor": "white",
            "linecolor": "white",
            "ticks": ""
           }
          },
          "title": {
           "x": 0.05
          },
          "xaxis": {
           "automargin": true,
           "gridcolor": "white",
           "linecolor": "white",
           "ticks": "",
           "title": {
            "standoff": 15
           },
           "zerolinecolor": "white",
           "zerolinewidth": 2
          },
          "yaxis": {
           "automargin": true,
           "gridcolor": "white",
           "linecolor": "white",
           "ticks": "",
           "title": {
            "standoff": 15
           },
           "zerolinecolor": "white",
           "zerolinewidth": 2
          }
         }
        },
        "title": {
         "font": {
          "color": "#4D5663"
         }
        },
        "xaxis": {
         "gridcolor": "#E1E5ED",
         "showgrid": true,
         "tickfont": {
          "color": "#4D5663"
         },
         "title": {
          "font": {
           "color": "#4D5663"
          },
          "text": ""
         },
         "zerolinecolor": "#E1E5ED"
        },
        "yaxis": {
         "gridcolor": "#E1E5ED",
         "showgrid": true,
         "tickfont": {
          "color": "#4D5663"
         },
         "title": {
          "font": {
           "color": "#4D5663"
          },
          "text": ""
         },
         "zerolinecolor": "#E1E5ED"
        }
       }
      },
      "text/html": [
       "<div>                            <div id=\"d8033f36-b6eb-4cbd-9c5b-5c73666482bf\" class=\"plotly-graph-div\" style=\"height:525px; width:100%;\"></div>            <script type=\"text/javascript\">                require([\"plotly\"], function(Plotly) {                    window.PLOTLYENV=window.PLOTLYENV || {};\n",
       "                    window.PLOTLYENV.BASE_URL='https://plot.ly';                                    if (document.getElementById(\"d8033f36-b6eb-4cbd-9c5b-5c73666482bf\")) {                    Plotly.newPlot(                        \"d8033f36-b6eb-4cbd-9c5b-5c73666482bf\",                        [{\"marker\": {\"color\": \"rgba(255, 153, 51, 0.6)\", \"line\": {\"color\": \"rgba(255, 153, 51, 1.0)\", \"width\": 1}}, \"name\": \"Values\", \"orientation\": \"v\", \"text\": \"\", \"type\": \"bar\", \"x\": [\"A\", \"B\", \"C\"], \"y\": [32, 43, 50]}],                        {\"legend\": {\"bgcolor\": \"#F5F6F9\", \"font\": {\"color\": \"#4D5663\"}}, \"paper_bgcolor\": \"#F5F6F9\", \"plot_bgcolor\": \"#F5F6F9\", \"template\": {\"data\": {\"bar\": [{\"error_x\": {\"color\": \"#2a3f5f\"}, \"error_y\": {\"color\": \"#2a3f5f\"}, \"marker\": {\"line\": {\"color\": \"#E5ECF6\", \"width\": 0.5}}, \"type\": \"bar\"}], \"barpolar\": [{\"marker\": {\"line\": {\"color\": \"#E5ECF6\", \"width\": 0.5}}, \"type\": \"barpolar\"}], \"carpet\": [{\"aaxis\": {\"endlinecolor\": \"#2a3f5f\", \"gridcolor\": \"white\", \"linecolor\": \"white\", \"minorgridcolor\": \"white\", \"startlinecolor\": \"#2a3f5f\"}, \"baxis\": {\"endlinecolor\": \"#2a3f5f\", \"gridcolor\": \"white\", \"linecolor\": \"white\", \"minorgridcolor\": \"white\", \"startlinecolor\": \"#2a3f5f\"}, \"type\": \"carpet\"}], \"choropleth\": [{\"colorbar\": {\"outlinewidth\": 0, \"ticks\": \"\"}, \"type\": \"choropleth\"}], \"contour\": [{\"colorbar\": {\"outlinewidth\": 0, \"ticks\": \"\"}, \"colorscale\": [[0.0, \"#0d0887\"], [0.1111111111111111, \"#46039f\"], [0.2222222222222222, \"#7201a8\"], [0.3333333333333333, \"#9c179e\"], [0.4444444444444444, \"#bd3786\"], [0.5555555555555556, \"#d8576b\"], [0.6666666666666666, \"#ed7953\"], [0.7777777777777778, \"#fb9f3a\"], [0.8888888888888888, \"#fdca26\"], [1.0, \"#f0f921\"]], \"type\": \"contour\"}], \"contourcarpet\": [{\"colorbar\": {\"outlinewidth\": 0, \"ticks\": \"\"}, \"type\": \"contourcarpet\"}], \"heatmap\": [{\"colorbar\": {\"outlinewidth\": 0, \"ticks\": \"\"}, \"colorscale\": [[0.0, \"#0d0887\"], [0.1111111111111111, \"#46039f\"], [0.2222222222222222, \"#7201a8\"], [0.3333333333333333, \"#9c179e\"], [0.4444444444444444, \"#bd3786\"], [0.5555555555555556, \"#d8576b\"], [0.6666666666666666, \"#ed7953\"], [0.7777777777777778, \"#fb9f3a\"], [0.8888888888888888, \"#fdca26\"], [1.0, \"#f0f921\"]], \"type\": \"heatmap\"}], \"heatmapgl\": [{\"colorbar\": {\"outlinewidth\": 0, \"ticks\": \"\"}, \"colorscale\": [[0.0, \"#0d0887\"], [0.1111111111111111, \"#46039f\"], [0.2222222222222222, \"#7201a8\"], [0.3333333333333333, \"#9c179e\"], [0.4444444444444444, \"#bd3786\"], [0.5555555555555556, \"#d8576b\"], [0.6666666666666666, \"#ed7953\"], [0.7777777777777778, \"#fb9f3a\"], [0.8888888888888888, \"#fdca26\"], [1.0, \"#f0f921\"]], \"type\": \"heatmapgl\"}], \"histogram\": [{\"marker\": {\"colorbar\": {\"outlinewidth\": 0, \"ticks\": \"\"}}, \"type\": \"histogram\"}], \"histogram2d\": [{\"colorbar\": {\"outlinewidth\": 0, \"ticks\": \"\"}, \"colorscale\": [[0.0, \"#0d0887\"], [0.1111111111111111, \"#46039f\"], [0.2222222222222222, \"#7201a8\"], [0.3333333333333333, \"#9c179e\"], [0.4444444444444444, \"#bd3786\"], [0.5555555555555556, \"#d8576b\"], [0.6666666666666666, \"#ed7953\"], [0.7777777777777778, \"#fb9f3a\"], [0.8888888888888888, \"#fdca26\"], [1.0, \"#f0f921\"]], \"type\": \"histogram2d\"}], \"histogram2dcontour\": [{\"colorbar\": {\"outlinewidth\": 0, \"ticks\": \"\"}, \"colorscale\": [[0.0, \"#0d0887\"], [0.1111111111111111, \"#46039f\"], [0.2222222222222222, \"#7201a8\"], [0.3333333333333333, \"#9c179e\"], [0.4444444444444444, \"#bd3786\"], [0.5555555555555556, \"#d8576b\"], [0.6666666666666666, \"#ed7953\"], [0.7777777777777778, \"#fb9f3a\"], [0.8888888888888888, \"#fdca26\"], [1.0, \"#f0f921\"]], \"type\": \"histogram2dcontour\"}], \"mesh3d\": [{\"colorbar\": {\"outlinewidth\": 0, \"ticks\": \"\"}, \"type\": \"mesh3d\"}], \"parcoords\": [{\"line\": {\"colorbar\": {\"outlinewidth\": 0, \"ticks\": \"\"}}, \"type\": \"parcoords\"}], \"pie\": [{\"automargin\": true, \"type\": \"pie\"}], \"scatter\": [{\"marker\": {\"colorbar\": {\"outlinewidth\": 0, \"ticks\": \"\"}}, \"type\": \"scatter\"}], \"scatter3d\": [{\"line\": {\"colorbar\": {\"outlinewidth\": 0, \"ticks\": \"\"}}, \"marker\": {\"colorbar\": {\"outlinewidth\": 0, \"ticks\": \"\"}}, \"type\": \"scatter3d\"}], \"scattercarpet\": [{\"marker\": {\"colorbar\": {\"outlinewidth\": 0, \"ticks\": \"\"}}, \"type\": \"scattercarpet\"}], \"scattergeo\": [{\"marker\": {\"colorbar\": {\"outlinewidth\": 0, \"ticks\": \"\"}}, \"type\": \"scattergeo\"}], \"scattergl\": [{\"marker\": {\"colorbar\": {\"outlinewidth\": 0, \"ticks\": \"\"}}, \"type\": \"scattergl\"}], \"scattermapbox\": [{\"marker\": {\"colorbar\": {\"outlinewidth\": 0, \"ticks\": \"\"}}, \"type\": \"scattermapbox\"}], \"scatterpolar\": [{\"marker\": {\"colorbar\": {\"outlinewidth\": 0, \"ticks\": \"\"}}, \"type\": \"scatterpolar\"}], \"scatterpolargl\": [{\"marker\": {\"colorbar\": {\"outlinewidth\": 0, \"ticks\": \"\"}}, \"type\": \"scatterpolargl\"}], \"scatterternary\": [{\"marker\": {\"colorbar\": {\"outlinewidth\": 0, \"ticks\": \"\"}}, \"type\": \"scatterternary\"}], \"surface\": [{\"colorbar\": {\"outlinewidth\": 0, \"ticks\": \"\"}, \"colorscale\": [[0.0, \"#0d0887\"], [0.1111111111111111, \"#46039f\"], [0.2222222222222222, \"#7201a8\"], [0.3333333333333333, \"#9c179e\"], [0.4444444444444444, \"#bd3786\"], [0.5555555555555556, \"#d8576b\"], [0.6666666666666666, \"#ed7953\"], [0.7777777777777778, \"#fb9f3a\"], [0.8888888888888888, \"#fdca26\"], [1.0, \"#f0f921\"]], \"type\": \"surface\"}], \"table\": [{\"cells\": {\"fill\": {\"color\": \"#EBF0F8\"}, \"line\": {\"color\": \"white\"}}, \"header\": {\"fill\": {\"color\": \"#C8D4E3\"}, \"line\": {\"color\": \"white\"}}, \"type\": \"table\"}]}, \"layout\": {\"annotationdefaults\": {\"arrowcolor\": \"#2a3f5f\", \"arrowhead\": 0, \"arrowwidth\": 1}, \"autotypenumbers\": \"strict\", \"coloraxis\": {\"colorbar\": {\"outlinewidth\": 0, \"ticks\": \"\"}}, \"colorscale\": {\"diverging\": [[0, \"#8e0152\"], [0.1, \"#c51b7d\"], [0.2, \"#de77ae\"], [0.3, \"#f1b6da\"], [0.4, \"#fde0ef\"], [0.5, \"#f7f7f7\"], [0.6, \"#e6f5d0\"], [0.7, \"#b8e186\"], [0.8, \"#7fbc41\"], [0.9, \"#4d9221\"], [1, \"#276419\"]], \"sequential\": [[0.0, \"#0d0887\"], [0.1111111111111111, \"#46039f\"], [0.2222222222222222, \"#7201a8\"], [0.3333333333333333, \"#9c179e\"], [0.4444444444444444, \"#bd3786\"], [0.5555555555555556, \"#d8576b\"], [0.6666666666666666, \"#ed7953\"], [0.7777777777777778, \"#fb9f3a\"], [0.8888888888888888, \"#fdca26\"], [1.0, \"#f0f921\"]], \"sequentialminus\": [[0.0, \"#0d0887\"], [0.1111111111111111, \"#46039f\"], [0.2222222222222222, \"#7201a8\"], [0.3333333333333333, \"#9c179e\"], [0.4444444444444444, \"#bd3786\"], [0.5555555555555556, \"#d8576b\"], [0.6666666666666666, \"#ed7953\"], [0.7777777777777778, \"#fb9f3a\"], [0.8888888888888888, \"#fdca26\"], [1.0, \"#f0f921\"]]}, \"colorway\": [\"#636efa\", \"#EF553B\", \"#00cc96\", \"#ab63fa\", \"#FFA15A\", \"#19d3f3\", \"#FF6692\", \"#B6E880\", \"#FF97FF\", \"#FECB52\"], \"font\": {\"color\": \"#2a3f5f\"}, \"geo\": {\"bgcolor\": \"white\", \"lakecolor\": \"white\", \"landcolor\": \"#E5ECF6\", \"showlakes\": true, \"showland\": true, \"subunitcolor\": \"white\"}, \"hoverlabel\": {\"align\": \"left\"}, \"hovermode\": \"closest\", \"mapbox\": {\"style\": \"light\"}, \"paper_bgcolor\": \"white\", \"plot_bgcolor\": \"#E5ECF6\", \"polar\": {\"angularaxis\": {\"gridcolor\": \"white\", \"linecolor\": \"white\", \"ticks\": \"\"}, \"bgcolor\": \"#E5ECF6\", \"radialaxis\": {\"gridcolor\": \"white\", \"linecolor\": \"white\", \"ticks\": \"\"}}, \"scene\": {\"xaxis\": {\"backgroundcolor\": \"#E5ECF6\", \"gridcolor\": \"white\", \"gridwidth\": 2, \"linecolor\": \"white\", \"showbackground\": true, \"ticks\": \"\", \"zerolinecolor\": \"white\"}, \"yaxis\": {\"backgroundcolor\": \"#E5ECF6\", \"gridcolor\": \"white\", \"gridwidth\": 2, \"linecolor\": \"white\", \"showbackground\": true, \"ticks\": \"\", \"zerolinecolor\": \"white\"}, \"zaxis\": {\"backgroundcolor\": \"#E5ECF6\", \"gridcolor\": \"white\", \"gridwidth\": 2, \"linecolor\": \"white\", \"showbackground\": true, \"ticks\": \"\", \"zerolinecolor\": \"white\"}}, \"shapedefaults\": {\"line\": {\"color\": \"#2a3f5f\"}}, \"ternary\": {\"aaxis\": {\"gridcolor\": \"white\", \"linecolor\": \"white\", \"ticks\": \"\"}, \"baxis\": {\"gridcolor\": \"white\", \"linecolor\": \"white\", \"ticks\": \"\"}, \"bgcolor\": \"#E5ECF6\", \"caxis\": {\"gridcolor\": \"white\", \"linecolor\": \"white\", \"ticks\": \"\"}}, \"title\": {\"x\": 0.05}, \"xaxis\": {\"automargin\": true, \"gridcolor\": \"white\", \"linecolor\": \"white\", \"ticks\": \"\", \"title\": {\"standoff\": 15}, \"zerolinecolor\": \"white\", \"zerolinewidth\": 2}, \"yaxis\": {\"automargin\": true, \"gridcolor\": \"white\", \"linecolor\": \"white\", \"ticks\": \"\", \"title\": {\"standoff\": 15}, \"zerolinecolor\": \"white\", \"zerolinewidth\": 2}}}, \"title\": {\"font\": {\"color\": \"#4D5663\"}}, \"xaxis\": {\"gridcolor\": \"#E1E5ED\", \"showgrid\": true, \"tickfont\": {\"color\": \"#4D5663\"}, \"title\": {\"font\": {\"color\": \"#4D5663\"}, \"text\": \"\"}, \"zerolinecolor\": \"#E1E5ED\"}, \"yaxis\": {\"gridcolor\": \"#E1E5ED\", \"showgrid\": true, \"tickfont\": {\"color\": \"#4D5663\"}, \"title\": {\"font\": {\"color\": \"#4D5663\"}, \"text\": \"\"}, \"zerolinecolor\": \"#E1E5ED\"}},                        {\"showLink\": true, \"linkText\": \"Export to plot.ly\", \"plotlyServerURL\": \"https://plot.ly\", \"responsive\": true}                    ).then(function(){\n",
       "                            \n",
       "var gd = document.getElementById('d8033f36-b6eb-4cbd-9c5b-5c73666482bf');\n",
       "var x = new MutationObserver(function (mutations, observer) {{\n",
       "        var display = window.getComputedStyle(gd).display;\n",
       "        if (!display || display === 'none') {{\n",
       "            console.log([gd, 'removed!']);\n",
       "            Plotly.purge(gd);\n",
       "            observer.disconnect();\n",
       "        }}\n",
       "}});\n",
       "\n",
       "// Listen for the removal of the full notebook cells\n",
       "var notebookContainer = gd.closest('#notebook-container');\n",
       "if (notebookContainer) {{\n",
       "    x.observe(notebookContainer, {childList: true});\n",
       "}}\n",
       "\n",
       "// Listen for the clearing of the current output cell\n",
       "var outputEl = gd.closest('.output');\n",
       "if (outputEl) {{\n",
       "    x.observe(outputEl, {childList: true});\n",
       "}}\n",
       "\n",
       "                        })                };                });            </script>        </div>"
      ]
     },
     "metadata": {},
     "output_type": "display_data"
    }
   ],
   "source": [
    "df2.iplot(kind='bar',x='Category',y='Values')"
   ]
  },
  {
   "cell_type": "code",
   "execution_count": 15,
   "metadata": {},
   "outputs": [
    {
     "data": {
      "application/vnd.plotly.v1+json": {
       "config": {
        "linkText": "Export to plot.ly",
        "plotlyServerURL": "https://plot.ly",
        "showLink": true
       },
       "data": [
        {
         "marker": {
          "color": "rgba(255, 153, 51, 0.6)",
          "line": {
           "color": "rgba(255, 153, 51, 1.0)",
           "width": 1
          }
         },
         "name": "None",
         "orientation": "v",
         "text": "",
         "type": "bar",
         "x": [
          "A",
          "B",
          "C",
          "D"
         ],
         "y": [
          100,
          100,
          100,
          100
         ]
        }
       ],
       "layout": {
        "legend": {
         "bgcolor": "#F5F6F9",
         "font": {
          "color": "#4D5663"
         }
        },
        "paper_bgcolor": "#F5F6F9",
        "plot_bgcolor": "#F5F6F9",
        "template": {
         "data": {
          "bar": [
           {
            "error_x": {
             "color": "#2a3f5f"
            },
            "error_y": {
             "color": "#2a3f5f"
            },
            "marker": {
             "line": {
              "color": "#E5ECF6",
              "width": 0.5
             }
            },
            "type": "bar"
           }
          ],
          "barpolar": [
           {
            "marker": {
             "line": {
              "color": "#E5ECF6",
              "width": 0.5
             }
            },
            "type": "barpolar"
           }
          ],
          "carpet": [
           {
            "aaxis": {
             "endlinecolor": "#2a3f5f",
             "gridcolor": "white",
             "linecolor": "white",
             "minorgridcolor": "white",
             "startlinecolor": "#2a3f5f"
            },
            "baxis": {
             "endlinecolor": "#2a3f5f",
             "gridcolor": "white",
             "linecolor": "white",
             "minorgridcolor": "white",
             "startlinecolor": "#2a3f5f"
            },
            "type": "carpet"
           }
          ],
          "choropleth": [
           {
            "colorbar": {
             "outlinewidth": 0,
             "ticks": ""
            },
            "type": "choropleth"
           }
          ],
          "contour": [
           {
            "colorbar": {
             "outlinewidth": 0,
             "ticks": ""
            },
            "colorscale": [
             [
              0,
              "#0d0887"
             ],
             [
              0.1111111111111111,
              "#46039f"
             ],
             [
              0.2222222222222222,
              "#7201a8"
             ],
             [
              0.3333333333333333,
              "#9c179e"
             ],
             [
              0.4444444444444444,
              "#bd3786"
             ],
             [
              0.5555555555555556,
              "#d8576b"
             ],
             [
              0.6666666666666666,
              "#ed7953"
             ],
             [
              0.7777777777777778,
              "#fb9f3a"
             ],
             [
              0.8888888888888888,
              "#fdca26"
             ],
             [
              1,
              "#f0f921"
             ]
            ],
            "type": "contour"
           }
          ],
          "contourcarpet": [
           {
            "colorbar": {
             "outlinewidth": 0,
             "ticks": ""
            },
            "type": "contourcarpet"
           }
          ],
          "heatmap": [
           {
            "colorbar": {
             "outlinewidth": 0,
             "ticks": ""
            },
            "colorscale": [
             [
              0,
              "#0d0887"
             ],
             [
              0.1111111111111111,
              "#46039f"
             ],
             [
              0.2222222222222222,
              "#7201a8"
             ],
             [
              0.3333333333333333,
              "#9c179e"
             ],
             [
              0.4444444444444444,
              "#bd3786"
             ],
             [
              0.5555555555555556,
              "#d8576b"
             ],
             [
              0.6666666666666666,
              "#ed7953"
             ],
             [
              0.7777777777777778,
              "#fb9f3a"
             ],
             [
              0.8888888888888888,
              "#fdca26"
             ],
             [
              1,
              "#f0f921"
             ]
            ],
            "type": "heatmap"
           }
          ],
          "heatmapgl": [
           {
            "colorbar": {
             "outlinewidth": 0,
             "ticks": ""
            },
            "colorscale": [
             [
              0,
              "#0d0887"
             ],
             [
              0.1111111111111111,
              "#46039f"
             ],
             [
              0.2222222222222222,
              "#7201a8"
             ],
             [
              0.3333333333333333,
              "#9c179e"
             ],
             [
              0.4444444444444444,
              "#bd3786"
             ],
             [
              0.5555555555555556,
              "#d8576b"
             ],
             [
              0.6666666666666666,
              "#ed7953"
             ],
             [
              0.7777777777777778,
              "#fb9f3a"
             ],
             [
              0.8888888888888888,
              "#fdca26"
             ],
             [
              1,
              "#f0f921"
             ]
            ],
            "type": "heatmapgl"
           }
          ],
          "histogram": [
           {
            "marker": {
             "colorbar": {
              "outlinewidth": 0,
              "ticks": ""
             }
            },
            "type": "histogram"
           }
          ],
          "histogram2d": [
           {
            "colorbar": {
             "outlinewidth": 0,
             "ticks": ""
            },
            "colorscale": [
             [
              0,
              "#0d0887"
             ],
             [
              0.1111111111111111,
              "#46039f"
             ],
             [
              0.2222222222222222,
              "#7201a8"
             ],
             [
              0.3333333333333333,
              "#9c179e"
             ],
             [
              0.4444444444444444,
              "#bd3786"
             ],
             [
              0.5555555555555556,
              "#d8576b"
             ],
             [
              0.6666666666666666,
              "#ed7953"
             ],
             [
              0.7777777777777778,
              "#fb9f3a"
             ],
             [
              0.8888888888888888,
              "#fdca26"
             ],
             [
              1,
              "#f0f921"
             ]
            ],
            "type": "histogram2d"
           }
          ],
          "histogram2dcontour": [
           {
            "colorbar": {
             "outlinewidth": 0,
             "ticks": ""
            },
            "colorscale": [
             [
              0,
              "#0d0887"
             ],
             [
              0.1111111111111111,
              "#46039f"
             ],
             [
              0.2222222222222222,
              "#7201a8"
             ],
             [
              0.3333333333333333,
              "#9c179e"
             ],
             [
              0.4444444444444444,
              "#bd3786"
             ],
             [
              0.5555555555555556,
              "#d8576b"
             ],
             [
              0.6666666666666666,
              "#ed7953"
             ],
             [
              0.7777777777777778,
              "#fb9f3a"
             ],
             [
              0.8888888888888888,
              "#fdca26"
             ],
             [
              1,
              "#f0f921"
             ]
            ],
            "type": "histogram2dcontour"
           }
          ],
          "mesh3d": [
           {
            "colorbar": {
             "outlinewidth": 0,
             "ticks": ""
            },
            "type": "mesh3d"
           }
          ],
          "parcoords": [
           {
            "line": {
             "colorbar": {
              "outlinewidth": 0,
              "ticks": ""
             }
            },
            "type": "parcoords"
           }
          ],
          "pie": [
           {
            "automargin": true,
            "type": "pie"
           }
          ],
          "scatter": [
           {
            "marker": {
             "colorbar": {
              "outlinewidth": 0,
              "ticks": ""
             }
            },
            "type": "scatter"
           }
          ],
          "scatter3d": [
           {
            "line": {
             "colorbar": {
              "outlinewidth": 0,
              "ticks": ""
             }
            },
            "marker": {
             "colorbar": {
              "outlinewidth": 0,
              "ticks": ""
             }
            },
            "type": "scatter3d"
           }
          ],
          "scattercarpet": [
           {
            "marker": {
             "colorbar": {
              "outlinewidth": 0,
              "ticks": ""
             }
            },
            "type": "scattercarpet"
           }
          ],
          "scattergeo": [
           {
            "marker": {
             "colorbar": {
              "outlinewidth": 0,
              "ticks": ""
             }
            },
            "type": "scattergeo"
           }
          ],
          "scattergl": [
           {
            "marker": {
             "colorbar": {
              "outlinewidth": 0,
              "ticks": ""
             }
            },
            "type": "scattergl"
           }
          ],
          "scattermapbox": [
           {
            "marker": {
             "colorbar": {
              "outlinewidth": 0,
              "ticks": ""
             }
            },
            "type": "scattermapbox"
           }
          ],
          "scatterpolar": [
           {
            "marker": {
             "colorbar": {
              "outlinewidth": 0,
              "ticks": ""
             }
            },
            "type": "scatterpolar"
           }
          ],
          "scatterpolargl": [
           {
            "marker": {
             "colorbar": {
              "outlinewidth": 0,
              "ticks": ""
             }
            },
            "type": "scatterpolargl"
           }
          ],
          "scatterternary": [
           {
            "marker": {
             "colorbar": {
              "outlinewidth": 0,
              "ticks": ""
             }
            },
            "type": "scatterternary"
           }
          ],
          "surface": [
           {
            "colorbar": {
             "outlinewidth": 0,
             "ticks": ""
            },
            "colorscale": [
             [
              0,
              "#0d0887"
             ],
             [
              0.1111111111111111,
              "#46039f"
             ],
             [
              0.2222222222222222,
              "#7201a8"
             ],
             [
              0.3333333333333333,
              "#9c179e"
             ],
             [
              0.4444444444444444,
              "#bd3786"
             ],
             [
              0.5555555555555556,
              "#d8576b"
             ],
             [
              0.6666666666666666,
              "#ed7953"
             ],
             [
              0.7777777777777778,
              "#fb9f3a"
             ],
             [
              0.8888888888888888,
              "#fdca26"
             ],
             [
              1,
              "#f0f921"
             ]
            ],
            "type": "surface"
           }
          ],
          "table": [
           {
            "cells": {
             "fill": {
              "color": "#EBF0F8"
             },
             "line": {
              "color": "white"
             }
            },
            "header": {
             "fill": {
              "color": "#C8D4E3"
             },
             "line": {
              "color": "white"
             }
            },
            "type": "table"
           }
          ]
         },
         "layout": {
          "annotationdefaults": {
           "arrowcolor": "#2a3f5f",
           "arrowhead": 0,
           "arrowwidth": 1
          },
          "autotypenumbers": "strict",
          "coloraxis": {
           "colorbar": {
            "outlinewidth": 0,
            "ticks": ""
           }
          },
          "colorscale": {
           "diverging": [
            [
             0,
             "#8e0152"
            ],
            [
             0.1,
             "#c51b7d"
            ],
            [
             0.2,
             "#de77ae"
            ],
            [
             0.3,
             "#f1b6da"
            ],
            [
             0.4,
             "#fde0ef"
            ],
            [
             0.5,
             "#f7f7f7"
            ],
            [
             0.6,
             "#e6f5d0"
            ],
            [
             0.7,
             "#b8e186"
            ],
            [
             0.8,
             "#7fbc41"
            ],
            [
             0.9,
             "#4d9221"
            ],
            [
             1,
             "#276419"
            ]
           ],
           "sequential": [
            [
             0,
             "#0d0887"
            ],
            [
             0.1111111111111111,
             "#46039f"
            ],
            [
             0.2222222222222222,
             "#7201a8"
            ],
            [
             0.3333333333333333,
             "#9c179e"
            ],
            [
             0.4444444444444444,
             "#bd3786"
            ],
            [
             0.5555555555555556,
             "#d8576b"
            ],
            [
             0.6666666666666666,
             "#ed7953"
            ],
            [
             0.7777777777777778,
             "#fb9f3a"
            ],
            [
             0.8888888888888888,
             "#fdca26"
            ],
            [
             1,
             "#f0f921"
            ]
           ],
           "sequentialminus": [
            [
             0,
             "#0d0887"
            ],
            [
             0.1111111111111111,
             "#46039f"
            ],
            [
             0.2222222222222222,
             "#7201a8"
            ],
            [
             0.3333333333333333,
             "#9c179e"
            ],
            [
             0.4444444444444444,
             "#bd3786"
            ],
            [
             0.5555555555555556,
             "#d8576b"
            ],
            [
             0.6666666666666666,
             "#ed7953"
            ],
            [
             0.7777777777777778,
             "#fb9f3a"
            ],
            [
             0.8888888888888888,
             "#fdca26"
            ],
            [
             1,
             "#f0f921"
            ]
           ]
          },
          "colorway": [
           "#636efa",
           "#EF553B",
           "#00cc96",
           "#ab63fa",
           "#FFA15A",
           "#19d3f3",
           "#FF6692",
           "#B6E880",
           "#FF97FF",
           "#FECB52"
          ],
          "font": {
           "color": "#2a3f5f"
          },
          "geo": {
           "bgcolor": "white",
           "lakecolor": "white",
           "landcolor": "#E5ECF6",
           "showlakes": true,
           "showland": true,
           "subunitcolor": "white"
          },
          "hoverlabel": {
           "align": "left"
          },
          "hovermode": "closest",
          "mapbox": {
           "style": "light"
          },
          "paper_bgcolor": "white",
          "plot_bgcolor": "#E5ECF6",
          "polar": {
           "angularaxis": {
            "gridcolor": "white",
            "linecolor": "white",
            "ticks": ""
           },
           "bgcolor": "#E5ECF6",
           "radialaxis": {
            "gridcolor": "white",
            "linecolor": "white",
            "ticks": ""
           }
          },
          "scene": {
           "xaxis": {
            "backgroundcolor": "#E5ECF6",
            "gridcolor": "white",
            "gridwidth": 2,
            "linecolor": "white",
            "showbackground": true,
            "ticks": "",
            "zerolinecolor": "white"
           },
           "yaxis": {
            "backgroundcolor": "#E5ECF6",
            "gridcolor": "white",
            "gridwidth": 2,
            "linecolor": "white",
            "showbackground": true,
            "ticks": "",
            "zerolinecolor": "white"
           },
           "zaxis": {
            "backgroundcolor": "#E5ECF6",
            "gridcolor": "white",
            "gridwidth": 2,
            "linecolor": "white",
            "showbackground": true,
            "ticks": "",
            "zerolinecolor": "white"
           }
          },
          "shapedefaults": {
           "line": {
            "color": "#2a3f5f"
           }
          },
          "ternary": {
           "aaxis": {
            "gridcolor": "white",
            "linecolor": "white",
            "ticks": ""
           },
           "baxis": {
            "gridcolor": "white",
            "linecolor": "white",
            "ticks": ""
           },
           "bgcolor": "#E5ECF6",
           "caxis": {
            "gridcolor": "white",
            "linecolor": "white",
            "ticks": ""
           }
          },
          "title": {
           "x": 0.05
          },
          "xaxis": {
           "automargin": true,
           "gridcolor": "white",
           "linecolor": "white",
           "ticks": "",
           "title": {
            "standoff": 15
           },
           "zerolinecolor": "white",
           "zerolinewidth": 2
          },
          "yaxis": {
           "automargin": true,
           "gridcolor": "white",
           "linecolor": "white",
           "ticks": "",
           "title": {
            "standoff": 15
           },
           "zerolinecolor": "white",
           "zerolinewidth": 2
          }
         }
        },
        "title": {
         "font": {
          "color": "#4D5663"
         }
        },
        "xaxis": {
         "gridcolor": "#E1E5ED",
         "showgrid": true,
         "tickfont": {
          "color": "#4D5663"
         },
         "title": {
          "font": {
           "color": "#4D5663"
          },
          "text": ""
         },
         "zerolinecolor": "#E1E5ED"
        },
        "yaxis": {
         "gridcolor": "#E1E5ED",
         "showgrid": true,
         "tickfont": {
          "color": "#4D5663"
         },
         "title": {
          "font": {
           "color": "#4D5663"
          },
          "text": ""
         },
         "zerolinecolor": "#E1E5ED"
        }
       }
      },
      "text/html": [
       "<div>                            <div id=\"aec23f91-7e29-468e-b43c-bfe085e3493d\" class=\"plotly-graph-div\" style=\"height:525px; width:100%;\"></div>            <script type=\"text/javascript\">                require([\"plotly\"], function(Plotly) {                    window.PLOTLYENV=window.PLOTLYENV || {};\n",
       "                    window.PLOTLYENV.BASE_URL='https://plot.ly';                                    if (document.getElementById(\"aec23f91-7e29-468e-b43c-bfe085e3493d\")) {                    Plotly.newPlot(                        \"aec23f91-7e29-468e-b43c-bfe085e3493d\",                        [{\"marker\": {\"color\": \"rgba(255, 153, 51, 0.6)\", \"line\": {\"color\": \"rgba(255, 153, 51, 1.0)\", \"width\": 1}}, \"name\": \"None\", \"orientation\": \"v\", \"text\": \"\", \"type\": \"bar\", \"x\": [\"A\", \"B\", \"C\", \"D\"], \"y\": [100, 100, 100, 100]}],                        {\"legend\": {\"bgcolor\": \"#F5F6F9\", \"font\": {\"color\": \"#4D5663\"}}, \"paper_bgcolor\": \"#F5F6F9\", \"plot_bgcolor\": \"#F5F6F9\", \"template\": {\"data\": {\"bar\": [{\"error_x\": {\"color\": \"#2a3f5f\"}, \"error_y\": {\"color\": \"#2a3f5f\"}, \"marker\": {\"line\": {\"color\": \"#E5ECF6\", \"width\": 0.5}}, \"type\": \"bar\"}], \"barpolar\": [{\"marker\": {\"line\": {\"color\": \"#E5ECF6\", \"width\": 0.5}}, \"type\": \"barpolar\"}], \"carpet\": [{\"aaxis\": {\"endlinecolor\": \"#2a3f5f\", \"gridcolor\": \"white\", \"linecolor\": \"white\", \"minorgridcolor\": \"white\", \"startlinecolor\": \"#2a3f5f\"}, \"baxis\": {\"endlinecolor\": \"#2a3f5f\", \"gridcolor\": \"white\", \"linecolor\": \"white\", \"minorgridcolor\": \"white\", \"startlinecolor\": \"#2a3f5f\"}, \"type\": \"carpet\"}], \"choropleth\": [{\"colorbar\": {\"outlinewidth\": 0, \"ticks\": \"\"}, \"type\": \"choropleth\"}], \"contour\": [{\"colorbar\": {\"outlinewidth\": 0, \"ticks\": \"\"}, \"colorscale\": [[0.0, \"#0d0887\"], [0.1111111111111111, \"#46039f\"], [0.2222222222222222, \"#7201a8\"], [0.3333333333333333, \"#9c179e\"], [0.4444444444444444, \"#bd3786\"], [0.5555555555555556, \"#d8576b\"], [0.6666666666666666, \"#ed7953\"], [0.7777777777777778, \"#fb9f3a\"], [0.8888888888888888, \"#fdca26\"], [1.0, \"#f0f921\"]], \"type\": \"contour\"}], \"contourcarpet\": [{\"colorbar\": {\"outlinewidth\": 0, \"ticks\": \"\"}, \"type\": \"contourcarpet\"}], \"heatmap\": [{\"colorbar\": {\"outlinewidth\": 0, \"ticks\": \"\"}, \"colorscale\": [[0.0, \"#0d0887\"], [0.1111111111111111, \"#46039f\"], [0.2222222222222222, \"#7201a8\"], [0.3333333333333333, \"#9c179e\"], [0.4444444444444444, \"#bd3786\"], [0.5555555555555556, \"#d8576b\"], [0.6666666666666666, \"#ed7953\"], [0.7777777777777778, \"#fb9f3a\"], [0.8888888888888888, \"#fdca26\"], [1.0, \"#f0f921\"]], \"type\": \"heatmap\"}], \"heatmapgl\": [{\"colorbar\": {\"outlinewidth\": 0, \"ticks\": \"\"}, \"colorscale\": [[0.0, \"#0d0887\"], [0.1111111111111111, \"#46039f\"], [0.2222222222222222, \"#7201a8\"], [0.3333333333333333, \"#9c179e\"], [0.4444444444444444, \"#bd3786\"], [0.5555555555555556, \"#d8576b\"], [0.6666666666666666, \"#ed7953\"], [0.7777777777777778, \"#fb9f3a\"], [0.8888888888888888, \"#fdca26\"], [1.0, \"#f0f921\"]], \"type\": \"heatmapgl\"}], \"histogram\": [{\"marker\": {\"colorbar\": {\"outlinewidth\": 0, \"ticks\": \"\"}}, \"type\": \"histogram\"}], \"histogram2d\": [{\"colorbar\": {\"outlinewidth\": 0, \"ticks\": \"\"}, \"colorscale\": [[0.0, \"#0d0887\"], [0.1111111111111111, \"#46039f\"], [0.2222222222222222, \"#7201a8\"], [0.3333333333333333, \"#9c179e\"], [0.4444444444444444, \"#bd3786\"], [0.5555555555555556, \"#d8576b\"], [0.6666666666666666, \"#ed7953\"], [0.7777777777777778, \"#fb9f3a\"], [0.8888888888888888, \"#fdca26\"], [1.0, \"#f0f921\"]], \"type\": \"histogram2d\"}], \"histogram2dcontour\": [{\"colorbar\": {\"outlinewidth\": 0, \"ticks\": \"\"}, \"colorscale\": [[0.0, \"#0d0887\"], [0.1111111111111111, \"#46039f\"], [0.2222222222222222, \"#7201a8\"], [0.3333333333333333, \"#9c179e\"], [0.4444444444444444, \"#bd3786\"], [0.5555555555555556, \"#d8576b\"], [0.6666666666666666, \"#ed7953\"], [0.7777777777777778, \"#fb9f3a\"], [0.8888888888888888, \"#fdca26\"], [1.0, \"#f0f921\"]], \"type\": \"histogram2dcontour\"}], \"mesh3d\": [{\"colorbar\": {\"outlinewidth\": 0, \"ticks\": \"\"}, \"type\": \"mesh3d\"}], \"parcoords\": [{\"line\": {\"colorbar\": {\"outlinewidth\": 0, \"ticks\": \"\"}}, \"type\": \"parcoords\"}], \"pie\": [{\"automargin\": true, \"type\": \"pie\"}], \"scatter\": [{\"marker\": {\"colorbar\": {\"outlinewidth\": 0, \"ticks\": \"\"}}, \"type\": \"scatter\"}], \"scatter3d\": [{\"line\": {\"colorbar\": {\"outlinewidth\": 0, \"ticks\": \"\"}}, \"marker\": {\"colorbar\": {\"outlinewidth\": 0, \"ticks\": \"\"}}, \"type\": \"scatter3d\"}], \"scattercarpet\": [{\"marker\": {\"colorbar\": {\"outlinewidth\": 0, \"ticks\": \"\"}}, \"type\": \"scattercarpet\"}], \"scattergeo\": [{\"marker\": {\"colorbar\": {\"outlinewidth\": 0, \"ticks\": \"\"}}, \"type\": \"scattergeo\"}], \"scattergl\": [{\"marker\": {\"colorbar\": {\"outlinewidth\": 0, \"ticks\": \"\"}}, \"type\": \"scattergl\"}], \"scattermapbox\": [{\"marker\": {\"colorbar\": {\"outlinewidth\": 0, \"ticks\": \"\"}}, \"type\": \"scattermapbox\"}], \"scatterpolar\": [{\"marker\": {\"colorbar\": {\"outlinewidth\": 0, \"ticks\": \"\"}}, \"type\": \"scatterpolar\"}], \"scatterpolargl\": [{\"marker\": {\"colorbar\": {\"outlinewidth\": 0, \"ticks\": \"\"}}, \"type\": \"scatterpolargl\"}], \"scatterternary\": [{\"marker\": {\"colorbar\": {\"outlinewidth\": 0, \"ticks\": \"\"}}, \"type\": \"scatterternary\"}], \"surface\": [{\"colorbar\": {\"outlinewidth\": 0, \"ticks\": \"\"}, \"colorscale\": [[0.0, \"#0d0887\"], [0.1111111111111111, \"#46039f\"], [0.2222222222222222, \"#7201a8\"], [0.3333333333333333, \"#9c179e\"], [0.4444444444444444, \"#bd3786\"], [0.5555555555555556, \"#d8576b\"], [0.6666666666666666, \"#ed7953\"], [0.7777777777777778, \"#fb9f3a\"], [0.8888888888888888, \"#fdca26\"], [1.0, \"#f0f921\"]], \"type\": \"surface\"}], \"table\": [{\"cells\": {\"fill\": {\"color\": \"#EBF0F8\"}, \"line\": {\"color\": \"white\"}}, \"header\": {\"fill\": {\"color\": \"#C8D4E3\"}, \"line\": {\"color\": \"white\"}}, \"type\": \"table\"}]}, \"layout\": {\"annotationdefaults\": {\"arrowcolor\": \"#2a3f5f\", \"arrowhead\": 0, \"arrowwidth\": 1}, \"autotypenumbers\": \"strict\", \"coloraxis\": {\"colorbar\": {\"outlinewidth\": 0, \"ticks\": \"\"}}, \"colorscale\": {\"diverging\": [[0, \"#8e0152\"], [0.1, \"#c51b7d\"], [0.2, \"#de77ae\"], [0.3, \"#f1b6da\"], [0.4, \"#fde0ef\"], [0.5, \"#f7f7f7\"], [0.6, \"#e6f5d0\"], [0.7, \"#b8e186\"], [0.8, \"#7fbc41\"], [0.9, \"#4d9221\"], [1, \"#276419\"]], \"sequential\": [[0.0, \"#0d0887\"], [0.1111111111111111, \"#46039f\"], [0.2222222222222222, \"#7201a8\"], [0.3333333333333333, \"#9c179e\"], [0.4444444444444444, \"#bd3786\"], [0.5555555555555556, \"#d8576b\"], [0.6666666666666666, \"#ed7953\"], [0.7777777777777778, \"#fb9f3a\"], [0.8888888888888888, \"#fdca26\"], [1.0, \"#f0f921\"]], \"sequentialminus\": [[0.0, \"#0d0887\"], [0.1111111111111111, \"#46039f\"], [0.2222222222222222, \"#7201a8\"], [0.3333333333333333, \"#9c179e\"], [0.4444444444444444, \"#bd3786\"], [0.5555555555555556, \"#d8576b\"], [0.6666666666666666, \"#ed7953\"], [0.7777777777777778, \"#fb9f3a\"], [0.8888888888888888, \"#fdca26\"], [1.0, \"#f0f921\"]]}, \"colorway\": [\"#636efa\", \"#EF553B\", \"#00cc96\", \"#ab63fa\", \"#FFA15A\", \"#19d3f3\", \"#FF6692\", \"#B6E880\", \"#FF97FF\", \"#FECB52\"], \"font\": {\"color\": \"#2a3f5f\"}, \"geo\": {\"bgcolor\": \"white\", \"lakecolor\": \"white\", \"landcolor\": \"#E5ECF6\", \"showlakes\": true, \"showland\": true, \"subunitcolor\": \"white\"}, \"hoverlabel\": {\"align\": \"left\"}, \"hovermode\": \"closest\", \"mapbox\": {\"style\": \"light\"}, \"paper_bgcolor\": \"white\", \"plot_bgcolor\": \"#E5ECF6\", \"polar\": {\"angularaxis\": {\"gridcolor\": \"white\", \"linecolor\": \"white\", \"ticks\": \"\"}, \"bgcolor\": \"#E5ECF6\", \"radialaxis\": {\"gridcolor\": \"white\", \"linecolor\": \"white\", \"ticks\": \"\"}}, \"scene\": {\"xaxis\": {\"backgroundcolor\": \"#E5ECF6\", \"gridcolor\": \"white\", \"gridwidth\": 2, \"linecolor\": \"white\", \"showbackground\": true, \"ticks\": \"\", \"zerolinecolor\": \"white\"}, \"yaxis\": {\"backgroundcolor\": \"#E5ECF6\", \"gridcolor\": \"white\", \"gridwidth\": 2, \"linecolor\": \"white\", \"showbackground\": true, \"ticks\": \"\", \"zerolinecolor\": \"white\"}, \"zaxis\": {\"backgroundcolor\": \"#E5ECF6\", \"gridcolor\": \"white\", \"gridwidth\": 2, \"linecolor\": \"white\", \"showbackground\": true, \"ticks\": \"\", \"zerolinecolor\": \"white\"}}, \"shapedefaults\": {\"line\": {\"color\": \"#2a3f5f\"}}, \"ternary\": {\"aaxis\": {\"gridcolor\": \"white\", \"linecolor\": \"white\", \"ticks\": \"\"}, \"baxis\": {\"gridcolor\": \"white\", \"linecolor\": \"white\", \"ticks\": \"\"}, \"bgcolor\": \"#E5ECF6\", \"caxis\": {\"gridcolor\": \"white\", \"linecolor\": \"white\", \"ticks\": \"\"}}, \"title\": {\"x\": 0.05}, \"xaxis\": {\"automargin\": true, \"gridcolor\": \"white\", \"linecolor\": \"white\", \"ticks\": \"\", \"title\": {\"standoff\": 15}, \"zerolinecolor\": \"white\", \"zerolinewidth\": 2}, \"yaxis\": {\"automargin\": true, \"gridcolor\": \"white\", \"linecolor\": \"white\", \"ticks\": \"\", \"title\": {\"standoff\": 15}, \"zerolinecolor\": \"white\", \"zerolinewidth\": 2}}}, \"title\": {\"font\": {\"color\": \"#4D5663\"}}, \"xaxis\": {\"gridcolor\": \"#E1E5ED\", \"showgrid\": true, \"tickfont\": {\"color\": \"#4D5663\"}, \"title\": {\"font\": {\"color\": \"#4D5663\"}, \"text\": \"\"}, \"zerolinecolor\": \"#E1E5ED\"}, \"yaxis\": {\"gridcolor\": \"#E1E5ED\", \"showgrid\": true, \"tickfont\": {\"color\": \"#4D5663\"}, \"title\": {\"font\": {\"color\": \"#4D5663\"}, \"text\": \"\"}, \"zerolinecolor\": \"#E1E5ED\"}},                        {\"showLink\": true, \"linkText\": \"Export to plot.ly\", \"plotlyServerURL\": \"https://plot.ly\", \"responsive\": true}                    ).then(function(){\n",
       "                            \n",
       "var gd = document.getElementById('aec23f91-7e29-468e-b43c-bfe085e3493d');\n",
       "var x = new MutationObserver(function (mutations, observer) {{\n",
       "        var display = window.getComputedStyle(gd).display;\n",
       "        if (!display || display === 'none') {{\n",
       "            console.log([gd, 'removed!']);\n",
       "            Plotly.purge(gd);\n",
       "            observer.disconnect();\n",
       "        }}\n",
       "}});\n",
       "\n",
       "// Listen for the removal of the full notebook cells\n",
       "var notebookContainer = gd.closest('#notebook-container');\n",
       "if (notebookContainer) {{\n",
       "    x.observe(notebookContainer, {childList: true});\n",
       "}}\n",
       "\n",
       "// Listen for the clearing of the current output cell\n",
       "var outputEl = gd.closest('.output');\n",
       "if (outputEl) {{\n",
       "    x.observe(outputEl, {childList: true});\n",
       "}}\n",
       "\n",
       "                        })                };                });            </script>        </div>"
      ]
     },
     "metadata": {},
     "output_type": "display_data"
    }
   ],
   "source": [
    "df.count().iplot(kind='bar')"
   ]
  },
  {
   "cell_type": "markdown",
   "metadata": {},
   "source": [
    "## Boxplots"
   ]
  },
  {
   "cell_type": "code",
   "execution_count": 16,
   "metadata": {},
   "outputs": [
    {
     "data": {
      "application/vnd.plotly.v1+json": {
       "config": {
        "linkText": "Export to plot.ly",
        "plotlyServerURL": "https://plot.ly",
        "showLink": true
       },
       "data": [
        {
         "boxpoints": false,
         "line": {
          "width": 1.3
         },
         "marker": {
          "color": "rgba(255, 153, 51, 1.0)"
         },
         "name": "A",
         "orientation": "v",
         "type": "box",
         "y": [
          0.8784182869438022,
          -0.3806389397043157,
          -0.015161610170961225,
          -0.9016207963843829,
          1.5014835535230446,
          0.638181087090259,
          -0.17587623889792092,
          -0.664965902036214,
          -0.5503517666986742,
          0.7412790574276407,
          -0.3413855854978848,
          -0.14321019701085397,
          0.6189236491204758,
          -1.3274582091937592,
          -0.6011515749002577,
          -0.3711948051377429,
          0.22774803593324108,
          -0.1799100326269736,
          -0.751501350518013,
          1.2726380379037925,
          0.17853445966183684,
          0.9029346884572302,
          -0.30475724605130877,
          1.1242992014697217,
          -0.34803042426193503,
          -0.2789327833471177,
          -0.48089000530870313,
          -0.8898578379398597,
          -0.4052291987803923,
          0.13910870604580186,
          -1.5928955584327276,
          1.087535267725178,
          -1.0477189352750904,
          -0.28876647921209253,
          0.23969910604040176,
          -1.047455217258851,
          -0.5833553130384778,
          0.02618941267039,
          -1.3134439425363735,
          0.37447051250925434,
          -0.23665849744398545,
          0.38366374968200445,
          0.38879693498090745,
          -2.489474520445726,
          -1.9558898206788757,
          -1.2820583243852897,
          1.6396600196257145,
          0.3257421775403651,
          0.268439850249584,
          0.254911311026306,
          -0.039997268578202474,
          -1.7304810128630073,
          0.8792983780516312,
          -0.34944303317429876,
          -0.24483344544345187,
          1.3422438252491682,
          -0.019157905591640125,
          0.48254027223419876,
          0.22916419374642585,
          -1.10244764076685,
          0.4387464394595617,
          0.49869501960824053,
          0.8896596416653044,
          -2.2247096358959375,
          0.25806961050697097,
          -0.8950588291502402,
          1.077536774493091,
          1.392456455805473,
          1.8714710818287612,
          -0.9079560039649784,
          0.5852837098112604,
          -1.3540490258003222,
          1.5937634330895467,
          1.136176797108421,
          -1.228998731272284,
          0.32499698703778784,
          -1.0600488813061035,
          0.16014813932158212,
          -0.11395722536452274,
          0.5525871357354079,
          0.1992200743903423,
          1.4432928977698434,
          -0.053842849506307945,
          0.5796916613556059,
          -0.13646583791057929,
          1.1385161923835618,
          0.25425497724742774,
          0.06459608638843127,
          -0.8272692613159764,
          -0.13056663733668503,
          1.9531971698255062,
          -1.200128548980169,
          -0.7083682008920325,
          0.046109888970466854,
          -0.1794017215311147,
          -0.2804450420349651,
          0.47294127780493245,
          -0.7939966373692098,
          0.3515341825448959,
          2.4246217604627764
         ]
        },
        {
         "boxpoints": false,
         "line": {
          "width": 1.3
         },
         "marker": {
          "color": "rgba(55, 128, 191, 1.0)"
         },
         "name": "B",
         "orientation": "v",
         "type": "box",
         "y": [
          -0.4930365779602038,
          0.3250304022261739,
          0.9583344497638379,
          0.18987007370510067,
          1.3116461956482248,
          -0.6220817679528079,
          1.1176365968869961,
          -0.9258464578846678,
          -1.2240936631275416,
          -1.233544955793205,
          -0.3237490841563232,
          0.9123258973854688,
          0.22842642137253671,
          0.97394659908097,
          0.7117637750549505,
          -0.5015085289746392,
          -0.20916801428743456,
          1.2552264592940754,
          -0.08368782602850174,
          0.3695360809011424,
          0.37111403545690363,
          0.6782737012924119,
          0.4797622410012238,
          2.911253138754174,
          -1.512623993787851,
          -2.56331258059585,
          0.5615782223372155,
          -0.835984426866699,
          -0.44454088029925015,
          0.23385361385822392,
          0.649676684703017,
          0.33734517766819383,
          0.07386186184447749,
          1.2849074240198488,
          -0.7590870044987608,
          0.9617909879870938,
          0.7792637515682848,
          0.19076653572726923,
          -0.9743666833686444,
          0.6382514812525082,
          -0.5440458953899364,
          0.7456070716698415,
          0.12989614246183692,
          -1.6423156210534684,
          1.7163396732325287,
          -0.45416706950050567,
          0.4441043716591119,
          -1.224061455455319,
          0.5332178930668302,
          2.019759276110566,
          0.36277696743342686,
          -1.8556915806269134,
          0.492238886798876,
          -1.54995228762088,
          -0.04113350096243654,
          -0.6434973828541718,
          0.8661086529225488,
          0.9989323504656847,
          0.541137576993134,
          1.2391192072924329,
          0.5745147693028827,
          -0.2414084320240968,
          0.541309991070589,
          0.7859289747510708,
          1.4831153439368039,
          -0.5254666265863034,
          -0.7021612584368963,
          -0.28667722150976127,
          0.6385384203001963,
          0.1594149116250348,
          -1.4050472102870275,
          -0.7673306354425335,
          0.7441053584114531,
          -0.31765516460868404,
          1.6164404742814527,
          1.243123471433262,
          0.49469166601581016,
          0.06350558800969401,
          0.6383441449086565,
          0.16265538575948088,
          -0.4586828174957983,
          -1.997774359164692,
          0.3451467817844908,
          -0.9849906422659223,
          1.296687209780314,
          -0.617686845046229,
          -0.8107617488505277,
          -0.6900329691237589,
          -0.37413489066330313,
          -0.6005443256657182,
          -1.046402165049117,
          0.4896257869686791,
          0.5601417492243187,
          -1.383651457886147,
          0.8410728557430217,
          -0.405818172853134,
          -0.3831616014981088,
          0.4658052982328494,
          0.20681148045450257,
          0.4565200818659963
         ]
        },
        {
         "boxpoints": false,
         "line": {
          "width": 1.3
         },
         "marker": {
          "color": "rgba(50, 171, 96, 1.0)"
         },
         "name": "C",
         "orientation": "v",
         "type": "box",
         "y": [
          1.500706888198252,
          0.4626380430580365,
          1.1650512666383757,
          1.7142254561170285,
          0.1539844717715234,
          -0.2732552156647188,
          -0.20030091534607036,
          1.0918379149903092,
          0.9008210124185305,
          0.18245382786094433,
          -0.30755670004941127,
          0.0992352675038754,
          -2.0423540078113125,
          1.6339540613493813,
          -1.3486388693569185,
          0.7302063716924077,
          -0.10420934964050436,
          -0.6851335015827352,
          0.9013979117975525,
          -1.004192908545839,
          0.2501581953470005,
          1.8360835590276545,
          1.071040887552531,
          0.6555635807597393,
          -0.5508156931449266,
          1.6340686944429952,
          0.24869216205157882,
          -0.331711283057869,
          -0.42068117872117666,
          0.12291202975103795,
          0.8150104044450903,
          1.0360073838239503,
          0.9307964208333379,
          0.7061960120649322,
          0.7509560170371947,
          1.229871460861379,
          -0.9082891948308699,
          -0.6253894762549496,
          0.4583535570964156,
          0.03617940272864027,
          -0.3033517172401607,
          -0.9474593473748577,
          0.8814537933101844,
          0.792930097806262,
          0.624335096417186,
          -0.8581490191791381,
          -1.4687629162239995,
          -0.7006170792064712,
          0.8107509674595839,
          0.27947282996035067,
          0.5465992493227325,
          -1.5842002859620234,
          0.31430544164532437,
          -0.005012709155082159,
          0.7639312655016676,
          -1.1523680672664105,
          1.5246899317433875,
          -1.767640083860489,
          0.29266282512600844,
          0.2423345876705051,
          1.5667849577849062,
          -1.8069741434569542,
          0.6721413263814878,
          -0.4367502491786467,
          -2.8082319589973084,
          -0.8139335969049255,
          -0.17739763345626064,
          0.2535508941542086,
          -0.06392141289709034,
          -0.002096316762234468,
          -0.32560483887986535,
          0.4017226746678383,
          0.8810378533108364,
          -1.2120505469901488,
          0.9252240442339137,
          1.1944548776685913,
          -0.5314053614017786,
          0.9592246397370383,
          -0.14195206311847106,
          0.648351940351426,
          -1.6443752083364018,
          0.3916535644836725,
          1.5870359419255373,
          0.8982527093055426,
          1.3595560760113108,
          0.36504464458630037,
          -1.8190891886726197,
          0.4217168365382286,
          -0.43694526067309253,
          -0.9249276511682633,
          0.8432761663518943,
          -0.29978140858588587,
          -0.6657049896937373,
          0.6932133361840458,
          -2.1145628345737104,
          0.5978049830549731,
          -0.3003603316644389,
          0.434879860393503,
          1.2909651686238386,
          1.236513797583111
         ]
        },
        {
         "boxpoints": false,
         "line": {
          "width": 1.3
         },
         "marker": {
          "color": "rgba(128, 0, 128, 1.0)"
         },
         "name": "D",
         "orientation": "v",
         "type": "box",
         "y": [
          0.09619778561893773,
          2.3718711032826993,
          -0.7350090454655396,
          -0.19375323607714165,
          0.32541558206751314,
          -0.03568210209281752,
          -0.37221205498497,
          -1.8185103536645288,
          1.5053320447719372,
          -1.4108976748031865,
          2.614671556032302,
          0.37173765003320236,
          -0.3310116001538482,
          1.0606300085721005,
          -0.7015101848106754,
          -0.10272917711433686,
          -0.48464703657907265,
          -0.3049608592468676,
          1.0168256775698932,
          1.3041426892568055,
          0.227282186764907,
          0.6026161573510717,
          -0.9088215682061821,
          -0.9388164277967703,
          0.6687852808467871,
          -0.4242854141213294,
          1.0965187952818678,
          -1.2434611584040602,
          0.6999126506219229,
          0.4277860690451645,
          -0.06811208520424537,
          -0.4282103783931777,
          -0.3074209535534217,
          -0.25242627682283586,
          0.9012363488017996,
          -0.3481850680393719,
          -0.14349131531173503,
          1.7083868480111033,
          0.9585831035330805,
          0.7909936100523438,
          0.557460467045621,
          -0.5030614557033,
          -0.09116025613533921,
          0.4007025188140722,
          -0.6821193034869832,
          -1.7527305323776292,
          -1.1412273282567689,
          -0.9226230729338252,
          -0.8322645249443698,
          0.26975965660919726,
          0.9885535567140861,
          -1.342142942512881,
          1.0495199684120897,
          -0.8661106538948654,
          -0.7449905540190652,
          0.41238366245717695,
          0.29887607839836666,
          -0.039306633826568294,
          -0.11337667669361165,
          -1.0264200421407708,
          -0.5322397651365385,
          2.091940537625189,
          0.15041061867569272,
          0.6084366295322634,
          -0.5546623989673322,
          1.111419240245961,
          -0.7655760723329117,
          0.23980897570051066,
          0.3507632684420595,
          -1.274174914948869,
          0.7145136544106467,
          0.4460848231109961,
          -2.0374974122194978,
          2.2255746539641614,
          0.018127346474249947,
          -0.964579357706184,
          -0.9075752451406188,
          1.8577006873832411,
          -0.5673188525233243,
          -0.535806276496681,
          -0.6229537031685048,
          1.01801919299748,
          1.0471203739036494,
          0.3307869879152975,
          -0.3673171993217387,
          1.0270694485741976,
          1.2568027156619328,
          -0.3403770233571368,
          -0.8343727028699456,
          0.06890535553288837,
          -1.415029120935102,
          -0.7317121999156917,
          -0.8111375167247362,
          -0.5046598501032468,
          -0.1868198776252593,
          1.212295789688365,
          -0.4317194192036839,
          2.9649213489069064,
          -0.23007536308025497,
          0.8371789584822209
         ]
        }
       ],
       "layout": {
        "legend": {
         "bgcolor": "#F5F6F9",
         "font": {
          "color": "#4D5663"
         }
        },
        "paper_bgcolor": "#F5F6F9",
        "plot_bgcolor": "#F5F6F9",
        "template": {
         "data": {
          "bar": [
           {
            "error_x": {
             "color": "#2a3f5f"
            },
            "error_y": {
             "color": "#2a3f5f"
            },
            "marker": {
             "line": {
              "color": "#E5ECF6",
              "width": 0.5
             }
            },
            "type": "bar"
           }
          ],
          "barpolar": [
           {
            "marker": {
             "line": {
              "color": "#E5ECF6",
              "width": 0.5
             }
            },
            "type": "barpolar"
           }
          ],
          "carpet": [
           {
            "aaxis": {
             "endlinecolor": "#2a3f5f",
             "gridcolor": "white",
             "linecolor": "white",
             "minorgridcolor": "white",
             "startlinecolor": "#2a3f5f"
            },
            "baxis": {
             "endlinecolor": "#2a3f5f",
             "gridcolor": "white",
             "linecolor": "white",
             "minorgridcolor": "white",
             "startlinecolor": "#2a3f5f"
            },
            "type": "carpet"
           }
          ],
          "choropleth": [
           {
            "colorbar": {
             "outlinewidth": 0,
             "ticks": ""
            },
            "type": "choropleth"
           }
          ],
          "contour": [
           {
            "colorbar": {
             "outlinewidth": 0,
             "ticks": ""
            },
            "colorscale": [
             [
              0,
              "#0d0887"
             ],
             [
              0.1111111111111111,
              "#46039f"
             ],
             [
              0.2222222222222222,
              "#7201a8"
             ],
             [
              0.3333333333333333,
              "#9c179e"
             ],
             [
              0.4444444444444444,
              "#bd3786"
             ],
             [
              0.5555555555555556,
              "#d8576b"
             ],
             [
              0.6666666666666666,
              "#ed7953"
             ],
             [
              0.7777777777777778,
              "#fb9f3a"
             ],
             [
              0.8888888888888888,
              "#fdca26"
             ],
             [
              1,
              "#f0f921"
             ]
            ],
            "type": "contour"
           }
          ],
          "contourcarpet": [
           {
            "colorbar": {
             "outlinewidth": 0,
             "ticks": ""
            },
            "type": "contourcarpet"
           }
          ],
          "heatmap": [
           {
            "colorbar": {
             "outlinewidth": 0,
             "ticks": ""
            },
            "colorscale": [
             [
              0,
              "#0d0887"
             ],
             [
              0.1111111111111111,
              "#46039f"
             ],
             [
              0.2222222222222222,
              "#7201a8"
             ],
             [
              0.3333333333333333,
              "#9c179e"
             ],
             [
              0.4444444444444444,
              "#bd3786"
             ],
             [
              0.5555555555555556,
              "#d8576b"
             ],
             [
              0.6666666666666666,
              "#ed7953"
             ],
             [
              0.7777777777777778,
              "#fb9f3a"
             ],
             [
              0.8888888888888888,
              "#fdca26"
             ],
             [
              1,
              "#f0f921"
             ]
            ],
            "type": "heatmap"
           }
          ],
          "heatmapgl": [
           {
            "colorbar": {
             "outlinewidth": 0,
             "ticks": ""
            },
            "colorscale": [
             [
              0,
              "#0d0887"
             ],
             [
              0.1111111111111111,
              "#46039f"
             ],
             [
              0.2222222222222222,
              "#7201a8"
             ],
             [
              0.3333333333333333,
              "#9c179e"
             ],
             [
              0.4444444444444444,
              "#bd3786"
             ],
             [
              0.5555555555555556,
              "#d8576b"
             ],
             [
              0.6666666666666666,
              "#ed7953"
             ],
             [
              0.7777777777777778,
              "#fb9f3a"
             ],
             [
              0.8888888888888888,
              "#fdca26"
             ],
             [
              1,
              "#f0f921"
             ]
            ],
            "type": "heatmapgl"
           }
          ],
          "histogram": [
           {
            "marker": {
             "colorbar": {
              "outlinewidth": 0,
              "ticks": ""
             }
            },
            "type": "histogram"
           }
          ],
          "histogram2d": [
           {
            "colorbar": {
             "outlinewidth": 0,
             "ticks": ""
            },
            "colorscale": [
             [
              0,
              "#0d0887"
             ],
             [
              0.1111111111111111,
              "#46039f"
             ],
             [
              0.2222222222222222,
              "#7201a8"
             ],
             [
              0.3333333333333333,
              "#9c179e"
             ],
             [
              0.4444444444444444,
              "#bd3786"
             ],
             [
              0.5555555555555556,
              "#d8576b"
             ],
             [
              0.6666666666666666,
              "#ed7953"
             ],
             [
              0.7777777777777778,
              "#fb9f3a"
             ],
             [
              0.8888888888888888,
              "#fdca26"
             ],
             [
              1,
              "#f0f921"
             ]
            ],
            "type": "histogram2d"
           }
          ],
          "histogram2dcontour": [
           {
            "colorbar": {
             "outlinewidth": 0,
             "ticks": ""
            },
            "colorscale": [
             [
              0,
              "#0d0887"
             ],
             [
              0.1111111111111111,
              "#46039f"
             ],
             [
              0.2222222222222222,
              "#7201a8"
             ],
             [
              0.3333333333333333,
              "#9c179e"
             ],
             [
              0.4444444444444444,
              "#bd3786"
             ],
             [
              0.5555555555555556,
              "#d8576b"
             ],
             [
              0.6666666666666666,
              "#ed7953"
             ],
             [
              0.7777777777777778,
              "#fb9f3a"
             ],
             [
              0.8888888888888888,
              "#fdca26"
             ],
             [
              1,
              "#f0f921"
             ]
            ],
            "type": "histogram2dcontour"
           }
          ],
          "mesh3d": [
           {
            "colorbar": {
             "outlinewidth": 0,
             "ticks": ""
            },
            "type": "mesh3d"
           }
          ],
          "parcoords": [
           {
            "line": {
             "colorbar": {
              "outlinewidth": 0,
              "ticks": ""
             }
            },
            "type": "parcoords"
           }
          ],
          "pie": [
           {
            "automargin": true,
            "type": "pie"
           }
          ],
          "scatter": [
           {
            "marker": {
             "colorbar": {
              "outlinewidth": 0,
              "ticks": ""
             }
            },
            "type": "scatter"
           }
          ],
          "scatter3d": [
           {
            "line": {
             "colorbar": {
              "outlinewidth": 0,
              "ticks": ""
             }
            },
            "marker": {
             "colorbar": {
              "outlinewidth": 0,
              "ticks": ""
             }
            },
            "type": "scatter3d"
           }
          ],
          "scattercarpet": [
           {
            "marker": {
             "colorbar": {
              "outlinewidth": 0,
              "ticks": ""
             }
            },
            "type": "scattercarpet"
           }
          ],
          "scattergeo": [
           {
            "marker": {
             "colorbar": {
              "outlinewidth": 0,
              "ticks": ""
             }
            },
            "type": "scattergeo"
           }
          ],
          "scattergl": [
           {
            "marker": {
             "colorbar": {
              "outlinewidth": 0,
              "ticks": ""
             }
            },
            "type": "scattergl"
           }
          ],
          "scattermapbox": [
           {
            "marker": {
             "colorbar": {
              "outlinewidth": 0,
              "ticks": ""
             }
            },
            "type": "scattermapbox"
           }
          ],
          "scatterpolar": [
           {
            "marker": {
             "colorbar": {
              "outlinewidth": 0,
              "ticks": ""
             }
            },
            "type": "scatterpolar"
           }
          ],
          "scatterpolargl": [
           {
            "marker": {
             "colorbar": {
              "outlinewidth": 0,
              "ticks": ""
             }
            },
            "type": "scatterpolargl"
           }
          ],
          "scatterternary": [
           {
            "marker": {
             "colorbar": {
              "outlinewidth": 0,
              "ticks": ""
             }
            },
            "type": "scatterternary"
           }
          ],
          "surface": [
           {
            "colorbar": {
             "outlinewidth": 0,
             "ticks": ""
            },
            "colorscale": [
             [
              0,
              "#0d0887"
             ],
             [
              0.1111111111111111,
              "#46039f"
             ],
             [
              0.2222222222222222,
              "#7201a8"
             ],
             [
              0.3333333333333333,
              "#9c179e"
             ],
             [
              0.4444444444444444,
              "#bd3786"
             ],
             [
              0.5555555555555556,
              "#d8576b"
             ],
             [
              0.6666666666666666,
              "#ed7953"
             ],
             [
              0.7777777777777778,
              "#fb9f3a"
             ],
             [
              0.8888888888888888,
              "#fdca26"
             ],
             [
              1,
              "#f0f921"
             ]
            ],
            "type": "surface"
           }
          ],
          "table": [
           {
            "cells": {
             "fill": {
              "color": "#EBF0F8"
             },
             "line": {
              "color": "white"
             }
            },
            "header": {
             "fill": {
              "color": "#C8D4E3"
             },
             "line": {
              "color": "white"
             }
            },
            "type": "table"
           }
          ]
         },
         "layout": {
          "annotationdefaults": {
           "arrowcolor": "#2a3f5f",
           "arrowhead": 0,
           "arrowwidth": 1
          },
          "autotypenumbers": "strict",
          "coloraxis": {
           "colorbar": {
            "outlinewidth": 0,
            "ticks": ""
           }
          },
          "colorscale": {
           "diverging": [
            [
             0,
             "#8e0152"
            ],
            [
             0.1,
             "#c51b7d"
            ],
            [
             0.2,
             "#de77ae"
            ],
            [
             0.3,
             "#f1b6da"
            ],
            [
             0.4,
             "#fde0ef"
            ],
            [
             0.5,
             "#f7f7f7"
            ],
            [
             0.6,
             "#e6f5d0"
            ],
            [
             0.7,
             "#b8e186"
            ],
            [
             0.8,
             "#7fbc41"
            ],
            [
             0.9,
             "#4d9221"
            ],
            [
             1,
             "#276419"
            ]
           ],
           "sequential": [
            [
             0,
             "#0d0887"
            ],
            [
             0.1111111111111111,
             "#46039f"
            ],
            [
             0.2222222222222222,
             "#7201a8"
            ],
            [
             0.3333333333333333,
             "#9c179e"
            ],
            [
             0.4444444444444444,
             "#bd3786"
            ],
            [
             0.5555555555555556,
             "#d8576b"
            ],
            [
             0.6666666666666666,
             "#ed7953"
            ],
            [
             0.7777777777777778,
             "#fb9f3a"
            ],
            [
             0.8888888888888888,
             "#fdca26"
            ],
            [
             1,
             "#f0f921"
            ]
           ],
           "sequentialminus": [
            [
             0,
             "#0d0887"
            ],
            [
             0.1111111111111111,
             "#46039f"
            ],
            [
             0.2222222222222222,
             "#7201a8"
            ],
            [
             0.3333333333333333,
             "#9c179e"
            ],
            [
             0.4444444444444444,
             "#bd3786"
            ],
            [
             0.5555555555555556,
             "#d8576b"
            ],
            [
             0.6666666666666666,
             "#ed7953"
            ],
            [
             0.7777777777777778,
             "#fb9f3a"
            ],
            [
             0.8888888888888888,
             "#fdca26"
            ],
            [
             1,
             "#f0f921"
            ]
           ]
          },
          "colorway": [
           "#636efa",
           "#EF553B",
           "#00cc96",
           "#ab63fa",
           "#FFA15A",
           "#19d3f3",
           "#FF6692",
           "#B6E880",
           "#FF97FF",
           "#FECB52"
          ],
          "font": {
           "color": "#2a3f5f"
          },
          "geo": {
           "bgcolor": "white",
           "lakecolor": "white",
           "landcolor": "#E5ECF6",
           "showlakes": true,
           "showland": true,
           "subunitcolor": "white"
          },
          "hoverlabel": {
           "align": "left"
          },
          "hovermode": "closest",
          "mapbox": {
           "style": "light"
          },
          "paper_bgcolor": "white",
          "plot_bgcolor": "#E5ECF6",
          "polar": {
           "angularaxis": {
            "gridcolor": "white",
            "linecolor": "white",
            "ticks": ""
           },
           "bgcolor": "#E5ECF6",
           "radialaxis": {
            "gridcolor": "white",
            "linecolor": "white",
            "ticks": ""
           }
          },
          "scene": {
           "xaxis": {
            "backgroundcolor": "#E5ECF6",
            "gridcolor": "white",
            "gridwidth": 2,
            "linecolor": "white",
            "showbackground": true,
            "ticks": "",
            "zerolinecolor": "white"
           },
           "yaxis": {
            "backgroundcolor": "#E5ECF6",
            "gridcolor": "white",
            "gridwidth": 2,
            "linecolor": "white",
            "showbackground": true,
            "ticks": "",
            "zerolinecolor": "white"
           },
           "zaxis": {
            "backgroundcolor": "#E5ECF6",
            "gridcolor": "white",
            "gridwidth": 2,
            "linecolor": "white",
            "showbackground": true,
            "ticks": "",
            "zerolinecolor": "white"
           }
          },
          "shapedefaults": {
           "line": {
            "color": "#2a3f5f"
           }
          },
          "ternary": {
           "aaxis": {
            "gridcolor": "white",
            "linecolor": "white",
            "ticks": ""
           },
           "baxis": {
            "gridcolor": "white",
            "linecolor": "white",
            "ticks": ""
           },
           "bgcolor": "#E5ECF6",
           "caxis": {
            "gridcolor": "white",
            "linecolor": "white",
            "ticks": ""
           }
          },
          "title": {
           "x": 0.05
          },
          "xaxis": {
           "automargin": true,
           "gridcolor": "white",
           "linecolor": "white",
           "ticks": "",
           "title": {
            "standoff": 15
           },
           "zerolinecolor": "white",
           "zerolinewidth": 2
          },
          "yaxis": {
           "automargin": true,
           "gridcolor": "white",
           "linecolor": "white",
           "ticks": "",
           "title": {
            "standoff": 15
           },
           "zerolinecolor": "white",
           "zerolinewidth": 2
          }
         }
        },
        "title": {
         "font": {
          "color": "#4D5663"
         }
        },
        "xaxis": {
         "gridcolor": "#E1E5ED",
         "showgrid": true,
         "tickfont": {
          "color": "#4D5663"
         },
         "title": {
          "font": {
           "color": "#4D5663"
          },
          "text": ""
         },
         "zerolinecolor": "#E1E5ED"
        },
        "yaxis": {
         "gridcolor": "#E1E5ED",
         "showgrid": true,
         "tickfont": {
          "color": "#4D5663"
         },
         "title": {
          "font": {
           "color": "#4D5663"
          },
          "text": ""
         },
         "zerolinecolor": "#E1E5ED"
        }
       }
      },
      "text/html": [
       "<div>                            <div id=\"4926bcdb-887c-43cb-a851-5f29234e9d8c\" class=\"plotly-graph-div\" style=\"height:525px; width:100%;\"></div>            <script type=\"text/javascript\">                require([\"plotly\"], function(Plotly) {                    window.PLOTLYENV=window.PLOTLYENV || {};\n",
       "                    window.PLOTLYENV.BASE_URL='https://plot.ly';                                    if (document.getElementById(\"4926bcdb-887c-43cb-a851-5f29234e9d8c\")) {                    Plotly.newPlot(                        \"4926bcdb-887c-43cb-a851-5f29234e9d8c\",                        [{\"boxpoints\": false, \"line\": {\"width\": 1.3}, \"marker\": {\"color\": \"rgba(255, 153, 51, 1.0)\"}, \"name\": \"A\", \"orientation\": \"v\", \"type\": \"box\", \"y\": [0.8784182869438022, -0.3806389397043157, -0.015161610170961225, -0.9016207963843829, 1.5014835535230446, 0.638181087090259, -0.17587623889792092, -0.664965902036214, -0.5503517666986742, 0.7412790574276407, -0.3413855854978848, -0.14321019701085397, 0.6189236491204758, -1.3274582091937592, -0.6011515749002577, -0.3711948051377429, 0.22774803593324108, -0.1799100326269736, -0.751501350518013, 1.2726380379037925, 0.17853445966183684, 0.9029346884572302, -0.30475724605130877, 1.1242992014697217, -0.34803042426193503, -0.2789327833471177, -0.48089000530870313, -0.8898578379398597, -0.4052291987803923, 0.13910870604580186, -1.5928955584327276, 1.087535267725178, -1.0477189352750904, -0.28876647921209253, 0.23969910604040176, -1.047455217258851, -0.5833553130384778, 0.02618941267039, -1.3134439425363735, 0.37447051250925434, -0.23665849744398545, 0.38366374968200445, 0.38879693498090745, -2.489474520445726, -1.9558898206788757, -1.2820583243852897, 1.6396600196257145, 0.3257421775403651, 0.268439850249584, 0.254911311026306, -0.039997268578202474, -1.7304810128630073, 0.8792983780516312, -0.34944303317429876, -0.24483344544345187, 1.3422438252491682, -0.019157905591640125, 0.48254027223419876, 0.22916419374642585, -1.10244764076685, 0.4387464394595617, 0.49869501960824053, 0.8896596416653044, -2.2247096358959375, 0.25806961050697097, -0.8950588291502402, 1.077536774493091, 1.392456455805473, 1.8714710818287612, -0.9079560039649784, 0.5852837098112604, -1.3540490258003222, 1.5937634330895467, 1.136176797108421, -1.228998731272284, 0.32499698703778784, -1.0600488813061035, 0.16014813932158212, -0.11395722536452274, 0.5525871357354079, 0.1992200743903423, 1.4432928977698434, -0.053842849506307945, 0.5796916613556059, -0.13646583791057929, 1.1385161923835618, 0.25425497724742774, 0.06459608638843127, -0.8272692613159764, -0.13056663733668503, 1.9531971698255062, -1.200128548980169, -0.7083682008920325, 0.046109888970466854, -0.1794017215311147, -0.2804450420349651, 0.47294127780493245, -0.7939966373692098, 0.3515341825448959, 2.4246217604627764]}, {\"boxpoints\": false, \"line\": {\"width\": 1.3}, \"marker\": {\"color\": \"rgba(55, 128, 191, 1.0)\"}, \"name\": \"B\", \"orientation\": \"v\", \"type\": \"box\", \"y\": [-0.4930365779602038, 0.3250304022261739, 0.9583344497638379, 0.18987007370510067, 1.3116461956482248, -0.6220817679528079, 1.1176365968869961, -0.9258464578846678, -1.2240936631275416, -1.233544955793205, -0.3237490841563232, 0.9123258973854688, 0.22842642137253671, 0.97394659908097, 0.7117637750549505, -0.5015085289746392, -0.20916801428743456, 1.2552264592940754, -0.08368782602850174, 0.3695360809011424, 0.37111403545690363, 0.6782737012924119, 0.4797622410012238, 2.911253138754174, -1.512623993787851, -2.56331258059585, 0.5615782223372155, -0.835984426866699, -0.44454088029925015, 0.23385361385822392, 0.649676684703017, 0.33734517766819383, 0.07386186184447749, 1.2849074240198488, -0.7590870044987608, 0.9617909879870938, 0.7792637515682848, 0.19076653572726923, -0.9743666833686444, 0.6382514812525082, -0.5440458953899364, 0.7456070716698415, 0.12989614246183692, -1.6423156210534684, 1.7163396732325287, -0.45416706950050567, 0.4441043716591119, -1.224061455455319, 0.5332178930668302, 2.019759276110566, 0.36277696743342686, -1.8556915806269134, 0.492238886798876, -1.54995228762088, -0.04113350096243654, -0.6434973828541718, 0.8661086529225488, 0.9989323504656847, 0.541137576993134, 1.2391192072924329, 0.5745147693028827, -0.2414084320240968, 0.541309991070589, 0.7859289747510708, 1.4831153439368039, -0.5254666265863034, -0.7021612584368963, -0.28667722150976127, 0.6385384203001963, 0.1594149116250348, -1.4050472102870275, -0.7673306354425335, 0.7441053584114531, -0.31765516460868404, 1.6164404742814527, 1.243123471433262, 0.49469166601581016, 0.06350558800969401, 0.6383441449086565, 0.16265538575948088, -0.4586828174957983, -1.997774359164692, 0.3451467817844908, -0.9849906422659223, 1.296687209780314, -0.617686845046229, -0.8107617488505277, -0.6900329691237589, -0.37413489066330313, -0.6005443256657182, -1.046402165049117, 0.4896257869686791, 0.5601417492243187, -1.383651457886147, 0.8410728557430217, -0.405818172853134, -0.3831616014981088, 0.4658052982328494, 0.20681148045450257, 0.4565200818659963]}, {\"boxpoints\": false, \"line\": {\"width\": 1.3}, \"marker\": {\"color\": \"rgba(50, 171, 96, 1.0)\"}, \"name\": \"C\", \"orientation\": \"v\", \"type\": \"box\", \"y\": [1.500706888198252, 0.4626380430580365, 1.1650512666383757, 1.7142254561170285, 0.1539844717715234, -0.2732552156647188, -0.20030091534607036, 1.0918379149903092, 0.9008210124185305, 0.18245382786094433, -0.30755670004941127, 0.0992352675038754, -2.0423540078113125, 1.6339540613493813, -1.3486388693569185, 0.7302063716924077, -0.10420934964050436, -0.6851335015827352, 0.9013979117975525, -1.004192908545839, 0.2501581953470005, 1.8360835590276545, 1.071040887552531, 0.6555635807597393, -0.5508156931449266, 1.6340686944429952, 0.24869216205157882, -0.331711283057869, -0.42068117872117666, 0.12291202975103795, 0.8150104044450903, 1.0360073838239503, 0.9307964208333379, 0.7061960120649322, 0.7509560170371947, 1.229871460861379, -0.9082891948308699, -0.6253894762549496, 0.4583535570964156, 0.03617940272864027, -0.3033517172401607, -0.9474593473748577, 0.8814537933101844, 0.792930097806262, 0.624335096417186, -0.8581490191791381, -1.4687629162239995, -0.7006170792064712, 0.8107509674595839, 0.27947282996035067, 0.5465992493227325, -1.5842002859620234, 0.31430544164532437, -0.005012709155082159, 0.7639312655016676, -1.1523680672664105, 1.5246899317433875, -1.767640083860489, 0.29266282512600844, 0.2423345876705051, 1.5667849577849062, -1.8069741434569542, 0.6721413263814878, -0.4367502491786467, -2.8082319589973084, -0.8139335969049255, -0.17739763345626064, 0.2535508941542086, -0.06392141289709034, -0.002096316762234468, -0.32560483887986535, 0.4017226746678383, 0.8810378533108364, -1.2120505469901488, 0.9252240442339137, 1.1944548776685913, -0.5314053614017786, 0.9592246397370383, -0.14195206311847106, 0.648351940351426, -1.6443752083364018, 0.3916535644836725, 1.5870359419255373, 0.8982527093055426, 1.3595560760113108, 0.36504464458630037, -1.8190891886726197, 0.4217168365382286, -0.43694526067309253, -0.9249276511682633, 0.8432761663518943, -0.29978140858588587, -0.6657049896937373, 0.6932133361840458, -2.1145628345737104, 0.5978049830549731, -0.3003603316644389, 0.434879860393503, 1.2909651686238386, 1.236513797583111]}, {\"boxpoints\": false, \"line\": {\"width\": 1.3}, \"marker\": {\"color\": \"rgba(128, 0, 128, 1.0)\"}, \"name\": \"D\", \"orientation\": \"v\", \"type\": \"box\", \"y\": [0.09619778561893773, 2.3718711032826993, -0.7350090454655396, -0.19375323607714165, 0.32541558206751314, -0.03568210209281752, -0.37221205498497, -1.8185103536645288, 1.5053320447719372, -1.4108976748031865, 2.614671556032302, 0.37173765003320236, -0.3310116001538482, 1.0606300085721005, -0.7015101848106754, -0.10272917711433686, -0.48464703657907265, -0.3049608592468676, 1.0168256775698932, 1.3041426892568055, 0.227282186764907, 0.6026161573510717, -0.9088215682061821, -0.9388164277967703, 0.6687852808467871, -0.4242854141213294, 1.0965187952818678, -1.2434611584040602, 0.6999126506219229, 0.4277860690451645, -0.06811208520424537, -0.4282103783931777, -0.3074209535534217, -0.25242627682283586, 0.9012363488017996, -0.3481850680393719, -0.14349131531173503, 1.7083868480111033, 0.9585831035330805, 0.7909936100523438, 0.557460467045621, -0.5030614557033, -0.09116025613533921, 0.4007025188140722, -0.6821193034869832, -1.7527305323776292, -1.1412273282567689, -0.9226230729338252, -0.8322645249443698, 0.26975965660919726, 0.9885535567140861, -1.342142942512881, 1.0495199684120897, -0.8661106538948654, -0.7449905540190652, 0.41238366245717695, 0.29887607839836666, -0.039306633826568294, -0.11337667669361165, -1.0264200421407708, -0.5322397651365385, 2.091940537625189, 0.15041061867569272, 0.6084366295322634, -0.5546623989673322, 1.111419240245961, -0.7655760723329117, 0.23980897570051066, 0.3507632684420595, -1.274174914948869, 0.7145136544106467, 0.4460848231109961, -2.0374974122194978, 2.2255746539641614, 0.018127346474249947, -0.964579357706184, -0.9075752451406188, 1.8577006873832411, -0.5673188525233243, -0.535806276496681, -0.6229537031685048, 1.01801919299748, 1.0471203739036494, 0.3307869879152975, -0.3673171993217387, 1.0270694485741976, 1.2568027156619328, -0.3403770233571368, -0.8343727028699456, 0.06890535553288837, -1.415029120935102, -0.7317121999156917, -0.8111375167247362, -0.5046598501032468, -0.1868198776252593, 1.212295789688365, -0.4317194192036839, 2.9649213489069064, -0.23007536308025497, 0.8371789584822209]}],                        {\"legend\": {\"bgcolor\": \"#F5F6F9\", \"font\": {\"color\": \"#4D5663\"}}, \"paper_bgcolor\": \"#F5F6F9\", \"plot_bgcolor\": \"#F5F6F9\", \"template\": {\"data\": {\"bar\": [{\"error_x\": {\"color\": \"#2a3f5f\"}, \"error_y\": {\"color\": \"#2a3f5f\"}, \"marker\": {\"line\": {\"color\": \"#E5ECF6\", \"width\": 0.5}}, \"type\": \"bar\"}], \"barpolar\": [{\"marker\": {\"line\": {\"color\": \"#E5ECF6\", \"width\": 0.5}}, \"type\": \"barpolar\"}], \"carpet\": [{\"aaxis\": {\"endlinecolor\": \"#2a3f5f\", \"gridcolor\": \"white\", \"linecolor\": \"white\", \"minorgridcolor\": \"white\", \"startlinecolor\": \"#2a3f5f\"}, \"baxis\": {\"endlinecolor\": \"#2a3f5f\", \"gridcolor\": \"white\", \"linecolor\": \"white\", \"minorgridcolor\": \"white\", \"startlinecolor\": \"#2a3f5f\"}, \"type\": \"carpet\"}], \"choropleth\": [{\"colorbar\": {\"outlinewidth\": 0, \"ticks\": \"\"}, \"type\": \"choropleth\"}], \"contour\": [{\"colorbar\": {\"outlinewidth\": 0, \"ticks\": \"\"}, \"colorscale\": [[0.0, \"#0d0887\"], [0.1111111111111111, \"#46039f\"], [0.2222222222222222, \"#7201a8\"], [0.3333333333333333, \"#9c179e\"], [0.4444444444444444, \"#bd3786\"], [0.5555555555555556, \"#d8576b\"], [0.6666666666666666, \"#ed7953\"], [0.7777777777777778, \"#fb9f3a\"], [0.8888888888888888, \"#fdca26\"], [1.0, \"#f0f921\"]], \"type\": \"contour\"}], \"contourcarpet\": [{\"colorbar\": {\"outlinewidth\": 0, \"ticks\": \"\"}, \"type\": \"contourcarpet\"}], \"heatmap\": [{\"colorbar\": {\"outlinewidth\": 0, \"ticks\": \"\"}, \"colorscale\": [[0.0, \"#0d0887\"], [0.1111111111111111, \"#46039f\"], [0.2222222222222222, \"#7201a8\"], [0.3333333333333333, \"#9c179e\"], [0.4444444444444444, \"#bd3786\"], [0.5555555555555556, \"#d8576b\"], [0.6666666666666666, \"#ed7953\"], [0.7777777777777778, \"#fb9f3a\"], [0.8888888888888888, \"#fdca26\"], [1.0, \"#f0f921\"]], \"type\": \"heatmap\"}], \"heatmapgl\": [{\"colorbar\": {\"outlinewidth\": 0, \"ticks\": \"\"}, \"colorscale\": [[0.0, \"#0d0887\"], [0.1111111111111111, \"#46039f\"], [0.2222222222222222, \"#7201a8\"], [0.3333333333333333, \"#9c179e\"], [0.4444444444444444, \"#bd3786\"], [0.5555555555555556, \"#d8576b\"], [0.6666666666666666, \"#ed7953\"], [0.7777777777777778, \"#fb9f3a\"], [0.8888888888888888, \"#fdca26\"], [1.0, \"#f0f921\"]], \"type\": \"heatmapgl\"}], \"histogram\": [{\"marker\": {\"colorbar\": {\"outlinewidth\": 0, \"ticks\": \"\"}}, \"type\": \"histogram\"}], \"histogram2d\": [{\"colorbar\": {\"outlinewidth\": 0, \"ticks\": \"\"}, \"colorscale\": [[0.0, \"#0d0887\"], [0.1111111111111111, \"#46039f\"], [0.2222222222222222, \"#7201a8\"], [0.3333333333333333, \"#9c179e\"], [0.4444444444444444, \"#bd3786\"], [0.5555555555555556, \"#d8576b\"], [0.6666666666666666, \"#ed7953\"], [0.7777777777777778, \"#fb9f3a\"], [0.8888888888888888, \"#fdca26\"], [1.0, \"#f0f921\"]], \"type\": \"histogram2d\"}], \"histogram2dcontour\": [{\"colorbar\": {\"outlinewidth\": 0, \"ticks\": \"\"}, \"colorscale\": [[0.0, \"#0d0887\"], [0.1111111111111111, \"#46039f\"], [0.2222222222222222, \"#7201a8\"], [0.3333333333333333, \"#9c179e\"], [0.4444444444444444, \"#bd3786\"], [0.5555555555555556, \"#d8576b\"], [0.6666666666666666, \"#ed7953\"], [0.7777777777777778, \"#fb9f3a\"], [0.8888888888888888, \"#fdca26\"], [1.0, \"#f0f921\"]], \"type\": \"histogram2dcontour\"}], \"mesh3d\": [{\"colorbar\": {\"outlinewidth\": 0, \"ticks\": \"\"}, \"type\": \"mesh3d\"}], \"parcoords\": [{\"line\": {\"colorbar\": {\"outlinewidth\": 0, \"ticks\": \"\"}}, \"type\": \"parcoords\"}], \"pie\": [{\"automargin\": true, \"type\": \"pie\"}], \"scatter\": [{\"marker\": {\"colorbar\": {\"outlinewidth\": 0, \"ticks\": \"\"}}, \"type\": \"scatter\"}], \"scatter3d\": [{\"line\": {\"colorbar\": {\"outlinewidth\": 0, \"ticks\": \"\"}}, \"marker\": {\"colorbar\": {\"outlinewidth\": 0, \"ticks\": \"\"}}, \"type\": \"scatter3d\"}], \"scattercarpet\": [{\"marker\": {\"colorbar\": {\"outlinewidth\": 0, \"ticks\": \"\"}}, \"type\": \"scattercarpet\"}], \"scattergeo\": [{\"marker\": {\"colorbar\": {\"outlinewidth\": 0, \"ticks\": \"\"}}, \"type\": \"scattergeo\"}], \"scattergl\": [{\"marker\": {\"colorbar\": {\"outlinewidth\": 0, \"ticks\": \"\"}}, \"type\": \"scattergl\"}], \"scattermapbox\": [{\"marker\": {\"colorbar\": {\"outlinewidth\": 0, \"ticks\": \"\"}}, \"type\": \"scattermapbox\"}], \"scatterpolar\": [{\"marker\": {\"colorbar\": {\"outlinewidth\": 0, \"ticks\": \"\"}}, \"type\": \"scatterpolar\"}], \"scatterpolargl\": [{\"marker\": {\"colorbar\": {\"outlinewidth\": 0, \"ticks\": \"\"}}, \"type\": \"scatterpolargl\"}], \"scatterternary\": [{\"marker\": {\"colorbar\": {\"outlinewidth\": 0, \"ticks\": \"\"}}, \"type\": \"scatterternary\"}], \"surface\": [{\"colorbar\": {\"outlinewidth\": 0, \"ticks\": \"\"}, \"colorscale\": [[0.0, \"#0d0887\"], [0.1111111111111111, \"#46039f\"], [0.2222222222222222, \"#7201a8\"], [0.3333333333333333, \"#9c179e\"], [0.4444444444444444, \"#bd3786\"], [0.5555555555555556, \"#d8576b\"], [0.6666666666666666, \"#ed7953\"], [0.7777777777777778, \"#fb9f3a\"], [0.8888888888888888, \"#fdca26\"], [1.0, \"#f0f921\"]], \"type\": \"surface\"}], \"table\": [{\"cells\": {\"fill\": {\"color\": \"#EBF0F8\"}, \"line\": {\"color\": \"white\"}}, \"header\": {\"fill\": {\"color\": \"#C8D4E3\"}, \"line\": {\"color\": \"white\"}}, \"type\": \"table\"}]}, \"layout\": {\"annotationdefaults\": {\"arrowcolor\": \"#2a3f5f\", \"arrowhead\": 0, \"arrowwidth\": 1}, \"autotypenumbers\": \"strict\", \"coloraxis\": {\"colorbar\": {\"outlinewidth\": 0, \"ticks\": \"\"}}, \"colorscale\": {\"diverging\": [[0, \"#8e0152\"], [0.1, \"#c51b7d\"], [0.2, \"#de77ae\"], [0.3, \"#f1b6da\"], [0.4, \"#fde0ef\"], [0.5, \"#f7f7f7\"], [0.6, \"#e6f5d0\"], [0.7, \"#b8e186\"], [0.8, \"#7fbc41\"], [0.9, \"#4d9221\"], [1, \"#276419\"]], \"sequential\": [[0.0, \"#0d0887\"], [0.1111111111111111, \"#46039f\"], [0.2222222222222222, \"#7201a8\"], [0.3333333333333333, \"#9c179e\"], [0.4444444444444444, \"#bd3786\"], [0.5555555555555556, \"#d8576b\"], [0.6666666666666666, \"#ed7953\"], [0.7777777777777778, \"#fb9f3a\"], [0.8888888888888888, \"#fdca26\"], [1.0, \"#f0f921\"]], \"sequentialminus\": [[0.0, \"#0d0887\"], [0.1111111111111111, \"#46039f\"], [0.2222222222222222, \"#7201a8\"], [0.3333333333333333, \"#9c179e\"], [0.4444444444444444, \"#bd3786\"], [0.5555555555555556, \"#d8576b\"], [0.6666666666666666, \"#ed7953\"], [0.7777777777777778, \"#fb9f3a\"], [0.8888888888888888, \"#fdca26\"], [1.0, \"#f0f921\"]]}, \"colorway\": [\"#636efa\", \"#EF553B\", \"#00cc96\", \"#ab63fa\", \"#FFA15A\", \"#19d3f3\", \"#FF6692\", \"#B6E880\", \"#FF97FF\", \"#FECB52\"], \"font\": {\"color\": \"#2a3f5f\"}, \"geo\": {\"bgcolor\": \"white\", \"lakecolor\": \"white\", \"landcolor\": \"#E5ECF6\", \"showlakes\": true, \"showland\": true, \"subunitcolor\": \"white\"}, \"hoverlabel\": {\"align\": \"left\"}, \"hovermode\": \"closest\", \"mapbox\": {\"style\": \"light\"}, \"paper_bgcolor\": \"white\", \"plot_bgcolor\": \"#E5ECF6\", \"polar\": {\"angularaxis\": {\"gridcolor\": \"white\", \"linecolor\": \"white\", \"ticks\": \"\"}, \"bgcolor\": \"#E5ECF6\", \"radialaxis\": {\"gridcolor\": \"white\", \"linecolor\": \"white\", \"ticks\": \"\"}}, \"scene\": {\"xaxis\": {\"backgroundcolor\": \"#E5ECF6\", \"gridcolor\": \"white\", \"gridwidth\": 2, \"linecolor\": \"white\", \"showbackground\": true, \"ticks\": \"\", \"zerolinecolor\": \"white\"}, \"yaxis\": {\"backgroundcolor\": \"#E5ECF6\", \"gridcolor\": \"white\", \"gridwidth\": 2, \"linecolor\": \"white\", \"showbackground\": true, \"ticks\": \"\", \"zerolinecolor\": \"white\"}, \"zaxis\": {\"backgroundcolor\": \"#E5ECF6\", \"gridcolor\": \"white\", \"gridwidth\": 2, \"linecolor\": \"white\", \"showbackground\": true, \"ticks\": \"\", \"zerolinecolor\": \"white\"}}, \"shapedefaults\": {\"line\": {\"color\": \"#2a3f5f\"}}, \"ternary\": {\"aaxis\": {\"gridcolor\": \"white\", \"linecolor\": \"white\", \"ticks\": \"\"}, \"baxis\": {\"gridcolor\": \"white\", \"linecolor\": \"white\", \"ticks\": \"\"}, \"bgcolor\": \"#E5ECF6\", \"caxis\": {\"gridcolor\": \"white\", \"linecolor\": \"white\", \"ticks\": \"\"}}, \"title\": {\"x\": 0.05}, \"xaxis\": {\"automargin\": true, \"gridcolor\": \"white\", \"linecolor\": \"white\", \"ticks\": \"\", \"title\": {\"standoff\": 15}, \"zerolinecolor\": \"white\", \"zerolinewidth\": 2}, \"yaxis\": {\"automargin\": true, \"gridcolor\": \"white\", \"linecolor\": \"white\", \"ticks\": \"\", \"title\": {\"standoff\": 15}, \"zerolinecolor\": \"white\", \"zerolinewidth\": 2}}}, \"title\": {\"font\": {\"color\": \"#4D5663\"}}, \"xaxis\": {\"gridcolor\": \"#E1E5ED\", \"showgrid\": true, \"tickfont\": {\"color\": \"#4D5663\"}, \"title\": {\"font\": {\"color\": \"#4D5663\"}, \"text\": \"\"}, \"zerolinecolor\": \"#E1E5ED\"}, \"yaxis\": {\"gridcolor\": \"#E1E5ED\", \"showgrid\": true, \"tickfont\": {\"color\": \"#4D5663\"}, \"title\": {\"font\": {\"color\": \"#4D5663\"}, \"text\": \"\"}, \"zerolinecolor\": \"#E1E5ED\"}},                        {\"showLink\": true, \"linkText\": \"Export to plot.ly\", \"plotlyServerURL\": \"https://plot.ly\", \"responsive\": true}                    ).then(function(){\n",
       "                            \n",
       "var gd = document.getElementById('4926bcdb-887c-43cb-a851-5f29234e9d8c');\n",
       "var x = new MutationObserver(function (mutations, observer) {{\n",
       "        var display = window.getComputedStyle(gd).display;\n",
       "        if (!display || display === 'none') {{\n",
       "            console.log([gd, 'removed!']);\n",
       "            Plotly.purge(gd);\n",
       "            observer.disconnect();\n",
       "        }}\n",
       "}});\n",
       "\n",
       "// Listen for the removal of the full notebook cells\n",
       "var notebookContainer = gd.closest('#notebook-container');\n",
       "if (notebookContainer) {{\n",
       "    x.observe(notebookContainer, {childList: true});\n",
       "}}\n",
       "\n",
       "// Listen for the clearing of the current output cell\n",
       "var outputEl = gd.closest('.output');\n",
       "if (outputEl) {{\n",
       "    x.observe(outputEl, {childList: true});\n",
       "}}\n",
       "\n",
       "                        })                };                });            </script>        </div>"
      ]
     },
     "metadata": {},
     "output_type": "display_data"
    }
   ],
   "source": [
    "df.iplot(kind='box')"
   ]
  },
  {
   "cell_type": "markdown",
   "metadata": {},
   "source": [
    "## 3d Surface"
   ]
  },
  {
   "cell_type": "code",
   "execution_count": 17,
   "metadata": {},
   "outputs": [
    {
     "data": {
      "application/vnd.plotly.v1+json": {
       "config": {
        "linkText": "Export to plot.ly",
        "plotlyServerURL": "https://plot.ly",
        "showLink": true
       },
       "data": [
        {
         "colorscale": [
          [
           0,
           "rgb(165,0,38)"
          ],
          [
           0.1,
           "rgb(215,48,39)"
          ],
          [
           0.2,
           "rgb(244,109,67)"
          ],
          [
           0.3,
           "rgb(253,174,97)"
          ],
          [
           0.4,
           "rgb(254,224,144)"
          ],
          [
           0.5,
           "rgb(255,255,191)"
          ],
          [
           0.6,
           "rgb(224,243,248)"
          ],
          [
           0.7,
           "rgb(171,217,233)"
          ],
          [
           0.8,
           "rgb(116,173,209)"
          ],
          [
           0.9,
           "rgb(69,117,180)"
          ],
          [
           1,
           "rgb(49,54,149)"
          ]
         ],
         "type": "surface",
         "x": [
          0,
          1,
          2,
          3,
          4
         ],
         "y": [
          "x",
          "y",
          "z"
         ],
         "z": [
          [
           1,
           2,
           3,
           4,
           5
          ],
          [
           10,
           20,
           30,
           20,
           10
          ],
          [
           5,
           4,
           3,
           2,
           1
          ]
         ]
        }
       ],
       "layout": {
        "legend": {
         "bgcolor": "#F5F6F9",
         "font": {
          "color": "#4D5663"
         }
        },
        "paper_bgcolor": "#F5F6F9",
        "plot_bgcolor": "#F5F6F9",
        "template": {
         "data": {
          "bar": [
           {
            "error_x": {
             "color": "#2a3f5f"
            },
            "error_y": {
             "color": "#2a3f5f"
            },
            "marker": {
             "line": {
              "color": "#E5ECF6",
              "width": 0.5
             }
            },
            "type": "bar"
           }
          ],
          "barpolar": [
           {
            "marker": {
             "line": {
              "color": "#E5ECF6",
              "width": 0.5
             }
            },
            "type": "barpolar"
           }
          ],
          "carpet": [
           {
            "aaxis": {
             "endlinecolor": "#2a3f5f",
             "gridcolor": "white",
             "linecolor": "white",
             "minorgridcolor": "white",
             "startlinecolor": "#2a3f5f"
            },
            "baxis": {
             "endlinecolor": "#2a3f5f",
             "gridcolor": "white",
             "linecolor": "white",
             "minorgridcolor": "white",
             "startlinecolor": "#2a3f5f"
            },
            "type": "carpet"
           }
          ],
          "choropleth": [
           {
            "colorbar": {
             "outlinewidth": 0,
             "ticks": ""
            },
            "type": "choropleth"
           }
          ],
          "contour": [
           {
            "colorbar": {
             "outlinewidth": 0,
             "ticks": ""
            },
            "colorscale": [
             [
              0,
              "#0d0887"
             ],
             [
              0.1111111111111111,
              "#46039f"
             ],
             [
              0.2222222222222222,
              "#7201a8"
             ],
             [
              0.3333333333333333,
              "#9c179e"
             ],
             [
              0.4444444444444444,
              "#bd3786"
             ],
             [
              0.5555555555555556,
              "#d8576b"
             ],
             [
              0.6666666666666666,
              "#ed7953"
             ],
             [
              0.7777777777777778,
              "#fb9f3a"
             ],
             [
              0.8888888888888888,
              "#fdca26"
             ],
             [
              1,
              "#f0f921"
             ]
            ],
            "type": "contour"
           }
          ],
          "contourcarpet": [
           {
            "colorbar": {
             "outlinewidth": 0,
             "ticks": ""
            },
            "type": "contourcarpet"
           }
          ],
          "heatmap": [
           {
            "colorbar": {
             "outlinewidth": 0,
             "ticks": ""
            },
            "colorscale": [
             [
              0,
              "#0d0887"
             ],
             [
              0.1111111111111111,
              "#46039f"
             ],
             [
              0.2222222222222222,
              "#7201a8"
             ],
             [
              0.3333333333333333,
              "#9c179e"
             ],
             [
              0.4444444444444444,
              "#bd3786"
             ],
             [
              0.5555555555555556,
              "#d8576b"
             ],
             [
              0.6666666666666666,
              "#ed7953"
             ],
             [
              0.7777777777777778,
              "#fb9f3a"
             ],
             [
              0.8888888888888888,
              "#fdca26"
             ],
             [
              1,
              "#f0f921"
             ]
            ],
            "type": "heatmap"
           }
          ],
          "heatmapgl": [
           {
            "colorbar": {
             "outlinewidth": 0,
             "ticks": ""
            },
            "colorscale": [
             [
              0,
              "#0d0887"
             ],
             [
              0.1111111111111111,
              "#46039f"
             ],
             [
              0.2222222222222222,
              "#7201a8"
             ],
             [
              0.3333333333333333,
              "#9c179e"
             ],
             [
              0.4444444444444444,
              "#bd3786"
             ],
             [
              0.5555555555555556,
              "#d8576b"
             ],
             [
              0.6666666666666666,
              "#ed7953"
             ],
             [
              0.7777777777777778,
              "#fb9f3a"
             ],
             [
              0.8888888888888888,
              "#fdca26"
             ],
             [
              1,
              "#f0f921"
             ]
            ],
            "type": "heatmapgl"
           }
          ],
          "histogram": [
           {
            "marker": {
             "colorbar": {
              "outlinewidth": 0,
              "ticks": ""
             }
            },
            "type": "histogram"
           }
          ],
          "histogram2d": [
           {
            "colorbar": {
             "outlinewidth": 0,
             "ticks": ""
            },
            "colorscale": [
             [
              0,
              "#0d0887"
             ],
             [
              0.1111111111111111,
              "#46039f"
             ],
             [
              0.2222222222222222,
              "#7201a8"
             ],
             [
              0.3333333333333333,
              "#9c179e"
             ],
             [
              0.4444444444444444,
              "#bd3786"
             ],
             [
              0.5555555555555556,
              "#d8576b"
             ],
             [
              0.6666666666666666,
              "#ed7953"
             ],
             [
              0.7777777777777778,
              "#fb9f3a"
             ],
             [
              0.8888888888888888,
              "#fdca26"
             ],
             [
              1,
              "#f0f921"
             ]
            ],
            "type": "histogram2d"
           }
          ],
          "histogram2dcontour": [
           {
            "colorbar": {
             "outlinewidth": 0,
             "ticks": ""
            },
            "colorscale": [
             [
              0,
              "#0d0887"
             ],
             [
              0.1111111111111111,
              "#46039f"
             ],
             [
              0.2222222222222222,
              "#7201a8"
             ],
             [
              0.3333333333333333,
              "#9c179e"
             ],
             [
              0.4444444444444444,
              "#bd3786"
             ],
             [
              0.5555555555555556,
              "#d8576b"
             ],
             [
              0.6666666666666666,
              "#ed7953"
             ],
             [
              0.7777777777777778,
              "#fb9f3a"
             ],
             [
              0.8888888888888888,
              "#fdca26"
             ],
             [
              1,
              "#f0f921"
             ]
            ],
            "type": "histogram2dcontour"
           }
          ],
          "mesh3d": [
           {
            "colorbar": {
             "outlinewidth": 0,
             "ticks": ""
            },
            "type": "mesh3d"
           }
          ],
          "parcoords": [
           {
            "line": {
             "colorbar": {
              "outlinewidth": 0,
              "ticks": ""
             }
            },
            "type": "parcoords"
           }
          ],
          "pie": [
           {
            "automargin": true,
            "type": "pie"
           }
          ],
          "scatter": [
           {
            "marker": {
             "colorbar": {
              "outlinewidth": 0,
              "ticks": ""
             }
            },
            "type": "scatter"
           }
          ],
          "scatter3d": [
           {
            "line": {
             "colorbar": {
              "outlinewidth": 0,
              "ticks": ""
             }
            },
            "marker": {
             "colorbar": {
              "outlinewidth": 0,
              "ticks": ""
             }
            },
            "type": "scatter3d"
           }
          ],
          "scattercarpet": [
           {
            "marker": {
             "colorbar": {
              "outlinewidth": 0,
              "ticks": ""
             }
            },
            "type": "scattercarpet"
           }
          ],
          "scattergeo": [
           {
            "marker": {
             "colorbar": {
              "outlinewidth": 0,
              "ticks": ""
             }
            },
            "type": "scattergeo"
           }
          ],
          "scattergl": [
           {
            "marker": {
             "colorbar": {
              "outlinewidth": 0,
              "ticks": ""
             }
            },
            "type": "scattergl"
           }
          ],
          "scattermapbox": [
           {
            "marker": {
             "colorbar": {
              "outlinewidth": 0,
              "ticks": ""
             }
            },
            "type": "scattermapbox"
           }
          ],
          "scatterpolar": [
           {
            "marker": {
             "colorbar": {
              "outlinewidth": 0,
              "ticks": ""
             }
            },
            "type": "scatterpolar"
           }
          ],
          "scatterpolargl": [
           {
            "marker": {
             "colorbar": {
              "outlinewidth": 0,
              "ticks": ""
             }
            },
            "type": "scatterpolargl"
           }
          ],
          "scatterternary": [
           {
            "marker": {
             "colorbar": {
              "outlinewidth": 0,
              "ticks": ""
             }
            },
            "type": "scatterternary"
           }
          ],
          "surface": [
           {
            "colorbar": {
             "outlinewidth": 0,
             "ticks": ""
            },
            "colorscale": [
             [
              0,
              "#0d0887"
             ],
             [
              0.1111111111111111,
              "#46039f"
             ],
             [
              0.2222222222222222,
              "#7201a8"
             ],
             [
              0.3333333333333333,
              "#9c179e"
             ],
             [
              0.4444444444444444,
              "#bd3786"
             ],
             [
              0.5555555555555556,
              "#d8576b"
             ],
             [
              0.6666666666666666,
              "#ed7953"
             ],
             [
              0.7777777777777778,
              "#fb9f3a"
             ],
             [
              0.8888888888888888,
              "#fdca26"
             ],
             [
              1,
              "#f0f921"
             ]
            ],
            "type": "surface"
           }
          ],
          "table": [
           {
            "cells": {
             "fill": {
              "color": "#EBF0F8"
             },
             "line": {
              "color": "white"
             }
            },
            "header": {
             "fill": {
              "color": "#C8D4E3"
             },
             "line": {
              "color": "white"
             }
            },
            "type": "table"
           }
          ]
         },
         "layout": {
          "annotationdefaults": {
           "arrowcolor": "#2a3f5f",
           "arrowhead": 0,
           "arrowwidth": 1
          },
          "autotypenumbers": "strict",
          "coloraxis": {
           "colorbar": {
            "outlinewidth": 0,
            "ticks": ""
           }
          },
          "colorscale": {
           "diverging": [
            [
             0,
             "#8e0152"
            ],
            [
             0.1,
             "#c51b7d"
            ],
            [
             0.2,
             "#de77ae"
            ],
            [
             0.3,
             "#f1b6da"
            ],
            [
             0.4,
             "#fde0ef"
            ],
            [
             0.5,
             "#f7f7f7"
            ],
            [
             0.6,
             "#e6f5d0"
            ],
            [
             0.7,
             "#b8e186"
            ],
            [
             0.8,
             "#7fbc41"
            ],
            [
             0.9,
             "#4d9221"
            ],
            [
             1,
             "#276419"
            ]
           ],
           "sequential": [
            [
             0,
             "#0d0887"
            ],
            [
             0.1111111111111111,
             "#46039f"
            ],
            [
             0.2222222222222222,
             "#7201a8"
            ],
            [
             0.3333333333333333,
             "#9c179e"
            ],
            [
             0.4444444444444444,
             "#bd3786"
            ],
            [
             0.5555555555555556,
             "#d8576b"
            ],
            [
             0.6666666666666666,
             "#ed7953"
            ],
            [
             0.7777777777777778,
             "#fb9f3a"
            ],
            [
             0.8888888888888888,
             "#fdca26"
            ],
            [
             1,
             "#f0f921"
            ]
           ],
           "sequentialminus": [
            [
             0,
             "#0d0887"
            ],
            [
             0.1111111111111111,
             "#46039f"
            ],
            [
             0.2222222222222222,
             "#7201a8"
            ],
            [
             0.3333333333333333,
             "#9c179e"
            ],
            [
             0.4444444444444444,
             "#bd3786"
            ],
            [
             0.5555555555555556,
             "#d8576b"
            ],
            [
             0.6666666666666666,
             "#ed7953"
            ],
            [
             0.7777777777777778,
             "#fb9f3a"
            ],
            [
             0.8888888888888888,
             "#fdca26"
            ],
            [
             1,
             "#f0f921"
            ]
           ]
          },
          "colorway": [
           "#636efa",
           "#EF553B",
           "#00cc96",
           "#ab63fa",
           "#FFA15A",
           "#19d3f3",
           "#FF6692",
           "#B6E880",
           "#FF97FF",
           "#FECB52"
          ],
          "font": {
           "color": "#2a3f5f"
          },
          "geo": {
           "bgcolor": "white",
           "lakecolor": "white",
           "landcolor": "#E5ECF6",
           "showlakes": true,
           "showland": true,
           "subunitcolor": "white"
          },
          "hoverlabel": {
           "align": "left"
          },
          "hovermode": "closest",
          "mapbox": {
           "style": "light"
          },
          "paper_bgcolor": "white",
          "plot_bgcolor": "#E5ECF6",
          "polar": {
           "angularaxis": {
            "gridcolor": "white",
            "linecolor": "white",
            "ticks": ""
           },
           "bgcolor": "#E5ECF6",
           "radialaxis": {
            "gridcolor": "white",
            "linecolor": "white",
            "ticks": ""
           }
          },
          "scene": {
           "xaxis": {
            "backgroundcolor": "#E5ECF6",
            "gridcolor": "white",
            "gridwidth": 2,
            "linecolor": "white",
            "showbackground": true,
            "ticks": "",
            "zerolinecolor": "white"
           },
           "yaxis": {
            "backgroundcolor": "#E5ECF6",
            "gridcolor": "white",
            "gridwidth": 2,
            "linecolor": "white",
            "showbackground": true,
            "ticks": "",
            "zerolinecolor": "white"
           },
           "zaxis": {
            "backgroundcolor": "#E5ECF6",
            "gridcolor": "white",
            "gridwidth": 2,
            "linecolor": "white",
            "showbackground": true,
            "ticks": "",
            "zerolinecolor": "white"
           }
          },
          "shapedefaults": {
           "line": {
            "color": "#2a3f5f"
           }
          },
          "ternary": {
           "aaxis": {
            "gridcolor": "white",
            "linecolor": "white",
            "ticks": ""
           },
           "baxis": {
            "gridcolor": "white",
            "linecolor": "white",
            "ticks": ""
           },
           "bgcolor": "#E5ECF6",
           "caxis": {
            "gridcolor": "white",
            "linecolor": "white",
            "ticks": ""
           }
          },
          "title": {
           "x": 0.05
          },
          "xaxis": {
           "automargin": true,
           "gridcolor": "white",
           "linecolor": "white",
           "ticks": "",
           "title": {
            "standoff": 15
           },
           "zerolinecolor": "white",
           "zerolinewidth": 2
          },
          "yaxis": {
           "automargin": true,
           "gridcolor": "white",
           "linecolor": "white",
           "ticks": "",
           "title": {
            "standoff": 15
           },
           "zerolinecolor": "white",
           "zerolinewidth": 2
          }
         }
        },
        "title": {
         "font": {
          "color": "#4D5663"
         }
        },
        "xaxis": {
         "gridcolor": "#E1E5ED",
         "showgrid": true,
         "tickfont": {
          "color": "#4D5663"
         },
         "title": {
          "font": {
           "color": "#4D5663"
          },
          "text": ""
         },
         "zerolinecolor": "#E1E5ED"
        },
        "yaxis": {
         "gridcolor": "#E1E5ED",
         "showgrid": true,
         "tickfont": {
          "color": "#4D5663"
         },
         "title": {
          "font": {
           "color": "#4D5663"
          },
          "text": ""
         },
         "zerolinecolor": "#E1E5ED"
        }
       }
      },
      "text/html": [
       "<div>                            <div id=\"2d4d9d21-8e41-4289-a42e-a7f52001c7ba\" class=\"plotly-graph-div\" style=\"height:525px; width:100%;\"></div>            <script type=\"text/javascript\">                require([\"plotly\"], function(Plotly) {                    window.PLOTLYENV=window.PLOTLYENV || {};\n",
       "                    window.PLOTLYENV.BASE_URL='https://plot.ly';                                    if (document.getElementById(\"2d4d9d21-8e41-4289-a42e-a7f52001c7ba\")) {                    Plotly.newPlot(                        \"2d4d9d21-8e41-4289-a42e-a7f52001c7ba\",                        [{\"colorscale\": [[0.0, \"rgb(165,0,38)\"], [0.1, \"rgb(215,48,39)\"], [0.2, \"rgb(244,109,67)\"], [0.3, \"rgb(253,174,97)\"], [0.4, \"rgb(254,224,144)\"], [0.5, \"rgb(255,255,191)\"], [0.6, \"rgb(224,243,248)\"], [0.7, \"rgb(171,217,233)\"], [0.8, \"rgb(116,173,209)\"], [0.9, \"rgb(69,117,180)\"], [1.0, \"rgb(49,54,149)\"]], \"type\": \"surface\", \"x\": [0, 1, 2, 3, 4], \"y\": [\"x\", \"y\", \"z\"], \"z\": [[1, 2, 3, 4, 5], [10, 20, 30, 20, 10], [5, 4, 3, 2, 1]]}],                        {\"legend\": {\"bgcolor\": \"#F5F6F9\", \"font\": {\"color\": \"#4D5663\"}}, \"paper_bgcolor\": \"#F5F6F9\", \"plot_bgcolor\": \"#F5F6F9\", \"template\": {\"data\": {\"bar\": [{\"error_x\": {\"color\": \"#2a3f5f\"}, \"error_y\": {\"color\": \"#2a3f5f\"}, \"marker\": {\"line\": {\"color\": \"#E5ECF6\", \"width\": 0.5}}, \"type\": \"bar\"}], \"barpolar\": [{\"marker\": {\"line\": {\"color\": \"#E5ECF6\", \"width\": 0.5}}, \"type\": \"barpolar\"}], \"carpet\": [{\"aaxis\": {\"endlinecolor\": \"#2a3f5f\", \"gridcolor\": \"white\", \"linecolor\": \"white\", \"minorgridcolor\": \"white\", \"startlinecolor\": \"#2a3f5f\"}, \"baxis\": {\"endlinecolor\": \"#2a3f5f\", \"gridcolor\": \"white\", \"linecolor\": \"white\", \"minorgridcolor\": \"white\", \"startlinecolor\": \"#2a3f5f\"}, \"type\": \"carpet\"}], \"choropleth\": [{\"colorbar\": {\"outlinewidth\": 0, \"ticks\": \"\"}, \"type\": \"choropleth\"}], \"contour\": [{\"colorbar\": {\"outlinewidth\": 0, \"ticks\": \"\"}, \"colorscale\": [[0.0, \"#0d0887\"], [0.1111111111111111, \"#46039f\"], [0.2222222222222222, \"#7201a8\"], [0.3333333333333333, \"#9c179e\"], [0.4444444444444444, \"#bd3786\"], [0.5555555555555556, \"#d8576b\"], [0.6666666666666666, \"#ed7953\"], [0.7777777777777778, \"#fb9f3a\"], [0.8888888888888888, \"#fdca26\"], [1.0, \"#f0f921\"]], \"type\": \"contour\"}], \"contourcarpet\": [{\"colorbar\": {\"outlinewidth\": 0, \"ticks\": \"\"}, \"type\": \"contourcarpet\"}], \"heatmap\": [{\"colorbar\": {\"outlinewidth\": 0, \"ticks\": \"\"}, \"colorscale\": [[0.0, \"#0d0887\"], [0.1111111111111111, \"#46039f\"], [0.2222222222222222, \"#7201a8\"], [0.3333333333333333, \"#9c179e\"], [0.4444444444444444, \"#bd3786\"], [0.5555555555555556, \"#d8576b\"], [0.6666666666666666, \"#ed7953\"], [0.7777777777777778, \"#fb9f3a\"], [0.8888888888888888, \"#fdca26\"], [1.0, \"#f0f921\"]], \"type\": \"heatmap\"}], \"heatmapgl\": [{\"colorbar\": {\"outlinewidth\": 0, \"ticks\": \"\"}, \"colorscale\": [[0.0, \"#0d0887\"], [0.1111111111111111, \"#46039f\"], [0.2222222222222222, \"#7201a8\"], [0.3333333333333333, \"#9c179e\"], [0.4444444444444444, \"#bd3786\"], [0.5555555555555556, \"#d8576b\"], [0.6666666666666666, \"#ed7953\"], [0.7777777777777778, \"#fb9f3a\"], [0.8888888888888888, \"#fdca26\"], [1.0, \"#f0f921\"]], \"type\": \"heatmapgl\"}], \"histogram\": [{\"marker\": {\"colorbar\": {\"outlinewidth\": 0, \"ticks\": \"\"}}, \"type\": \"histogram\"}], \"histogram2d\": [{\"colorbar\": {\"outlinewidth\": 0, \"ticks\": \"\"}, \"colorscale\": [[0.0, \"#0d0887\"], [0.1111111111111111, \"#46039f\"], [0.2222222222222222, \"#7201a8\"], [0.3333333333333333, \"#9c179e\"], [0.4444444444444444, \"#bd3786\"], [0.5555555555555556, \"#d8576b\"], [0.6666666666666666, \"#ed7953\"], [0.7777777777777778, \"#fb9f3a\"], [0.8888888888888888, \"#fdca26\"], [1.0, \"#f0f921\"]], \"type\": \"histogram2d\"}], \"histogram2dcontour\": [{\"colorbar\": {\"outlinewidth\": 0, \"ticks\": \"\"}, \"colorscale\": [[0.0, \"#0d0887\"], [0.1111111111111111, \"#46039f\"], [0.2222222222222222, \"#7201a8\"], [0.3333333333333333, \"#9c179e\"], [0.4444444444444444, \"#bd3786\"], [0.5555555555555556, \"#d8576b\"], [0.6666666666666666, \"#ed7953\"], [0.7777777777777778, \"#fb9f3a\"], [0.8888888888888888, \"#fdca26\"], [1.0, \"#f0f921\"]], \"type\": \"histogram2dcontour\"}], \"mesh3d\": [{\"colorbar\": {\"outlinewidth\": 0, \"ticks\": \"\"}, \"type\": \"mesh3d\"}], \"parcoords\": [{\"line\": {\"colorbar\": {\"outlinewidth\": 0, \"ticks\": \"\"}}, \"type\": \"parcoords\"}], \"pie\": [{\"automargin\": true, \"type\": \"pie\"}], \"scatter\": [{\"marker\": {\"colorbar\": {\"outlinewidth\": 0, \"ticks\": \"\"}}, \"type\": \"scatter\"}], \"scatter3d\": [{\"line\": {\"colorbar\": {\"outlinewidth\": 0, \"ticks\": \"\"}}, \"marker\": {\"colorbar\": {\"outlinewidth\": 0, \"ticks\": \"\"}}, \"type\": \"scatter3d\"}], \"scattercarpet\": [{\"marker\": {\"colorbar\": {\"outlinewidth\": 0, \"ticks\": \"\"}}, \"type\": \"scattercarpet\"}], \"scattergeo\": [{\"marker\": {\"colorbar\": {\"outlinewidth\": 0, \"ticks\": \"\"}}, \"type\": \"scattergeo\"}], \"scattergl\": [{\"marker\": {\"colorbar\": {\"outlinewidth\": 0, \"ticks\": \"\"}}, \"type\": \"scattergl\"}], \"scattermapbox\": [{\"marker\": {\"colorbar\": {\"outlinewidth\": 0, \"ticks\": \"\"}}, \"type\": \"scattermapbox\"}], \"scatterpolar\": [{\"marker\": {\"colorbar\": {\"outlinewidth\": 0, \"ticks\": \"\"}}, \"type\": \"scatterpolar\"}], \"scatterpolargl\": [{\"marker\": {\"colorbar\": {\"outlinewidth\": 0, \"ticks\": \"\"}}, \"type\": \"scatterpolargl\"}], \"scatterternary\": [{\"marker\": {\"colorbar\": {\"outlinewidth\": 0, \"ticks\": \"\"}}, \"type\": \"scatterternary\"}], \"surface\": [{\"colorbar\": {\"outlinewidth\": 0, \"ticks\": \"\"}, \"colorscale\": [[0.0, \"#0d0887\"], [0.1111111111111111, \"#46039f\"], [0.2222222222222222, \"#7201a8\"], [0.3333333333333333, \"#9c179e\"], [0.4444444444444444, \"#bd3786\"], [0.5555555555555556, \"#d8576b\"], [0.6666666666666666, \"#ed7953\"], [0.7777777777777778, \"#fb9f3a\"], [0.8888888888888888, \"#fdca26\"], [1.0, \"#f0f921\"]], \"type\": \"surface\"}], \"table\": [{\"cells\": {\"fill\": {\"color\": \"#EBF0F8\"}, \"line\": {\"color\": \"white\"}}, \"header\": {\"fill\": {\"color\": \"#C8D4E3\"}, \"line\": {\"color\": \"white\"}}, \"type\": \"table\"}]}, \"layout\": {\"annotationdefaults\": {\"arrowcolor\": \"#2a3f5f\", \"arrowhead\": 0, \"arrowwidth\": 1}, \"autotypenumbers\": \"strict\", \"coloraxis\": {\"colorbar\": {\"outlinewidth\": 0, \"ticks\": \"\"}}, \"colorscale\": {\"diverging\": [[0, \"#8e0152\"], [0.1, \"#c51b7d\"], [0.2, \"#de77ae\"], [0.3, \"#f1b6da\"], [0.4, \"#fde0ef\"], [0.5, \"#f7f7f7\"], [0.6, \"#e6f5d0\"], [0.7, \"#b8e186\"], [0.8, \"#7fbc41\"], [0.9, \"#4d9221\"], [1, \"#276419\"]], \"sequential\": [[0.0, \"#0d0887\"], [0.1111111111111111, \"#46039f\"], [0.2222222222222222, \"#7201a8\"], [0.3333333333333333, \"#9c179e\"], [0.4444444444444444, \"#bd3786\"], [0.5555555555555556, \"#d8576b\"], [0.6666666666666666, \"#ed7953\"], [0.7777777777777778, \"#fb9f3a\"], [0.8888888888888888, \"#fdca26\"], [1.0, \"#f0f921\"]], \"sequentialminus\": [[0.0, \"#0d0887\"], [0.1111111111111111, \"#46039f\"], [0.2222222222222222, \"#7201a8\"], [0.3333333333333333, \"#9c179e\"], [0.4444444444444444, \"#bd3786\"], [0.5555555555555556, \"#d8576b\"], [0.6666666666666666, \"#ed7953\"], [0.7777777777777778, \"#fb9f3a\"], [0.8888888888888888, \"#fdca26\"], [1.0, \"#f0f921\"]]}, \"colorway\": [\"#636efa\", \"#EF553B\", \"#00cc96\", \"#ab63fa\", \"#FFA15A\", \"#19d3f3\", \"#FF6692\", \"#B6E880\", \"#FF97FF\", \"#FECB52\"], \"font\": {\"color\": \"#2a3f5f\"}, \"geo\": {\"bgcolor\": \"white\", \"lakecolor\": \"white\", \"landcolor\": \"#E5ECF6\", \"showlakes\": true, \"showland\": true, \"subunitcolor\": \"white\"}, \"hoverlabel\": {\"align\": \"left\"}, \"hovermode\": \"closest\", \"mapbox\": {\"style\": \"light\"}, \"paper_bgcolor\": \"white\", \"plot_bgcolor\": \"#E5ECF6\", \"polar\": {\"angularaxis\": {\"gridcolor\": \"white\", \"linecolor\": \"white\", \"ticks\": \"\"}, \"bgcolor\": \"#E5ECF6\", \"radialaxis\": {\"gridcolor\": \"white\", \"linecolor\": \"white\", \"ticks\": \"\"}}, \"scene\": {\"xaxis\": {\"backgroundcolor\": \"#E5ECF6\", \"gridcolor\": \"white\", \"gridwidth\": 2, \"linecolor\": \"white\", \"showbackground\": true, \"ticks\": \"\", \"zerolinecolor\": \"white\"}, \"yaxis\": {\"backgroundcolor\": \"#E5ECF6\", \"gridcolor\": \"white\", \"gridwidth\": 2, \"linecolor\": \"white\", \"showbackground\": true, \"ticks\": \"\", \"zerolinecolor\": \"white\"}, \"zaxis\": {\"backgroundcolor\": \"#E5ECF6\", \"gridcolor\": \"white\", \"gridwidth\": 2, \"linecolor\": \"white\", \"showbackground\": true, \"ticks\": \"\", \"zerolinecolor\": \"white\"}}, \"shapedefaults\": {\"line\": {\"color\": \"#2a3f5f\"}}, \"ternary\": {\"aaxis\": {\"gridcolor\": \"white\", \"linecolor\": \"white\", \"ticks\": \"\"}, \"baxis\": {\"gridcolor\": \"white\", \"linecolor\": \"white\", \"ticks\": \"\"}, \"bgcolor\": \"#E5ECF6\", \"caxis\": {\"gridcolor\": \"white\", \"linecolor\": \"white\", \"ticks\": \"\"}}, \"title\": {\"x\": 0.05}, \"xaxis\": {\"automargin\": true, \"gridcolor\": \"white\", \"linecolor\": \"white\", \"ticks\": \"\", \"title\": {\"standoff\": 15}, \"zerolinecolor\": \"white\", \"zerolinewidth\": 2}, \"yaxis\": {\"automargin\": true, \"gridcolor\": \"white\", \"linecolor\": \"white\", \"ticks\": \"\", \"title\": {\"standoff\": 15}, \"zerolinecolor\": \"white\", \"zerolinewidth\": 2}}}, \"title\": {\"font\": {\"color\": \"#4D5663\"}}, \"xaxis\": {\"gridcolor\": \"#E1E5ED\", \"showgrid\": true, \"tickfont\": {\"color\": \"#4D5663\"}, \"title\": {\"font\": {\"color\": \"#4D5663\"}, \"text\": \"\"}, \"zerolinecolor\": \"#E1E5ED\"}, \"yaxis\": {\"gridcolor\": \"#E1E5ED\", \"showgrid\": true, \"tickfont\": {\"color\": \"#4D5663\"}, \"title\": {\"font\": {\"color\": \"#4D5663\"}, \"text\": \"\"}, \"zerolinecolor\": \"#E1E5ED\"}},                        {\"showLink\": true, \"linkText\": \"Export to plot.ly\", \"plotlyServerURL\": \"https://plot.ly\", \"responsive\": true}                    ).then(function(){\n",
       "                            \n",
       "var gd = document.getElementById('2d4d9d21-8e41-4289-a42e-a7f52001c7ba');\n",
       "var x = new MutationObserver(function (mutations, observer) {{\n",
       "        var display = window.getComputedStyle(gd).display;\n",
       "        if (!display || display === 'none') {{\n",
       "            console.log([gd, 'removed!']);\n",
       "            Plotly.purge(gd);\n",
       "            observer.disconnect();\n",
       "        }}\n",
       "}});\n",
       "\n",
       "// Listen for the removal of the full notebook cells\n",
       "var notebookContainer = gd.closest('#notebook-container');\n",
       "if (notebookContainer) {{\n",
       "    x.observe(notebookContainer, {childList: true});\n",
       "}}\n",
       "\n",
       "// Listen for the clearing of the current output cell\n",
       "var outputEl = gd.closest('.output');\n",
       "if (outputEl) {{\n",
       "    x.observe(outputEl, {childList: true});\n",
       "}}\n",
       "\n",
       "                        })                };                });            </script>        </div>"
      ]
     },
     "metadata": {},
     "output_type": "display_data"
    }
   ],
   "source": [
    "df3 = pd.DataFrame({'x':[1,2,3,4,5],'y':[10,20,30,20,10],'z':[5,4,3,2,1]})\n",
    "df3.iplot(kind='surface',colorscale='rdylbu')"
   ]
  },
  {
   "cell_type": "markdown",
   "metadata": {},
   "source": [
    "## Spread"
   ]
  },
  {
   "cell_type": "code",
   "execution_count": 18,
   "metadata": {},
   "outputs": [
    {
     "name": "stderr",
     "output_type": "stream",
     "text": [
      "/Users/heliu/opt/anaconda3/lib/python3.7/site-packages/cufflinks/plotlytools.py:849: FutureWarning:\n",
      "\n",
      "The pandas.np module is deprecated and will be removed from pandas in a future version. Import numpy directly instead\n",
      "\n",
      "/Users/heliu/opt/anaconda3/lib/python3.7/site-packages/cufflinks/plotlytools.py:850: FutureWarning:\n",
      "\n",
      "The pandas.np module is deprecated and will be removed from pandas in a future version. Import numpy directly instead\n",
      "\n"
     ]
    },
    {
     "data": {
      "application/vnd.plotly.v1+json": {
       "config": {
        "linkText": "Export to plot.ly",
        "plotlyServerURL": "https://plot.ly",
        "showLink": true
       },
       "data": [
        {
         "line": {
          "color": "rgba(255, 153, 51, 1.0)",
          "dash": "solid",
          "shape": "linear",
          "width": 1.3
         },
         "mode": "lines",
         "name": "A",
         "text": "",
         "type": "scatter",
         "x": [
          0,
          1,
          2,
          3,
          4,
          5,
          6,
          7,
          8,
          9,
          10,
          11,
          12,
          13,
          14,
          15,
          16,
          17,
          18,
          19,
          20,
          21,
          22,
          23,
          24,
          25,
          26,
          27,
          28,
          29,
          30,
          31,
          32,
          33,
          34,
          35,
          36,
          37,
          38,
          39,
          40,
          41,
          42,
          43,
          44,
          45,
          46,
          47,
          48,
          49,
          50,
          51,
          52,
          53,
          54,
          55,
          56,
          57,
          58,
          59,
          60,
          61,
          62,
          63,
          64,
          65,
          66,
          67,
          68,
          69,
          70,
          71,
          72,
          73,
          74,
          75,
          76,
          77,
          78,
          79,
          80,
          81,
          82,
          83,
          84,
          85,
          86,
          87,
          88,
          89,
          90,
          91,
          92,
          93,
          94,
          95,
          96,
          97,
          98,
          99
         ],
         "y": [
          0.8784182869438022,
          -0.3806389397043157,
          -0.015161610170961225,
          -0.9016207963843829,
          1.5014835535230446,
          0.638181087090259,
          -0.17587623889792092,
          -0.664965902036214,
          -0.5503517666986742,
          0.7412790574276407,
          -0.3413855854978848,
          -0.14321019701085397,
          0.6189236491204758,
          -1.3274582091937592,
          -0.6011515749002577,
          -0.3711948051377429,
          0.22774803593324108,
          -0.1799100326269736,
          -0.751501350518013,
          1.2726380379037925,
          0.17853445966183684,
          0.9029346884572302,
          -0.30475724605130877,
          1.1242992014697217,
          -0.34803042426193503,
          -0.2789327833471177,
          -0.48089000530870313,
          -0.8898578379398597,
          -0.4052291987803923,
          0.13910870604580186,
          -1.5928955584327276,
          1.087535267725178,
          -1.0477189352750904,
          -0.28876647921209253,
          0.23969910604040176,
          -1.047455217258851,
          -0.5833553130384778,
          0.02618941267039,
          -1.3134439425363735,
          0.37447051250925434,
          -0.23665849744398545,
          0.38366374968200445,
          0.38879693498090745,
          -2.489474520445726,
          -1.9558898206788757,
          -1.2820583243852897,
          1.6396600196257145,
          0.3257421775403651,
          0.268439850249584,
          0.254911311026306,
          -0.039997268578202474,
          -1.7304810128630073,
          0.8792983780516312,
          -0.34944303317429876,
          -0.24483344544345187,
          1.3422438252491682,
          -0.019157905591640125,
          0.48254027223419876,
          0.22916419374642585,
          -1.10244764076685,
          0.4387464394595617,
          0.49869501960824053,
          0.8896596416653044,
          -2.2247096358959375,
          0.25806961050697097,
          -0.8950588291502402,
          1.077536774493091,
          1.392456455805473,
          1.8714710818287612,
          -0.9079560039649784,
          0.5852837098112604,
          -1.3540490258003222,
          1.5937634330895467,
          1.136176797108421,
          -1.228998731272284,
          0.32499698703778784,
          -1.0600488813061035,
          0.16014813932158212,
          -0.11395722536452274,
          0.5525871357354079,
          0.1992200743903423,
          1.4432928977698434,
          -0.053842849506307945,
          0.5796916613556059,
          -0.13646583791057929,
          1.1385161923835618,
          0.25425497724742774,
          0.06459608638843127,
          -0.8272692613159764,
          -0.13056663733668503,
          1.9531971698255062,
          -1.200128548980169,
          -0.7083682008920325,
          0.046109888970466854,
          -0.1794017215311147,
          -0.2804450420349651,
          0.47294127780493245,
          -0.7939966373692098,
          0.3515341825448959,
          2.4246217604627764
         ]
        },
        {
         "line": {
          "color": "rgba(55, 128, 191, 1.0)",
          "dash": "solid",
          "shape": "linear",
          "width": 1.3
         },
         "mode": "lines",
         "name": "B",
         "text": "",
         "type": "scatter",
         "x": [
          0,
          1,
          2,
          3,
          4,
          5,
          6,
          7,
          8,
          9,
          10,
          11,
          12,
          13,
          14,
          15,
          16,
          17,
          18,
          19,
          20,
          21,
          22,
          23,
          24,
          25,
          26,
          27,
          28,
          29,
          30,
          31,
          32,
          33,
          34,
          35,
          36,
          37,
          38,
          39,
          40,
          41,
          42,
          43,
          44,
          45,
          46,
          47,
          48,
          49,
          50,
          51,
          52,
          53,
          54,
          55,
          56,
          57,
          58,
          59,
          60,
          61,
          62,
          63,
          64,
          65,
          66,
          67,
          68,
          69,
          70,
          71,
          72,
          73,
          74,
          75,
          76,
          77,
          78,
          79,
          80,
          81,
          82,
          83,
          84,
          85,
          86,
          87,
          88,
          89,
          90,
          91,
          92,
          93,
          94,
          95,
          96,
          97,
          98,
          99
         ],
         "y": [
          -0.4930365779602038,
          0.3250304022261739,
          0.9583344497638379,
          0.18987007370510067,
          1.3116461956482248,
          -0.6220817679528079,
          1.1176365968869961,
          -0.9258464578846678,
          -1.2240936631275416,
          -1.233544955793205,
          -0.3237490841563232,
          0.9123258973854688,
          0.22842642137253671,
          0.97394659908097,
          0.7117637750549505,
          -0.5015085289746392,
          -0.20916801428743456,
          1.2552264592940754,
          -0.08368782602850174,
          0.3695360809011424,
          0.37111403545690363,
          0.6782737012924119,
          0.4797622410012238,
          2.911253138754174,
          -1.512623993787851,
          -2.56331258059585,
          0.5615782223372155,
          -0.835984426866699,
          -0.44454088029925015,
          0.23385361385822392,
          0.649676684703017,
          0.33734517766819383,
          0.07386186184447749,
          1.2849074240198488,
          -0.7590870044987608,
          0.9617909879870938,
          0.7792637515682848,
          0.19076653572726923,
          -0.9743666833686444,
          0.6382514812525082,
          -0.5440458953899364,
          0.7456070716698415,
          0.12989614246183692,
          -1.6423156210534684,
          1.7163396732325287,
          -0.45416706950050567,
          0.4441043716591119,
          -1.224061455455319,
          0.5332178930668302,
          2.019759276110566,
          0.36277696743342686,
          -1.8556915806269134,
          0.492238886798876,
          -1.54995228762088,
          -0.04113350096243654,
          -0.6434973828541718,
          0.8661086529225488,
          0.9989323504656847,
          0.541137576993134,
          1.2391192072924329,
          0.5745147693028827,
          -0.2414084320240968,
          0.541309991070589,
          0.7859289747510708,
          1.4831153439368039,
          -0.5254666265863034,
          -0.7021612584368963,
          -0.28667722150976127,
          0.6385384203001963,
          0.1594149116250348,
          -1.4050472102870275,
          -0.7673306354425335,
          0.7441053584114531,
          -0.31765516460868404,
          1.6164404742814527,
          1.243123471433262,
          0.49469166601581016,
          0.06350558800969401,
          0.6383441449086565,
          0.16265538575948088,
          -0.4586828174957983,
          -1.997774359164692,
          0.3451467817844908,
          -0.9849906422659223,
          1.296687209780314,
          -0.617686845046229,
          -0.8107617488505277,
          -0.6900329691237589,
          -0.37413489066330313,
          -0.6005443256657182,
          -1.046402165049117,
          0.4896257869686791,
          0.5601417492243187,
          -1.383651457886147,
          0.8410728557430217,
          -0.405818172853134,
          -0.3831616014981088,
          0.4658052982328494,
          0.20681148045450257,
          0.4565200818659963
         ]
        },
        {
         "connectgaps": false,
         "fill": "tozeroy",
         "line": {
          "color": "green",
          "dash": "solid",
          "shape": "linear",
          "width": 0.5
         },
         "mode": "lines",
         "name": "Spread",
         "showlegend": false,
         "type": "scatter",
         "x": [
          0,
          1,
          2,
          3,
          4,
          5,
          6,
          7,
          8,
          9,
          10,
          11,
          12,
          13,
          14,
          15,
          16,
          17,
          18,
          19,
          20,
          21,
          22,
          23,
          24,
          25,
          26,
          27,
          28,
          29,
          30,
          31,
          32,
          33,
          34,
          35,
          36,
          37,
          38,
          39,
          40,
          41,
          42,
          43,
          44,
          45,
          46,
          47,
          48,
          49,
          50,
          51,
          52,
          53,
          54,
          55,
          56,
          57,
          58,
          59,
          60,
          61,
          62,
          63,
          64,
          65,
          66,
          67,
          68,
          69,
          70,
          71,
          72,
          73,
          74,
          75,
          76,
          77,
          78,
          79,
          80,
          81,
          82,
          83,
          84,
          85,
          86,
          87,
          88,
          89,
          90,
          91,
          92,
          93,
          94,
          95,
          96,
          97,
          98,
          99
         ],
         "xaxis": "x2",
         "y": [
          1.371454864904006,
          "",
          "",
          "",
          0.1898373578748198,
          1.260262855043067,
          "",
          0.2608805558484538,
          0.6737418964288674,
          1.9748240132208457,
          "",
          "",
          0.3904972277479391,
          "",
          "",
          0.13031372383689627,
          0.43691605022067564,
          "",
          "",
          0.9031019570026501,
          "",
          0.2246609871648183,
          "",
          "",
          1.164593569525916,
          2.2843797972487323,
          "",
          "",
          0.03931168151885783,
          "",
          "",
          0.7501900900569841,
          "",
          "",
          0.9987861105391626,
          "",
          "",
          "",
          "",
          "",
          0.30738739794595094,
          "",
          0.2589007925190705,
          "",
          "",
          "",
          1.1955556479666027,
          1.5498036329956841,
          "",
          "",
          "",
          0.12521056776390616,
          0.38705949125275524,
          1.2005092544465812,
          "",
          1.9857412081033399,
          "",
          "",
          "",
          "",
          "",
          0.7401034516323373,
          0.34834965059471545,
          "",
          "",
          "",
          1.7796980329299874,
          1.6791336773152343,
          1.232932661528565,
          "",
          1.990330920098288,
          "",
          0.8496580746780936,
          1.453831961717105,
          "",
          "",
          "",
          0.0966425513118881,
          "",
          0.38993174997592694,
          0.6579028918861406,
          3.4410672569345353,
          "",
          1.5646823036215283,
          "",
          1.7562030374297908,
          1.0650167260979555,
          0.7546290555121902,
          "",
          0.4699776883290332,
          2.999599334874623,
          "",
          "",
          1.4297613468566137,
          "",
          0.12537313081816887,
          0.8561028793030412,
          "",
          0.1447227020903933,
          1.9681016785967802
         ],
         "yaxis": "y2"
        },
        {
         "connectgaps": false,
         "fill": "tozeroy",
         "line": {
          "color": "red",
          "dash": "solid",
          "shape": "linear",
          "width": 0.5
         },
         "mode": "lines",
         "name": "Spread",
         "showlegend": false,
         "type": "scatter",
         "x": [
          0,
          1,
          2,
          3,
          4,
          5,
          6,
          7,
          8,
          9,
          10,
          11,
          12,
          13,
          14,
          15,
          16,
          17,
          18,
          19,
          20,
          21,
          22,
          23,
          24,
          25,
          26,
          27,
          28,
          29,
          30,
          31,
          32,
          33,
          34,
          35,
          36,
          37,
          38,
          39,
          40,
          41,
          42,
          43,
          44,
          45,
          46,
          47,
          48,
          49,
          50,
          51,
          52,
          53,
          54,
          55,
          56,
          57,
          58,
          59,
          60,
          61,
          62,
          63,
          64,
          65,
          66,
          67,
          68,
          69,
          70,
          71,
          72,
          73,
          74,
          75,
          76,
          77,
          78,
          79,
          80,
          81,
          82,
          83,
          84,
          85,
          86,
          87,
          88,
          89,
          90,
          91,
          92,
          93,
          94,
          95,
          96,
          97,
          98,
          99
         ],
         "xaxis": "x2",
         "y": [
          "",
          -0.7056693419304896,
          -0.973496059934799,
          -1.0914908700894834,
          "",
          "",
          -1.293512835784917,
          "",
          "",
          "",
          -0.017636501341561583,
          -1.0555360943963228,
          "",
          -2.301404808274729,
          -1.3129153499552082,
          "",
          "",
          -1.435136491921049,
          -0.6678135244895113,
          "",
          -0.1925795757950668,
          "",
          -0.7845194870525325,
          -1.786953937284452,
          "",
          "",
          -1.0424682276459187,
          -0.05387341107316068,
          "",
          -0.09474490781242206,
          -2.2425722431357444,
          "",
          -1.121580797119568,
          -1.5736739032319413,
          "",
          -2.0092462052459448,
          -1.3626190646067626,
          -0.16457712305687924,
          -0.33907725916772913,
          -0.26378096874325385,
          "",
          -0.3619433219878371,
          "",
          -0.8471588993922576,
          -3.6722294939114044,
          -0.827891254884784,
          "",
          "",
          -0.2647780428172462,
          -1.7648479650842601,
          -0.4027742360116293,
          "",
          "",
          "",
          -0.20369994448101533,
          "",
          -0.8852665585141889,
          -0.5163920782314859,
          -0.3119733832467082,
          -2.3415668480592826,
          -0.135768329843321,
          "",
          "",
          -3.010638610647008,
          -1.225045733429833,
          -0.36959220256393677,
          "",
          "",
          "",
          -1.0673709155900133,
          "",
          -0.5867183903577886,
          "",
          "",
          -2.8454392055537365,
          -0.9181264843954742,
          -1.5547405473219138,
          "",
          -0.7523013702731793,
          "",
          "",
          "",
          -0.3989896312907988,
          "",
          -1.4331530476908931,
          "",
          "",
          "",
          -0.4531343706526733,
          "",
          "",
          -1.689754335948848,
          -1.2685099501163513,
          "",
          -1.0204745772741364,
          "",
          "",
          -1.259801935602059,
          "",
          ""
         ],
         "yaxis": "y2"
        }
       ],
       "layout": {
        "hovermode": "x",
        "legend": {
         "bgcolor": "#F5F6F9",
         "font": {
          "color": "#4D5663"
         }
        },
        "paper_bgcolor": "#F5F6F9",
        "plot_bgcolor": "#F5F6F9",
        "template": {
         "data": {
          "bar": [
           {
            "error_x": {
             "color": "#2a3f5f"
            },
            "error_y": {
             "color": "#2a3f5f"
            },
            "marker": {
             "line": {
              "color": "#E5ECF6",
              "width": 0.5
             }
            },
            "type": "bar"
           }
          ],
          "barpolar": [
           {
            "marker": {
             "line": {
              "color": "#E5ECF6",
              "width": 0.5
             }
            },
            "type": "barpolar"
           }
          ],
          "carpet": [
           {
            "aaxis": {
             "endlinecolor": "#2a3f5f",
             "gridcolor": "white",
             "linecolor": "white",
             "minorgridcolor": "white",
             "startlinecolor": "#2a3f5f"
            },
            "baxis": {
             "endlinecolor": "#2a3f5f",
             "gridcolor": "white",
             "linecolor": "white",
             "minorgridcolor": "white",
             "startlinecolor": "#2a3f5f"
            },
            "type": "carpet"
           }
          ],
          "choropleth": [
           {
            "colorbar": {
             "outlinewidth": 0,
             "ticks": ""
            },
            "type": "choropleth"
           }
          ],
          "contour": [
           {
            "colorbar": {
             "outlinewidth": 0,
             "ticks": ""
            },
            "colorscale": [
             [
              0,
              "#0d0887"
             ],
             [
              0.1111111111111111,
              "#46039f"
             ],
             [
              0.2222222222222222,
              "#7201a8"
             ],
             [
              0.3333333333333333,
              "#9c179e"
             ],
             [
              0.4444444444444444,
              "#bd3786"
             ],
             [
              0.5555555555555556,
              "#d8576b"
             ],
             [
              0.6666666666666666,
              "#ed7953"
             ],
             [
              0.7777777777777778,
              "#fb9f3a"
             ],
             [
              0.8888888888888888,
              "#fdca26"
             ],
             [
              1,
              "#f0f921"
             ]
            ],
            "type": "contour"
           }
          ],
          "contourcarpet": [
           {
            "colorbar": {
             "outlinewidth": 0,
             "ticks": ""
            },
            "type": "contourcarpet"
           }
          ],
          "heatmap": [
           {
            "colorbar": {
             "outlinewidth": 0,
             "ticks": ""
            },
            "colorscale": [
             [
              0,
              "#0d0887"
             ],
             [
              0.1111111111111111,
              "#46039f"
             ],
             [
              0.2222222222222222,
              "#7201a8"
             ],
             [
              0.3333333333333333,
              "#9c179e"
             ],
             [
              0.4444444444444444,
              "#bd3786"
             ],
             [
              0.5555555555555556,
              "#d8576b"
             ],
             [
              0.6666666666666666,
              "#ed7953"
             ],
             [
              0.7777777777777778,
              "#fb9f3a"
             ],
             [
              0.8888888888888888,
              "#fdca26"
             ],
             [
              1,
              "#f0f921"
             ]
            ],
            "type": "heatmap"
           }
          ],
          "heatmapgl": [
           {
            "colorbar": {
             "outlinewidth": 0,
             "ticks": ""
            },
            "colorscale": [
             [
              0,
              "#0d0887"
             ],
             [
              0.1111111111111111,
              "#46039f"
             ],
             [
              0.2222222222222222,
              "#7201a8"
             ],
             [
              0.3333333333333333,
              "#9c179e"
             ],
             [
              0.4444444444444444,
              "#bd3786"
             ],
             [
              0.5555555555555556,
              "#d8576b"
             ],
             [
              0.6666666666666666,
              "#ed7953"
             ],
             [
              0.7777777777777778,
              "#fb9f3a"
             ],
             [
              0.8888888888888888,
              "#fdca26"
             ],
             [
              1,
              "#f0f921"
             ]
            ],
            "type": "heatmapgl"
           }
          ],
          "histogram": [
           {
            "marker": {
             "colorbar": {
              "outlinewidth": 0,
              "ticks": ""
             }
            },
            "type": "histogram"
           }
          ],
          "histogram2d": [
           {
            "colorbar": {
             "outlinewidth": 0,
             "ticks": ""
            },
            "colorscale": [
             [
              0,
              "#0d0887"
             ],
             [
              0.1111111111111111,
              "#46039f"
             ],
             [
              0.2222222222222222,
              "#7201a8"
             ],
             [
              0.3333333333333333,
              "#9c179e"
             ],
             [
              0.4444444444444444,
              "#bd3786"
             ],
             [
              0.5555555555555556,
              "#d8576b"
             ],
             [
              0.6666666666666666,
              "#ed7953"
             ],
             [
              0.7777777777777778,
              "#fb9f3a"
             ],
             [
              0.8888888888888888,
              "#fdca26"
             ],
             [
              1,
              "#f0f921"
             ]
            ],
            "type": "histogram2d"
           }
          ],
          "histogram2dcontour": [
           {
            "colorbar": {
             "outlinewidth": 0,
             "ticks": ""
            },
            "colorscale": [
             [
              0,
              "#0d0887"
             ],
             [
              0.1111111111111111,
              "#46039f"
             ],
             [
              0.2222222222222222,
              "#7201a8"
             ],
             [
              0.3333333333333333,
              "#9c179e"
             ],
             [
              0.4444444444444444,
              "#bd3786"
             ],
             [
              0.5555555555555556,
              "#d8576b"
             ],
             [
              0.6666666666666666,
              "#ed7953"
             ],
             [
              0.7777777777777778,
              "#fb9f3a"
             ],
             [
              0.8888888888888888,
              "#fdca26"
             ],
             [
              1,
              "#f0f921"
             ]
            ],
            "type": "histogram2dcontour"
           }
          ],
          "mesh3d": [
           {
            "colorbar": {
             "outlinewidth": 0,
             "ticks": ""
            },
            "type": "mesh3d"
           }
          ],
          "parcoords": [
           {
            "line": {
             "colorbar": {
              "outlinewidth": 0,
              "ticks": ""
             }
            },
            "type": "parcoords"
           }
          ],
          "pie": [
           {
            "automargin": true,
            "type": "pie"
           }
          ],
          "scatter": [
           {
            "marker": {
             "colorbar": {
              "outlinewidth": 0,
              "ticks": ""
             }
            },
            "type": "scatter"
           }
          ],
          "scatter3d": [
           {
            "line": {
             "colorbar": {
              "outlinewidth": 0,
              "ticks": ""
             }
            },
            "marker": {
             "colorbar": {
              "outlinewidth": 0,
              "ticks": ""
             }
            },
            "type": "scatter3d"
           }
          ],
          "scattercarpet": [
           {
            "marker": {
             "colorbar": {
              "outlinewidth": 0,
              "ticks": ""
             }
            },
            "type": "scattercarpet"
           }
          ],
          "scattergeo": [
           {
            "marker": {
             "colorbar": {
              "outlinewidth": 0,
              "ticks": ""
             }
            },
            "type": "scattergeo"
           }
          ],
          "scattergl": [
           {
            "marker": {
             "colorbar": {
              "outlinewidth": 0,
              "ticks": ""
             }
            },
            "type": "scattergl"
           }
          ],
          "scattermapbox": [
           {
            "marker": {
             "colorbar": {
              "outlinewidth": 0,
              "ticks": ""
             }
            },
            "type": "scattermapbox"
           }
          ],
          "scatterpolar": [
           {
            "marker": {
             "colorbar": {
              "outlinewidth": 0,
              "ticks": ""
             }
            },
            "type": "scatterpolar"
           }
          ],
          "scatterpolargl": [
           {
            "marker": {
             "colorbar": {
              "outlinewidth": 0,
              "ticks": ""
             }
            },
            "type": "scatterpolargl"
           }
          ],
          "scatterternary": [
           {
            "marker": {
             "colorbar": {
              "outlinewidth": 0,
              "ticks": ""
             }
            },
            "type": "scatterternary"
           }
          ],
          "surface": [
           {
            "colorbar": {
             "outlinewidth": 0,
             "ticks": ""
            },
            "colorscale": [
             [
              0,
              "#0d0887"
             ],
             [
              0.1111111111111111,
              "#46039f"
             ],
             [
              0.2222222222222222,
              "#7201a8"
             ],
             [
              0.3333333333333333,
              "#9c179e"
             ],
             [
              0.4444444444444444,
              "#bd3786"
             ],
             [
              0.5555555555555556,
              "#d8576b"
             ],
             [
              0.6666666666666666,
              "#ed7953"
             ],
             [
              0.7777777777777778,
              "#fb9f3a"
             ],
             [
              0.8888888888888888,
              "#fdca26"
             ],
             [
              1,
              "#f0f921"
             ]
            ],
            "type": "surface"
           }
          ],
          "table": [
           {
            "cells": {
             "fill": {
              "color": "#EBF0F8"
             },
             "line": {
              "color": "white"
             }
            },
            "header": {
             "fill": {
              "color": "#C8D4E3"
             },
             "line": {
              "color": "white"
             }
            },
            "type": "table"
           }
          ]
         },
         "layout": {
          "annotationdefaults": {
           "arrowcolor": "#2a3f5f",
           "arrowhead": 0,
           "arrowwidth": 1
          },
          "autotypenumbers": "strict",
          "coloraxis": {
           "colorbar": {
            "outlinewidth": 0,
            "ticks": ""
           }
          },
          "colorscale": {
           "diverging": [
            [
             0,
             "#8e0152"
            ],
            [
             0.1,
             "#c51b7d"
            ],
            [
             0.2,
             "#de77ae"
            ],
            [
             0.3,
             "#f1b6da"
            ],
            [
             0.4,
             "#fde0ef"
            ],
            [
             0.5,
             "#f7f7f7"
            ],
            [
             0.6,
             "#e6f5d0"
            ],
            [
             0.7,
             "#b8e186"
            ],
            [
             0.8,
             "#7fbc41"
            ],
            [
             0.9,
             "#4d9221"
            ],
            [
             1,
             "#276419"
            ]
           ],
           "sequential": [
            [
             0,
             "#0d0887"
            ],
            [
             0.1111111111111111,
             "#46039f"
            ],
            [
             0.2222222222222222,
             "#7201a8"
            ],
            [
             0.3333333333333333,
             "#9c179e"
            ],
            [
             0.4444444444444444,
             "#bd3786"
            ],
            [
             0.5555555555555556,
             "#d8576b"
            ],
            [
             0.6666666666666666,
             "#ed7953"
            ],
            [
             0.7777777777777778,
             "#fb9f3a"
            ],
            [
             0.8888888888888888,
             "#fdca26"
            ],
            [
             1,
             "#f0f921"
            ]
           ],
           "sequentialminus": [
            [
             0,
             "#0d0887"
            ],
            [
             0.1111111111111111,
             "#46039f"
            ],
            [
             0.2222222222222222,
             "#7201a8"
            ],
            [
             0.3333333333333333,
             "#9c179e"
            ],
            [
             0.4444444444444444,
             "#bd3786"
            ],
            [
             0.5555555555555556,
             "#d8576b"
            ],
            [
             0.6666666666666666,
             "#ed7953"
            ],
            [
             0.7777777777777778,
             "#fb9f3a"
            ],
            [
             0.8888888888888888,
             "#fdca26"
            ],
            [
             1,
             "#f0f921"
            ]
           ]
          },
          "colorway": [
           "#636efa",
           "#EF553B",
           "#00cc96",
           "#ab63fa",
           "#FFA15A",
           "#19d3f3",
           "#FF6692",
           "#B6E880",
           "#FF97FF",
           "#FECB52"
          ],
          "font": {
           "color": "#2a3f5f"
          },
          "geo": {
           "bgcolor": "white",
           "lakecolor": "white",
           "landcolor": "#E5ECF6",
           "showlakes": true,
           "showland": true,
           "subunitcolor": "white"
          },
          "hoverlabel": {
           "align": "left"
          },
          "hovermode": "closest",
          "mapbox": {
           "style": "light"
          },
          "paper_bgcolor": "white",
          "plot_bgcolor": "#E5ECF6",
          "polar": {
           "angularaxis": {
            "gridcolor": "white",
            "linecolor": "white",
            "ticks": ""
           },
           "bgcolor": "#E5ECF6",
           "radialaxis": {
            "gridcolor": "white",
            "linecolor": "white",
            "ticks": ""
           }
          },
          "scene": {
           "xaxis": {
            "backgroundcolor": "#E5ECF6",
            "gridcolor": "white",
            "gridwidth": 2,
            "linecolor": "white",
            "showbackground": true,
            "ticks": "",
            "zerolinecolor": "white"
           },
           "yaxis": {
            "backgroundcolor": "#E5ECF6",
            "gridcolor": "white",
            "gridwidth": 2,
            "linecolor": "white",
            "showbackground": true,
            "ticks": "",
            "zerolinecolor": "white"
           },
           "zaxis": {
            "backgroundcolor": "#E5ECF6",
            "gridcolor": "white",
            "gridwidth": 2,
            "linecolor": "white",
            "showbackground": true,
            "ticks": "",
            "zerolinecolor": "white"
           }
          },
          "shapedefaults": {
           "line": {
            "color": "#2a3f5f"
           }
          },
          "ternary": {
           "aaxis": {
            "gridcolor": "white",
            "linecolor": "white",
            "ticks": ""
           },
           "baxis": {
            "gridcolor": "white",
            "linecolor": "white",
            "ticks": ""
           },
           "bgcolor": "#E5ECF6",
           "caxis": {
            "gridcolor": "white",
            "linecolor": "white",
            "ticks": ""
           }
          },
          "title": {
           "x": 0.05
          },
          "xaxis": {
           "automargin": true,
           "gridcolor": "white",
           "linecolor": "white",
           "ticks": "",
           "title": {
            "standoff": 15
           },
           "zerolinecolor": "white",
           "zerolinewidth": 2
          },
          "yaxis": {
           "automargin": true,
           "gridcolor": "white",
           "linecolor": "white",
           "ticks": "",
           "title": {
            "standoff": 15
           },
           "zerolinecolor": "white",
           "zerolinewidth": 2
          }
         }
        },
        "title": {
         "font": {
          "color": "#4D5663"
         }
        },
        "xaxis": {
         "gridcolor": "#E1E5ED",
         "showgrid": true,
         "tickfont": {
          "color": "#4D5663"
         },
         "title": {
          "font": {
           "color": "#4D5663"
          },
          "text": ""
         },
         "zerolinecolor": "#E1E5ED"
        },
        "xaxis2": {
         "anchor": "y2",
         "gridcolor": "#E1E5ED",
         "showgrid": true,
         "showticklabels": false,
         "tickfont": {
          "color": "#4D5663"
         },
         "title": {
          "font": {
           "color": "#4D5663"
          },
          "text": ""
         },
         "zerolinecolor": "#E1E5ED"
        },
        "yaxis": {
         "domain": [
          0.3,
          1
         ],
         "gridcolor": "#E1E5ED",
         "showgrid": true,
         "tickfont": {
          "color": "#4D5663"
         },
         "title": {
          "font": {
           "color": "#4D5663"
          },
          "text": ""
         },
         "zerolinecolor": "#E1E5ED"
        },
        "yaxis2": {
         "domain": [
          0,
          0.25
         ],
         "gridcolor": "#E1E5ED",
         "showgrid": true,
         "tickfont": {
          "color": "#4D5663"
         },
         "title": {
          "font": {
           "color": "#4D5663"
          },
          "text": "Spread"
         },
         "zerolinecolor": "#E1E5ED"
        }
       }
      },
      "text/html": [
       "<div>                            <div id=\"47cc788d-56d7-441c-8d7a-19c8809b4841\" class=\"plotly-graph-div\" style=\"height:525px; width:100%;\"></div>            <script type=\"text/javascript\">                require([\"plotly\"], function(Plotly) {                    window.PLOTLYENV=window.PLOTLYENV || {};\n",
       "                    window.PLOTLYENV.BASE_URL='https://plot.ly';                                    if (document.getElementById(\"47cc788d-56d7-441c-8d7a-19c8809b4841\")) {                    Plotly.newPlot(                        \"47cc788d-56d7-441c-8d7a-19c8809b4841\",                        [{\"line\": {\"color\": \"rgba(255, 153, 51, 1.0)\", \"dash\": \"solid\", \"shape\": \"linear\", \"width\": 1.3}, \"mode\": \"lines\", \"name\": \"A\", \"text\": \"\", \"type\": \"scatter\", \"x\": [0, 1, 2, 3, 4, 5, 6, 7, 8, 9, 10, 11, 12, 13, 14, 15, 16, 17, 18, 19, 20, 21, 22, 23, 24, 25, 26, 27, 28, 29, 30, 31, 32, 33, 34, 35, 36, 37, 38, 39, 40, 41, 42, 43, 44, 45, 46, 47, 48, 49, 50, 51, 52, 53, 54, 55, 56, 57, 58, 59, 60, 61, 62, 63, 64, 65, 66, 67, 68, 69, 70, 71, 72, 73, 74, 75, 76, 77, 78, 79, 80, 81, 82, 83, 84, 85, 86, 87, 88, 89, 90, 91, 92, 93, 94, 95, 96, 97, 98, 99], \"y\": [0.8784182869438022, -0.3806389397043157, -0.015161610170961225, -0.9016207963843829, 1.5014835535230446, 0.638181087090259, -0.17587623889792092, -0.664965902036214, -0.5503517666986742, 0.7412790574276407, -0.3413855854978848, -0.14321019701085397, 0.6189236491204758, -1.3274582091937592, -0.6011515749002577, -0.3711948051377429, 0.22774803593324108, -0.1799100326269736, -0.751501350518013, 1.2726380379037925, 0.17853445966183684, 0.9029346884572302, -0.30475724605130877, 1.1242992014697217, -0.34803042426193503, -0.2789327833471177, -0.48089000530870313, -0.8898578379398597, -0.4052291987803923, 0.13910870604580186, -1.5928955584327276, 1.087535267725178, -1.0477189352750904, -0.28876647921209253, 0.23969910604040176, -1.047455217258851, -0.5833553130384778, 0.02618941267039, -1.3134439425363735, 0.37447051250925434, -0.23665849744398545, 0.38366374968200445, 0.38879693498090745, -2.489474520445726, -1.9558898206788757, -1.2820583243852897, 1.6396600196257145, 0.3257421775403651, 0.268439850249584, 0.254911311026306, -0.039997268578202474, -1.7304810128630073, 0.8792983780516312, -0.34944303317429876, -0.24483344544345187, 1.3422438252491682, -0.019157905591640125, 0.48254027223419876, 0.22916419374642585, -1.10244764076685, 0.4387464394595617, 0.49869501960824053, 0.8896596416653044, -2.2247096358959375, 0.25806961050697097, -0.8950588291502402, 1.077536774493091, 1.392456455805473, 1.8714710818287612, -0.9079560039649784, 0.5852837098112604, -1.3540490258003222, 1.5937634330895467, 1.136176797108421, -1.228998731272284, 0.32499698703778784, -1.0600488813061035, 0.16014813932158212, -0.11395722536452274, 0.5525871357354079, 0.1992200743903423, 1.4432928977698434, -0.053842849506307945, 0.5796916613556059, -0.13646583791057929, 1.1385161923835618, 0.25425497724742774, 0.06459608638843127, -0.8272692613159764, -0.13056663733668503, 1.9531971698255062, -1.200128548980169, -0.7083682008920325, 0.046109888970466854, -0.1794017215311147, -0.2804450420349651, 0.47294127780493245, -0.7939966373692098, 0.3515341825448959, 2.4246217604627764]}, {\"line\": {\"color\": \"rgba(55, 128, 191, 1.0)\", \"dash\": \"solid\", \"shape\": \"linear\", \"width\": 1.3}, \"mode\": \"lines\", \"name\": \"B\", \"text\": \"\", \"type\": \"scatter\", \"x\": [0, 1, 2, 3, 4, 5, 6, 7, 8, 9, 10, 11, 12, 13, 14, 15, 16, 17, 18, 19, 20, 21, 22, 23, 24, 25, 26, 27, 28, 29, 30, 31, 32, 33, 34, 35, 36, 37, 38, 39, 40, 41, 42, 43, 44, 45, 46, 47, 48, 49, 50, 51, 52, 53, 54, 55, 56, 57, 58, 59, 60, 61, 62, 63, 64, 65, 66, 67, 68, 69, 70, 71, 72, 73, 74, 75, 76, 77, 78, 79, 80, 81, 82, 83, 84, 85, 86, 87, 88, 89, 90, 91, 92, 93, 94, 95, 96, 97, 98, 99], \"y\": [-0.4930365779602038, 0.3250304022261739, 0.9583344497638379, 0.18987007370510067, 1.3116461956482248, -0.6220817679528079, 1.1176365968869961, -0.9258464578846678, -1.2240936631275416, -1.233544955793205, -0.3237490841563232, 0.9123258973854688, 0.22842642137253671, 0.97394659908097, 0.7117637750549505, -0.5015085289746392, -0.20916801428743456, 1.2552264592940754, -0.08368782602850174, 0.3695360809011424, 0.37111403545690363, 0.6782737012924119, 0.4797622410012238, 2.911253138754174, -1.512623993787851, -2.56331258059585, 0.5615782223372155, -0.835984426866699, -0.44454088029925015, 0.23385361385822392, 0.649676684703017, 0.33734517766819383, 0.07386186184447749, 1.2849074240198488, -0.7590870044987608, 0.9617909879870938, 0.7792637515682848, 0.19076653572726923, -0.9743666833686444, 0.6382514812525082, -0.5440458953899364, 0.7456070716698415, 0.12989614246183692, -1.6423156210534684, 1.7163396732325287, -0.45416706950050567, 0.4441043716591119, -1.224061455455319, 0.5332178930668302, 2.019759276110566, 0.36277696743342686, -1.8556915806269134, 0.492238886798876, -1.54995228762088, -0.04113350096243654, -0.6434973828541718, 0.8661086529225488, 0.9989323504656847, 0.541137576993134, 1.2391192072924329, 0.5745147693028827, -0.2414084320240968, 0.541309991070589, 0.7859289747510708, 1.4831153439368039, -0.5254666265863034, -0.7021612584368963, -0.28667722150976127, 0.6385384203001963, 0.1594149116250348, -1.4050472102870275, -0.7673306354425335, 0.7441053584114531, -0.31765516460868404, 1.6164404742814527, 1.243123471433262, 0.49469166601581016, 0.06350558800969401, 0.6383441449086565, 0.16265538575948088, -0.4586828174957983, -1.997774359164692, 0.3451467817844908, -0.9849906422659223, 1.296687209780314, -0.617686845046229, -0.8107617488505277, -0.6900329691237589, -0.37413489066330313, -0.6005443256657182, -1.046402165049117, 0.4896257869686791, 0.5601417492243187, -1.383651457886147, 0.8410728557430217, -0.405818172853134, -0.3831616014981088, 0.4658052982328494, 0.20681148045450257, 0.4565200818659963]}, {\"connectgaps\": false, \"fill\": \"tozeroy\", \"line\": {\"color\": \"green\", \"dash\": \"solid\", \"shape\": \"linear\", \"width\": 0.5}, \"mode\": \"lines\", \"name\": \"Spread\", \"showlegend\": false, \"type\": \"scatter\", \"x\": [0, 1, 2, 3, 4, 5, 6, 7, 8, 9, 10, 11, 12, 13, 14, 15, 16, 17, 18, 19, 20, 21, 22, 23, 24, 25, 26, 27, 28, 29, 30, 31, 32, 33, 34, 35, 36, 37, 38, 39, 40, 41, 42, 43, 44, 45, 46, 47, 48, 49, 50, 51, 52, 53, 54, 55, 56, 57, 58, 59, 60, 61, 62, 63, 64, 65, 66, 67, 68, 69, 70, 71, 72, 73, 74, 75, 76, 77, 78, 79, 80, 81, 82, 83, 84, 85, 86, 87, 88, 89, 90, 91, 92, 93, 94, 95, 96, 97, 98, 99], \"xaxis\": \"x2\", \"y\": [1.371454864904006, \"\", \"\", \"\", 0.1898373578748198, 1.260262855043067, \"\", 0.2608805558484538, 0.6737418964288674, 1.9748240132208457, \"\", \"\", 0.3904972277479391, \"\", \"\", 0.13031372383689627, 0.43691605022067564, \"\", \"\", 0.9031019570026501, \"\", 0.2246609871648183, \"\", \"\", 1.164593569525916, 2.2843797972487323, \"\", \"\", 0.03931168151885783, \"\", \"\", 0.7501900900569841, \"\", \"\", 0.9987861105391626, \"\", \"\", \"\", \"\", \"\", 0.30738739794595094, \"\", 0.2589007925190705, \"\", \"\", \"\", 1.1955556479666027, 1.5498036329956841, \"\", \"\", \"\", 0.12521056776390616, 0.38705949125275524, 1.2005092544465812, \"\", 1.9857412081033399, \"\", \"\", \"\", \"\", \"\", 0.7401034516323373, 0.34834965059471545, \"\", \"\", \"\", 1.7796980329299874, 1.6791336773152343, 1.232932661528565, \"\", 1.990330920098288, \"\", 0.8496580746780936, 1.453831961717105, \"\", \"\", \"\", 0.0966425513118881, \"\", 0.38993174997592694, 0.6579028918861406, 3.4410672569345353, \"\", 1.5646823036215283, \"\", 1.7562030374297908, 1.0650167260979555, 0.7546290555121902, \"\", 0.4699776883290332, 2.999599334874623, \"\", \"\", 1.4297613468566137, \"\", 0.12537313081816887, 0.8561028793030412, \"\", 0.1447227020903933, 1.9681016785967802], \"yaxis\": \"y2\"}, {\"connectgaps\": false, \"fill\": \"tozeroy\", \"line\": {\"color\": \"red\", \"dash\": \"solid\", \"shape\": \"linear\", \"width\": 0.5}, \"mode\": \"lines\", \"name\": \"Spread\", \"showlegend\": false, \"type\": \"scatter\", \"x\": [0, 1, 2, 3, 4, 5, 6, 7, 8, 9, 10, 11, 12, 13, 14, 15, 16, 17, 18, 19, 20, 21, 22, 23, 24, 25, 26, 27, 28, 29, 30, 31, 32, 33, 34, 35, 36, 37, 38, 39, 40, 41, 42, 43, 44, 45, 46, 47, 48, 49, 50, 51, 52, 53, 54, 55, 56, 57, 58, 59, 60, 61, 62, 63, 64, 65, 66, 67, 68, 69, 70, 71, 72, 73, 74, 75, 76, 77, 78, 79, 80, 81, 82, 83, 84, 85, 86, 87, 88, 89, 90, 91, 92, 93, 94, 95, 96, 97, 98, 99], \"xaxis\": \"x2\", \"y\": [\"\", -0.7056693419304896, -0.973496059934799, -1.0914908700894834, \"\", \"\", -1.293512835784917, \"\", \"\", \"\", -0.017636501341561583, -1.0555360943963228, \"\", -2.301404808274729, -1.3129153499552082, \"\", \"\", -1.435136491921049, -0.6678135244895113, \"\", -0.1925795757950668, \"\", -0.7845194870525325, -1.786953937284452, \"\", \"\", -1.0424682276459187, -0.05387341107316068, \"\", -0.09474490781242206, -2.2425722431357444, \"\", -1.121580797119568, -1.5736739032319413, \"\", -2.0092462052459448, -1.3626190646067626, -0.16457712305687924, -0.33907725916772913, -0.26378096874325385, \"\", -0.3619433219878371, \"\", -0.8471588993922576, -3.6722294939114044, -0.827891254884784, \"\", \"\", -0.2647780428172462, -1.7648479650842601, -0.4027742360116293, \"\", \"\", \"\", -0.20369994448101533, \"\", -0.8852665585141889, -0.5163920782314859, -0.3119733832467082, -2.3415668480592826, -0.135768329843321, \"\", \"\", -3.010638610647008, -1.225045733429833, -0.36959220256393677, \"\", \"\", \"\", -1.0673709155900133, \"\", -0.5867183903577886, \"\", \"\", -2.8454392055537365, -0.9181264843954742, -1.5547405473219138, \"\", -0.7523013702731793, \"\", \"\", \"\", -0.3989896312907988, \"\", -1.4331530476908931, \"\", \"\", \"\", -0.4531343706526733, \"\", \"\", -1.689754335948848, -1.2685099501163513, \"\", -1.0204745772741364, \"\", \"\", -1.259801935602059, \"\", \"\"], \"yaxis\": \"y2\"}],                        {\"hovermode\": \"x\", \"legend\": {\"bgcolor\": \"#F5F6F9\", \"font\": {\"color\": \"#4D5663\"}}, \"paper_bgcolor\": \"#F5F6F9\", \"plot_bgcolor\": \"#F5F6F9\", \"template\": {\"data\": {\"bar\": [{\"error_x\": {\"color\": \"#2a3f5f\"}, \"error_y\": {\"color\": \"#2a3f5f\"}, \"marker\": {\"line\": {\"color\": \"#E5ECF6\", \"width\": 0.5}}, \"type\": \"bar\"}], \"barpolar\": [{\"marker\": {\"line\": {\"color\": \"#E5ECF6\", \"width\": 0.5}}, \"type\": \"barpolar\"}], \"carpet\": [{\"aaxis\": {\"endlinecolor\": \"#2a3f5f\", \"gridcolor\": \"white\", \"linecolor\": \"white\", \"minorgridcolor\": \"white\", \"startlinecolor\": \"#2a3f5f\"}, \"baxis\": {\"endlinecolor\": \"#2a3f5f\", \"gridcolor\": \"white\", \"linecolor\": \"white\", \"minorgridcolor\": \"white\", \"startlinecolor\": \"#2a3f5f\"}, \"type\": \"carpet\"}], \"choropleth\": [{\"colorbar\": {\"outlinewidth\": 0, \"ticks\": \"\"}, \"type\": \"choropleth\"}], \"contour\": [{\"colorbar\": {\"outlinewidth\": 0, \"ticks\": \"\"}, \"colorscale\": [[0.0, \"#0d0887\"], [0.1111111111111111, \"#46039f\"], [0.2222222222222222, \"#7201a8\"], [0.3333333333333333, \"#9c179e\"], [0.4444444444444444, \"#bd3786\"], [0.5555555555555556, \"#d8576b\"], [0.6666666666666666, \"#ed7953\"], [0.7777777777777778, \"#fb9f3a\"], [0.8888888888888888, \"#fdca26\"], [1.0, \"#f0f921\"]], \"type\": \"contour\"}], \"contourcarpet\": [{\"colorbar\": {\"outlinewidth\": 0, \"ticks\": \"\"}, \"type\": \"contourcarpet\"}], \"heatmap\": [{\"colorbar\": {\"outlinewidth\": 0, \"ticks\": \"\"}, \"colorscale\": [[0.0, \"#0d0887\"], [0.1111111111111111, \"#46039f\"], [0.2222222222222222, \"#7201a8\"], [0.3333333333333333, \"#9c179e\"], [0.4444444444444444, \"#bd3786\"], [0.5555555555555556, \"#d8576b\"], [0.6666666666666666, \"#ed7953\"], [0.7777777777777778, \"#fb9f3a\"], [0.8888888888888888, \"#fdca26\"], [1.0, \"#f0f921\"]], \"type\": \"heatmap\"}], \"heatmapgl\": [{\"colorbar\": {\"outlinewidth\": 0, \"ticks\": \"\"}, \"colorscale\": [[0.0, \"#0d0887\"], [0.1111111111111111, \"#46039f\"], [0.2222222222222222, \"#7201a8\"], [0.3333333333333333, \"#9c179e\"], [0.4444444444444444, \"#bd3786\"], [0.5555555555555556, \"#d8576b\"], [0.6666666666666666, \"#ed7953\"], [0.7777777777777778, \"#fb9f3a\"], [0.8888888888888888, \"#fdca26\"], [1.0, \"#f0f921\"]], \"type\": \"heatmapgl\"}], \"histogram\": [{\"marker\": {\"colorbar\": {\"outlinewidth\": 0, \"ticks\": \"\"}}, \"type\": \"histogram\"}], \"histogram2d\": [{\"colorbar\": {\"outlinewidth\": 0, \"ticks\": \"\"}, \"colorscale\": [[0.0, \"#0d0887\"], [0.1111111111111111, \"#46039f\"], [0.2222222222222222, \"#7201a8\"], [0.3333333333333333, \"#9c179e\"], [0.4444444444444444, \"#bd3786\"], [0.5555555555555556, \"#d8576b\"], [0.6666666666666666, \"#ed7953\"], [0.7777777777777778, \"#fb9f3a\"], [0.8888888888888888, \"#fdca26\"], [1.0, \"#f0f921\"]], \"type\": \"histogram2d\"}], \"histogram2dcontour\": [{\"colorbar\": {\"outlinewidth\": 0, \"ticks\": \"\"}, \"colorscale\": [[0.0, \"#0d0887\"], [0.1111111111111111, \"#46039f\"], [0.2222222222222222, \"#7201a8\"], [0.3333333333333333, \"#9c179e\"], [0.4444444444444444, \"#bd3786\"], [0.5555555555555556, \"#d8576b\"], [0.6666666666666666, \"#ed7953\"], [0.7777777777777778, \"#fb9f3a\"], [0.8888888888888888, \"#fdca26\"], [1.0, \"#f0f921\"]], \"type\": \"histogram2dcontour\"}], \"mesh3d\": [{\"colorbar\": {\"outlinewidth\": 0, \"ticks\": \"\"}, \"type\": \"mesh3d\"}], \"parcoords\": [{\"line\": {\"colorbar\": {\"outlinewidth\": 0, \"ticks\": \"\"}}, \"type\": \"parcoords\"}], \"pie\": [{\"automargin\": true, \"type\": \"pie\"}], \"scatter\": [{\"marker\": {\"colorbar\": {\"outlinewidth\": 0, \"ticks\": \"\"}}, \"type\": \"scatter\"}], \"scatter3d\": [{\"line\": {\"colorbar\": {\"outlinewidth\": 0, \"ticks\": \"\"}}, \"marker\": {\"colorbar\": {\"outlinewidth\": 0, \"ticks\": \"\"}}, \"type\": \"scatter3d\"}], \"scattercarpet\": [{\"marker\": {\"colorbar\": {\"outlinewidth\": 0, \"ticks\": \"\"}}, \"type\": \"scattercarpet\"}], \"scattergeo\": [{\"marker\": {\"colorbar\": {\"outlinewidth\": 0, \"ticks\": \"\"}}, \"type\": \"scattergeo\"}], \"scattergl\": [{\"marker\": {\"colorbar\": {\"outlinewidth\": 0, \"ticks\": \"\"}}, \"type\": \"scattergl\"}], \"scattermapbox\": [{\"marker\": {\"colorbar\": {\"outlinewidth\": 0, \"ticks\": \"\"}}, \"type\": \"scattermapbox\"}], \"scatterpolar\": [{\"marker\": {\"colorbar\": {\"outlinewidth\": 0, \"ticks\": \"\"}}, \"type\": \"scatterpolar\"}], \"scatterpolargl\": [{\"marker\": {\"colorbar\": {\"outlinewidth\": 0, \"ticks\": \"\"}}, \"type\": \"scatterpolargl\"}], \"scatterternary\": [{\"marker\": {\"colorbar\": {\"outlinewidth\": 0, \"ticks\": \"\"}}, \"type\": \"scatterternary\"}], \"surface\": [{\"colorbar\": {\"outlinewidth\": 0, \"ticks\": \"\"}, \"colorscale\": [[0.0, \"#0d0887\"], [0.1111111111111111, \"#46039f\"], [0.2222222222222222, \"#7201a8\"], [0.3333333333333333, \"#9c179e\"], [0.4444444444444444, \"#bd3786\"], [0.5555555555555556, \"#d8576b\"], [0.6666666666666666, \"#ed7953\"], [0.7777777777777778, \"#fb9f3a\"], [0.8888888888888888, \"#fdca26\"], [1.0, \"#f0f921\"]], \"type\": \"surface\"}], \"table\": [{\"cells\": {\"fill\": {\"color\": \"#EBF0F8\"}, \"line\": {\"color\": \"white\"}}, \"header\": {\"fill\": {\"color\": \"#C8D4E3\"}, \"line\": {\"color\": \"white\"}}, \"type\": \"table\"}]}, \"layout\": {\"annotationdefaults\": {\"arrowcolor\": \"#2a3f5f\", \"arrowhead\": 0, \"arrowwidth\": 1}, \"autotypenumbers\": \"strict\", \"coloraxis\": {\"colorbar\": {\"outlinewidth\": 0, \"ticks\": \"\"}}, \"colorscale\": {\"diverging\": [[0, \"#8e0152\"], [0.1, \"#c51b7d\"], [0.2, \"#de77ae\"], [0.3, \"#f1b6da\"], [0.4, \"#fde0ef\"], [0.5, \"#f7f7f7\"], [0.6, \"#e6f5d0\"], [0.7, \"#b8e186\"], [0.8, \"#7fbc41\"], [0.9, \"#4d9221\"], [1, \"#276419\"]], \"sequential\": [[0.0, \"#0d0887\"], [0.1111111111111111, \"#46039f\"], [0.2222222222222222, \"#7201a8\"], [0.3333333333333333, \"#9c179e\"], [0.4444444444444444, \"#bd3786\"], [0.5555555555555556, \"#d8576b\"], [0.6666666666666666, \"#ed7953\"], [0.7777777777777778, \"#fb9f3a\"], [0.8888888888888888, \"#fdca26\"], [1.0, \"#f0f921\"]], \"sequentialminus\": [[0.0, \"#0d0887\"], [0.1111111111111111, \"#46039f\"], [0.2222222222222222, \"#7201a8\"], [0.3333333333333333, \"#9c179e\"], [0.4444444444444444, \"#bd3786\"], [0.5555555555555556, \"#d8576b\"], [0.6666666666666666, \"#ed7953\"], [0.7777777777777778, \"#fb9f3a\"], [0.8888888888888888, \"#fdca26\"], [1.0, \"#f0f921\"]]}, \"colorway\": [\"#636efa\", \"#EF553B\", \"#00cc96\", \"#ab63fa\", \"#FFA15A\", \"#19d3f3\", \"#FF6692\", \"#B6E880\", \"#FF97FF\", \"#FECB52\"], \"font\": {\"color\": \"#2a3f5f\"}, \"geo\": {\"bgcolor\": \"white\", \"lakecolor\": \"white\", \"landcolor\": \"#E5ECF6\", \"showlakes\": true, \"showland\": true, \"subunitcolor\": \"white\"}, \"hoverlabel\": {\"align\": \"left\"}, \"hovermode\": \"closest\", \"mapbox\": {\"style\": \"light\"}, \"paper_bgcolor\": \"white\", \"plot_bgcolor\": \"#E5ECF6\", \"polar\": {\"angularaxis\": {\"gridcolor\": \"white\", \"linecolor\": \"white\", \"ticks\": \"\"}, \"bgcolor\": \"#E5ECF6\", \"radialaxis\": {\"gridcolor\": \"white\", \"linecolor\": \"white\", \"ticks\": \"\"}}, \"scene\": {\"xaxis\": {\"backgroundcolor\": \"#E5ECF6\", \"gridcolor\": \"white\", \"gridwidth\": 2, \"linecolor\": \"white\", \"showbackground\": true, \"ticks\": \"\", \"zerolinecolor\": \"white\"}, \"yaxis\": {\"backgroundcolor\": \"#E5ECF6\", \"gridcolor\": \"white\", \"gridwidth\": 2, \"linecolor\": \"white\", \"showbackground\": true, \"ticks\": \"\", \"zerolinecolor\": \"white\"}, \"zaxis\": {\"backgroundcolor\": \"#E5ECF6\", \"gridcolor\": \"white\", \"gridwidth\": 2, \"linecolor\": \"white\", \"showbackground\": true, \"ticks\": \"\", \"zerolinecolor\": \"white\"}}, \"shapedefaults\": {\"line\": {\"color\": \"#2a3f5f\"}}, \"ternary\": {\"aaxis\": {\"gridcolor\": \"white\", \"linecolor\": \"white\", \"ticks\": \"\"}, \"baxis\": {\"gridcolor\": \"white\", \"linecolor\": \"white\", \"ticks\": \"\"}, \"bgcolor\": \"#E5ECF6\", \"caxis\": {\"gridcolor\": \"white\", \"linecolor\": \"white\", \"ticks\": \"\"}}, \"title\": {\"x\": 0.05}, \"xaxis\": {\"automargin\": true, \"gridcolor\": \"white\", \"linecolor\": \"white\", \"ticks\": \"\", \"title\": {\"standoff\": 15}, \"zerolinecolor\": \"white\", \"zerolinewidth\": 2}, \"yaxis\": {\"automargin\": true, \"gridcolor\": \"white\", \"linecolor\": \"white\", \"ticks\": \"\", \"title\": {\"standoff\": 15}, \"zerolinecolor\": \"white\", \"zerolinewidth\": 2}}}, \"title\": {\"font\": {\"color\": \"#4D5663\"}}, \"xaxis\": {\"gridcolor\": \"#E1E5ED\", \"showgrid\": true, \"tickfont\": {\"color\": \"#4D5663\"}, \"title\": {\"font\": {\"color\": \"#4D5663\"}, \"text\": \"\"}, \"zerolinecolor\": \"#E1E5ED\"}, \"xaxis2\": {\"anchor\": \"y2\", \"gridcolor\": \"#E1E5ED\", \"showgrid\": true, \"showticklabels\": false, \"tickfont\": {\"color\": \"#4D5663\"}, \"title\": {\"font\": {\"color\": \"#4D5663\"}, \"text\": \"\"}, \"zerolinecolor\": \"#E1E5ED\"}, \"yaxis\": {\"domain\": [0.3, 1], \"gridcolor\": \"#E1E5ED\", \"showgrid\": true, \"tickfont\": {\"color\": \"#4D5663\"}, \"title\": {\"font\": {\"color\": \"#4D5663\"}, \"text\": \"\"}, \"zerolinecolor\": \"#E1E5ED\"}, \"yaxis2\": {\"domain\": [0, 0.25], \"gridcolor\": \"#E1E5ED\", \"showgrid\": true, \"tickfont\": {\"color\": \"#4D5663\"}, \"title\": {\"font\": {\"color\": \"#4D5663\"}, \"text\": \"Spread\"}, \"zerolinecolor\": \"#E1E5ED\"}},                        {\"showLink\": true, \"linkText\": \"Export to plot.ly\", \"plotlyServerURL\": \"https://plot.ly\", \"responsive\": true}                    ).then(function(){\n",
       "                            \n",
       "var gd = document.getElementById('47cc788d-56d7-441c-8d7a-19c8809b4841');\n",
       "var x = new MutationObserver(function (mutations, observer) {{\n",
       "        var display = window.getComputedStyle(gd).display;\n",
       "        if (!display || display === 'none') {{\n",
       "            console.log([gd, 'removed!']);\n",
       "            Plotly.purge(gd);\n",
       "            observer.disconnect();\n",
       "        }}\n",
       "}});\n",
       "\n",
       "// Listen for the removal of the full notebook cells\n",
       "var notebookContainer = gd.closest('#notebook-container');\n",
       "if (notebookContainer) {{\n",
       "    x.observe(notebookContainer, {childList: true});\n",
       "}}\n",
       "\n",
       "// Listen for the clearing of the current output cell\n",
       "var outputEl = gd.closest('.output');\n",
       "if (outputEl) {{\n",
       "    x.observe(outputEl, {childList: true});\n",
       "}}\n",
       "\n",
       "                        })                };                });            </script>        </div>"
      ]
     },
     "metadata": {},
     "output_type": "display_data"
    }
   ],
   "source": [
    "df[['A','B']].iplot(kind='spread')"
   ]
  },
  {
   "cell_type": "markdown",
   "metadata": {},
   "source": [
    "## histogram"
   ]
  },
  {
   "cell_type": "code",
   "execution_count": 19,
   "metadata": {},
   "outputs": [
    {
     "data": {
      "application/vnd.plotly.v1+json": {
       "config": {
        "linkText": "Export to plot.ly",
        "plotlyServerURL": "https://plot.ly",
        "showLink": true
       },
       "data": [
        {
         "histfunc": "count",
         "histnorm": "",
         "marker": {
          "color": "rgba(255, 153, 51, 1.0)",
          "line": {
           "color": "#4D5663",
           "width": 1.3
          }
         },
         "name": "A",
         "nbinsx": 25,
         "opacity": 0.8,
         "orientation": "v",
         "type": "histogram",
         "x": [
          0.8784182869438022,
          -0.3806389397043157,
          -0.015161610170961225,
          -0.9016207963843829,
          1.5014835535230446,
          0.638181087090259,
          -0.17587623889792092,
          -0.664965902036214,
          -0.5503517666986742,
          0.7412790574276407,
          -0.3413855854978848,
          -0.14321019701085397,
          0.6189236491204758,
          -1.3274582091937592,
          -0.6011515749002577,
          -0.3711948051377429,
          0.22774803593324108,
          -0.1799100326269736,
          -0.751501350518013,
          1.2726380379037925,
          0.17853445966183684,
          0.9029346884572302,
          -0.30475724605130877,
          1.1242992014697217,
          -0.34803042426193503,
          -0.2789327833471177,
          -0.48089000530870313,
          -0.8898578379398597,
          -0.4052291987803923,
          0.13910870604580186,
          -1.5928955584327276,
          1.087535267725178,
          -1.0477189352750904,
          -0.28876647921209253,
          0.23969910604040176,
          -1.047455217258851,
          -0.5833553130384778,
          0.02618941267039,
          -1.3134439425363735,
          0.37447051250925434,
          -0.23665849744398545,
          0.38366374968200445,
          0.38879693498090745,
          -2.489474520445726,
          -1.9558898206788757,
          -1.2820583243852897,
          1.6396600196257145,
          0.3257421775403651,
          0.268439850249584,
          0.254911311026306,
          -0.039997268578202474,
          -1.7304810128630073,
          0.8792983780516312,
          -0.34944303317429876,
          -0.24483344544345187,
          1.3422438252491682,
          -0.019157905591640125,
          0.48254027223419876,
          0.22916419374642585,
          -1.10244764076685,
          0.4387464394595617,
          0.49869501960824053,
          0.8896596416653044,
          -2.2247096358959375,
          0.25806961050697097,
          -0.8950588291502402,
          1.077536774493091,
          1.392456455805473,
          1.8714710818287612,
          -0.9079560039649784,
          0.5852837098112604,
          -1.3540490258003222,
          1.5937634330895467,
          1.136176797108421,
          -1.228998731272284,
          0.32499698703778784,
          -1.0600488813061035,
          0.16014813932158212,
          -0.11395722536452274,
          0.5525871357354079,
          0.1992200743903423,
          1.4432928977698434,
          -0.053842849506307945,
          0.5796916613556059,
          -0.13646583791057929,
          1.1385161923835618,
          0.25425497724742774,
          0.06459608638843127,
          -0.8272692613159764,
          -0.13056663733668503,
          1.9531971698255062,
          -1.200128548980169,
          -0.7083682008920325,
          0.046109888970466854,
          -0.1794017215311147,
          -0.2804450420349651,
          0.47294127780493245,
          -0.7939966373692098,
          0.3515341825448959,
          2.4246217604627764
         ]
        }
       ],
       "layout": {
        "barmode": "overlay",
        "legend": {
         "bgcolor": "#F5F6F9",
         "font": {
          "color": "#4D5663"
         }
        },
        "paper_bgcolor": "#F5F6F9",
        "plot_bgcolor": "#F5F6F9",
        "template": {
         "data": {
          "bar": [
           {
            "error_x": {
             "color": "#2a3f5f"
            },
            "error_y": {
             "color": "#2a3f5f"
            },
            "marker": {
             "line": {
              "color": "#E5ECF6",
              "width": 0.5
             }
            },
            "type": "bar"
           }
          ],
          "barpolar": [
           {
            "marker": {
             "line": {
              "color": "#E5ECF6",
              "width": 0.5
             }
            },
            "type": "barpolar"
           }
          ],
          "carpet": [
           {
            "aaxis": {
             "endlinecolor": "#2a3f5f",
             "gridcolor": "white",
             "linecolor": "white",
             "minorgridcolor": "white",
             "startlinecolor": "#2a3f5f"
            },
            "baxis": {
             "endlinecolor": "#2a3f5f",
             "gridcolor": "white",
             "linecolor": "white",
             "minorgridcolor": "white",
             "startlinecolor": "#2a3f5f"
            },
            "type": "carpet"
           }
          ],
          "choropleth": [
           {
            "colorbar": {
             "outlinewidth": 0,
             "ticks": ""
            },
            "type": "choropleth"
           }
          ],
          "contour": [
           {
            "colorbar": {
             "outlinewidth": 0,
             "ticks": ""
            },
            "colorscale": [
             [
              0,
              "#0d0887"
             ],
             [
              0.1111111111111111,
              "#46039f"
             ],
             [
              0.2222222222222222,
              "#7201a8"
             ],
             [
              0.3333333333333333,
              "#9c179e"
             ],
             [
              0.4444444444444444,
              "#bd3786"
             ],
             [
              0.5555555555555556,
              "#d8576b"
             ],
             [
              0.6666666666666666,
              "#ed7953"
             ],
             [
              0.7777777777777778,
              "#fb9f3a"
             ],
             [
              0.8888888888888888,
              "#fdca26"
             ],
             [
              1,
              "#f0f921"
             ]
            ],
            "type": "contour"
           }
          ],
          "contourcarpet": [
           {
            "colorbar": {
             "outlinewidth": 0,
             "ticks": ""
            },
            "type": "contourcarpet"
           }
          ],
          "heatmap": [
           {
            "colorbar": {
             "outlinewidth": 0,
             "ticks": ""
            },
            "colorscale": [
             [
              0,
              "#0d0887"
             ],
             [
              0.1111111111111111,
              "#46039f"
             ],
             [
              0.2222222222222222,
              "#7201a8"
             ],
             [
              0.3333333333333333,
              "#9c179e"
             ],
             [
              0.4444444444444444,
              "#bd3786"
             ],
             [
              0.5555555555555556,
              "#d8576b"
             ],
             [
              0.6666666666666666,
              "#ed7953"
             ],
             [
              0.7777777777777778,
              "#fb9f3a"
             ],
             [
              0.8888888888888888,
              "#fdca26"
             ],
             [
              1,
              "#f0f921"
             ]
            ],
            "type": "heatmap"
           }
          ],
          "heatmapgl": [
           {
            "colorbar": {
             "outlinewidth": 0,
             "ticks": ""
            },
            "colorscale": [
             [
              0,
              "#0d0887"
             ],
             [
              0.1111111111111111,
              "#46039f"
             ],
             [
              0.2222222222222222,
              "#7201a8"
             ],
             [
              0.3333333333333333,
              "#9c179e"
             ],
             [
              0.4444444444444444,
              "#bd3786"
             ],
             [
              0.5555555555555556,
              "#d8576b"
             ],
             [
              0.6666666666666666,
              "#ed7953"
             ],
             [
              0.7777777777777778,
              "#fb9f3a"
             ],
             [
              0.8888888888888888,
              "#fdca26"
             ],
             [
              1,
              "#f0f921"
             ]
            ],
            "type": "heatmapgl"
           }
          ],
          "histogram": [
           {
            "marker": {
             "colorbar": {
              "outlinewidth": 0,
              "ticks": ""
             }
            },
            "type": "histogram"
           }
          ],
          "histogram2d": [
           {
            "colorbar": {
             "outlinewidth": 0,
             "ticks": ""
            },
            "colorscale": [
             [
              0,
              "#0d0887"
             ],
             [
              0.1111111111111111,
              "#46039f"
             ],
             [
              0.2222222222222222,
              "#7201a8"
             ],
             [
              0.3333333333333333,
              "#9c179e"
             ],
             [
              0.4444444444444444,
              "#bd3786"
             ],
             [
              0.5555555555555556,
              "#d8576b"
             ],
             [
              0.6666666666666666,
              "#ed7953"
             ],
             [
              0.7777777777777778,
              "#fb9f3a"
             ],
             [
              0.8888888888888888,
              "#fdca26"
             ],
             [
              1,
              "#f0f921"
             ]
            ],
            "type": "histogram2d"
           }
          ],
          "histogram2dcontour": [
           {
            "colorbar": {
             "outlinewidth": 0,
             "ticks": ""
            },
            "colorscale": [
             [
              0,
              "#0d0887"
             ],
             [
              0.1111111111111111,
              "#46039f"
             ],
             [
              0.2222222222222222,
              "#7201a8"
             ],
             [
              0.3333333333333333,
              "#9c179e"
             ],
             [
              0.4444444444444444,
              "#bd3786"
             ],
             [
              0.5555555555555556,
              "#d8576b"
             ],
             [
              0.6666666666666666,
              "#ed7953"
             ],
             [
              0.7777777777777778,
              "#fb9f3a"
             ],
             [
              0.8888888888888888,
              "#fdca26"
             ],
             [
              1,
              "#f0f921"
             ]
            ],
            "type": "histogram2dcontour"
           }
          ],
          "mesh3d": [
           {
            "colorbar": {
             "outlinewidth": 0,
             "ticks": ""
            },
            "type": "mesh3d"
           }
          ],
          "parcoords": [
           {
            "line": {
             "colorbar": {
              "outlinewidth": 0,
              "ticks": ""
             }
            },
            "type": "parcoords"
           }
          ],
          "pie": [
           {
            "automargin": true,
            "type": "pie"
           }
          ],
          "scatter": [
           {
            "marker": {
             "colorbar": {
              "outlinewidth": 0,
              "ticks": ""
             }
            },
            "type": "scatter"
           }
          ],
          "scatter3d": [
           {
            "line": {
             "colorbar": {
              "outlinewidth": 0,
              "ticks": ""
             }
            },
            "marker": {
             "colorbar": {
              "outlinewidth": 0,
              "ticks": ""
             }
            },
            "type": "scatter3d"
           }
          ],
          "scattercarpet": [
           {
            "marker": {
             "colorbar": {
              "outlinewidth": 0,
              "ticks": ""
             }
            },
            "type": "scattercarpet"
           }
          ],
          "scattergeo": [
           {
            "marker": {
             "colorbar": {
              "outlinewidth": 0,
              "ticks": ""
             }
            },
            "type": "scattergeo"
           }
          ],
          "scattergl": [
           {
            "marker": {
             "colorbar": {
              "outlinewidth": 0,
              "ticks": ""
             }
            },
            "type": "scattergl"
           }
          ],
          "scattermapbox": [
           {
            "marker": {
             "colorbar": {
              "outlinewidth": 0,
              "ticks": ""
             }
            },
            "type": "scattermapbox"
           }
          ],
          "scatterpolar": [
           {
            "marker": {
             "colorbar": {
              "outlinewidth": 0,
              "ticks": ""
             }
            },
            "type": "scatterpolar"
           }
          ],
          "scatterpolargl": [
           {
            "marker": {
             "colorbar": {
              "outlinewidth": 0,
              "ticks": ""
             }
            },
            "type": "scatterpolargl"
           }
          ],
          "scatterternary": [
           {
            "marker": {
             "colorbar": {
              "outlinewidth": 0,
              "ticks": ""
             }
            },
            "type": "scatterternary"
           }
          ],
          "surface": [
           {
            "colorbar": {
             "outlinewidth": 0,
             "ticks": ""
            },
            "colorscale": [
             [
              0,
              "#0d0887"
             ],
             [
              0.1111111111111111,
              "#46039f"
             ],
             [
              0.2222222222222222,
              "#7201a8"
             ],
             [
              0.3333333333333333,
              "#9c179e"
             ],
             [
              0.4444444444444444,
              "#bd3786"
             ],
             [
              0.5555555555555556,
              "#d8576b"
             ],
             [
              0.6666666666666666,
              "#ed7953"
             ],
             [
              0.7777777777777778,
              "#fb9f3a"
             ],
             [
              0.8888888888888888,
              "#fdca26"
             ],
             [
              1,
              "#f0f921"
             ]
            ],
            "type": "surface"
           }
          ],
          "table": [
           {
            "cells": {
             "fill": {
              "color": "#EBF0F8"
             },
             "line": {
              "color": "white"
             }
            },
            "header": {
             "fill": {
              "color": "#C8D4E3"
             },
             "line": {
              "color": "white"
             }
            },
            "type": "table"
           }
          ]
         },
         "layout": {
          "annotationdefaults": {
           "arrowcolor": "#2a3f5f",
           "arrowhead": 0,
           "arrowwidth": 1
          },
          "autotypenumbers": "strict",
          "coloraxis": {
           "colorbar": {
            "outlinewidth": 0,
            "ticks": ""
           }
          },
          "colorscale": {
           "diverging": [
            [
             0,
             "#8e0152"
            ],
            [
             0.1,
             "#c51b7d"
            ],
            [
             0.2,
             "#de77ae"
            ],
            [
             0.3,
             "#f1b6da"
            ],
            [
             0.4,
             "#fde0ef"
            ],
            [
             0.5,
             "#f7f7f7"
            ],
            [
             0.6,
             "#e6f5d0"
            ],
            [
             0.7,
             "#b8e186"
            ],
            [
             0.8,
             "#7fbc41"
            ],
            [
             0.9,
             "#4d9221"
            ],
            [
             1,
             "#276419"
            ]
           ],
           "sequential": [
            [
             0,
             "#0d0887"
            ],
            [
             0.1111111111111111,
             "#46039f"
            ],
            [
             0.2222222222222222,
             "#7201a8"
            ],
            [
             0.3333333333333333,
             "#9c179e"
            ],
            [
             0.4444444444444444,
             "#bd3786"
            ],
            [
             0.5555555555555556,
             "#d8576b"
            ],
            [
             0.6666666666666666,
             "#ed7953"
            ],
            [
             0.7777777777777778,
             "#fb9f3a"
            ],
            [
             0.8888888888888888,
             "#fdca26"
            ],
            [
             1,
             "#f0f921"
            ]
           ],
           "sequentialminus": [
            [
             0,
             "#0d0887"
            ],
            [
             0.1111111111111111,
             "#46039f"
            ],
            [
             0.2222222222222222,
             "#7201a8"
            ],
            [
             0.3333333333333333,
             "#9c179e"
            ],
            [
             0.4444444444444444,
             "#bd3786"
            ],
            [
             0.5555555555555556,
             "#d8576b"
            ],
            [
             0.6666666666666666,
             "#ed7953"
            ],
            [
             0.7777777777777778,
             "#fb9f3a"
            ],
            [
             0.8888888888888888,
             "#fdca26"
            ],
            [
             1,
             "#f0f921"
            ]
           ]
          },
          "colorway": [
           "#636efa",
           "#EF553B",
           "#00cc96",
           "#ab63fa",
           "#FFA15A",
           "#19d3f3",
           "#FF6692",
           "#B6E880",
           "#FF97FF",
           "#FECB52"
          ],
          "font": {
           "color": "#2a3f5f"
          },
          "geo": {
           "bgcolor": "white",
           "lakecolor": "white",
           "landcolor": "#E5ECF6",
           "showlakes": true,
           "showland": true,
           "subunitcolor": "white"
          },
          "hoverlabel": {
           "align": "left"
          },
          "hovermode": "closest",
          "mapbox": {
           "style": "light"
          },
          "paper_bgcolor": "white",
          "plot_bgcolor": "#E5ECF6",
          "polar": {
           "angularaxis": {
            "gridcolor": "white",
            "linecolor": "white",
            "ticks": ""
           },
           "bgcolor": "#E5ECF6",
           "radialaxis": {
            "gridcolor": "white",
            "linecolor": "white",
            "ticks": ""
           }
          },
          "scene": {
           "xaxis": {
            "backgroundcolor": "#E5ECF6",
            "gridcolor": "white",
            "gridwidth": 2,
            "linecolor": "white",
            "showbackground": true,
            "ticks": "",
            "zerolinecolor": "white"
           },
           "yaxis": {
            "backgroundcolor": "#E5ECF6",
            "gridcolor": "white",
            "gridwidth": 2,
            "linecolor": "white",
            "showbackground": true,
            "ticks": "",
            "zerolinecolor": "white"
           },
           "zaxis": {
            "backgroundcolor": "#E5ECF6",
            "gridcolor": "white",
            "gridwidth": 2,
            "linecolor": "white",
            "showbackground": true,
            "ticks": "",
            "zerolinecolor": "white"
           }
          },
          "shapedefaults": {
           "line": {
            "color": "#2a3f5f"
           }
          },
          "ternary": {
           "aaxis": {
            "gridcolor": "white",
            "linecolor": "white",
            "ticks": ""
           },
           "baxis": {
            "gridcolor": "white",
            "linecolor": "white",
            "ticks": ""
           },
           "bgcolor": "#E5ECF6",
           "caxis": {
            "gridcolor": "white",
            "linecolor": "white",
            "ticks": ""
           }
          },
          "title": {
           "x": 0.05
          },
          "xaxis": {
           "automargin": true,
           "gridcolor": "white",
           "linecolor": "white",
           "ticks": "",
           "title": {
            "standoff": 15
           },
           "zerolinecolor": "white",
           "zerolinewidth": 2
          },
          "yaxis": {
           "automargin": true,
           "gridcolor": "white",
           "linecolor": "white",
           "ticks": "",
           "title": {
            "standoff": 15
           },
           "zerolinecolor": "white",
           "zerolinewidth": 2
          }
         }
        },
        "title": {
         "font": {
          "color": "#4D5663"
         }
        },
        "xaxis": {
         "gridcolor": "#E1E5ED",
         "showgrid": true,
         "tickfont": {
          "color": "#4D5663"
         },
         "title": {
          "font": {
           "color": "#4D5663"
          },
          "text": ""
         },
         "zerolinecolor": "#E1E5ED"
        },
        "yaxis": {
         "gridcolor": "#E1E5ED",
         "showgrid": true,
         "tickfont": {
          "color": "#4D5663"
         },
         "title": {
          "font": {
           "color": "#4D5663"
          },
          "text": ""
         },
         "zerolinecolor": "#E1E5ED"
        }
       }
      },
      "text/html": [
       "<div>                            <div id=\"dbb2332a-5301-42f2-ad45-58761c0904d4\" class=\"plotly-graph-div\" style=\"height:525px; width:100%;\"></div>            <script type=\"text/javascript\">                require([\"plotly\"], function(Plotly) {                    window.PLOTLYENV=window.PLOTLYENV || {};\n",
       "                    window.PLOTLYENV.BASE_URL='https://plot.ly';                                    if (document.getElementById(\"dbb2332a-5301-42f2-ad45-58761c0904d4\")) {                    Plotly.newPlot(                        \"dbb2332a-5301-42f2-ad45-58761c0904d4\",                        [{\"histfunc\": \"count\", \"histnorm\": \"\", \"marker\": {\"color\": \"rgba(255, 153, 51, 1.0)\", \"line\": {\"color\": \"#4D5663\", \"width\": 1.3}}, \"name\": \"A\", \"nbinsx\": 25, \"opacity\": 0.8, \"orientation\": \"v\", \"type\": \"histogram\", \"x\": [0.8784182869438022, -0.3806389397043157, -0.015161610170961225, -0.9016207963843829, 1.5014835535230446, 0.638181087090259, -0.17587623889792092, -0.664965902036214, -0.5503517666986742, 0.7412790574276407, -0.3413855854978848, -0.14321019701085397, 0.6189236491204758, -1.3274582091937592, -0.6011515749002577, -0.3711948051377429, 0.22774803593324108, -0.1799100326269736, -0.751501350518013, 1.2726380379037925, 0.17853445966183684, 0.9029346884572302, -0.30475724605130877, 1.1242992014697217, -0.34803042426193503, -0.2789327833471177, -0.48089000530870313, -0.8898578379398597, -0.4052291987803923, 0.13910870604580186, -1.5928955584327276, 1.087535267725178, -1.0477189352750904, -0.28876647921209253, 0.23969910604040176, -1.047455217258851, -0.5833553130384778, 0.02618941267039, -1.3134439425363735, 0.37447051250925434, -0.23665849744398545, 0.38366374968200445, 0.38879693498090745, -2.489474520445726, -1.9558898206788757, -1.2820583243852897, 1.6396600196257145, 0.3257421775403651, 0.268439850249584, 0.254911311026306, -0.039997268578202474, -1.7304810128630073, 0.8792983780516312, -0.34944303317429876, -0.24483344544345187, 1.3422438252491682, -0.019157905591640125, 0.48254027223419876, 0.22916419374642585, -1.10244764076685, 0.4387464394595617, 0.49869501960824053, 0.8896596416653044, -2.2247096358959375, 0.25806961050697097, -0.8950588291502402, 1.077536774493091, 1.392456455805473, 1.8714710818287612, -0.9079560039649784, 0.5852837098112604, -1.3540490258003222, 1.5937634330895467, 1.136176797108421, -1.228998731272284, 0.32499698703778784, -1.0600488813061035, 0.16014813932158212, -0.11395722536452274, 0.5525871357354079, 0.1992200743903423, 1.4432928977698434, -0.053842849506307945, 0.5796916613556059, -0.13646583791057929, 1.1385161923835618, 0.25425497724742774, 0.06459608638843127, -0.8272692613159764, -0.13056663733668503, 1.9531971698255062, -1.200128548980169, -0.7083682008920325, 0.046109888970466854, -0.1794017215311147, -0.2804450420349651, 0.47294127780493245, -0.7939966373692098, 0.3515341825448959, 2.4246217604627764]}],                        {\"barmode\": \"overlay\", \"legend\": {\"bgcolor\": \"#F5F6F9\", \"font\": {\"color\": \"#4D5663\"}}, \"paper_bgcolor\": \"#F5F6F9\", \"plot_bgcolor\": \"#F5F6F9\", \"template\": {\"data\": {\"bar\": [{\"error_x\": {\"color\": \"#2a3f5f\"}, \"error_y\": {\"color\": \"#2a3f5f\"}, \"marker\": {\"line\": {\"color\": \"#E5ECF6\", \"width\": 0.5}}, \"type\": \"bar\"}], \"barpolar\": [{\"marker\": {\"line\": {\"color\": \"#E5ECF6\", \"width\": 0.5}}, \"type\": \"barpolar\"}], \"carpet\": [{\"aaxis\": {\"endlinecolor\": \"#2a3f5f\", \"gridcolor\": \"white\", \"linecolor\": \"white\", \"minorgridcolor\": \"white\", \"startlinecolor\": \"#2a3f5f\"}, \"baxis\": {\"endlinecolor\": \"#2a3f5f\", \"gridcolor\": \"white\", \"linecolor\": \"white\", \"minorgridcolor\": \"white\", \"startlinecolor\": \"#2a3f5f\"}, \"type\": \"carpet\"}], \"choropleth\": [{\"colorbar\": {\"outlinewidth\": 0, \"ticks\": \"\"}, \"type\": \"choropleth\"}], \"contour\": [{\"colorbar\": {\"outlinewidth\": 0, \"ticks\": \"\"}, \"colorscale\": [[0.0, \"#0d0887\"], [0.1111111111111111, \"#46039f\"], [0.2222222222222222, \"#7201a8\"], [0.3333333333333333, \"#9c179e\"], [0.4444444444444444, \"#bd3786\"], [0.5555555555555556, \"#d8576b\"], [0.6666666666666666, \"#ed7953\"], [0.7777777777777778, \"#fb9f3a\"], [0.8888888888888888, \"#fdca26\"], [1.0, \"#f0f921\"]], \"type\": \"contour\"}], \"contourcarpet\": [{\"colorbar\": {\"outlinewidth\": 0, \"ticks\": \"\"}, \"type\": \"contourcarpet\"}], \"heatmap\": [{\"colorbar\": {\"outlinewidth\": 0, \"ticks\": \"\"}, \"colorscale\": [[0.0, \"#0d0887\"], [0.1111111111111111, \"#46039f\"], [0.2222222222222222, \"#7201a8\"], [0.3333333333333333, \"#9c179e\"], [0.4444444444444444, \"#bd3786\"], [0.5555555555555556, \"#d8576b\"], [0.6666666666666666, \"#ed7953\"], [0.7777777777777778, \"#fb9f3a\"], [0.8888888888888888, \"#fdca26\"], [1.0, \"#f0f921\"]], \"type\": \"heatmap\"}], \"heatmapgl\": [{\"colorbar\": {\"outlinewidth\": 0, \"ticks\": \"\"}, \"colorscale\": [[0.0, \"#0d0887\"], [0.1111111111111111, \"#46039f\"], [0.2222222222222222, \"#7201a8\"], [0.3333333333333333, \"#9c179e\"], [0.4444444444444444, \"#bd3786\"], [0.5555555555555556, \"#d8576b\"], [0.6666666666666666, \"#ed7953\"], [0.7777777777777778, \"#fb9f3a\"], [0.8888888888888888, \"#fdca26\"], [1.0, \"#f0f921\"]], \"type\": \"heatmapgl\"}], \"histogram\": [{\"marker\": {\"colorbar\": {\"outlinewidth\": 0, \"ticks\": \"\"}}, \"type\": \"histogram\"}], \"histogram2d\": [{\"colorbar\": {\"outlinewidth\": 0, \"ticks\": \"\"}, \"colorscale\": [[0.0, \"#0d0887\"], [0.1111111111111111, \"#46039f\"], [0.2222222222222222, \"#7201a8\"], [0.3333333333333333, \"#9c179e\"], [0.4444444444444444, \"#bd3786\"], [0.5555555555555556, \"#d8576b\"], [0.6666666666666666, \"#ed7953\"], [0.7777777777777778, \"#fb9f3a\"], [0.8888888888888888, \"#fdca26\"], [1.0, \"#f0f921\"]], \"type\": \"histogram2d\"}], \"histogram2dcontour\": [{\"colorbar\": {\"outlinewidth\": 0, \"ticks\": \"\"}, \"colorscale\": [[0.0, \"#0d0887\"], [0.1111111111111111, \"#46039f\"], [0.2222222222222222, \"#7201a8\"], [0.3333333333333333, \"#9c179e\"], [0.4444444444444444, \"#bd3786\"], [0.5555555555555556, \"#d8576b\"], [0.6666666666666666, \"#ed7953\"], [0.7777777777777778, \"#fb9f3a\"], [0.8888888888888888, \"#fdca26\"], [1.0, \"#f0f921\"]], \"type\": \"histogram2dcontour\"}], \"mesh3d\": [{\"colorbar\": {\"outlinewidth\": 0, \"ticks\": \"\"}, \"type\": \"mesh3d\"}], \"parcoords\": [{\"line\": {\"colorbar\": {\"outlinewidth\": 0, \"ticks\": \"\"}}, \"type\": \"parcoords\"}], \"pie\": [{\"automargin\": true, \"type\": \"pie\"}], \"scatter\": [{\"marker\": {\"colorbar\": {\"outlinewidth\": 0, \"ticks\": \"\"}}, \"type\": \"scatter\"}], \"scatter3d\": [{\"line\": {\"colorbar\": {\"outlinewidth\": 0, \"ticks\": \"\"}}, \"marker\": {\"colorbar\": {\"outlinewidth\": 0, \"ticks\": \"\"}}, \"type\": \"scatter3d\"}], \"scattercarpet\": [{\"marker\": {\"colorbar\": {\"outlinewidth\": 0, \"ticks\": \"\"}}, \"type\": \"scattercarpet\"}], \"scattergeo\": [{\"marker\": {\"colorbar\": {\"outlinewidth\": 0, \"ticks\": \"\"}}, \"type\": \"scattergeo\"}], \"scattergl\": [{\"marker\": {\"colorbar\": {\"outlinewidth\": 0, \"ticks\": \"\"}}, \"type\": \"scattergl\"}], \"scattermapbox\": [{\"marker\": {\"colorbar\": {\"outlinewidth\": 0, \"ticks\": \"\"}}, \"type\": \"scattermapbox\"}], \"scatterpolar\": [{\"marker\": {\"colorbar\": {\"outlinewidth\": 0, \"ticks\": \"\"}}, \"type\": \"scatterpolar\"}], \"scatterpolargl\": [{\"marker\": {\"colorbar\": {\"outlinewidth\": 0, \"ticks\": \"\"}}, \"type\": \"scatterpolargl\"}], \"scatterternary\": [{\"marker\": {\"colorbar\": {\"outlinewidth\": 0, \"ticks\": \"\"}}, \"type\": \"scatterternary\"}], \"surface\": [{\"colorbar\": {\"outlinewidth\": 0, \"ticks\": \"\"}, \"colorscale\": [[0.0, \"#0d0887\"], [0.1111111111111111, \"#46039f\"], [0.2222222222222222, \"#7201a8\"], [0.3333333333333333, \"#9c179e\"], [0.4444444444444444, \"#bd3786\"], [0.5555555555555556, \"#d8576b\"], [0.6666666666666666, \"#ed7953\"], [0.7777777777777778, \"#fb9f3a\"], [0.8888888888888888, \"#fdca26\"], [1.0, \"#f0f921\"]], \"type\": \"surface\"}], \"table\": [{\"cells\": {\"fill\": {\"color\": \"#EBF0F8\"}, \"line\": {\"color\": \"white\"}}, \"header\": {\"fill\": {\"color\": \"#C8D4E3\"}, \"line\": {\"color\": \"white\"}}, \"type\": \"table\"}]}, \"layout\": {\"annotationdefaults\": {\"arrowcolor\": \"#2a3f5f\", \"arrowhead\": 0, \"arrowwidth\": 1}, \"autotypenumbers\": \"strict\", \"coloraxis\": {\"colorbar\": {\"outlinewidth\": 0, \"ticks\": \"\"}}, \"colorscale\": {\"diverging\": [[0, \"#8e0152\"], [0.1, \"#c51b7d\"], [0.2, \"#de77ae\"], [0.3, \"#f1b6da\"], [0.4, \"#fde0ef\"], [0.5, \"#f7f7f7\"], [0.6, \"#e6f5d0\"], [0.7, \"#b8e186\"], [0.8, \"#7fbc41\"], [0.9, \"#4d9221\"], [1, \"#276419\"]], \"sequential\": [[0.0, \"#0d0887\"], [0.1111111111111111, \"#46039f\"], [0.2222222222222222, \"#7201a8\"], [0.3333333333333333, \"#9c179e\"], [0.4444444444444444, \"#bd3786\"], [0.5555555555555556, \"#d8576b\"], [0.6666666666666666, \"#ed7953\"], [0.7777777777777778, \"#fb9f3a\"], [0.8888888888888888, \"#fdca26\"], [1.0, \"#f0f921\"]], \"sequentialminus\": [[0.0, \"#0d0887\"], [0.1111111111111111, \"#46039f\"], [0.2222222222222222, \"#7201a8\"], [0.3333333333333333, \"#9c179e\"], [0.4444444444444444, \"#bd3786\"], [0.5555555555555556, \"#d8576b\"], [0.6666666666666666, \"#ed7953\"], [0.7777777777777778, \"#fb9f3a\"], [0.8888888888888888, \"#fdca26\"], [1.0, \"#f0f921\"]]}, \"colorway\": [\"#636efa\", \"#EF553B\", \"#00cc96\", \"#ab63fa\", \"#FFA15A\", \"#19d3f3\", \"#FF6692\", \"#B6E880\", \"#FF97FF\", \"#FECB52\"], \"font\": {\"color\": \"#2a3f5f\"}, \"geo\": {\"bgcolor\": \"white\", \"lakecolor\": \"white\", \"landcolor\": \"#E5ECF6\", \"showlakes\": true, \"showland\": true, \"subunitcolor\": \"white\"}, \"hoverlabel\": {\"align\": \"left\"}, \"hovermode\": \"closest\", \"mapbox\": {\"style\": \"light\"}, \"paper_bgcolor\": \"white\", \"plot_bgcolor\": \"#E5ECF6\", \"polar\": {\"angularaxis\": {\"gridcolor\": \"white\", \"linecolor\": \"white\", \"ticks\": \"\"}, \"bgcolor\": \"#E5ECF6\", \"radialaxis\": {\"gridcolor\": \"white\", \"linecolor\": \"white\", \"ticks\": \"\"}}, \"scene\": {\"xaxis\": {\"backgroundcolor\": \"#E5ECF6\", \"gridcolor\": \"white\", \"gridwidth\": 2, \"linecolor\": \"white\", \"showbackground\": true, \"ticks\": \"\", \"zerolinecolor\": \"white\"}, \"yaxis\": {\"backgroundcolor\": \"#E5ECF6\", \"gridcolor\": \"white\", \"gridwidth\": 2, \"linecolor\": \"white\", \"showbackground\": true, \"ticks\": \"\", \"zerolinecolor\": \"white\"}, \"zaxis\": {\"backgroundcolor\": \"#E5ECF6\", \"gridcolor\": \"white\", \"gridwidth\": 2, \"linecolor\": \"white\", \"showbackground\": true, \"ticks\": \"\", \"zerolinecolor\": \"white\"}}, \"shapedefaults\": {\"line\": {\"color\": \"#2a3f5f\"}}, \"ternary\": {\"aaxis\": {\"gridcolor\": \"white\", \"linecolor\": \"white\", \"ticks\": \"\"}, \"baxis\": {\"gridcolor\": \"white\", \"linecolor\": \"white\", \"ticks\": \"\"}, \"bgcolor\": \"#E5ECF6\", \"caxis\": {\"gridcolor\": \"white\", \"linecolor\": \"white\", \"ticks\": \"\"}}, \"title\": {\"x\": 0.05}, \"xaxis\": {\"automargin\": true, \"gridcolor\": \"white\", \"linecolor\": \"white\", \"ticks\": \"\", \"title\": {\"standoff\": 15}, \"zerolinecolor\": \"white\", \"zerolinewidth\": 2}, \"yaxis\": {\"automargin\": true, \"gridcolor\": \"white\", \"linecolor\": \"white\", \"ticks\": \"\", \"title\": {\"standoff\": 15}, \"zerolinecolor\": \"white\", \"zerolinewidth\": 2}}}, \"title\": {\"font\": {\"color\": \"#4D5663\"}}, \"xaxis\": {\"gridcolor\": \"#E1E5ED\", \"showgrid\": true, \"tickfont\": {\"color\": \"#4D5663\"}, \"title\": {\"font\": {\"color\": \"#4D5663\"}, \"text\": \"\"}, \"zerolinecolor\": \"#E1E5ED\"}, \"yaxis\": {\"gridcolor\": \"#E1E5ED\", \"showgrid\": true, \"tickfont\": {\"color\": \"#4D5663\"}, \"title\": {\"font\": {\"color\": \"#4D5663\"}, \"text\": \"\"}, \"zerolinecolor\": \"#E1E5ED\"}},                        {\"showLink\": true, \"linkText\": \"Export to plot.ly\", \"plotlyServerURL\": \"https://plot.ly\", \"responsive\": true}                    ).then(function(){\n",
       "                            \n",
       "var gd = document.getElementById('dbb2332a-5301-42f2-ad45-58761c0904d4');\n",
       "var x = new MutationObserver(function (mutations, observer) {{\n",
       "        var display = window.getComputedStyle(gd).display;\n",
       "        if (!display || display === 'none') {{\n",
       "            console.log([gd, 'removed!']);\n",
       "            Plotly.purge(gd);\n",
       "            observer.disconnect();\n",
       "        }}\n",
       "}});\n",
       "\n",
       "// Listen for the removal of the full notebook cells\n",
       "var notebookContainer = gd.closest('#notebook-container');\n",
       "if (notebookContainer) {{\n",
       "    x.observe(notebookContainer, {childList: true});\n",
       "}}\n",
       "\n",
       "// Listen for the clearing of the current output cell\n",
       "var outputEl = gd.closest('.output');\n",
       "if (outputEl) {{\n",
       "    x.observe(outputEl, {childList: true});\n",
       "}}\n",
       "\n",
       "                        })                };                });            </script>        </div>"
      ]
     },
     "metadata": {},
     "output_type": "display_data"
    }
   ],
   "source": [
    "df['A'].iplot(kind='hist',bins=25)"
   ]
  },
  {
   "cell_type": "code",
   "execution_count": 20,
   "metadata": {},
   "outputs": [
    {
     "data": {
      "application/vnd.plotly.v1+json": {
       "config": {
        "linkText": "Export to plot.ly",
        "plotlyServerURL": "https://plot.ly",
        "showLink": true
       },
       "data": [
        {
         "marker": {
          "color": [
           "rgb(255, 153, 51)",
           "rgb(55, 128, 191)",
           "rgb(50, 171, 96)",
           "rgb(128, 0, 128)",
           "rgb(219, 64, 82)",
           "rgb(0, 128, 128)",
           "rgb(255, 255, 51)",
           "rgb(128, 128, 0)",
           "rgb(251, 128, 114)",
           "rgb(128, 177, 211)"
          ],
          "line": {
           "width": 1.3
          },
          "size": [
           104,
           82,
           97,
           109,
           75,
           66,
           68,
           95,
           91,
           76,
           65,
           74,
           28,
           107,
           43,
           88,
           70,
           57,
           91,
           50,
           77,
           112,
           95,
           86,
           60,
           107,
           77,
           65,
           63,
           75,
           90,
           94,
           92,
           87,
           88,
           98,
           52,
           59,
           82,
           73,
           65,
           52,
           91,
           89,
           85,
           53,
           40,
           57,
           89,
           78,
           84,
           38,
           79,
           72,
           88,
           47,
           105,
           34,
           78,
           77,
           106,
           33,
           86,
           63,
           12,
           54,
           68,
           77,
           71,
           72,
           65,
           81,
           91,
           46,
           92,
           98,
           61,
           93,
           69,
           86,
           37,
           80,
           106,
           91,
           101,
           80,
           33,
           81,
           63,
           52,
           90,
           66,
           58,
           87,
           26,
           85,
           65,
           81,
           100,
           99
          ],
          "symbol": "circle"
         },
         "mode": "markers",
         "text": "",
         "type": "scatter",
         "x": [
          0.8784182869438022,
          -0.3806389397043157,
          -0.015161610170961225,
          -0.9016207963843829,
          1.5014835535230446,
          0.638181087090259,
          -0.17587623889792092,
          -0.664965902036214,
          -0.5503517666986742,
          0.7412790574276407,
          -0.3413855854978848,
          -0.14321019701085397,
          0.6189236491204758,
          -1.3274582091937592,
          -0.6011515749002577,
          -0.3711948051377429,
          0.22774803593324108,
          -0.1799100326269736,
          -0.751501350518013,
          1.2726380379037925,
          0.17853445966183684,
          0.9029346884572302,
          -0.30475724605130877,
          1.1242992014697217,
          -0.34803042426193503,
          -0.2789327833471177,
          -0.48089000530870313,
          -0.8898578379398597,
          -0.4052291987803923,
          0.13910870604580186,
          -1.5928955584327276,
          1.087535267725178,
          -1.0477189352750904,
          -0.28876647921209253,
          0.23969910604040176,
          -1.047455217258851,
          -0.5833553130384778,
          0.02618941267039,
          -1.3134439425363735,
          0.37447051250925434,
          -0.23665849744398545,
          0.38366374968200445,
          0.38879693498090745,
          -2.489474520445726,
          -1.9558898206788757,
          -1.2820583243852897,
          1.6396600196257145,
          0.3257421775403651,
          0.268439850249584,
          0.254911311026306,
          -0.039997268578202474,
          -1.7304810128630073,
          0.8792983780516312,
          -0.34944303317429876,
          -0.24483344544345187,
          1.3422438252491682,
          -0.019157905591640125,
          0.48254027223419876,
          0.22916419374642585,
          -1.10244764076685,
          0.4387464394595617,
          0.49869501960824053,
          0.8896596416653044,
          -2.2247096358959375,
          0.25806961050697097,
          -0.8950588291502402,
          1.077536774493091,
          1.392456455805473,
          1.8714710818287612,
          -0.9079560039649784,
          0.5852837098112604,
          -1.3540490258003222,
          1.5937634330895467,
          1.136176797108421,
          -1.228998731272284,
          0.32499698703778784,
          -1.0600488813061035,
          0.16014813932158212,
          -0.11395722536452274,
          0.5525871357354079,
          0.1992200743903423,
          1.4432928977698434,
          -0.053842849506307945,
          0.5796916613556059,
          -0.13646583791057929,
          1.1385161923835618,
          0.25425497724742774,
          0.06459608638843127,
          -0.8272692613159764,
          -0.13056663733668503,
          1.9531971698255062,
          -1.200128548980169,
          -0.7083682008920325,
          0.046109888970466854,
          -0.1794017215311147,
          -0.2804450420349651,
          0.47294127780493245,
          -0.7939966373692098,
          0.3515341825448959,
          2.4246217604627764
         ],
         "y": [
          -0.4930365779602038,
          0.3250304022261739,
          0.9583344497638379,
          0.18987007370510067,
          1.3116461956482248,
          -0.6220817679528079,
          1.1176365968869961,
          -0.9258464578846678,
          -1.2240936631275416,
          -1.233544955793205,
          -0.3237490841563232,
          0.9123258973854688,
          0.22842642137253671,
          0.97394659908097,
          0.7117637750549505,
          -0.5015085289746392,
          -0.20916801428743456,
          1.2552264592940754,
          -0.08368782602850174,
          0.3695360809011424,
          0.37111403545690363,
          0.6782737012924119,
          0.4797622410012238,
          2.911253138754174,
          -1.512623993787851,
          -2.56331258059585,
          0.5615782223372155,
          -0.835984426866699,
          -0.44454088029925015,
          0.23385361385822392,
          0.649676684703017,
          0.33734517766819383,
          0.07386186184447749,
          1.2849074240198488,
          -0.7590870044987608,
          0.9617909879870938,
          0.7792637515682848,
          0.19076653572726923,
          -0.9743666833686444,
          0.6382514812525082,
          -0.5440458953899364,
          0.7456070716698415,
          0.12989614246183692,
          -1.6423156210534684,
          1.7163396732325287,
          -0.45416706950050567,
          0.4441043716591119,
          -1.224061455455319,
          0.5332178930668302,
          2.019759276110566,
          0.36277696743342686,
          -1.8556915806269134,
          0.492238886798876,
          -1.54995228762088,
          -0.04113350096243654,
          -0.6434973828541718,
          0.8661086529225488,
          0.9989323504656847,
          0.541137576993134,
          1.2391192072924329,
          0.5745147693028827,
          -0.2414084320240968,
          0.541309991070589,
          0.7859289747510708,
          1.4831153439368039,
          -0.5254666265863034,
          -0.7021612584368963,
          -0.28667722150976127,
          0.6385384203001963,
          0.1594149116250348,
          -1.4050472102870275,
          -0.7673306354425335,
          0.7441053584114531,
          -0.31765516460868404,
          1.6164404742814527,
          1.243123471433262,
          0.49469166601581016,
          0.06350558800969401,
          0.6383441449086565,
          0.16265538575948088,
          -0.4586828174957983,
          -1.997774359164692,
          0.3451467817844908,
          -0.9849906422659223,
          1.296687209780314,
          -0.617686845046229,
          -0.8107617488505277,
          -0.6900329691237589,
          -0.37413489066330313,
          -0.6005443256657182,
          -1.046402165049117,
          0.4896257869686791,
          0.5601417492243187,
          -1.383651457886147,
          0.8410728557430217,
          -0.405818172853134,
          -0.3831616014981088,
          0.4658052982328494,
          0.20681148045450257,
          0.4565200818659963
         ]
        }
       ],
       "layout": {
        "legend": {
         "bgcolor": "#F5F6F9",
         "font": {
          "color": "#4D5663"
         }
        },
        "paper_bgcolor": "#F5F6F9",
        "plot_bgcolor": "#F5F6F9",
        "template": {
         "data": {
          "bar": [
           {
            "error_x": {
             "color": "#2a3f5f"
            },
            "error_y": {
             "color": "#2a3f5f"
            },
            "marker": {
             "line": {
              "color": "#E5ECF6",
              "width": 0.5
             }
            },
            "type": "bar"
           }
          ],
          "barpolar": [
           {
            "marker": {
             "line": {
              "color": "#E5ECF6",
              "width": 0.5
             }
            },
            "type": "barpolar"
           }
          ],
          "carpet": [
           {
            "aaxis": {
             "endlinecolor": "#2a3f5f",
             "gridcolor": "white",
             "linecolor": "white",
             "minorgridcolor": "white",
             "startlinecolor": "#2a3f5f"
            },
            "baxis": {
             "endlinecolor": "#2a3f5f",
             "gridcolor": "white",
             "linecolor": "white",
             "minorgridcolor": "white",
             "startlinecolor": "#2a3f5f"
            },
            "type": "carpet"
           }
          ],
          "choropleth": [
           {
            "colorbar": {
             "outlinewidth": 0,
             "ticks": ""
            },
            "type": "choropleth"
           }
          ],
          "contour": [
           {
            "colorbar": {
             "outlinewidth": 0,
             "ticks": ""
            },
            "colorscale": [
             [
              0,
              "#0d0887"
             ],
             [
              0.1111111111111111,
              "#46039f"
             ],
             [
              0.2222222222222222,
              "#7201a8"
             ],
             [
              0.3333333333333333,
              "#9c179e"
             ],
             [
              0.4444444444444444,
              "#bd3786"
             ],
             [
              0.5555555555555556,
              "#d8576b"
             ],
             [
              0.6666666666666666,
              "#ed7953"
             ],
             [
              0.7777777777777778,
              "#fb9f3a"
             ],
             [
              0.8888888888888888,
              "#fdca26"
             ],
             [
              1,
              "#f0f921"
             ]
            ],
            "type": "contour"
           }
          ],
          "contourcarpet": [
           {
            "colorbar": {
             "outlinewidth": 0,
             "ticks": ""
            },
            "type": "contourcarpet"
           }
          ],
          "heatmap": [
           {
            "colorbar": {
             "outlinewidth": 0,
             "ticks": ""
            },
            "colorscale": [
             [
              0,
              "#0d0887"
             ],
             [
              0.1111111111111111,
              "#46039f"
             ],
             [
              0.2222222222222222,
              "#7201a8"
             ],
             [
              0.3333333333333333,
              "#9c179e"
             ],
             [
              0.4444444444444444,
              "#bd3786"
             ],
             [
              0.5555555555555556,
              "#d8576b"
             ],
             [
              0.6666666666666666,
              "#ed7953"
             ],
             [
              0.7777777777777778,
              "#fb9f3a"
             ],
             [
              0.8888888888888888,
              "#fdca26"
             ],
             [
              1,
              "#f0f921"
             ]
            ],
            "type": "heatmap"
           }
          ],
          "heatmapgl": [
           {
            "colorbar": {
             "outlinewidth": 0,
             "ticks": ""
            },
            "colorscale": [
             [
              0,
              "#0d0887"
             ],
             [
              0.1111111111111111,
              "#46039f"
             ],
             [
              0.2222222222222222,
              "#7201a8"
             ],
             [
              0.3333333333333333,
              "#9c179e"
             ],
             [
              0.4444444444444444,
              "#bd3786"
             ],
             [
              0.5555555555555556,
              "#d8576b"
             ],
             [
              0.6666666666666666,
              "#ed7953"
             ],
             [
              0.7777777777777778,
              "#fb9f3a"
             ],
             [
              0.8888888888888888,
              "#fdca26"
             ],
             [
              1,
              "#f0f921"
             ]
            ],
            "type": "heatmapgl"
           }
          ],
          "histogram": [
           {
            "marker": {
             "colorbar": {
              "outlinewidth": 0,
              "ticks": ""
             }
            },
            "type": "histogram"
           }
          ],
          "histogram2d": [
           {
            "colorbar": {
             "outlinewidth": 0,
             "ticks": ""
            },
            "colorscale": [
             [
              0,
              "#0d0887"
             ],
             [
              0.1111111111111111,
              "#46039f"
             ],
             [
              0.2222222222222222,
              "#7201a8"
             ],
             [
              0.3333333333333333,
              "#9c179e"
             ],
             [
              0.4444444444444444,
              "#bd3786"
             ],
             [
              0.5555555555555556,
              "#d8576b"
             ],
             [
              0.6666666666666666,
              "#ed7953"
             ],
             [
              0.7777777777777778,
              "#fb9f3a"
             ],
             [
              0.8888888888888888,
              "#fdca26"
             ],
             [
              1,
              "#f0f921"
             ]
            ],
            "type": "histogram2d"
           }
          ],
          "histogram2dcontour": [
           {
            "colorbar": {
             "outlinewidth": 0,
             "ticks": ""
            },
            "colorscale": [
             [
              0,
              "#0d0887"
             ],
             [
              0.1111111111111111,
              "#46039f"
             ],
             [
              0.2222222222222222,
              "#7201a8"
             ],
             [
              0.3333333333333333,
              "#9c179e"
             ],
             [
              0.4444444444444444,
              "#bd3786"
             ],
             [
              0.5555555555555556,
              "#d8576b"
             ],
             [
              0.6666666666666666,
              "#ed7953"
             ],
             [
              0.7777777777777778,
              "#fb9f3a"
             ],
             [
              0.8888888888888888,
              "#fdca26"
             ],
             [
              1,
              "#f0f921"
             ]
            ],
            "type": "histogram2dcontour"
           }
          ],
          "mesh3d": [
           {
            "colorbar": {
             "outlinewidth": 0,
             "ticks": ""
            },
            "type": "mesh3d"
           }
          ],
          "parcoords": [
           {
            "line": {
             "colorbar": {
              "outlinewidth": 0,
              "ticks": ""
             }
            },
            "type": "parcoords"
           }
          ],
          "pie": [
           {
            "automargin": true,
            "type": "pie"
           }
          ],
          "scatter": [
           {
            "marker": {
             "colorbar": {
              "outlinewidth": 0,
              "ticks": ""
             }
            },
            "type": "scatter"
           }
          ],
          "scatter3d": [
           {
            "line": {
             "colorbar": {
              "outlinewidth": 0,
              "ticks": ""
             }
            },
            "marker": {
             "colorbar": {
              "outlinewidth": 0,
              "ticks": ""
             }
            },
            "type": "scatter3d"
           }
          ],
          "scattercarpet": [
           {
            "marker": {
             "colorbar": {
              "outlinewidth": 0,
              "ticks": ""
             }
            },
            "type": "scattercarpet"
           }
          ],
          "scattergeo": [
           {
            "marker": {
             "colorbar": {
              "outlinewidth": 0,
              "ticks": ""
             }
            },
            "type": "scattergeo"
           }
          ],
          "scattergl": [
           {
            "marker": {
             "colorbar": {
              "outlinewidth": 0,
              "ticks": ""
             }
            },
            "type": "scattergl"
           }
          ],
          "scattermapbox": [
           {
            "marker": {
             "colorbar": {
              "outlinewidth": 0,
              "ticks": ""
             }
            },
            "type": "scattermapbox"
           }
          ],
          "scatterpolar": [
           {
            "marker": {
             "colorbar": {
              "outlinewidth": 0,
              "ticks": ""
             }
            },
            "type": "scatterpolar"
           }
          ],
          "scatterpolargl": [
           {
            "marker": {
             "colorbar": {
              "outlinewidth": 0,
              "ticks": ""
             }
            },
            "type": "scatterpolargl"
           }
          ],
          "scatterternary": [
           {
            "marker": {
             "colorbar": {
              "outlinewidth": 0,
              "ticks": ""
             }
            },
            "type": "scatterternary"
           }
          ],
          "surface": [
           {
            "colorbar": {
             "outlinewidth": 0,
             "ticks": ""
            },
            "colorscale": [
             [
              0,
              "#0d0887"
             ],
             [
              0.1111111111111111,
              "#46039f"
             ],
             [
              0.2222222222222222,
              "#7201a8"
             ],
             [
              0.3333333333333333,
              "#9c179e"
             ],
             [
              0.4444444444444444,
              "#bd3786"
             ],
             [
              0.5555555555555556,
              "#d8576b"
             ],
             [
              0.6666666666666666,
              "#ed7953"
             ],
             [
              0.7777777777777778,
              "#fb9f3a"
             ],
             [
              0.8888888888888888,
              "#fdca26"
             ],
             [
              1,
              "#f0f921"
             ]
            ],
            "type": "surface"
           }
          ],
          "table": [
           {
            "cells": {
             "fill": {
              "color": "#EBF0F8"
             },
             "line": {
              "color": "white"
             }
            },
            "header": {
             "fill": {
              "color": "#C8D4E3"
             },
             "line": {
              "color": "white"
             }
            },
            "type": "table"
           }
          ]
         },
         "layout": {
          "annotationdefaults": {
           "arrowcolor": "#2a3f5f",
           "arrowhead": 0,
           "arrowwidth": 1
          },
          "autotypenumbers": "strict",
          "coloraxis": {
           "colorbar": {
            "outlinewidth": 0,
            "ticks": ""
           }
          },
          "colorscale": {
           "diverging": [
            [
             0,
             "#8e0152"
            ],
            [
             0.1,
             "#c51b7d"
            ],
            [
             0.2,
             "#de77ae"
            ],
            [
             0.3,
             "#f1b6da"
            ],
            [
             0.4,
             "#fde0ef"
            ],
            [
             0.5,
             "#f7f7f7"
            ],
            [
             0.6,
             "#e6f5d0"
            ],
            [
             0.7,
             "#b8e186"
            ],
            [
             0.8,
             "#7fbc41"
            ],
            [
             0.9,
             "#4d9221"
            ],
            [
             1,
             "#276419"
            ]
           ],
           "sequential": [
            [
             0,
             "#0d0887"
            ],
            [
             0.1111111111111111,
             "#46039f"
            ],
            [
             0.2222222222222222,
             "#7201a8"
            ],
            [
             0.3333333333333333,
             "#9c179e"
            ],
            [
             0.4444444444444444,
             "#bd3786"
            ],
            [
             0.5555555555555556,
             "#d8576b"
            ],
            [
             0.6666666666666666,
             "#ed7953"
            ],
            [
             0.7777777777777778,
             "#fb9f3a"
            ],
            [
             0.8888888888888888,
             "#fdca26"
            ],
            [
             1,
             "#f0f921"
            ]
           ],
           "sequentialminus": [
            [
             0,
             "#0d0887"
            ],
            [
             0.1111111111111111,
             "#46039f"
            ],
            [
             0.2222222222222222,
             "#7201a8"
            ],
            [
             0.3333333333333333,
             "#9c179e"
            ],
            [
             0.4444444444444444,
             "#bd3786"
            ],
            [
             0.5555555555555556,
             "#d8576b"
            ],
            [
             0.6666666666666666,
             "#ed7953"
            ],
            [
             0.7777777777777778,
             "#fb9f3a"
            ],
            [
             0.8888888888888888,
             "#fdca26"
            ],
            [
             1,
             "#f0f921"
            ]
           ]
          },
          "colorway": [
           "#636efa",
           "#EF553B",
           "#00cc96",
           "#ab63fa",
           "#FFA15A",
           "#19d3f3",
           "#FF6692",
           "#B6E880",
           "#FF97FF",
           "#FECB52"
          ],
          "font": {
           "color": "#2a3f5f"
          },
          "geo": {
           "bgcolor": "white",
           "lakecolor": "white",
           "landcolor": "#E5ECF6",
           "showlakes": true,
           "showland": true,
           "subunitcolor": "white"
          },
          "hoverlabel": {
           "align": "left"
          },
          "hovermode": "closest",
          "mapbox": {
           "style": "light"
          },
          "paper_bgcolor": "white",
          "plot_bgcolor": "#E5ECF6",
          "polar": {
           "angularaxis": {
            "gridcolor": "white",
            "linecolor": "white",
            "ticks": ""
           },
           "bgcolor": "#E5ECF6",
           "radialaxis": {
            "gridcolor": "white",
            "linecolor": "white",
            "ticks": ""
           }
          },
          "scene": {
           "xaxis": {
            "backgroundcolor": "#E5ECF6",
            "gridcolor": "white",
            "gridwidth": 2,
            "linecolor": "white",
            "showbackground": true,
            "ticks": "",
            "zerolinecolor": "white"
           },
           "yaxis": {
            "backgroundcolor": "#E5ECF6",
            "gridcolor": "white",
            "gridwidth": 2,
            "linecolor": "white",
            "showbackground": true,
            "ticks": "",
            "zerolinecolor": "white"
           },
           "zaxis": {
            "backgroundcolor": "#E5ECF6",
            "gridcolor": "white",
            "gridwidth": 2,
            "linecolor": "white",
            "showbackground": true,
            "ticks": "",
            "zerolinecolor": "white"
           }
          },
          "shapedefaults": {
           "line": {
            "color": "#2a3f5f"
           }
          },
          "ternary": {
           "aaxis": {
            "gridcolor": "white",
            "linecolor": "white",
            "ticks": ""
           },
           "baxis": {
            "gridcolor": "white",
            "linecolor": "white",
            "ticks": ""
           },
           "bgcolor": "#E5ECF6",
           "caxis": {
            "gridcolor": "white",
            "linecolor": "white",
            "ticks": ""
           }
          },
          "title": {
           "x": 0.05
          },
          "xaxis": {
           "automargin": true,
           "gridcolor": "white",
           "linecolor": "white",
           "ticks": "",
           "title": {
            "standoff": 15
           },
           "zerolinecolor": "white",
           "zerolinewidth": 2
          },
          "yaxis": {
           "automargin": true,
           "gridcolor": "white",
           "linecolor": "white",
           "ticks": "",
           "title": {
            "standoff": 15
           },
           "zerolinecolor": "white",
           "zerolinewidth": 2
          }
         }
        },
        "title": {
         "font": {
          "color": "#4D5663"
         }
        },
        "xaxis": {
         "gridcolor": "#E1E5ED",
         "showgrid": true,
         "tickfont": {
          "color": "#4D5663"
         },
         "title": {
          "font": {
           "color": "#4D5663"
          },
          "text": ""
         },
         "zerolinecolor": "#E1E5ED"
        },
        "yaxis": {
         "gridcolor": "#E1E5ED",
         "showgrid": true,
         "tickfont": {
          "color": "#4D5663"
         },
         "title": {
          "font": {
           "color": "#4D5663"
          },
          "text": ""
         },
         "zerolinecolor": "#E1E5ED"
        }
       }
      },
      "text/html": [
       "<div>                            <div id=\"e49f7f43-6b79-4b5f-b495-3954ef708ec1\" class=\"plotly-graph-div\" style=\"height:525px; width:100%;\"></div>            <script type=\"text/javascript\">                require([\"plotly\"], function(Plotly) {                    window.PLOTLYENV=window.PLOTLYENV || {};\n",
       "                    window.PLOTLYENV.BASE_URL='https://plot.ly';                                    if (document.getElementById(\"e49f7f43-6b79-4b5f-b495-3954ef708ec1\")) {                    Plotly.newPlot(                        \"e49f7f43-6b79-4b5f-b495-3954ef708ec1\",                        [{\"marker\": {\"color\": [\"rgb(255, 153, 51)\", \"rgb(55, 128, 191)\", \"rgb(50, 171, 96)\", \"rgb(128, 0, 128)\", \"rgb(219, 64, 82)\", \"rgb(0, 128, 128)\", \"rgb(255, 255, 51)\", \"rgb(128, 128, 0)\", \"rgb(251, 128, 114)\", \"rgb(128, 177, 211)\"], \"line\": {\"width\": 1.3}, \"size\": [104, 82, 97, 109, 75, 66, 68, 95, 91, 76, 65, 74, 28, 107, 43, 88, 70, 57, 91, 50, 77, 112, 95, 86, 60, 107, 77, 65, 63, 75, 90, 94, 92, 87, 88, 98, 52, 59, 82, 73, 65, 52, 91, 89, 85, 53, 40, 57, 89, 78, 84, 38, 79, 72, 88, 47, 105, 34, 78, 77, 106, 33, 86, 63, 12, 54, 68, 77, 71, 72, 65, 81, 91, 46, 92, 98, 61, 93, 69, 86, 37, 80, 106, 91, 101, 80, 33, 81, 63, 52, 90, 66, 58, 87, 26, 85, 65, 81, 100, 99], \"symbol\": \"circle\"}, \"mode\": \"markers\", \"text\": \"\", \"type\": \"scatter\", \"x\": [0.8784182869438022, -0.3806389397043157, -0.015161610170961225, -0.9016207963843829, 1.5014835535230446, 0.638181087090259, -0.17587623889792092, -0.664965902036214, -0.5503517666986742, 0.7412790574276407, -0.3413855854978848, -0.14321019701085397, 0.6189236491204758, -1.3274582091937592, -0.6011515749002577, -0.3711948051377429, 0.22774803593324108, -0.1799100326269736, -0.751501350518013, 1.2726380379037925, 0.17853445966183684, 0.9029346884572302, -0.30475724605130877, 1.1242992014697217, -0.34803042426193503, -0.2789327833471177, -0.48089000530870313, -0.8898578379398597, -0.4052291987803923, 0.13910870604580186, -1.5928955584327276, 1.087535267725178, -1.0477189352750904, -0.28876647921209253, 0.23969910604040176, -1.047455217258851, -0.5833553130384778, 0.02618941267039, -1.3134439425363735, 0.37447051250925434, -0.23665849744398545, 0.38366374968200445, 0.38879693498090745, -2.489474520445726, -1.9558898206788757, -1.2820583243852897, 1.6396600196257145, 0.3257421775403651, 0.268439850249584, 0.254911311026306, -0.039997268578202474, -1.7304810128630073, 0.8792983780516312, -0.34944303317429876, -0.24483344544345187, 1.3422438252491682, -0.019157905591640125, 0.48254027223419876, 0.22916419374642585, -1.10244764076685, 0.4387464394595617, 0.49869501960824053, 0.8896596416653044, -2.2247096358959375, 0.25806961050697097, -0.8950588291502402, 1.077536774493091, 1.392456455805473, 1.8714710818287612, -0.9079560039649784, 0.5852837098112604, -1.3540490258003222, 1.5937634330895467, 1.136176797108421, -1.228998731272284, 0.32499698703778784, -1.0600488813061035, 0.16014813932158212, -0.11395722536452274, 0.5525871357354079, 0.1992200743903423, 1.4432928977698434, -0.053842849506307945, 0.5796916613556059, -0.13646583791057929, 1.1385161923835618, 0.25425497724742774, 0.06459608638843127, -0.8272692613159764, -0.13056663733668503, 1.9531971698255062, -1.200128548980169, -0.7083682008920325, 0.046109888970466854, -0.1794017215311147, -0.2804450420349651, 0.47294127780493245, -0.7939966373692098, 0.3515341825448959, 2.4246217604627764], \"y\": [-0.4930365779602038, 0.3250304022261739, 0.9583344497638379, 0.18987007370510067, 1.3116461956482248, -0.6220817679528079, 1.1176365968869961, -0.9258464578846678, -1.2240936631275416, -1.233544955793205, -0.3237490841563232, 0.9123258973854688, 0.22842642137253671, 0.97394659908097, 0.7117637750549505, -0.5015085289746392, -0.20916801428743456, 1.2552264592940754, -0.08368782602850174, 0.3695360809011424, 0.37111403545690363, 0.6782737012924119, 0.4797622410012238, 2.911253138754174, -1.512623993787851, -2.56331258059585, 0.5615782223372155, -0.835984426866699, -0.44454088029925015, 0.23385361385822392, 0.649676684703017, 0.33734517766819383, 0.07386186184447749, 1.2849074240198488, -0.7590870044987608, 0.9617909879870938, 0.7792637515682848, 0.19076653572726923, -0.9743666833686444, 0.6382514812525082, -0.5440458953899364, 0.7456070716698415, 0.12989614246183692, -1.6423156210534684, 1.7163396732325287, -0.45416706950050567, 0.4441043716591119, -1.224061455455319, 0.5332178930668302, 2.019759276110566, 0.36277696743342686, -1.8556915806269134, 0.492238886798876, -1.54995228762088, -0.04113350096243654, -0.6434973828541718, 0.8661086529225488, 0.9989323504656847, 0.541137576993134, 1.2391192072924329, 0.5745147693028827, -0.2414084320240968, 0.541309991070589, 0.7859289747510708, 1.4831153439368039, -0.5254666265863034, -0.7021612584368963, -0.28667722150976127, 0.6385384203001963, 0.1594149116250348, -1.4050472102870275, -0.7673306354425335, 0.7441053584114531, -0.31765516460868404, 1.6164404742814527, 1.243123471433262, 0.49469166601581016, 0.06350558800969401, 0.6383441449086565, 0.16265538575948088, -0.4586828174957983, -1.997774359164692, 0.3451467817844908, -0.9849906422659223, 1.296687209780314, -0.617686845046229, -0.8107617488505277, -0.6900329691237589, -0.37413489066330313, -0.6005443256657182, -1.046402165049117, 0.4896257869686791, 0.5601417492243187, -1.383651457886147, 0.8410728557430217, -0.405818172853134, -0.3831616014981088, 0.4658052982328494, 0.20681148045450257, 0.4565200818659963]}],                        {\"legend\": {\"bgcolor\": \"#F5F6F9\", \"font\": {\"color\": \"#4D5663\"}}, \"paper_bgcolor\": \"#F5F6F9\", \"plot_bgcolor\": \"#F5F6F9\", \"template\": {\"data\": {\"bar\": [{\"error_x\": {\"color\": \"#2a3f5f\"}, \"error_y\": {\"color\": \"#2a3f5f\"}, \"marker\": {\"line\": {\"color\": \"#E5ECF6\", \"width\": 0.5}}, \"type\": \"bar\"}], \"barpolar\": [{\"marker\": {\"line\": {\"color\": \"#E5ECF6\", \"width\": 0.5}}, \"type\": \"barpolar\"}], \"carpet\": [{\"aaxis\": {\"endlinecolor\": \"#2a3f5f\", \"gridcolor\": \"white\", \"linecolor\": \"white\", \"minorgridcolor\": \"white\", \"startlinecolor\": \"#2a3f5f\"}, \"baxis\": {\"endlinecolor\": \"#2a3f5f\", \"gridcolor\": \"white\", \"linecolor\": \"white\", \"minorgridcolor\": \"white\", \"startlinecolor\": \"#2a3f5f\"}, \"type\": \"carpet\"}], \"choropleth\": [{\"colorbar\": {\"outlinewidth\": 0, \"ticks\": \"\"}, \"type\": \"choropleth\"}], \"contour\": [{\"colorbar\": {\"outlinewidth\": 0, \"ticks\": \"\"}, \"colorscale\": [[0.0, \"#0d0887\"], [0.1111111111111111, \"#46039f\"], [0.2222222222222222, \"#7201a8\"], [0.3333333333333333, \"#9c179e\"], [0.4444444444444444, \"#bd3786\"], [0.5555555555555556, \"#d8576b\"], [0.6666666666666666, \"#ed7953\"], [0.7777777777777778, \"#fb9f3a\"], [0.8888888888888888, \"#fdca26\"], [1.0, \"#f0f921\"]], \"type\": \"contour\"}], \"contourcarpet\": [{\"colorbar\": {\"outlinewidth\": 0, \"ticks\": \"\"}, \"type\": \"contourcarpet\"}], \"heatmap\": [{\"colorbar\": {\"outlinewidth\": 0, \"ticks\": \"\"}, \"colorscale\": [[0.0, \"#0d0887\"], [0.1111111111111111, \"#46039f\"], [0.2222222222222222, \"#7201a8\"], [0.3333333333333333, \"#9c179e\"], [0.4444444444444444, \"#bd3786\"], [0.5555555555555556, \"#d8576b\"], [0.6666666666666666, \"#ed7953\"], [0.7777777777777778, \"#fb9f3a\"], [0.8888888888888888, \"#fdca26\"], [1.0, \"#f0f921\"]], \"type\": \"heatmap\"}], \"heatmapgl\": [{\"colorbar\": {\"outlinewidth\": 0, \"ticks\": \"\"}, \"colorscale\": [[0.0, \"#0d0887\"], [0.1111111111111111, \"#46039f\"], [0.2222222222222222, \"#7201a8\"], [0.3333333333333333, \"#9c179e\"], [0.4444444444444444, \"#bd3786\"], [0.5555555555555556, \"#d8576b\"], [0.6666666666666666, \"#ed7953\"], [0.7777777777777778, \"#fb9f3a\"], [0.8888888888888888, \"#fdca26\"], [1.0, \"#f0f921\"]], \"type\": \"heatmapgl\"}], \"histogram\": [{\"marker\": {\"colorbar\": {\"outlinewidth\": 0, \"ticks\": \"\"}}, \"type\": \"histogram\"}], \"histogram2d\": [{\"colorbar\": {\"outlinewidth\": 0, \"ticks\": \"\"}, \"colorscale\": [[0.0, \"#0d0887\"], [0.1111111111111111, \"#46039f\"], [0.2222222222222222, \"#7201a8\"], [0.3333333333333333, \"#9c179e\"], [0.4444444444444444, \"#bd3786\"], [0.5555555555555556, \"#d8576b\"], [0.6666666666666666, \"#ed7953\"], [0.7777777777777778, \"#fb9f3a\"], [0.8888888888888888, \"#fdca26\"], [1.0, \"#f0f921\"]], \"type\": \"histogram2d\"}], \"histogram2dcontour\": [{\"colorbar\": {\"outlinewidth\": 0, \"ticks\": \"\"}, \"colorscale\": [[0.0, \"#0d0887\"], [0.1111111111111111, \"#46039f\"], [0.2222222222222222, \"#7201a8\"], [0.3333333333333333, \"#9c179e\"], [0.4444444444444444, \"#bd3786\"], [0.5555555555555556, \"#d8576b\"], [0.6666666666666666, \"#ed7953\"], [0.7777777777777778, \"#fb9f3a\"], [0.8888888888888888, \"#fdca26\"], [1.0, \"#f0f921\"]], \"type\": \"histogram2dcontour\"}], \"mesh3d\": [{\"colorbar\": {\"outlinewidth\": 0, \"ticks\": \"\"}, \"type\": \"mesh3d\"}], \"parcoords\": [{\"line\": {\"colorbar\": {\"outlinewidth\": 0, \"ticks\": \"\"}}, \"type\": \"parcoords\"}], \"pie\": [{\"automargin\": true, \"type\": \"pie\"}], \"scatter\": [{\"marker\": {\"colorbar\": {\"outlinewidth\": 0, \"ticks\": \"\"}}, \"type\": \"scatter\"}], \"scatter3d\": [{\"line\": {\"colorbar\": {\"outlinewidth\": 0, \"ticks\": \"\"}}, \"marker\": {\"colorbar\": {\"outlinewidth\": 0, \"ticks\": \"\"}}, \"type\": \"scatter3d\"}], \"scattercarpet\": [{\"marker\": {\"colorbar\": {\"outlinewidth\": 0, \"ticks\": \"\"}}, \"type\": \"scattercarpet\"}], \"scattergeo\": [{\"marker\": {\"colorbar\": {\"outlinewidth\": 0, \"ticks\": \"\"}}, \"type\": \"scattergeo\"}], \"scattergl\": [{\"marker\": {\"colorbar\": {\"outlinewidth\": 0, \"ticks\": \"\"}}, \"type\": \"scattergl\"}], \"scattermapbox\": [{\"marker\": {\"colorbar\": {\"outlinewidth\": 0, \"ticks\": \"\"}}, \"type\": \"scattermapbox\"}], \"scatterpolar\": [{\"marker\": {\"colorbar\": {\"outlinewidth\": 0, \"ticks\": \"\"}}, \"type\": \"scatterpolar\"}], \"scatterpolargl\": [{\"marker\": {\"colorbar\": {\"outlinewidth\": 0, \"ticks\": \"\"}}, \"type\": \"scatterpolargl\"}], \"scatterternary\": [{\"marker\": {\"colorbar\": {\"outlinewidth\": 0, \"ticks\": \"\"}}, \"type\": \"scatterternary\"}], \"surface\": [{\"colorbar\": {\"outlinewidth\": 0, \"ticks\": \"\"}, \"colorscale\": [[0.0, \"#0d0887\"], [0.1111111111111111, \"#46039f\"], [0.2222222222222222, \"#7201a8\"], [0.3333333333333333, \"#9c179e\"], [0.4444444444444444, \"#bd3786\"], [0.5555555555555556, \"#d8576b\"], [0.6666666666666666, \"#ed7953\"], [0.7777777777777778, \"#fb9f3a\"], [0.8888888888888888, \"#fdca26\"], [1.0, \"#f0f921\"]], \"type\": \"surface\"}], \"table\": [{\"cells\": {\"fill\": {\"color\": \"#EBF0F8\"}, \"line\": {\"color\": \"white\"}}, \"header\": {\"fill\": {\"color\": \"#C8D4E3\"}, \"line\": {\"color\": \"white\"}}, \"type\": \"table\"}]}, \"layout\": {\"annotationdefaults\": {\"arrowcolor\": \"#2a3f5f\", \"arrowhead\": 0, \"arrowwidth\": 1}, \"autotypenumbers\": \"strict\", \"coloraxis\": {\"colorbar\": {\"outlinewidth\": 0, \"ticks\": \"\"}}, \"colorscale\": {\"diverging\": [[0, \"#8e0152\"], [0.1, \"#c51b7d\"], [0.2, \"#de77ae\"], [0.3, \"#f1b6da\"], [0.4, \"#fde0ef\"], [0.5, \"#f7f7f7\"], [0.6, \"#e6f5d0\"], [0.7, \"#b8e186\"], [0.8, \"#7fbc41\"], [0.9, \"#4d9221\"], [1, \"#276419\"]], \"sequential\": [[0.0, \"#0d0887\"], [0.1111111111111111, \"#46039f\"], [0.2222222222222222, \"#7201a8\"], [0.3333333333333333, \"#9c179e\"], [0.4444444444444444, \"#bd3786\"], [0.5555555555555556, \"#d8576b\"], [0.6666666666666666, \"#ed7953\"], [0.7777777777777778, \"#fb9f3a\"], [0.8888888888888888, \"#fdca26\"], [1.0, \"#f0f921\"]], \"sequentialminus\": [[0.0, \"#0d0887\"], [0.1111111111111111, \"#46039f\"], [0.2222222222222222, \"#7201a8\"], [0.3333333333333333, \"#9c179e\"], [0.4444444444444444, \"#bd3786\"], [0.5555555555555556, \"#d8576b\"], [0.6666666666666666, \"#ed7953\"], [0.7777777777777778, \"#fb9f3a\"], [0.8888888888888888, \"#fdca26\"], [1.0, \"#f0f921\"]]}, \"colorway\": [\"#636efa\", \"#EF553B\", \"#00cc96\", \"#ab63fa\", \"#FFA15A\", \"#19d3f3\", \"#FF6692\", \"#B6E880\", \"#FF97FF\", \"#FECB52\"], \"font\": {\"color\": \"#2a3f5f\"}, \"geo\": {\"bgcolor\": \"white\", \"lakecolor\": \"white\", \"landcolor\": \"#E5ECF6\", \"showlakes\": true, \"showland\": true, \"subunitcolor\": \"white\"}, \"hoverlabel\": {\"align\": \"left\"}, \"hovermode\": \"closest\", \"mapbox\": {\"style\": \"light\"}, \"paper_bgcolor\": \"white\", \"plot_bgcolor\": \"#E5ECF6\", \"polar\": {\"angularaxis\": {\"gridcolor\": \"white\", \"linecolor\": \"white\", \"ticks\": \"\"}, \"bgcolor\": \"#E5ECF6\", \"radialaxis\": {\"gridcolor\": \"white\", \"linecolor\": \"white\", \"ticks\": \"\"}}, \"scene\": {\"xaxis\": {\"backgroundcolor\": \"#E5ECF6\", \"gridcolor\": \"white\", \"gridwidth\": 2, \"linecolor\": \"white\", \"showbackground\": true, \"ticks\": \"\", \"zerolinecolor\": \"white\"}, \"yaxis\": {\"backgroundcolor\": \"#E5ECF6\", \"gridcolor\": \"white\", \"gridwidth\": 2, \"linecolor\": \"white\", \"showbackground\": true, \"ticks\": \"\", \"zerolinecolor\": \"white\"}, \"zaxis\": {\"backgroundcolor\": \"#E5ECF6\", \"gridcolor\": \"white\", \"gridwidth\": 2, \"linecolor\": \"white\", \"showbackground\": true, \"ticks\": \"\", \"zerolinecolor\": \"white\"}}, \"shapedefaults\": {\"line\": {\"color\": \"#2a3f5f\"}}, \"ternary\": {\"aaxis\": {\"gridcolor\": \"white\", \"linecolor\": \"white\", \"ticks\": \"\"}, \"baxis\": {\"gridcolor\": \"white\", \"linecolor\": \"white\", \"ticks\": \"\"}, \"bgcolor\": \"#E5ECF6\", \"caxis\": {\"gridcolor\": \"white\", \"linecolor\": \"white\", \"ticks\": \"\"}}, \"title\": {\"x\": 0.05}, \"xaxis\": {\"automargin\": true, \"gridcolor\": \"white\", \"linecolor\": \"white\", \"ticks\": \"\", \"title\": {\"standoff\": 15}, \"zerolinecolor\": \"white\", \"zerolinewidth\": 2}, \"yaxis\": {\"automargin\": true, \"gridcolor\": \"white\", \"linecolor\": \"white\", \"ticks\": \"\", \"title\": {\"standoff\": 15}, \"zerolinecolor\": \"white\", \"zerolinewidth\": 2}}}, \"title\": {\"font\": {\"color\": \"#4D5663\"}}, \"xaxis\": {\"gridcolor\": \"#E1E5ED\", \"showgrid\": true, \"tickfont\": {\"color\": \"#4D5663\"}, \"title\": {\"font\": {\"color\": \"#4D5663\"}, \"text\": \"\"}, \"zerolinecolor\": \"#E1E5ED\"}, \"yaxis\": {\"gridcolor\": \"#E1E5ED\", \"showgrid\": true, \"tickfont\": {\"color\": \"#4D5663\"}, \"title\": {\"font\": {\"color\": \"#4D5663\"}, \"text\": \"\"}, \"zerolinecolor\": \"#E1E5ED\"}},                        {\"showLink\": true, \"linkText\": \"Export to plot.ly\", \"plotlyServerURL\": \"https://plot.ly\", \"responsive\": true}                    ).then(function(){\n",
       "                            \n",
       "var gd = document.getElementById('e49f7f43-6b79-4b5f-b495-3954ef708ec1');\n",
       "var x = new MutationObserver(function (mutations, observer) {{\n",
       "        var display = window.getComputedStyle(gd).display;\n",
       "        if (!display || display === 'none') {{\n",
       "            console.log([gd, 'removed!']);\n",
       "            Plotly.purge(gd);\n",
       "            observer.disconnect();\n",
       "        }}\n",
       "}});\n",
       "\n",
       "// Listen for the removal of the full notebook cells\n",
       "var notebookContainer = gd.closest('#notebook-container');\n",
       "if (notebookContainer) {{\n",
       "    x.observe(notebookContainer, {childList: true});\n",
       "}}\n",
       "\n",
       "// Listen for the clearing of the current output cell\n",
       "var outputEl = gd.closest('.output');\n",
       "if (outputEl) {{\n",
       "    x.observe(outputEl, {childList: true});\n",
       "}}\n",
       "\n",
       "                        })                };                });            </script>        </div>"
      ]
     },
     "metadata": {},
     "output_type": "display_data"
    }
   ],
   "source": [
    "df.iplot(kind='bubble',x='A',y='B',size='C')"
   ]
  },
  {
   "cell_type": "markdown",
   "metadata": {},
   "source": [
    "## scatter_matrix()\n",
    "\n",
    "Similar to sns.pairplot()"
   ]
  },
  {
   "cell_type": "code",
   "execution_count": 21,
   "metadata": {},
   "outputs": [
    {
     "data": {
      "application/vnd.plotly.v1+json": {
       "config": {
        "linkText": "Export to plot.ly",
        "plotlyServerURL": "https://plot.ly",
        "showLink": true
       },
       "data": [
        {
         "histfunc": "count",
         "histnorm": "",
         "marker": {
          "color": "rgba(255, 153, 51, 1.0)",
          "line": {
           "color": "#4D5663",
           "width": 1.3
          }
         },
         "name": "A",
         "nbinsx": 10,
         "opacity": 0.8,
         "orientation": "v",
         "type": "histogram",
         "x": [
          0.8784182869438022,
          -0.3806389397043157,
          -0.015161610170961225,
          -0.9016207963843829,
          1.5014835535230446,
          0.638181087090259,
          -0.17587623889792092,
          -0.664965902036214,
          -0.5503517666986742,
          0.7412790574276407,
          -0.3413855854978848,
          -0.14321019701085397,
          0.6189236491204758,
          -1.3274582091937592,
          -0.6011515749002577,
          -0.3711948051377429,
          0.22774803593324108,
          -0.1799100326269736,
          -0.751501350518013,
          1.2726380379037925,
          0.17853445966183684,
          0.9029346884572302,
          -0.30475724605130877,
          1.1242992014697217,
          -0.34803042426193503,
          -0.2789327833471177,
          -0.48089000530870313,
          -0.8898578379398597,
          -0.4052291987803923,
          0.13910870604580186,
          -1.5928955584327276,
          1.087535267725178,
          -1.0477189352750904,
          -0.28876647921209253,
          0.23969910604040176,
          -1.047455217258851,
          -0.5833553130384778,
          0.02618941267039,
          -1.3134439425363735,
          0.37447051250925434,
          -0.23665849744398545,
          0.38366374968200445,
          0.38879693498090745,
          -2.489474520445726,
          -1.9558898206788757,
          -1.2820583243852897,
          1.6396600196257145,
          0.3257421775403651,
          0.268439850249584,
          0.254911311026306,
          -0.039997268578202474,
          -1.7304810128630073,
          0.8792983780516312,
          -0.34944303317429876,
          -0.24483344544345187,
          1.3422438252491682,
          -0.019157905591640125,
          0.48254027223419876,
          0.22916419374642585,
          -1.10244764076685,
          0.4387464394595617,
          0.49869501960824053,
          0.8896596416653044,
          -2.2247096358959375,
          0.25806961050697097,
          -0.8950588291502402,
          1.077536774493091,
          1.392456455805473,
          1.8714710818287612,
          -0.9079560039649784,
          0.5852837098112604,
          -1.3540490258003222,
          1.5937634330895467,
          1.136176797108421,
          -1.228998731272284,
          0.32499698703778784,
          -1.0600488813061035,
          0.16014813932158212,
          -0.11395722536452274,
          0.5525871357354079,
          0.1992200743903423,
          1.4432928977698434,
          -0.053842849506307945,
          0.5796916613556059,
          -0.13646583791057929,
          1.1385161923835618,
          0.25425497724742774,
          0.06459608638843127,
          -0.8272692613159764,
          -0.13056663733668503,
          1.9531971698255062,
          -1.200128548980169,
          -0.7083682008920325,
          0.046109888970466854,
          -0.1794017215311147,
          -0.2804450420349651,
          0.47294127780493245,
          -0.7939966373692098,
          0.3515341825448959,
          2.4246217604627764
         ],
         "xaxis": "x",
         "yaxis": "y"
        },
        {
         "line": {
          "color": "rgba(128, 128, 128, 1.0)",
          "dash": "solid",
          "shape": "linear",
          "width": 1.3
         },
         "marker": {
          "size": 2,
          "symbol": "circle"
         },
         "mode": "markers",
         "name": "A",
         "text": "",
         "type": "scatter",
         "x": [
          -0.4930365779602038,
          0.3250304022261739,
          0.9583344497638379,
          0.18987007370510067,
          1.3116461956482248,
          -0.6220817679528079,
          1.1176365968869961,
          -0.9258464578846678,
          -1.2240936631275416,
          -1.233544955793205,
          -0.3237490841563232,
          0.9123258973854688,
          0.22842642137253671,
          0.97394659908097,
          0.7117637750549505,
          -0.5015085289746392,
          -0.20916801428743456,
          1.2552264592940754,
          -0.08368782602850174,
          0.3695360809011424,
          0.37111403545690363,
          0.6782737012924119,
          0.4797622410012238,
          2.911253138754174,
          -1.512623993787851,
          -2.56331258059585,
          0.5615782223372155,
          -0.835984426866699,
          -0.44454088029925015,
          0.23385361385822392,
          0.649676684703017,
          0.33734517766819383,
          0.07386186184447749,
          1.2849074240198488,
          -0.7590870044987608,
          0.9617909879870938,
          0.7792637515682848,
          0.19076653572726923,
          -0.9743666833686444,
          0.6382514812525082,
          -0.5440458953899364,
          0.7456070716698415,
          0.12989614246183692,
          -1.6423156210534684,
          1.7163396732325287,
          -0.45416706950050567,
          0.4441043716591119,
          -1.224061455455319,
          0.5332178930668302,
          2.019759276110566,
          0.36277696743342686,
          -1.8556915806269134,
          0.492238886798876,
          -1.54995228762088,
          -0.04113350096243654,
          -0.6434973828541718,
          0.8661086529225488,
          0.9989323504656847,
          0.541137576993134,
          1.2391192072924329,
          0.5745147693028827,
          -0.2414084320240968,
          0.541309991070589,
          0.7859289747510708,
          1.4831153439368039,
          -0.5254666265863034,
          -0.7021612584368963,
          -0.28667722150976127,
          0.6385384203001963,
          0.1594149116250348,
          -1.4050472102870275,
          -0.7673306354425335,
          0.7441053584114531,
          -0.31765516460868404,
          1.6164404742814527,
          1.243123471433262,
          0.49469166601581016,
          0.06350558800969401,
          0.6383441449086565,
          0.16265538575948088,
          -0.4586828174957983,
          -1.997774359164692,
          0.3451467817844908,
          -0.9849906422659223,
          1.296687209780314,
          -0.617686845046229,
          -0.8107617488505277,
          -0.6900329691237589,
          -0.37413489066330313,
          -0.6005443256657182,
          -1.046402165049117,
          0.4896257869686791,
          0.5601417492243187,
          -1.383651457886147,
          0.8410728557430217,
          -0.405818172853134,
          -0.3831616014981088,
          0.4658052982328494,
          0.20681148045450257,
          0.4565200818659963
         ],
         "xaxis": "x2",
         "y": [
          0.8784182869438022,
          -0.3806389397043157,
          -0.015161610170961225,
          -0.9016207963843829,
          1.5014835535230446,
          0.638181087090259,
          -0.17587623889792092,
          -0.664965902036214,
          -0.5503517666986742,
          0.7412790574276407,
          -0.3413855854978848,
          -0.14321019701085397,
          0.6189236491204758,
          -1.3274582091937592,
          -0.6011515749002577,
          -0.3711948051377429,
          0.22774803593324108,
          -0.1799100326269736,
          -0.751501350518013,
          1.2726380379037925,
          0.17853445966183684,
          0.9029346884572302,
          -0.30475724605130877,
          1.1242992014697217,
          -0.34803042426193503,
          -0.2789327833471177,
          -0.48089000530870313,
          -0.8898578379398597,
          -0.4052291987803923,
          0.13910870604580186,
          -1.5928955584327276,
          1.087535267725178,
          -1.0477189352750904,
          -0.28876647921209253,
          0.23969910604040176,
          -1.047455217258851,
          -0.5833553130384778,
          0.02618941267039,
          -1.3134439425363735,
          0.37447051250925434,
          -0.23665849744398545,
          0.38366374968200445,
          0.38879693498090745,
          -2.489474520445726,
          -1.9558898206788757,
          -1.2820583243852897,
          1.6396600196257145,
          0.3257421775403651,
          0.268439850249584,
          0.254911311026306,
          -0.039997268578202474,
          -1.7304810128630073,
          0.8792983780516312,
          -0.34944303317429876,
          -0.24483344544345187,
          1.3422438252491682,
          -0.019157905591640125,
          0.48254027223419876,
          0.22916419374642585,
          -1.10244764076685,
          0.4387464394595617,
          0.49869501960824053,
          0.8896596416653044,
          -2.2247096358959375,
          0.25806961050697097,
          -0.8950588291502402,
          1.077536774493091,
          1.392456455805473,
          1.8714710818287612,
          -0.9079560039649784,
          0.5852837098112604,
          -1.3540490258003222,
          1.5937634330895467,
          1.136176797108421,
          -1.228998731272284,
          0.32499698703778784,
          -1.0600488813061035,
          0.16014813932158212,
          -0.11395722536452274,
          0.5525871357354079,
          0.1992200743903423,
          1.4432928977698434,
          -0.053842849506307945,
          0.5796916613556059,
          -0.13646583791057929,
          1.1385161923835618,
          0.25425497724742774,
          0.06459608638843127,
          -0.8272692613159764,
          -0.13056663733668503,
          1.9531971698255062,
          -1.200128548980169,
          -0.7083682008920325,
          0.046109888970466854,
          -0.1794017215311147,
          -0.2804450420349651,
          0.47294127780493245,
          -0.7939966373692098,
          0.3515341825448959,
          2.4246217604627764
         ],
         "yaxis": "y2"
        },
        {
         "line": {
          "color": "rgba(128, 128, 128, 1.0)",
          "dash": "solid",
          "shape": "linear",
          "width": 1.3
         },
         "marker": {
          "size": 2,
          "symbol": "circle"
         },
         "mode": "markers",
         "name": "A",
         "text": "",
         "type": "scatter",
         "x": [
          1.500706888198252,
          0.4626380430580365,
          1.1650512666383757,
          1.7142254561170285,
          0.1539844717715234,
          -0.2732552156647188,
          -0.20030091534607036,
          1.0918379149903092,
          0.9008210124185305,
          0.18245382786094433,
          -0.30755670004941127,
          0.0992352675038754,
          -2.0423540078113125,
          1.6339540613493813,
          -1.3486388693569185,
          0.7302063716924077,
          -0.10420934964050436,
          -0.6851335015827352,
          0.9013979117975525,
          -1.004192908545839,
          0.2501581953470005,
          1.8360835590276545,
          1.071040887552531,
          0.6555635807597393,
          -0.5508156931449266,
          1.6340686944429952,
          0.24869216205157882,
          -0.331711283057869,
          -0.42068117872117666,
          0.12291202975103795,
          0.8150104044450903,
          1.0360073838239503,
          0.9307964208333379,
          0.7061960120649322,
          0.7509560170371947,
          1.229871460861379,
          -0.9082891948308699,
          -0.6253894762549496,
          0.4583535570964156,
          0.03617940272864027,
          -0.3033517172401607,
          -0.9474593473748577,
          0.8814537933101844,
          0.792930097806262,
          0.624335096417186,
          -0.8581490191791381,
          -1.4687629162239995,
          -0.7006170792064712,
          0.8107509674595839,
          0.27947282996035067,
          0.5465992493227325,
          -1.5842002859620234,
          0.31430544164532437,
          -0.005012709155082159,
          0.7639312655016676,
          -1.1523680672664105,
          1.5246899317433875,
          -1.767640083860489,
          0.29266282512600844,
          0.2423345876705051,
          1.5667849577849062,
          -1.8069741434569542,
          0.6721413263814878,
          -0.4367502491786467,
          -2.8082319589973084,
          -0.8139335969049255,
          -0.17739763345626064,
          0.2535508941542086,
          -0.06392141289709034,
          -0.002096316762234468,
          -0.32560483887986535,
          0.4017226746678383,
          0.8810378533108364,
          -1.2120505469901488,
          0.9252240442339137,
          1.1944548776685913,
          -0.5314053614017786,
          0.9592246397370383,
          -0.14195206311847106,
          0.648351940351426,
          -1.6443752083364018,
          0.3916535644836725,
          1.5870359419255373,
          0.8982527093055426,
          1.3595560760113108,
          0.36504464458630037,
          -1.8190891886726197,
          0.4217168365382286,
          -0.43694526067309253,
          -0.9249276511682633,
          0.8432761663518943,
          -0.29978140858588587,
          -0.6657049896937373,
          0.6932133361840458,
          -2.1145628345737104,
          0.5978049830549731,
          -0.3003603316644389,
          0.434879860393503,
          1.2909651686238386,
          1.236513797583111
         ],
         "xaxis": "x3",
         "y": [
          0.8784182869438022,
          -0.3806389397043157,
          -0.015161610170961225,
          -0.9016207963843829,
          1.5014835535230446,
          0.638181087090259,
          -0.17587623889792092,
          -0.664965902036214,
          -0.5503517666986742,
          0.7412790574276407,
          -0.3413855854978848,
          -0.14321019701085397,
          0.6189236491204758,
          -1.3274582091937592,
          -0.6011515749002577,
          -0.3711948051377429,
          0.22774803593324108,
          -0.1799100326269736,
          -0.751501350518013,
          1.2726380379037925,
          0.17853445966183684,
          0.9029346884572302,
          -0.30475724605130877,
          1.1242992014697217,
          -0.34803042426193503,
          -0.2789327833471177,
          -0.48089000530870313,
          -0.8898578379398597,
          -0.4052291987803923,
          0.13910870604580186,
          -1.5928955584327276,
          1.087535267725178,
          -1.0477189352750904,
          -0.28876647921209253,
          0.23969910604040176,
          -1.047455217258851,
          -0.5833553130384778,
          0.02618941267039,
          -1.3134439425363735,
          0.37447051250925434,
          -0.23665849744398545,
          0.38366374968200445,
          0.38879693498090745,
          -2.489474520445726,
          -1.9558898206788757,
          -1.2820583243852897,
          1.6396600196257145,
          0.3257421775403651,
          0.268439850249584,
          0.254911311026306,
          -0.039997268578202474,
          -1.7304810128630073,
          0.8792983780516312,
          -0.34944303317429876,
          -0.24483344544345187,
          1.3422438252491682,
          -0.019157905591640125,
          0.48254027223419876,
          0.22916419374642585,
          -1.10244764076685,
          0.4387464394595617,
          0.49869501960824053,
          0.8896596416653044,
          -2.2247096358959375,
          0.25806961050697097,
          -0.8950588291502402,
          1.077536774493091,
          1.392456455805473,
          1.8714710818287612,
          -0.9079560039649784,
          0.5852837098112604,
          -1.3540490258003222,
          1.5937634330895467,
          1.136176797108421,
          -1.228998731272284,
          0.32499698703778784,
          -1.0600488813061035,
          0.16014813932158212,
          -0.11395722536452274,
          0.5525871357354079,
          0.1992200743903423,
          1.4432928977698434,
          -0.053842849506307945,
          0.5796916613556059,
          -0.13646583791057929,
          1.1385161923835618,
          0.25425497724742774,
          0.06459608638843127,
          -0.8272692613159764,
          -0.13056663733668503,
          1.9531971698255062,
          -1.200128548980169,
          -0.7083682008920325,
          0.046109888970466854,
          -0.1794017215311147,
          -0.2804450420349651,
          0.47294127780493245,
          -0.7939966373692098,
          0.3515341825448959,
          2.4246217604627764
         ],
         "yaxis": "y3"
        },
        {
         "line": {
          "color": "rgba(128, 128, 128, 1.0)",
          "dash": "solid",
          "shape": "linear",
          "width": 1.3
         },
         "marker": {
          "size": 2,
          "symbol": "circle"
         },
         "mode": "markers",
         "name": "A",
         "text": "",
         "type": "scatter",
         "x": [
          0.09619778561893773,
          2.3718711032826993,
          -0.7350090454655396,
          -0.19375323607714165,
          0.32541558206751314,
          -0.03568210209281752,
          -0.37221205498497,
          -1.8185103536645288,
          1.5053320447719372,
          -1.4108976748031865,
          2.614671556032302,
          0.37173765003320236,
          -0.3310116001538482,
          1.0606300085721005,
          -0.7015101848106754,
          -0.10272917711433686,
          -0.48464703657907265,
          -0.3049608592468676,
          1.0168256775698932,
          1.3041426892568055,
          0.227282186764907,
          0.6026161573510717,
          -0.9088215682061821,
          -0.9388164277967703,
          0.6687852808467871,
          -0.4242854141213294,
          1.0965187952818678,
          -1.2434611584040602,
          0.6999126506219229,
          0.4277860690451645,
          -0.06811208520424537,
          -0.4282103783931777,
          -0.3074209535534217,
          -0.25242627682283586,
          0.9012363488017996,
          -0.3481850680393719,
          -0.14349131531173503,
          1.7083868480111033,
          0.9585831035330805,
          0.7909936100523438,
          0.557460467045621,
          -0.5030614557033,
          -0.09116025613533921,
          0.4007025188140722,
          -0.6821193034869832,
          -1.7527305323776292,
          -1.1412273282567689,
          -0.9226230729338252,
          -0.8322645249443698,
          0.26975965660919726,
          0.9885535567140861,
          -1.342142942512881,
          1.0495199684120897,
          -0.8661106538948654,
          -0.7449905540190652,
          0.41238366245717695,
          0.29887607839836666,
          -0.039306633826568294,
          -0.11337667669361165,
          -1.0264200421407708,
          -0.5322397651365385,
          2.091940537625189,
          0.15041061867569272,
          0.6084366295322634,
          -0.5546623989673322,
          1.111419240245961,
          -0.7655760723329117,
          0.23980897570051066,
          0.3507632684420595,
          -1.274174914948869,
          0.7145136544106467,
          0.4460848231109961,
          -2.0374974122194978,
          2.2255746539641614,
          0.018127346474249947,
          -0.964579357706184,
          -0.9075752451406188,
          1.8577006873832411,
          -0.5673188525233243,
          -0.535806276496681,
          -0.6229537031685048,
          1.01801919299748,
          1.0471203739036494,
          0.3307869879152975,
          -0.3673171993217387,
          1.0270694485741976,
          1.2568027156619328,
          -0.3403770233571368,
          -0.8343727028699456,
          0.06890535553288837,
          -1.415029120935102,
          -0.7317121999156917,
          -0.8111375167247362,
          -0.5046598501032468,
          -0.1868198776252593,
          1.212295789688365,
          -0.4317194192036839,
          2.9649213489069064,
          -0.23007536308025497,
          0.8371789584822209
         ],
         "xaxis": "x4",
         "y": [
          0.8784182869438022,
          -0.3806389397043157,
          -0.015161610170961225,
          -0.9016207963843829,
          1.5014835535230446,
          0.638181087090259,
          -0.17587623889792092,
          -0.664965902036214,
          -0.5503517666986742,
          0.7412790574276407,
          -0.3413855854978848,
          -0.14321019701085397,
          0.6189236491204758,
          -1.3274582091937592,
          -0.6011515749002577,
          -0.3711948051377429,
          0.22774803593324108,
          -0.1799100326269736,
          -0.751501350518013,
          1.2726380379037925,
          0.17853445966183684,
          0.9029346884572302,
          -0.30475724605130877,
          1.1242992014697217,
          -0.34803042426193503,
          -0.2789327833471177,
          -0.48089000530870313,
          -0.8898578379398597,
          -0.4052291987803923,
          0.13910870604580186,
          -1.5928955584327276,
          1.087535267725178,
          -1.0477189352750904,
          -0.28876647921209253,
          0.23969910604040176,
          -1.047455217258851,
          -0.5833553130384778,
          0.02618941267039,
          -1.3134439425363735,
          0.37447051250925434,
          -0.23665849744398545,
          0.38366374968200445,
          0.38879693498090745,
          -2.489474520445726,
          -1.9558898206788757,
          -1.2820583243852897,
          1.6396600196257145,
          0.3257421775403651,
          0.268439850249584,
          0.254911311026306,
          -0.039997268578202474,
          -1.7304810128630073,
          0.8792983780516312,
          -0.34944303317429876,
          -0.24483344544345187,
          1.3422438252491682,
          -0.019157905591640125,
          0.48254027223419876,
          0.22916419374642585,
          -1.10244764076685,
          0.4387464394595617,
          0.49869501960824053,
          0.8896596416653044,
          -2.2247096358959375,
          0.25806961050697097,
          -0.8950588291502402,
          1.077536774493091,
          1.392456455805473,
          1.8714710818287612,
          -0.9079560039649784,
          0.5852837098112604,
          -1.3540490258003222,
          1.5937634330895467,
          1.136176797108421,
          -1.228998731272284,
          0.32499698703778784,
          -1.0600488813061035,
          0.16014813932158212,
          -0.11395722536452274,
          0.5525871357354079,
          0.1992200743903423,
          1.4432928977698434,
          -0.053842849506307945,
          0.5796916613556059,
          -0.13646583791057929,
          1.1385161923835618,
          0.25425497724742774,
          0.06459608638843127,
          -0.8272692613159764,
          -0.13056663733668503,
          1.9531971698255062,
          -1.200128548980169,
          -0.7083682008920325,
          0.046109888970466854,
          -0.1794017215311147,
          -0.2804450420349651,
          0.47294127780493245,
          -0.7939966373692098,
          0.3515341825448959,
          2.4246217604627764
         ],
         "yaxis": "y4"
        },
        {
         "line": {
          "color": "rgba(128, 128, 128, 1.0)",
          "dash": "solid",
          "shape": "linear",
          "width": 1.3
         },
         "marker": {
          "size": 2,
          "symbol": "circle"
         },
         "mode": "markers",
         "name": "B",
         "text": "",
         "type": "scatter",
         "x": [
          0.8784182869438022,
          -0.3806389397043157,
          -0.015161610170961225,
          -0.9016207963843829,
          1.5014835535230446,
          0.638181087090259,
          -0.17587623889792092,
          -0.664965902036214,
          -0.5503517666986742,
          0.7412790574276407,
          -0.3413855854978848,
          -0.14321019701085397,
          0.6189236491204758,
          -1.3274582091937592,
          -0.6011515749002577,
          -0.3711948051377429,
          0.22774803593324108,
          -0.1799100326269736,
          -0.751501350518013,
          1.2726380379037925,
          0.17853445966183684,
          0.9029346884572302,
          -0.30475724605130877,
          1.1242992014697217,
          -0.34803042426193503,
          -0.2789327833471177,
          -0.48089000530870313,
          -0.8898578379398597,
          -0.4052291987803923,
          0.13910870604580186,
          -1.5928955584327276,
          1.087535267725178,
          -1.0477189352750904,
          -0.28876647921209253,
          0.23969910604040176,
          -1.047455217258851,
          -0.5833553130384778,
          0.02618941267039,
          -1.3134439425363735,
          0.37447051250925434,
          -0.23665849744398545,
          0.38366374968200445,
          0.38879693498090745,
          -2.489474520445726,
          -1.9558898206788757,
          -1.2820583243852897,
          1.6396600196257145,
          0.3257421775403651,
          0.268439850249584,
          0.254911311026306,
          -0.039997268578202474,
          -1.7304810128630073,
          0.8792983780516312,
          -0.34944303317429876,
          -0.24483344544345187,
          1.3422438252491682,
          -0.019157905591640125,
          0.48254027223419876,
          0.22916419374642585,
          -1.10244764076685,
          0.4387464394595617,
          0.49869501960824053,
          0.8896596416653044,
          -2.2247096358959375,
          0.25806961050697097,
          -0.8950588291502402,
          1.077536774493091,
          1.392456455805473,
          1.8714710818287612,
          -0.9079560039649784,
          0.5852837098112604,
          -1.3540490258003222,
          1.5937634330895467,
          1.136176797108421,
          -1.228998731272284,
          0.32499698703778784,
          -1.0600488813061035,
          0.16014813932158212,
          -0.11395722536452274,
          0.5525871357354079,
          0.1992200743903423,
          1.4432928977698434,
          -0.053842849506307945,
          0.5796916613556059,
          -0.13646583791057929,
          1.1385161923835618,
          0.25425497724742774,
          0.06459608638843127,
          -0.8272692613159764,
          -0.13056663733668503,
          1.9531971698255062,
          -1.200128548980169,
          -0.7083682008920325,
          0.046109888970466854,
          -0.1794017215311147,
          -0.2804450420349651,
          0.47294127780493245,
          -0.7939966373692098,
          0.3515341825448959,
          2.4246217604627764
         ],
         "xaxis": "x5",
         "y": [
          -0.4930365779602038,
          0.3250304022261739,
          0.9583344497638379,
          0.18987007370510067,
          1.3116461956482248,
          -0.6220817679528079,
          1.1176365968869961,
          -0.9258464578846678,
          -1.2240936631275416,
          -1.233544955793205,
          -0.3237490841563232,
          0.9123258973854688,
          0.22842642137253671,
          0.97394659908097,
          0.7117637750549505,
          -0.5015085289746392,
          -0.20916801428743456,
          1.2552264592940754,
          -0.08368782602850174,
          0.3695360809011424,
          0.37111403545690363,
          0.6782737012924119,
          0.4797622410012238,
          2.911253138754174,
          -1.512623993787851,
          -2.56331258059585,
          0.5615782223372155,
          -0.835984426866699,
          -0.44454088029925015,
          0.23385361385822392,
          0.649676684703017,
          0.33734517766819383,
          0.07386186184447749,
          1.2849074240198488,
          -0.7590870044987608,
          0.9617909879870938,
          0.7792637515682848,
          0.19076653572726923,
          -0.9743666833686444,
          0.6382514812525082,
          -0.5440458953899364,
          0.7456070716698415,
          0.12989614246183692,
          -1.6423156210534684,
          1.7163396732325287,
          -0.45416706950050567,
          0.4441043716591119,
          -1.224061455455319,
          0.5332178930668302,
          2.019759276110566,
          0.36277696743342686,
          -1.8556915806269134,
          0.492238886798876,
          -1.54995228762088,
          -0.04113350096243654,
          -0.6434973828541718,
          0.8661086529225488,
          0.9989323504656847,
          0.541137576993134,
          1.2391192072924329,
          0.5745147693028827,
          -0.2414084320240968,
          0.541309991070589,
          0.7859289747510708,
          1.4831153439368039,
          -0.5254666265863034,
          -0.7021612584368963,
          -0.28667722150976127,
          0.6385384203001963,
          0.1594149116250348,
          -1.4050472102870275,
          -0.7673306354425335,
          0.7441053584114531,
          -0.31765516460868404,
          1.6164404742814527,
          1.243123471433262,
          0.49469166601581016,
          0.06350558800969401,
          0.6383441449086565,
          0.16265538575948088,
          -0.4586828174957983,
          -1.997774359164692,
          0.3451467817844908,
          -0.9849906422659223,
          1.296687209780314,
          -0.617686845046229,
          -0.8107617488505277,
          -0.6900329691237589,
          -0.37413489066330313,
          -0.6005443256657182,
          -1.046402165049117,
          0.4896257869686791,
          0.5601417492243187,
          -1.383651457886147,
          0.8410728557430217,
          -0.405818172853134,
          -0.3831616014981088,
          0.4658052982328494,
          0.20681148045450257,
          0.4565200818659963
         ],
         "yaxis": "y5"
        },
        {
         "histfunc": "count",
         "histnorm": "",
         "marker": {
          "color": "rgba(55, 128, 191, 1.0)",
          "line": {
           "color": "#4D5663",
           "width": 1.3
          }
         },
         "name": "B",
         "nbinsx": 10,
         "opacity": 0.8,
         "orientation": "v",
         "type": "histogram",
         "x": [
          -0.4930365779602038,
          0.3250304022261739,
          0.9583344497638379,
          0.18987007370510067,
          1.3116461956482248,
          -0.6220817679528079,
          1.1176365968869961,
          -0.9258464578846678,
          -1.2240936631275416,
          -1.233544955793205,
          -0.3237490841563232,
          0.9123258973854688,
          0.22842642137253671,
          0.97394659908097,
          0.7117637750549505,
          -0.5015085289746392,
          -0.20916801428743456,
          1.2552264592940754,
          -0.08368782602850174,
          0.3695360809011424,
          0.37111403545690363,
          0.6782737012924119,
          0.4797622410012238,
          2.911253138754174,
          -1.512623993787851,
          -2.56331258059585,
          0.5615782223372155,
          -0.835984426866699,
          -0.44454088029925015,
          0.23385361385822392,
          0.649676684703017,
          0.33734517766819383,
          0.07386186184447749,
          1.2849074240198488,
          -0.7590870044987608,
          0.9617909879870938,
          0.7792637515682848,
          0.19076653572726923,
          -0.9743666833686444,
          0.6382514812525082,
          -0.5440458953899364,
          0.7456070716698415,
          0.12989614246183692,
          -1.6423156210534684,
          1.7163396732325287,
          -0.45416706950050567,
          0.4441043716591119,
          -1.224061455455319,
          0.5332178930668302,
          2.019759276110566,
          0.36277696743342686,
          -1.8556915806269134,
          0.492238886798876,
          -1.54995228762088,
          -0.04113350096243654,
          -0.6434973828541718,
          0.8661086529225488,
          0.9989323504656847,
          0.541137576993134,
          1.2391192072924329,
          0.5745147693028827,
          -0.2414084320240968,
          0.541309991070589,
          0.7859289747510708,
          1.4831153439368039,
          -0.5254666265863034,
          -0.7021612584368963,
          -0.28667722150976127,
          0.6385384203001963,
          0.1594149116250348,
          -1.4050472102870275,
          -0.7673306354425335,
          0.7441053584114531,
          -0.31765516460868404,
          1.6164404742814527,
          1.243123471433262,
          0.49469166601581016,
          0.06350558800969401,
          0.6383441449086565,
          0.16265538575948088,
          -0.4586828174957983,
          -1.997774359164692,
          0.3451467817844908,
          -0.9849906422659223,
          1.296687209780314,
          -0.617686845046229,
          -0.8107617488505277,
          -0.6900329691237589,
          -0.37413489066330313,
          -0.6005443256657182,
          -1.046402165049117,
          0.4896257869686791,
          0.5601417492243187,
          -1.383651457886147,
          0.8410728557430217,
          -0.405818172853134,
          -0.3831616014981088,
          0.4658052982328494,
          0.20681148045450257,
          0.4565200818659963
         ],
         "xaxis": "x6",
         "yaxis": "y6"
        },
        {
         "line": {
          "color": "rgba(128, 128, 128, 1.0)",
          "dash": "solid",
          "shape": "linear",
          "width": 1.3
         },
         "marker": {
          "size": 2,
          "symbol": "circle"
         },
         "mode": "markers",
         "name": "B",
         "text": "",
         "type": "scatter",
         "x": [
          1.500706888198252,
          0.4626380430580365,
          1.1650512666383757,
          1.7142254561170285,
          0.1539844717715234,
          -0.2732552156647188,
          -0.20030091534607036,
          1.0918379149903092,
          0.9008210124185305,
          0.18245382786094433,
          -0.30755670004941127,
          0.0992352675038754,
          -2.0423540078113125,
          1.6339540613493813,
          -1.3486388693569185,
          0.7302063716924077,
          -0.10420934964050436,
          -0.6851335015827352,
          0.9013979117975525,
          -1.004192908545839,
          0.2501581953470005,
          1.8360835590276545,
          1.071040887552531,
          0.6555635807597393,
          -0.5508156931449266,
          1.6340686944429952,
          0.24869216205157882,
          -0.331711283057869,
          -0.42068117872117666,
          0.12291202975103795,
          0.8150104044450903,
          1.0360073838239503,
          0.9307964208333379,
          0.7061960120649322,
          0.7509560170371947,
          1.229871460861379,
          -0.9082891948308699,
          -0.6253894762549496,
          0.4583535570964156,
          0.03617940272864027,
          -0.3033517172401607,
          -0.9474593473748577,
          0.8814537933101844,
          0.792930097806262,
          0.624335096417186,
          -0.8581490191791381,
          -1.4687629162239995,
          -0.7006170792064712,
          0.8107509674595839,
          0.27947282996035067,
          0.5465992493227325,
          -1.5842002859620234,
          0.31430544164532437,
          -0.005012709155082159,
          0.7639312655016676,
          -1.1523680672664105,
          1.5246899317433875,
          -1.767640083860489,
          0.29266282512600844,
          0.2423345876705051,
          1.5667849577849062,
          -1.8069741434569542,
          0.6721413263814878,
          -0.4367502491786467,
          -2.8082319589973084,
          -0.8139335969049255,
          -0.17739763345626064,
          0.2535508941542086,
          -0.06392141289709034,
          -0.002096316762234468,
          -0.32560483887986535,
          0.4017226746678383,
          0.8810378533108364,
          -1.2120505469901488,
          0.9252240442339137,
          1.1944548776685913,
          -0.5314053614017786,
          0.9592246397370383,
          -0.14195206311847106,
          0.648351940351426,
          -1.6443752083364018,
          0.3916535644836725,
          1.5870359419255373,
          0.8982527093055426,
          1.3595560760113108,
          0.36504464458630037,
          -1.8190891886726197,
          0.4217168365382286,
          -0.43694526067309253,
          -0.9249276511682633,
          0.8432761663518943,
          -0.29978140858588587,
          -0.6657049896937373,
          0.6932133361840458,
          -2.1145628345737104,
          0.5978049830549731,
          -0.3003603316644389,
          0.434879860393503,
          1.2909651686238386,
          1.236513797583111
         ],
         "xaxis": "x7",
         "y": [
          -0.4930365779602038,
          0.3250304022261739,
          0.9583344497638379,
          0.18987007370510067,
          1.3116461956482248,
          -0.6220817679528079,
          1.1176365968869961,
          -0.9258464578846678,
          -1.2240936631275416,
          -1.233544955793205,
          -0.3237490841563232,
          0.9123258973854688,
          0.22842642137253671,
          0.97394659908097,
          0.7117637750549505,
          -0.5015085289746392,
          -0.20916801428743456,
          1.2552264592940754,
          -0.08368782602850174,
          0.3695360809011424,
          0.37111403545690363,
          0.6782737012924119,
          0.4797622410012238,
          2.911253138754174,
          -1.512623993787851,
          -2.56331258059585,
          0.5615782223372155,
          -0.835984426866699,
          -0.44454088029925015,
          0.23385361385822392,
          0.649676684703017,
          0.33734517766819383,
          0.07386186184447749,
          1.2849074240198488,
          -0.7590870044987608,
          0.9617909879870938,
          0.7792637515682848,
          0.19076653572726923,
          -0.9743666833686444,
          0.6382514812525082,
          -0.5440458953899364,
          0.7456070716698415,
          0.12989614246183692,
          -1.6423156210534684,
          1.7163396732325287,
          -0.45416706950050567,
          0.4441043716591119,
          -1.224061455455319,
          0.5332178930668302,
          2.019759276110566,
          0.36277696743342686,
          -1.8556915806269134,
          0.492238886798876,
          -1.54995228762088,
          -0.04113350096243654,
          -0.6434973828541718,
          0.8661086529225488,
          0.9989323504656847,
          0.541137576993134,
          1.2391192072924329,
          0.5745147693028827,
          -0.2414084320240968,
          0.541309991070589,
          0.7859289747510708,
          1.4831153439368039,
          -0.5254666265863034,
          -0.7021612584368963,
          -0.28667722150976127,
          0.6385384203001963,
          0.1594149116250348,
          -1.4050472102870275,
          -0.7673306354425335,
          0.7441053584114531,
          -0.31765516460868404,
          1.6164404742814527,
          1.243123471433262,
          0.49469166601581016,
          0.06350558800969401,
          0.6383441449086565,
          0.16265538575948088,
          -0.4586828174957983,
          -1.997774359164692,
          0.3451467817844908,
          -0.9849906422659223,
          1.296687209780314,
          -0.617686845046229,
          -0.8107617488505277,
          -0.6900329691237589,
          -0.37413489066330313,
          -0.6005443256657182,
          -1.046402165049117,
          0.4896257869686791,
          0.5601417492243187,
          -1.383651457886147,
          0.8410728557430217,
          -0.405818172853134,
          -0.3831616014981088,
          0.4658052982328494,
          0.20681148045450257,
          0.4565200818659963
         ],
         "yaxis": "y7"
        },
        {
         "line": {
          "color": "rgba(128, 128, 128, 1.0)",
          "dash": "solid",
          "shape": "linear",
          "width": 1.3
         },
         "marker": {
          "size": 2,
          "symbol": "circle"
         },
         "mode": "markers",
         "name": "B",
         "text": "",
         "type": "scatter",
         "x": [
          0.09619778561893773,
          2.3718711032826993,
          -0.7350090454655396,
          -0.19375323607714165,
          0.32541558206751314,
          -0.03568210209281752,
          -0.37221205498497,
          -1.8185103536645288,
          1.5053320447719372,
          -1.4108976748031865,
          2.614671556032302,
          0.37173765003320236,
          -0.3310116001538482,
          1.0606300085721005,
          -0.7015101848106754,
          -0.10272917711433686,
          -0.48464703657907265,
          -0.3049608592468676,
          1.0168256775698932,
          1.3041426892568055,
          0.227282186764907,
          0.6026161573510717,
          -0.9088215682061821,
          -0.9388164277967703,
          0.6687852808467871,
          -0.4242854141213294,
          1.0965187952818678,
          -1.2434611584040602,
          0.6999126506219229,
          0.4277860690451645,
          -0.06811208520424537,
          -0.4282103783931777,
          -0.3074209535534217,
          -0.25242627682283586,
          0.9012363488017996,
          -0.3481850680393719,
          -0.14349131531173503,
          1.7083868480111033,
          0.9585831035330805,
          0.7909936100523438,
          0.557460467045621,
          -0.5030614557033,
          -0.09116025613533921,
          0.4007025188140722,
          -0.6821193034869832,
          -1.7527305323776292,
          -1.1412273282567689,
          -0.9226230729338252,
          -0.8322645249443698,
          0.26975965660919726,
          0.9885535567140861,
          -1.342142942512881,
          1.0495199684120897,
          -0.8661106538948654,
          -0.7449905540190652,
          0.41238366245717695,
          0.29887607839836666,
          -0.039306633826568294,
          -0.11337667669361165,
          -1.0264200421407708,
          -0.5322397651365385,
          2.091940537625189,
          0.15041061867569272,
          0.6084366295322634,
          -0.5546623989673322,
          1.111419240245961,
          -0.7655760723329117,
          0.23980897570051066,
          0.3507632684420595,
          -1.274174914948869,
          0.7145136544106467,
          0.4460848231109961,
          -2.0374974122194978,
          2.2255746539641614,
          0.018127346474249947,
          -0.964579357706184,
          -0.9075752451406188,
          1.8577006873832411,
          -0.5673188525233243,
          -0.535806276496681,
          -0.6229537031685048,
          1.01801919299748,
          1.0471203739036494,
          0.3307869879152975,
          -0.3673171993217387,
          1.0270694485741976,
          1.2568027156619328,
          -0.3403770233571368,
          -0.8343727028699456,
          0.06890535553288837,
          -1.415029120935102,
          -0.7317121999156917,
          -0.8111375167247362,
          -0.5046598501032468,
          -0.1868198776252593,
          1.212295789688365,
          -0.4317194192036839,
          2.9649213489069064,
          -0.23007536308025497,
          0.8371789584822209
         ],
         "xaxis": "x8",
         "y": [
          -0.4930365779602038,
          0.3250304022261739,
          0.9583344497638379,
          0.18987007370510067,
          1.3116461956482248,
          -0.6220817679528079,
          1.1176365968869961,
          -0.9258464578846678,
          -1.2240936631275416,
          -1.233544955793205,
          -0.3237490841563232,
          0.9123258973854688,
          0.22842642137253671,
          0.97394659908097,
          0.7117637750549505,
          -0.5015085289746392,
          -0.20916801428743456,
          1.2552264592940754,
          -0.08368782602850174,
          0.3695360809011424,
          0.37111403545690363,
          0.6782737012924119,
          0.4797622410012238,
          2.911253138754174,
          -1.512623993787851,
          -2.56331258059585,
          0.5615782223372155,
          -0.835984426866699,
          -0.44454088029925015,
          0.23385361385822392,
          0.649676684703017,
          0.33734517766819383,
          0.07386186184447749,
          1.2849074240198488,
          -0.7590870044987608,
          0.9617909879870938,
          0.7792637515682848,
          0.19076653572726923,
          -0.9743666833686444,
          0.6382514812525082,
          -0.5440458953899364,
          0.7456070716698415,
          0.12989614246183692,
          -1.6423156210534684,
          1.7163396732325287,
          -0.45416706950050567,
          0.4441043716591119,
          -1.224061455455319,
          0.5332178930668302,
          2.019759276110566,
          0.36277696743342686,
          -1.8556915806269134,
          0.492238886798876,
          -1.54995228762088,
          -0.04113350096243654,
          -0.6434973828541718,
          0.8661086529225488,
          0.9989323504656847,
          0.541137576993134,
          1.2391192072924329,
          0.5745147693028827,
          -0.2414084320240968,
          0.541309991070589,
          0.7859289747510708,
          1.4831153439368039,
          -0.5254666265863034,
          -0.7021612584368963,
          -0.28667722150976127,
          0.6385384203001963,
          0.1594149116250348,
          -1.4050472102870275,
          -0.7673306354425335,
          0.7441053584114531,
          -0.31765516460868404,
          1.6164404742814527,
          1.243123471433262,
          0.49469166601581016,
          0.06350558800969401,
          0.6383441449086565,
          0.16265538575948088,
          -0.4586828174957983,
          -1.997774359164692,
          0.3451467817844908,
          -0.9849906422659223,
          1.296687209780314,
          -0.617686845046229,
          -0.8107617488505277,
          -0.6900329691237589,
          -0.37413489066330313,
          -0.6005443256657182,
          -1.046402165049117,
          0.4896257869686791,
          0.5601417492243187,
          -1.383651457886147,
          0.8410728557430217,
          -0.405818172853134,
          -0.3831616014981088,
          0.4658052982328494,
          0.20681148045450257,
          0.4565200818659963
         ],
         "yaxis": "y8"
        },
        {
         "line": {
          "color": "rgba(128, 128, 128, 1.0)",
          "dash": "solid",
          "shape": "linear",
          "width": 1.3
         },
         "marker": {
          "size": 2,
          "symbol": "circle"
         },
         "mode": "markers",
         "name": "C",
         "text": "",
         "type": "scatter",
         "x": [
          0.8784182869438022,
          -0.3806389397043157,
          -0.015161610170961225,
          -0.9016207963843829,
          1.5014835535230446,
          0.638181087090259,
          -0.17587623889792092,
          -0.664965902036214,
          -0.5503517666986742,
          0.7412790574276407,
          -0.3413855854978848,
          -0.14321019701085397,
          0.6189236491204758,
          -1.3274582091937592,
          -0.6011515749002577,
          -0.3711948051377429,
          0.22774803593324108,
          -0.1799100326269736,
          -0.751501350518013,
          1.2726380379037925,
          0.17853445966183684,
          0.9029346884572302,
          -0.30475724605130877,
          1.1242992014697217,
          -0.34803042426193503,
          -0.2789327833471177,
          -0.48089000530870313,
          -0.8898578379398597,
          -0.4052291987803923,
          0.13910870604580186,
          -1.5928955584327276,
          1.087535267725178,
          -1.0477189352750904,
          -0.28876647921209253,
          0.23969910604040176,
          -1.047455217258851,
          -0.5833553130384778,
          0.02618941267039,
          -1.3134439425363735,
          0.37447051250925434,
          -0.23665849744398545,
          0.38366374968200445,
          0.38879693498090745,
          -2.489474520445726,
          -1.9558898206788757,
          -1.2820583243852897,
          1.6396600196257145,
          0.3257421775403651,
          0.268439850249584,
          0.254911311026306,
          -0.039997268578202474,
          -1.7304810128630073,
          0.8792983780516312,
          -0.34944303317429876,
          -0.24483344544345187,
          1.3422438252491682,
          -0.019157905591640125,
          0.48254027223419876,
          0.22916419374642585,
          -1.10244764076685,
          0.4387464394595617,
          0.49869501960824053,
          0.8896596416653044,
          -2.2247096358959375,
          0.25806961050697097,
          -0.8950588291502402,
          1.077536774493091,
          1.392456455805473,
          1.8714710818287612,
          -0.9079560039649784,
          0.5852837098112604,
          -1.3540490258003222,
          1.5937634330895467,
          1.136176797108421,
          -1.228998731272284,
          0.32499698703778784,
          -1.0600488813061035,
          0.16014813932158212,
          -0.11395722536452274,
          0.5525871357354079,
          0.1992200743903423,
          1.4432928977698434,
          -0.053842849506307945,
          0.5796916613556059,
          -0.13646583791057929,
          1.1385161923835618,
          0.25425497724742774,
          0.06459608638843127,
          -0.8272692613159764,
          -0.13056663733668503,
          1.9531971698255062,
          -1.200128548980169,
          -0.7083682008920325,
          0.046109888970466854,
          -0.1794017215311147,
          -0.2804450420349651,
          0.47294127780493245,
          -0.7939966373692098,
          0.3515341825448959,
          2.4246217604627764
         ],
         "xaxis": "x9",
         "y": [
          1.500706888198252,
          0.4626380430580365,
          1.1650512666383757,
          1.7142254561170285,
          0.1539844717715234,
          -0.2732552156647188,
          -0.20030091534607036,
          1.0918379149903092,
          0.9008210124185305,
          0.18245382786094433,
          -0.30755670004941127,
          0.0992352675038754,
          -2.0423540078113125,
          1.6339540613493813,
          -1.3486388693569185,
          0.7302063716924077,
          -0.10420934964050436,
          -0.6851335015827352,
          0.9013979117975525,
          -1.004192908545839,
          0.2501581953470005,
          1.8360835590276545,
          1.071040887552531,
          0.6555635807597393,
          -0.5508156931449266,
          1.6340686944429952,
          0.24869216205157882,
          -0.331711283057869,
          -0.42068117872117666,
          0.12291202975103795,
          0.8150104044450903,
          1.0360073838239503,
          0.9307964208333379,
          0.7061960120649322,
          0.7509560170371947,
          1.229871460861379,
          -0.9082891948308699,
          -0.6253894762549496,
          0.4583535570964156,
          0.03617940272864027,
          -0.3033517172401607,
          -0.9474593473748577,
          0.8814537933101844,
          0.792930097806262,
          0.624335096417186,
          -0.8581490191791381,
          -1.4687629162239995,
          -0.7006170792064712,
          0.8107509674595839,
          0.27947282996035067,
          0.5465992493227325,
          -1.5842002859620234,
          0.31430544164532437,
          -0.005012709155082159,
          0.7639312655016676,
          -1.1523680672664105,
          1.5246899317433875,
          -1.767640083860489,
          0.29266282512600844,
          0.2423345876705051,
          1.5667849577849062,
          -1.8069741434569542,
          0.6721413263814878,
          -0.4367502491786467,
          -2.8082319589973084,
          -0.8139335969049255,
          -0.17739763345626064,
          0.2535508941542086,
          -0.06392141289709034,
          -0.002096316762234468,
          -0.32560483887986535,
          0.4017226746678383,
          0.8810378533108364,
          -1.2120505469901488,
          0.9252240442339137,
          1.1944548776685913,
          -0.5314053614017786,
          0.9592246397370383,
          -0.14195206311847106,
          0.648351940351426,
          -1.6443752083364018,
          0.3916535644836725,
          1.5870359419255373,
          0.8982527093055426,
          1.3595560760113108,
          0.36504464458630037,
          -1.8190891886726197,
          0.4217168365382286,
          -0.43694526067309253,
          -0.9249276511682633,
          0.8432761663518943,
          -0.29978140858588587,
          -0.6657049896937373,
          0.6932133361840458,
          -2.1145628345737104,
          0.5978049830549731,
          -0.3003603316644389,
          0.434879860393503,
          1.2909651686238386,
          1.236513797583111
         ],
         "yaxis": "y9"
        },
        {
         "line": {
          "color": "rgba(128, 128, 128, 1.0)",
          "dash": "solid",
          "shape": "linear",
          "width": 1.3
         },
         "marker": {
          "size": 2,
          "symbol": "circle"
         },
         "mode": "markers",
         "name": "C",
         "text": "",
         "type": "scatter",
         "x": [
          -0.4930365779602038,
          0.3250304022261739,
          0.9583344497638379,
          0.18987007370510067,
          1.3116461956482248,
          -0.6220817679528079,
          1.1176365968869961,
          -0.9258464578846678,
          -1.2240936631275416,
          -1.233544955793205,
          -0.3237490841563232,
          0.9123258973854688,
          0.22842642137253671,
          0.97394659908097,
          0.7117637750549505,
          -0.5015085289746392,
          -0.20916801428743456,
          1.2552264592940754,
          -0.08368782602850174,
          0.3695360809011424,
          0.37111403545690363,
          0.6782737012924119,
          0.4797622410012238,
          2.911253138754174,
          -1.512623993787851,
          -2.56331258059585,
          0.5615782223372155,
          -0.835984426866699,
          -0.44454088029925015,
          0.23385361385822392,
          0.649676684703017,
          0.33734517766819383,
          0.07386186184447749,
          1.2849074240198488,
          -0.7590870044987608,
          0.9617909879870938,
          0.7792637515682848,
          0.19076653572726923,
          -0.9743666833686444,
          0.6382514812525082,
          -0.5440458953899364,
          0.7456070716698415,
          0.12989614246183692,
          -1.6423156210534684,
          1.7163396732325287,
          -0.45416706950050567,
          0.4441043716591119,
          -1.224061455455319,
          0.5332178930668302,
          2.019759276110566,
          0.36277696743342686,
          -1.8556915806269134,
          0.492238886798876,
          -1.54995228762088,
          -0.04113350096243654,
          -0.6434973828541718,
          0.8661086529225488,
          0.9989323504656847,
          0.541137576993134,
          1.2391192072924329,
          0.5745147693028827,
          -0.2414084320240968,
          0.541309991070589,
          0.7859289747510708,
          1.4831153439368039,
          -0.5254666265863034,
          -0.7021612584368963,
          -0.28667722150976127,
          0.6385384203001963,
          0.1594149116250348,
          -1.4050472102870275,
          -0.7673306354425335,
          0.7441053584114531,
          -0.31765516460868404,
          1.6164404742814527,
          1.243123471433262,
          0.49469166601581016,
          0.06350558800969401,
          0.6383441449086565,
          0.16265538575948088,
          -0.4586828174957983,
          -1.997774359164692,
          0.3451467817844908,
          -0.9849906422659223,
          1.296687209780314,
          -0.617686845046229,
          -0.8107617488505277,
          -0.6900329691237589,
          -0.37413489066330313,
          -0.6005443256657182,
          -1.046402165049117,
          0.4896257869686791,
          0.5601417492243187,
          -1.383651457886147,
          0.8410728557430217,
          -0.405818172853134,
          -0.3831616014981088,
          0.4658052982328494,
          0.20681148045450257,
          0.4565200818659963
         ],
         "xaxis": "x10",
         "y": [
          1.500706888198252,
          0.4626380430580365,
          1.1650512666383757,
          1.7142254561170285,
          0.1539844717715234,
          -0.2732552156647188,
          -0.20030091534607036,
          1.0918379149903092,
          0.9008210124185305,
          0.18245382786094433,
          -0.30755670004941127,
          0.0992352675038754,
          -2.0423540078113125,
          1.6339540613493813,
          -1.3486388693569185,
          0.7302063716924077,
          -0.10420934964050436,
          -0.6851335015827352,
          0.9013979117975525,
          -1.004192908545839,
          0.2501581953470005,
          1.8360835590276545,
          1.071040887552531,
          0.6555635807597393,
          -0.5508156931449266,
          1.6340686944429952,
          0.24869216205157882,
          -0.331711283057869,
          -0.42068117872117666,
          0.12291202975103795,
          0.8150104044450903,
          1.0360073838239503,
          0.9307964208333379,
          0.7061960120649322,
          0.7509560170371947,
          1.229871460861379,
          -0.9082891948308699,
          -0.6253894762549496,
          0.4583535570964156,
          0.03617940272864027,
          -0.3033517172401607,
          -0.9474593473748577,
          0.8814537933101844,
          0.792930097806262,
          0.624335096417186,
          -0.8581490191791381,
          -1.4687629162239995,
          -0.7006170792064712,
          0.8107509674595839,
          0.27947282996035067,
          0.5465992493227325,
          -1.5842002859620234,
          0.31430544164532437,
          -0.005012709155082159,
          0.7639312655016676,
          -1.1523680672664105,
          1.5246899317433875,
          -1.767640083860489,
          0.29266282512600844,
          0.2423345876705051,
          1.5667849577849062,
          -1.8069741434569542,
          0.6721413263814878,
          -0.4367502491786467,
          -2.8082319589973084,
          -0.8139335969049255,
          -0.17739763345626064,
          0.2535508941542086,
          -0.06392141289709034,
          -0.002096316762234468,
          -0.32560483887986535,
          0.4017226746678383,
          0.8810378533108364,
          -1.2120505469901488,
          0.9252240442339137,
          1.1944548776685913,
          -0.5314053614017786,
          0.9592246397370383,
          -0.14195206311847106,
          0.648351940351426,
          -1.6443752083364018,
          0.3916535644836725,
          1.5870359419255373,
          0.8982527093055426,
          1.3595560760113108,
          0.36504464458630037,
          -1.8190891886726197,
          0.4217168365382286,
          -0.43694526067309253,
          -0.9249276511682633,
          0.8432761663518943,
          -0.29978140858588587,
          -0.6657049896937373,
          0.6932133361840458,
          -2.1145628345737104,
          0.5978049830549731,
          -0.3003603316644389,
          0.434879860393503,
          1.2909651686238386,
          1.236513797583111
         ],
         "yaxis": "y10"
        },
        {
         "histfunc": "count",
         "histnorm": "",
         "marker": {
          "color": "rgba(50, 171, 96, 1.0)",
          "line": {
           "color": "#4D5663",
           "width": 1.3
          }
         },
         "name": "C",
         "nbinsx": 10,
         "opacity": 0.8,
         "orientation": "v",
         "type": "histogram",
         "x": [
          1.500706888198252,
          0.4626380430580365,
          1.1650512666383757,
          1.7142254561170285,
          0.1539844717715234,
          -0.2732552156647188,
          -0.20030091534607036,
          1.0918379149903092,
          0.9008210124185305,
          0.18245382786094433,
          -0.30755670004941127,
          0.0992352675038754,
          -2.0423540078113125,
          1.6339540613493813,
          -1.3486388693569185,
          0.7302063716924077,
          -0.10420934964050436,
          -0.6851335015827352,
          0.9013979117975525,
          -1.004192908545839,
          0.2501581953470005,
          1.8360835590276545,
          1.071040887552531,
          0.6555635807597393,
          -0.5508156931449266,
          1.6340686944429952,
          0.24869216205157882,
          -0.331711283057869,
          -0.42068117872117666,
          0.12291202975103795,
          0.8150104044450903,
          1.0360073838239503,
          0.9307964208333379,
          0.7061960120649322,
          0.7509560170371947,
          1.229871460861379,
          -0.9082891948308699,
          -0.6253894762549496,
          0.4583535570964156,
          0.03617940272864027,
          -0.3033517172401607,
          -0.9474593473748577,
          0.8814537933101844,
          0.792930097806262,
          0.624335096417186,
          -0.8581490191791381,
          -1.4687629162239995,
          -0.7006170792064712,
          0.8107509674595839,
          0.27947282996035067,
          0.5465992493227325,
          -1.5842002859620234,
          0.31430544164532437,
          -0.005012709155082159,
          0.7639312655016676,
          -1.1523680672664105,
          1.5246899317433875,
          -1.767640083860489,
          0.29266282512600844,
          0.2423345876705051,
          1.5667849577849062,
          -1.8069741434569542,
          0.6721413263814878,
          -0.4367502491786467,
          -2.8082319589973084,
          -0.8139335969049255,
          -0.17739763345626064,
          0.2535508941542086,
          -0.06392141289709034,
          -0.002096316762234468,
          -0.32560483887986535,
          0.4017226746678383,
          0.8810378533108364,
          -1.2120505469901488,
          0.9252240442339137,
          1.1944548776685913,
          -0.5314053614017786,
          0.9592246397370383,
          -0.14195206311847106,
          0.648351940351426,
          -1.6443752083364018,
          0.3916535644836725,
          1.5870359419255373,
          0.8982527093055426,
          1.3595560760113108,
          0.36504464458630037,
          -1.8190891886726197,
          0.4217168365382286,
          -0.43694526067309253,
          -0.9249276511682633,
          0.8432761663518943,
          -0.29978140858588587,
          -0.6657049896937373,
          0.6932133361840458,
          -2.1145628345737104,
          0.5978049830549731,
          -0.3003603316644389,
          0.434879860393503,
          1.2909651686238386,
          1.236513797583111
         ],
         "xaxis": "x11",
         "yaxis": "y11"
        },
        {
         "line": {
          "color": "rgba(128, 128, 128, 1.0)",
          "dash": "solid",
          "shape": "linear",
          "width": 1.3
         },
         "marker": {
          "size": 2,
          "symbol": "circle"
         },
         "mode": "markers",
         "name": "C",
         "text": "",
         "type": "scatter",
         "x": [
          0.09619778561893773,
          2.3718711032826993,
          -0.7350090454655396,
          -0.19375323607714165,
          0.32541558206751314,
          -0.03568210209281752,
          -0.37221205498497,
          -1.8185103536645288,
          1.5053320447719372,
          -1.4108976748031865,
          2.614671556032302,
          0.37173765003320236,
          -0.3310116001538482,
          1.0606300085721005,
          -0.7015101848106754,
          -0.10272917711433686,
          -0.48464703657907265,
          -0.3049608592468676,
          1.0168256775698932,
          1.3041426892568055,
          0.227282186764907,
          0.6026161573510717,
          -0.9088215682061821,
          -0.9388164277967703,
          0.6687852808467871,
          -0.4242854141213294,
          1.0965187952818678,
          -1.2434611584040602,
          0.6999126506219229,
          0.4277860690451645,
          -0.06811208520424537,
          -0.4282103783931777,
          -0.3074209535534217,
          -0.25242627682283586,
          0.9012363488017996,
          -0.3481850680393719,
          -0.14349131531173503,
          1.7083868480111033,
          0.9585831035330805,
          0.7909936100523438,
          0.557460467045621,
          -0.5030614557033,
          -0.09116025613533921,
          0.4007025188140722,
          -0.6821193034869832,
          -1.7527305323776292,
          -1.1412273282567689,
          -0.9226230729338252,
          -0.8322645249443698,
          0.26975965660919726,
          0.9885535567140861,
          -1.342142942512881,
          1.0495199684120897,
          -0.8661106538948654,
          -0.7449905540190652,
          0.41238366245717695,
          0.29887607839836666,
          -0.039306633826568294,
          -0.11337667669361165,
          -1.0264200421407708,
          -0.5322397651365385,
          2.091940537625189,
          0.15041061867569272,
          0.6084366295322634,
          -0.5546623989673322,
          1.111419240245961,
          -0.7655760723329117,
          0.23980897570051066,
          0.3507632684420595,
          -1.274174914948869,
          0.7145136544106467,
          0.4460848231109961,
          -2.0374974122194978,
          2.2255746539641614,
          0.018127346474249947,
          -0.964579357706184,
          -0.9075752451406188,
          1.8577006873832411,
          -0.5673188525233243,
          -0.535806276496681,
          -0.6229537031685048,
          1.01801919299748,
          1.0471203739036494,
          0.3307869879152975,
          -0.3673171993217387,
          1.0270694485741976,
          1.2568027156619328,
          -0.3403770233571368,
          -0.8343727028699456,
          0.06890535553288837,
          -1.415029120935102,
          -0.7317121999156917,
          -0.8111375167247362,
          -0.5046598501032468,
          -0.1868198776252593,
          1.212295789688365,
          -0.4317194192036839,
          2.9649213489069064,
          -0.23007536308025497,
          0.8371789584822209
         ],
         "xaxis": "x12",
         "y": [
          1.500706888198252,
          0.4626380430580365,
          1.1650512666383757,
          1.7142254561170285,
          0.1539844717715234,
          -0.2732552156647188,
          -0.20030091534607036,
          1.0918379149903092,
          0.9008210124185305,
          0.18245382786094433,
          -0.30755670004941127,
          0.0992352675038754,
          -2.0423540078113125,
          1.6339540613493813,
          -1.3486388693569185,
          0.7302063716924077,
          -0.10420934964050436,
          -0.6851335015827352,
          0.9013979117975525,
          -1.004192908545839,
          0.2501581953470005,
          1.8360835590276545,
          1.071040887552531,
          0.6555635807597393,
          -0.5508156931449266,
          1.6340686944429952,
          0.24869216205157882,
          -0.331711283057869,
          -0.42068117872117666,
          0.12291202975103795,
          0.8150104044450903,
          1.0360073838239503,
          0.9307964208333379,
          0.7061960120649322,
          0.7509560170371947,
          1.229871460861379,
          -0.9082891948308699,
          -0.6253894762549496,
          0.4583535570964156,
          0.03617940272864027,
          -0.3033517172401607,
          -0.9474593473748577,
          0.8814537933101844,
          0.792930097806262,
          0.624335096417186,
          -0.8581490191791381,
          -1.4687629162239995,
          -0.7006170792064712,
          0.8107509674595839,
          0.27947282996035067,
          0.5465992493227325,
          -1.5842002859620234,
          0.31430544164532437,
          -0.005012709155082159,
          0.7639312655016676,
          -1.1523680672664105,
          1.5246899317433875,
          -1.767640083860489,
          0.29266282512600844,
          0.2423345876705051,
          1.5667849577849062,
          -1.8069741434569542,
          0.6721413263814878,
          -0.4367502491786467,
          -2.8082319589973084,
          -0.8139335969049255,
          -0.17739763345626064,
          0.2535508941542086,
          -0.06392141289709034,
          -0.002096316762234468,
          -0.32560483887986535,
          0.4017226746678383,
          0.8810378533108364,
          -1.2120505469901488,
          0.9252240442339137,
          1.1944548776685913,
          -0.5314053614017786,
          0.9592246397370383,
          -0.14195206311847106,
          0.648351940351426,
          -1.6443752083364018,
          0.3916535644836725,
          1.5870359419255373,
          0.8982527093055426,
          1.3595560760113108,
          0.36504464458630037,
          -1.8190891886726197,
          0.4217168365382286,
          -0.43694526067309253,
          -0.9249276511682633,
          0.8432761663518943,
          -0.29978140858588587,
          -0.6657049896937373,
          0.6932133361840458,
          -2.1145628345737104,
          0.5978049830549731,
          -0.3003603316644389,
          0.434879860393503,
          1.2909651686238386,
          1.236513797583111
         ],
         "yaxis": "y12"
        },
        {
         "line": {
          "color": "rgba(128, 128, 128, 1.0)",
          "dash": "solid",
          "shape": "linear",
          "width": 1.3
         },
         "marker": {
          "size": 2,
          "symbol": "circle"
         },
         "mode": "markers",
         "name": "D",
         "text": "",
         "type": "scatter",
         "x": [
          0.8784182869438022,
          -0.3806389397043157,
          -0.015161610170961225,
          -0.9016207963843829,
          1.5014835535230446,
          0.638181087090259,
          -0.17587623889792092,
          -0.664965902036214,
          -0.5503517666986742,
          0.7412790574276407,
          -0.3413855854978848,
          -0.14321019701085397,
          0.6189236491204758,
          -1.3274582091937592,
          -0.6011515749002577,
          -0.3711948051377429,
          0.22774803593324108,
          -0.1799100326269736,
          -0.751501350518013,
          1.2726380379037925,
          0.17853445966183684,
          0.9029346884572302,
          -0.30475724605130877,
          1.1242992014697217,
          -0.34803042426193503,
          -0.2789327833471177,
          -0.48089000530870313,
          -0.8898578379398597,
          -0.4052291987803923,
          0.13910870604580186,
          -1.5928955584327276,
          1.087535267725178,
          -1.0477189352750904,
          -0.28876647921209253,
          0.23969910604040176,
          -1.047455217258851,
          -0.5833553130384778,
          0.02618941267039,
          -1.3134439425363735,
          0.37447051250925434,
          -0.23665849744398545,
          0.38366374968200445,
          0.38879693498090745,
          -2.489474520445726,
          -1.9558898206788757,
          -1.2820583243852897,
          1.6396600196257145,
          0.3257421775403651,
          0.268439850249584,
          0.254911311026306,
          -0.039997268578202474,
          -1.7304810128630073,
          0.8792983780516312,
          -0.34944303317429876,
          -0.24483344544345187,
          1.3422438252491682,
          -0.019157905591640125,
          0.48254027223419876,
          0.22916419374642585,
          -1.10244764076685,
          0.4387464394595617,
          0.49869501960824053,
          0.8896596416653044,
          -2.2247096358959375,
          0.25806961050697097,
          -0.8950588291502402,
          1.077536774493091,
          1.392456455805473,
          1.8714710818287612,
          -0.9079560039649784,
          0.5852837098112604,
          -1.3540490258003222,
          1.5937634330895467,
          1.136176797108421,
          -1.228998731272284,
          0.32499698703778784,
          -1.0600488813061035,
          0.16014813932158212,
          -0.11395722536452274,
          0.5525871357354079,
          0.1992200743903423,
          1.4432928977698434,
          -0.053842849506307945,
          0.5796916613556059,
          -0.13646583791057929,
          1.1385161923835618,
          0.25425497724742774,
          0.06459608638843127,
          -0.8272692613159764,
          -0.13056663733668503,
          1.9531971698255062,
          -1.200128548980169,
          -0.7083682008920325,
          0.046109888970466854,
          -0.1794017215311147,
          -0.2804450420349651,
          0.47294127780493245,
          -0.7939966373692098,
          0.3515341825448959,
          2.4246217604627764
         ],
         "xaxis": "x13",
         "y": [
          0.09619778561893773,
          2.3718711032826993,
          -0.7350090454655396,
          -0.19375323607714165,
          0.32541558206751314,
          -0.03568210209281752,
          -0.37221205498497,
          -1.8185103536645288,
          1.5053320447719372,
          -1.4108976748031865,
          2.614671556032302,
          0.37173765003320236,
          -0.3310116001538482,
          1.0606300085721005,
          -0.7015101848106754,
          -0.10272917711433686,
          -0.48464703657907265,
          -0.3049608592468676,
          1.0168256775698932,
          1.3041426892568055,
          0.227282186764907,
          0.6026161573510717,
          -0.9088215682061821,
          -0.9388164277967703,
          0.6687852808467871,
          -0.4242854141213294,
          1.0965187952818678,
          -1.2434611584040602,
          0.6999126506219229,
          0.4277860690451645,
          -0.06811208520424537,
          -0.4282103783931777,
          -0.3074209535534217,
          -0.25242627682283586,
          0.9012363488017996,
          -0.3481850680393719,
          -0.14349131531173503,
          1.7083868480111033,
          0.9585831035330805,
          0.7909936100523438,
          0.557460467045621,
          -0.5030614557033,
          -0.09116025613533921,
          0.4007025188140722,
          -0.6821193034869832,
          -1.7527305323776292,
          -1.1412273282567689,
          -0.9226230729338252,
          -0.8322645249443698,
          0.26975965660919726,
          0.9885535567140861,
          -1.342142942512881,
          1.0495199684120897,
          -0.8661106538948654,
          -0.7449905540190652,
          0.41238366245717695,
          0.29887607839836666,
          -0.039306633826568294,
          -0.11337667669361165,
          -1.0264200421407708,
          -0.5322397651365385,
          2.091940537625189,
          0.15041061867569272,
          0.6084366295322634,
          -0.5546623989673322,
          1.111419240245961,
          -0.7655760723329117,
          0.23980897570051066,
          0.3507632684420595,
          -1.274174914948869,
          0.7145136544106467,
          0.4460848231109961,
          -2.0374974122194978,
          2.2255746539641614,
          0.018127346474249947,
          -0.964579357706184,
          -0.9075752451406188,
          1.8577006873832411,
          -0.5673188525233243,
          -0.535806276496681,
          -0.6229537031685048,
          1.01801919299748,
          1.0471203739036494,
          0.3307869879152975,
          -0.3673171993217387,
          1.0270694485741976,
          1.2568027156619328,
          -0.3403770233571368,
          -0.8343727028699456,
          0.06890535553288837,
          -1.415029120935102,
          -0.7317121999156917,
          -0.8111375167247362,
          -0.5046598501032468,
          -0.1868198776252593,
          1.212295789688365,
          -0.4317194192036839,
          2.9649213489069064,
          -0.23007536308025497,
          0.8371789584822209
         ],
         "yaxis": "y13"
        },
        {
         "line": {
          "color": "rgba(128, 128, 128, 1.0)",
          "dash": "solid",
          "shape": "linear",
          "width": 1.3
         },
         "marker": {
          "size": 2,
          "symbol": "circle"
         },
         "mode": "markers",
         "name": "D",
         "text": "",
         "type": "scatter",
         "x": [
          -0.4930365779602038,
          0.3250304022261739,
          0.9583344497638379,
          0.18987007370510067,
          1.3116461956482248,
          -0.6220817679528079,
          1.1176365968869961,
          -0.9258464578846678,
          -1.2240936631275416,
          -1.233544955793205,
          -0.3237490841563232,
          0.9123258973854688,
          0.22842642137253671,
          0.97394659908097,
          0.7117637750549505,
          -0.5015085289746392,
          -0.20916801428743456,
          1.2552264592940754,
          -0.08368782602850174,
          0.3695360809011424,
          0.37111403545690363,
          0.6782737012924119,
          0.4797622410012238,
          2.911253138754174,
          -1.512623993787851,
          -2.56331258059585,
          0.5615782223372155,
          -0.835984426866699,
          -0.44454088029925015,
          0.23385361385822392,
          0.649676684703017,
          0.33734517766819383,
          0.07386186184447749,
          1.2849074240198488,
          -0.7590870044987608,
          0.9617909879870938,
          0.7792637515682848,
          0.19076653572726923,
          -0.9743666833686444,
          0.6382514812525082,
          -0.5440458953899364,
          0.7456070716698415,
          0.12989614246183692,
          -1.6423156210534684,
          1.7163396732325287,
          -0.45416706950050567,
          0.4441043716591119,
          -1.224061455455319,
          0.5332178930668302,
          2.019759276110566,
          0.36277696743342686,
          -1.8556915806269134,
          0.492238886798876,
          -1.54995228762088,
          -0.04113350096243654,
          -0.6434973828541718,
          0.8661086529225488,
          0.9989323504656847,
          0.541137576993134,
          1.2391192072924329,
          0.5745147693028827,
          -0.2414084320240968,
          0.541309991070589,
          0.7859289747510708,
          1.4831153439368039,
          -0.5254666265863034,
          -0.7021612584368963,
          -0.28667722150976127,
          0.6385384203001963,
          0.1594149116250348,
          -1.4050472102870275,
          -0.7673306354425335,
          0.7441053584114531,
          -0.31765516460868404,
          1.6164404742814527,
          1.243123471433262,
          0.49469166601581016,
          0.06350558800969401,
          0.6383441449086565,
          0.16265538575948088,
          -0.4586828174957983,
          -1.997774359164692,
          0.3451467817844908,
          -0.9849906422659223,
          1.296687209780314,
          -0.617686845046229,
          -0.8107617488505277,
          -0.6900329691237589,
          -0.37413489066330313,
          -0.6005443256657182,
          -1.046402165049117,
          0.4896257869686791,
          0.5601417492243187,
          -1.383651457886147,
          0.8410728557430217,
          -0.405818172853134,
          -0.3831616014981088,
          0.4658052982328494,
          0.20681148045450257,
          0.4565200818659963
         ],
         "xaxis": "x14",
         "y": [
          0.09619778561893773,
          2.3718711032826993,
          -0.7350090454655396,
          -0.19375323607714165,
          0.32541558206751314,
          -0.03568210209281752,
          -0.37221205498497,
          -1.8185103536645288,
          1.5053320447719372,
          -1.4108976748031865,
          2.614671556032302,
          0.37173765003320236,
          -0.3310116001538482,
          1.0606300085721005,
          -0.7015101848106754,
          -0.10272917711433686,
          -0.48464703657907265,
          -0.3049608592468676,
          1.0168256775698932,
          1.3041426892568055,
          0.227282186764907,
          0.6026161573510717,
          -0.9088215682061821,
          -0.9388164277967703,
          0.6687852808467871,
          -0.4242854141213294,
          1.0965187952818678,
          -1.2434611584040602,
          0.6999126506219229,
          0.4277860690451645,
          -0.06811208520424537,
          -0.4282103783931777,
          -0.3074209535534217,
          -0.25242627682283586,
          0.9012363488017996,
          -0.3481850680393719,
          -0.14349131531173503,
          1.7083868480111033,
          0.9585831035330805,
          0.7909936100523438,
          0.557460467045621,
          -0.5030614557033,
          -0.09116025613533921,
          0.4007025188140722,
          -0.6821193034869832,
          -1.7527305323776292,
          -1.1412273282567689,
          -0.9226230729338252,
          -0.8322645249443698,
          0.26975965660919726,
          0.9885535567140861,
          -1.342142942512881,
          1.0495199684120897,
          -0.8661106538948654,
          -0.7449905540190652,
          0.41238366245717695,
          0.29887607839836666,
          -0.039306633826568294,
          -0.11337667669361165,
          -1.0264200421407708,
          -0.5322397651365385,
          2.091940537625189,
          0.15041061867569272,
          0.6084366295322634,
          -0.5546623989673322,
          1.111419240245961,
          -0.7655760723329117,
          0.23980897570051066,
          0.3507632684420595,
          -1.274174914948869,
          0.7145136544106467,
          0.4460848231109961,
          -2.0374974122194978,
          2.2255746539641614,
          0.018127346474249947,
          -0.964579357706184,
          -0.9075752451406188,
          1.8577006873832411,
          -0.5673188525233243,
          -0.535806276496681,
          -0.6229537031685048,
          1.01801919299748,
          1.0471203739036494,
          0.3307869879152975,
          -0.3673171993217387,
          1.0270694485741976,
          1.2568027156619328,
          -0.3403770233571368,
          -0.8343727028699456,
          0.06890535553288837,
          -1.415029120935102,
          -0.7317121999156917,
          -0.8111375167247362,
          -0.5046598501032468,
          -0.1868198776252593,
          1.212295789688365,
          -0.4317194192036839,
          2.9649213489069064,
          -0.23007536308025497,
          0.8371789584822209
         ],
         "yaxis": "y14"
        },
        {
         "line": {
          "color": "rgba(128, 128, 128, 1.0)",
          "dash": "solid",
          "shape": "linear",
          "width": 1.3
         },
         "marker": {
          "size": 2,
          "symbol": "circle"
         },
         "mode": "markers",
         "name": "D",
         "text": "",
         "type": "scatter",
         "x": [
          1.500706888198252,
          0.4626380430580365,
          1.1650512666383757,
          1.7142254561170285,
          0.1539844717715234,
          -0.2732552156647188,
          -0.20030091534607036,
          1.0918379149903092,
          0.9008210124185305,
          0.18245382786094433,
          -0.30755670004941127,
          0.0992352675038754,
          -2.0423540078113125,
          1.6339540613493813,
          -1.3486388693569185,
          0.7302063716924077,
          -0.10420934964050436,
          -0.6851335015827352,
          0.9013979117975525,
          -1.004192908545839,
          0.2501581953470005,
          1.8360835590276545,
          1.071040887552531,
          0.6555635807597393,
          -0.5508156931449266,
          1.6340686944429952,
          0.24869216205157882,
          -0.331711283057869,
          -0.42068117872117666,
          0.12291202975103795,
          0.8150104044450903,
          1.0360073838239503,
          0.9307964208333379,
          0.7061960120649322,
          0.7509560170371947,
          1.229871460861379,
          -0.9082891948308699,
          -0.6253894762549496,
          0.4583535570964156,
          0.03617940272864027,
          -0.3033517172401607,
          -0.9474593473748577,
          0.8814537933101844,
          0.792930097806262,
          0.624335096417186,
          -0.8581490191791381,
          -1.4687629162239995,
          -0.7006170792064712,
          0.8107509674595839,
          0.27947282996035067,
          0.5465992493227325,
          -1.5842002859620234,
          0.31430544164532437,
          -0.005012709155082159,
          0.7639312655016676,
          -1.1523680672664105,
          1.5246899317433875,
          -1.767640083860489,
          0.29266282512600844,
          0.2423345876705051,
          1.5667849577849062,
          -1.8069741434569542,
          0.6721413263814878,
          -0.4367502491786467,
          -2.8082319589973084,
          -0.8139335969049255,
          -0.17739763345626064,
          0.2535508941542086,
          -0.06392141289709034,
          -0.002096316762234468,
          -0.32560483887986535,
          0.4017226746678383,
          0.8810378533108364,
          -1.2120505469901488,
          0.9252240442339137,
          1.1944548776685913,
          -0.5314053614017786,
          0.9592246397370383,
          -0.14195206311847106,
          0.648351940351426,
          -1.6443752083364018,
          0.3916535644836725,
          1.5870359419255373,
          0.8982527093055426,
          1.3595560760113108,
          0.36504464458630037,
          -1.8190891886726197,
          0.4217168365382286,
          -0.43694526067309253,
          -0.9249276511682633,
          0.8432761663518943,
          -0.29978140858588587,
          -0.6657049896937373,
          0.6932133361840458,
          -2.1145628345737104,
          0.5978049830549731,
          -0.3003603316644389,
          0.434879860393503,
          1.2909651686238386,
          1.236513797583111
         ],
         "xaxis": "x15",
         "y": [
          0.09619778561893773,
          2.3718711032826993,
          -0.7350090454655396,
          -0.19375323607714165,
          0.32541558206751314,
          -0.03568210209281752,
          -0.37221205498497,
          -1.8185103536645288,
          1.5053320447719372,
          -1.4108976748031865,
          2.614671556032302,
          0.37173765003320236,
          -0.3310116001538482,
          1.0606300085721005,
          -0.7015101848106754,
          -0.10272917711433686,
          -0.48464703657907265,
          -0.3049608592468676,
          1.0168256775698932,
          1.3041426892568055,
          0.227282186764907,
          0.6026161573510717,
          -0.9088215682061821,
          -0.9388164277967703,
          0.6687852808467871,
          -0.4242854141213294,
          1.0965187952818678,
          -1.2434611584040602,
          0.6999126506219229,
          0.4277860690451645,
          -0.06811208520424537,
          -0.4282103783931777,
          -0.3074209535534217,
          -0.25242627682283586,
          0.9012363488017996,
          -0.3481850680393719,
          -0.14349131531173503,
          1.7083868480111033,
          0.9585831035330805,
          0.7909936100523438,
          0.557460467045621,
          -0.5030614557033,
          -0.09116025613533921,
          0.4007025188140722,
          -0.6821193034869832,
          -1.7527305323776292,
          -1.1412273282567689,
          -0.9226230729338252,
          -0.8322645249443698,
          0.26975965660919726,
          0.9885535567140861,
          -1.342142942512881,
          1.0495199684120897,
          -0.8661106538948654,
          -0.7449905540190652,
          0.41238366245717695,
          0.29887607839836666,
          -0.039306633826568294,
          -0.11337667669361165,
          -1.0264200421407708,
          -0.5322397651365385,
          2.091940537625189,
          0.15041061867569272,
          0.6084366295322634,
          -0.5546623989673322,
          1.111419240245961,
          -0.7655760723329117,
          0.23980897570051066,
          0.3507632684420595,
          -1.274174914948869,
          0.7145136544106467,
          0.4460848231109961,
          -2.0374974122194978,
          2.2255746539641614,
          0.018127346474249947,
          -0.964579357706184,
          -0.9075752451406188,
          1.8577006873832411,
          -0.5673188525233243,
          -0.535806276496681,
          -0.6229537031685048,
          1.01801919299748,
          1.0471203739036494,
          0.3307869879152975,
          -0.3673171993217387,
          1.0270694485741976,
          1.2568027156619328,
          -0.3403770233571368,
          -0.8343727028699456,
          0.06890535553288837,
          -1.415029120935102,
          -0.7317121999156917,
          -0.8111375167247362,
          -0.5046598501032468,
          -0.1868198776252593,
          1.212295789688365,
          -0.4317194192036839,
          2.9649213489069064,
          -0.23007536308025497,
          0.8371789584822209
         ],
         "yaxis": "y15"
        },
        {
         "histfunc": "count",
         "histnorm": "",
         "marker": {
          "color": "rgba(128, 0, 128, 1.0)",
          "line": {
           "color": "#4D5663",
           "width": 1.3
          }
         },
         "name": "D",
         "nbinsx": 10,
         "opacity": 0.8,
         "orientation": "v",
         "type": "histogram",
         "x": [
          0.09619778561893773,
          2.3718711032826993,
          -0.7350090454655396,
          -0.19375323607714165,
          0.32541558206751314,
          -0.03568210209281752,
          -0.37221205498497,
          -1.8185103536645288,
          1.5053320447719372,
          -1.4108976748031865,
          2.614671556032302,
          0.37173765003320236,
          -0.3310116001538482,
          1.0606300085721005,
          -0.7015101848106754,
          -0.10272917711433686,
          -0.48464703657907265,
          -0.3049608592468676,
          1.0168256775698932,
          1.3041426892568055,
          0.227282186764907,
          0.6026161573510717,
          -0.9088215682061821,
          -0.9388164277967703,
          0.6687852808467871,
          -0.4242854141213294,
          1.0965187952818678,
          -1.2434611584040602,
          0.6999126506219229,
          0.4277860690451645,
          -0.06811208520424537,
          -0.4282103783931777,
          -0.3074209535534217,
          -0.25242627682283586,
          0.9012363488017996,
          -0.3481850680393719,
          -0.14349131531173503,
          1.7083868480111033,
          0.9585831035330805,
          0.7909936100523438,
          0.557460467045621,
          -0.5030614557033,
          -0.09116025613533921,
          0.4007025188140722,
          -0.6821193034869832,
          -1.7527305323776292,
          -1.1412273282567689,
          -0.9226230729338252,
          -0.8322645249443698,
          0.26975965660919726,
          0.9885535567140861,
          -1.342142942512881,
          1.0495199684120897,
          -0.8661106538948654,
          -0.7449905540190652,
          0.41238366245717695,
          0.29887607839836666,
          -0.039306633826568294,
          -0.11337667669361165,
          -1.0264200421407708,
          -0.5322397651365385,
          2.091940537625189,
          0.15041061867569272,
          0.6084366295322634,
          -0.5546623989673322,
          1.111419240245961,
          -0.7655760723329117,
          0.23980897570051066,
          0.3507632684420595,
          -1.274174914948869,
          0.7145136544106467,
          0.4460848231109961,
          -2.0374974122194978,
          2.2255746539641614,
          0.018127346474249947,
          -0.964579357706184,
          -0.9075752451406188,
          1.8577006873832411,
          -0.5673188525233243,
          -0.535806276496681,
          -0.6229537031685048,
          1.01801919299748,
          1.0471203739036494,
          0.3307869879152975,
          -0.3673171993217387,
          1.0270694485741976,
          1.2568027156619328,
          -0.3403770233571368,
          -0.8343727028699456,
          0.06890535553288837,
          -1.415029120935102,
          -0.7317121999156917,
          -0.8111375167247362,
          -0.5046598501032468,
          -0.1868198776252593,
          1.212295789688365,
          -0.4317194192036839,
          2.9649213489069064,
          -0.23007536308025497,
          0.8371789584822209
         ],
         "xaxis": "x16",
         "yaxis": "y16"
        }
       ],
       "layout": {
        "bargap": 0.02,
        "legend": {
         "bgcolor": "#F5F6F9",
         "font": {
          "color": "#4D5663"
         }
        },
        "paper_bgcolor": "#F5F6F9",
        "plot_bgcolor": "#F5F6F9",
        "showlegend": false,
        "template": {
         "data": {
          "bar": [
           {
            "error_x": {
             "color": "#2a3f5f"
            },
            "error_y": {
             "color": "#2a3f5f"
            },
            "marker": {
             "line": {
              "color": "#E5ECF6",
              "width": 0.5
             }
            },
            "type": "bar"
           }
          ],
          "barpolar": [
           {
            "marker": {
             "line": {
              "color": "#E5ECF6",
              "width": 0.5
             }
            },
            "type": "barpolar"
           }
          ],
          "carpet": [
           {
            "aaxis": {
             "endlinecolor": "#2a3f5f",
             "gridcolor": "white",
             "linecolor": "white",
             "minorgridcolor": "white",
             "startlinecolor": "#2a3f5f"
            },
            "baxis": {
             "endlinecolor": "#2a3f5f",
             "gridcolor": "white",
             "linecolor": "white",
             "minorgridcolor": "white",
             "startlinecolor": "#2a3f5f"
            },
            "type": "carpet"
           }
          ],
          "choropleth": [
           {
            "colorbar": {
             "outlinewidth": 0,
             "ticks": ""
            },
            "type": "choropleth"
           }
          ],
          "contour": [
           {
            "colorbar": {
             "outlinewidth": 0,
             "ticks": ""
            },
            "colorscale": [
             [
              0,
              "#0d0887"
             ],
             [
              0.1111111111111111,
              "#46039f"
             ],
             [
              0.2222222222222222,
              "#7201a8"
             ],
             [
              0.3333333333333333,
              "#9c179e"
             ],
             [
              0.4444444444444444,
              "#bd3786"
             ],
             [
              0.5555555555555556,
              "#d8576b"
             ],
             [
              0.6666666666666666,
              "#ed7953"
             ],
             [
              0.7777777777777778,
              "#fb9f3a"
             ],
             [
              0.8888888888888888,
              "#fdca26"
             ],
             [
              1,
              "#f0f921"
             ]
            ],
            "type": "contour"
           }
          ],
          "contourcarpet": [
           {
            "colorbar": {
             "outlinewidth": 0,
             "ticks": ""
            },
            "type": "contourcarpet"
           }
          ],
          "heatmap": [
           {
            "colorbar": {
             "outlinewidth": 0,
             "ticks": ""
            },
            "colorscale": [
             [
              0,
              "#0d0887"
             ],
             [
              0.1111111111111111,
              "#46039f"
             ],
             [
              0.2222222222222222,
              "#7201a8"
             ],
             [
              0.3333333333333333,
              "#9c179e"
             ],
             [
              0.4444444444444444,
              "#bd3786"
             ],
             [
              0.5555555555555556,
              "#d8576b"
             ],
             [
              0.6666666666666666,
              "#ed7953"
             ],
             [
              0.7777777777777778,
              "#fb9f3a"
             ],
             [
              0.8888888888888888,
              "#fdca26"
             ],
             [
              1,
              "#f0f921"
             ]
            ],
            "type": "heatmap"
           }
          ],
          "heatmapgl": [
           {
            "colorbar": {
             "outlinewidth": 0,
             "ticks": ""
            },
            "colorscale": [
             [
              0,
              "#0d0887"
             ],
             [
              0.1111111111111111,
              "#46039f"
             ],
             [
              0.2222222222222222,
              "#7201a8"
             ],
             [
              0.3333333333333333,
              "#9c179e"
             ],
             [
              0.4444444444444444,
              "#bd3786"
             ],
             [
              0.5555555555555556,
              "#d8576b"
             ],
             [
              0.6666666666666666,
              "#ed7953"
             ],
             [
              0.7777777777777778,
              "#fb9f3a"
             ],
             [
              0.8888888888888888,
              "#fdca26"
             ],
             [
              1,
              "#f0f921"
             ]
            ],
            "type": "heatmapgl"
           }
          ],
          "histogram": [
           {
            "marker": {
             "colorbar": {
              "outlinewidth": 0,
              "ticks": ""
             }
            },
            "type": "histogram"
           }
          ],
          "histogram2d": [
           {
            "colorbar": {
             "outlinewidth": 0,
             "ticks": ""
            },
            "colorscale": [
             [
              0,
              "#0d0887"
             ],
             [
              0.1111111111111111,
              "#46039f"
             ],
             [
              0.2222222222222222,
              "#7201a8"
             ],
             [
              0.3333333333333333,
              "#9c179e"
             ],
             [
              0.4444444444444444,
              "#bd3786"
             ],
             [
              0.5555555555555556,
              "#d8576b"
             ],
             [
              0.6666666666666666,
              "#ed7953"
             ],
             [
              0.7777777777777778,
              "#fb9f3a"
             ],
             [
              0.8888888888888888,
              "#fdca26"
             ],
             [
              1,
              "#f0f921"
             ]
            ],
            "type": "histogram2d"
           }
          ],
          "histogram2dcontour": [
           {
            "colorbar": {
             "outlinewidth": 0,
             "ticks": ""
            },
            "colorscale": [
             [
              0,
              "#0d0887"
             ],
             [
              0.1111111111111111,
              "#46039f"
             ],
             [
              0.2222222222222222,
              "#7201a8"
             ],
             [
              0.3333333333333333,
              "#9c179e"
             ],
             [
              0.4444444444444444,
              "#bd3786"
             ],
             [
              0.5555555555555556,
              "#d8576b"
             ],
             [
              0.6666666666666666,
              "#ed7953"
             ],
             [
              0.7777777777777778,
              "#fb9f3a"
             ],
             [
              0.8888888888888888,
              "#fdca26"
             ],
             [
              1,
              "#f0f921"
             ]
            ],
            "type": "histogram2dcontour"
           }
          ],
          "mesh3d": [
           {
            "colorbar": {
             "outlinewidth": 0,
             "ticks": ""
            },
            "type": "mesh3d"
           }
          ],
          "parcoords": [
           {
            "line": {
             "colorbar": {
              "outlinewidth": 0,
              "ticks": ""
             }
            },
            "type": "parcoords"
           }
          ],
          "pie": [
           {
            "automargin": true,
            "type": "pie"
           }
          ],
          "scatter": [
           {
            "marker": {
             "colorbar": {
              "outlinewidth": 0,
              "ticks": ""
             }
            },
            "type": "scatter"
           }
          ],
          "scatter3d": [
           {
            "line": {
             "colorbar": {
              "outlinewidth": 0,
              "ticks": ""
             }
            },
            "marker": {
             "colorbar": {
              "outlinewidth": 0,
              "ticks": ""
             }
            },
            "type": "scatter3d"
           }
          ],
          "scattercarpet": [
           {
            "marker": {
             "colorbar": {
              "outlinewidth": 0,
              "ticks": ""
             }
            },
            "type": "scattercarpet"
           }
          ],
          "scattergeo": [
           {
            "marker": {
             "colorbar": {
              "outlinewidth": 0,
              "ticks": ""
             }
            },
            "type": "scattergeo"
           }
          ],
          "scattergl": [
           {
            "marker": {
             "colorbar": {
              "outlinewidth": 0,
              "ticks": ""
             }
            },
            "type": "scattergl"
           }
          ],
          "scattermapbox": [
           {
            "marker": {
             "colorbar": {
              "outlinewidth": 0,
              "ticks": ""
             }
            },
            "type": "scattermapbox"
           }
          ],
          "scatterpolar": [
           {
            "marker": {
             "colorbar": {
              "outlinewidth": 0,
              "ticks": ""
             }
            },
            "type": "scatterpolar"
           }
          ],
          "scatterpolargl": [
           {
            "marker": {
             "colorbar": {
              "outlinewidth": 0,
              "ticks": ""
             }
            },
            "type": "scatterpolargl"
           }
          ],
          "scatterternary": [
           {
            "marker": {
             "colorbar": {
              "outlinewidth": 0,
              "ticks": ""
             }
            },
            "type": "scatterternary"
           }
          ],
          "surface": [
           {
            "colorbar": {
             "outlinewidth": 0,
             "ticks": ""
            },
            "colorscale": [
             [
              0,
              "#0d0887"
             ],
             [
              0.1111111111111111,
              "#46039f"
             ],
             [
              0.2222222222222222,
              "#7201a8"
             ],
             [
              0.3333333333333333,
              "#9c179e"
             ],
             [
              0.4444444444444444,
              "#bd3786"
             ],
             [
              0.5555555555555556,
              "#d8576b"
             ],
             [
              0.6666666666666666,
              "#ed7953"
             ],
             [
              0.7777777777777778,
              "#fb9f3a"
             ],
             [
              0.8888888888888888,
              "#fdca26"
             ],
             [
              1,
              "#f0f921"
             ]
            ],
            "type": "surface"
           }
          ],
          "table": [
           {
            "cells": {
             "fill": {
              "color": "#EBF0F8"
             },
             "line": {
              "color": "white"
             }
            },
            "header": {
             "fill": {
              "color": "#C8D4E3"
             },
             "line": {
              "color": "white"
             }
            },
            "type": "table"
           }
          ]
         },
         "layout": {
          "annotationdefaults": {
           "arrowcolor": "#2a3f5f",
           "arrowhead": 0,
           "arrowwidth": 1
          },
          "autotypenumbers": "strict",
          "coloraxis": {
           "colorbar": {
            "outlinewidth": 0,
            "ticks": ""
           }
          },
          "colorscale": {
           "diverging": [
            [
             0,
             "#8e0152"
            ],
            [
             0.1,
             "#c51b7d"
            ],
            [
             0.2,
             "#de77ae"
            ],
            [
             0.3,
             "#f1b6da"
            ],
            [
             0.4,
             "#fde0ef"
            ],
            [
             0.5,
             "#f7f7f7"
            ],
            [
             0.6,
             "#e6f5d0"
            ],
            [
             0.7,
             "#b8e186"
            ],
            [
             0.8,
             "#7fbc41"
            ],
            [
             0.9,
             "#4d9221"
            ],
            [
             1,
             "#276419"
            ]
           ],
           "sequential": [
            [
             0,
             "#0d0887"
            ],
            [
             0.1111111111111111,
             "#46039f"
            ],
            [
             0.2222222222222222,
             "#7201a8"
            ],
            [
             0.3333333333333333,
             "#9c179e"
            ],
            [
             0.4444444444444444,
             "#bd3786"
            ],
            [
             0.5555555555555556,
             "#d8576b"
            ],
            [
             0.6666666666666666,
             "#ed7953"
            ],
            [
             0.7777777777777778,
             "#fb9f3a"
            ],
            [
             0.8888888888888888,
             "#fdca26"
            ],
            [
             1,
             "#f0f921"
            ]
           ],
           "sequentialminus": [
            [
             0,
             "#0d0887"
            ],
            [
             0.1111111111111111,
             "#46039f"
            ],
            [
             0.2222222222222222,
             "#7201a8"
            ],
            [
             0.3333333333333333,
             "#9c179e"
            ],
            [
             0.4444444444444444,
             "#bd3786"
            ],
            [
             0.5555555555555556,
             "#d8576b"
            ],
            [
             0.6666666666666666,
             "#ed7953"
            ],
            [
             0.7777777777777778,
             "#fb9f3a"
            ],
            [
             0.8888888888888888,
             "#fdca26"
            ],
            [
             1,
             "#f0f921"
            ]
           ]
          },
          "colorway": [
           "#636efa",
           "#EF553B",
           "#00cc96",
           "#ab63fa",
           "#FFA15A",
           "#19d3f3",
           "#FF6692",
           "#B6E880",
           "#FF97FF",
           "#FECB52"
          ],
          "font": {
           "color": "#2a3f5f"
          },
          "geo": {
           "bgcolor": "white",
           "lakecolor": "white",
           "landcolor": "#E5ECF6",
           "showlakes": true,
           "showland": true,
           "subunitcolor": "white"
          },
          "hoverlabel": {
           "align": "left"
          },
          "hovermode": "closest",
          "mapbox": {
           "style": "light"
          },
          "paper_bgcolor": "white",
          "plot_bgcolor": "#E5ECF6",
          "polar": {
           "angularaxis": {
            "gridcolor": "white",
            "linecolor": "white",
            "ticks": ""
           },
           "bgcolor": "#E5ECF6",
           "radialaxis": {
            "gridcolor": "white",
            "linecolor": "white",
            "ticks": ""
           }
          },
          "scene": {
           "xaxis": {
            "backgroundcolor": "#E5ECF6",
            "gridcolor": "white",
            "gridwidth": 2,
            "linecolor": "white",
            "showbackground": true,
            "ticks": "",
            "zerolinecolor": "white"
           },
           "yaxis": {
            "backgroundcolor": "#E5ECF6",
            "gridcolor": "white",
            "gridwidth": 2,
            "linecolor": "white",
            "showbackground": true,
            "ticks": "",
            "zerolinecolor": "white"
           },
           "zaxis": {
            "backgroundcolor": "#E5ECF6",
            "gridcolor": "white",
            "gridwidth": 2,
            "linecolor": "white",
            "showbackground": true,
            "ticks": "",
            "zerolinecolor": "white"
           }
          },
          "shapedefaults": {
           "line": {
            "color": "#2a3f5f"
           }
          },
          "ternary": {
           "aaxis": {
            "gridcolor": "white",
            "linecolor": "white",
            "ticks": ""
           },
           "baxis": {
            "gridcolor": "white",
            "linecolor": "white",
            "ticks": ""
           },
           "bgcolor": "#E5ECF6",
           "caxis": {
            "gridcolor": "white",
            "linecolor": "white",
            "ticks": ""
           }
          },
          "title": {
           "x": 0.05
          },
          "xaxis": {
           "automargin": true,
           "gridcolor": "white",
           "linecolor": "white",
           "ticks": "",
           "title": {
            "standoff": 15
           },
           "zerolinecolor": "white",
           "zerolinewidth": 2
          },
          "yaxis": {
           "automargin": true,
           "gridcolor": "white",
           "linecolor": "white",
           "ticks": "",
           "title": {
            "standoff": 15
           },
           "zerolinecolor": "white",
           "zerolinewidth": 2
          }
         }
        },
        "title": {
         "font": {
          "color": "#4D5663"
         }
        },
        "xaxis": {
         "anchor": "y",
         "domain": [
          0,
          0.2125
         ],
         "gridcolor": "#E1E5ED",
         "showgrid": false,
         "tickfont": {
          "color": "#4D5663"
         },
         "title": {
          "font": {
           "color": "#4D5663"
          },
          "text": ""
         },
         "zerolinecolor": "#E1E5ED"
        },
        "xaxis10": {
         "anchor": "y10",
         "domain": [
          0.2625,
          0.475
         ],
         "gridcolor": "#E1E5ED",
         "showgrid": false,
         "tickfont": {
          "color": "#4D5663"
         },
         "title": {
          "font": {
           "color": "#4D5663"
          },
          "text": ""
         },
         "zerolinecolor": "#E1E5ED"
        },
        "xaxis11": {
         "anchor": "y11",
         "domain": [
          0.525,
          0.7375
         ],
         "gridcolor": "#E1E5ED",
         "showgrid": false,
         "tickfont": {
          "color": "#4D5663"
         },
         "title": {
          "font": {
           "color": "#4D5663"
          },
          "text": ""
         },
         "zerolinecolor": "#E1E5ED"
        },
        "xaxis12": {
         "anchor": "y12",
         "domain": [
          0.7875,
          1
         ],
         "gridcolor": "#E1E5ED",
         "showgrid": false,
         "tickfont": {
          "color": "#4D5663"
         },
         "title": {
          "font": {
           "color": "#4D5663"
          },
          "text": ""
         },
         "zerolinecolor": "#E1E5ED"
        },
        "xaxis13": {
         "anchor": "y13",
         "domain": [
          0,
          0.2125
         ],
         "gridcolor": "#E1E5ED",
         "showgrid": false,
         "tickfont": {
          "color": "#4D5663"
         },
         "title": {
          "font": {
           "color": "#4D5663"
          },
          "text": ""
         },
         "zerolinecolor": "#E1E5ED"
        },
        "xaxis14": {
         "anchor": "y14",
         "domain": [
          0.2625,
          0.475
         ],
         "gridcolor": "#E1E5ED",
         "showgrid": false,
         "tickfont": {
          "color": "#4D5663"
         },
         "title": {
          "font": {
           "color": "#4D5663"
          },
          "text": ""
         },
         "zerolinecolor": "#E1E5ED"
        },
        "xaxis15": {
         "anchor": "y15",
         "domain": [
          0.525,
          0.7375
         ],
         "gridcolor": "#E1E5ED",
         "showgrid": false,
         "tickfont": {
          "color": "#4D5663"
         },
         "title": {
          "font": {
           "color": "#4D5663"
          },
          "text": ""
         },
         "zerolinecolor": "#E1E5ED"
        },
        "xaxis16": {
         "anchor": "y16",
         "domain": [
          0.7875,
          1
         ],
         "gridcolor": "#E1E5ED",
         "showgrid": false,
         "tickfont": {
          "color": "#4D5663"
         },
         "title": {
          "font": {
           "color": "#4D5663"
          },
          "text": ""
         },
         "zerolinecolor": "#E1E5ED"
        },
        "xaxis2": {
         "anchor": "y2",
         "domain": [
          0.2625,
          0.475
         ],
         "gridcolor": "#E1E5ED",
         "showgrid": false,
         "tickfont": {
          "color": "#4D5663"
         },
         "title": {
          "font": {
           "color": "#4D5663"
          },
          "text": ""
         },
         "zerolinecolor": "#E1E5ED"
        },
        "xaxis3": {
         "anchor": "y3",
         "domain": [
          0.525,
          0.7375
         ],
         "gridcolor": "#E1E5ED",
         "showgrid": false,
         "tickfont": {
          "color": "#4D5663"
         },
         "title": {
          "font": {
           "color": "#4D5663"
          },
          "text": ""
         },
         "zerolinecolor": "#E1E5ED"
        },
        "xaxis4": {
         "anchor": "y4",
         "domain": [
          0.7875,
          1
         ],
         "gridcolor": "#E1E5ED",
         "showgrid": false,
         "tickfont": {
          "color": "#4D5663"
         },
         "title": {
          "font": {
           "color": "#4D5663"
          },
          "text": ""
         },
         "zerolinecolor": "#E1E5ED"
        },
        "xaxis5": {
         "anchor": "y5",
         "domain": [
          0,
          0.2125
         ],
         "gridcolor": "#E1E5ED",
         "showgrid": false,
         "tickfont": {
          "color": "#4D5663"
         },
         "title": {
          "font": {
           "color": "#4D5663"
          },
          "text": ""
         },
         "zerolinecolor": "#E1E5ED"
        },
        "xaxis6": {
         "anchor": "y6",
         "domain": [
          0.2625,
          0.475
         ],
         "gridcolor": "#E1E5ED",
         "showgrid": false,
         "tickfont": {
          "color": "#4D5663"
         },
         "title": {
          "font": {
           "color": "#4D5663"
          },
          "text": ""
         },
         "zerolinecolor": "#E1E5ED"
        },
        "xaxis7": {
         "anchor": "y7",
         "domain": [
          0.525,
          0.7375
         ],
         "gridcolor": "#E1E5ED",
         "showgrid": false,
         "tickfont": {
          "color": "#4D5663"
         },
         "title": {
          "font": {
           "color": "#4D5663"
          },
          "text": ""
         },
         "zerolinecolor": "#E1E5ED"
        },
        "xaxis8": {
         "anchor": "y8",
         "domain": [
          0.7875,
          1
         ],
         "gridcolor": "#E1E5ED",
         "showgrid": false,
         "tickfont": {
          "color": "#4D5663"
         },
         "title": {
          "font": {
           "color": "#4D5663"
          },
          "text": ""
         },
         "zerolinecolor": "#E1E5ED"
        },
        "xaxis9": {
         "anchor": "y9",
         "domain": [
          0,
          0.2125
         ],
         "gridcolor": "#E1E5ED",
         "showgrid": false,
         "tickfont": {
          "color": "#4D5663"
         },
         "title": {
          "font": {
           "color": "#4D5663"
          },
          "text": ""
         },
         "zerolinecolor": "#E1E5ED"
        },
        "yaxis": {
         "anchor": "x",
         "domain": [
          0.8025,
          1
         ],
         "gridcolor": "#E1E5ED",
         "showgrid": false,
         "tickfont": {
          "color": "#4D5663"
         },
         "title": {
          "font": {
           "color": "#4D5663"
          },
          "text": ""
         },
         "zerolinecolor": "#E1E5ED"
        },
        "yaxis10": {
         "anchor": "x10",
         "domain": [
          0.2675,
          0.465
         ],
         "gridcolor": "#E1E5ED",
         "showgrid": false,
         "tickfont": {
          "color": "#4D5663"
         },
         "title": {
          "font": {
           "color": "#4D5663"
          },
          "text": ""
         },
         "zerolinecolor": "#E1E5ED"
        },
        "yaxis11": {
         "anchor": "x11",
         "domain": [
          0.2675,
          0.465
         ],
         "gridcolor": "#E1E5ED",
         "showgrid": false,
         "tickfont": {
          "color": "#4D5663"
         },
         "title": {
          "font": {
           "color": "#4D5663"
          },
          "text": ""
         },
         "zerolinecolor": "#E1E5ED"
        },
        "yaxis12": {
         "anchor": "x12",
         "domain": [
          0.2675,
          0.465
         ],
         "gridcolor": "#E1E5ED",
         "showgrid": false,
         "tickfont": {
          "color": "#4D5663"
         },
         "title": {
          "font": {
           "color": "#4D5663"
          },
          "text": ""
         },
         "zerolinecolor": "#E1E5ED"
        },
        "yaxis13": {
         "anchor": "x13",
         "domain": [
          0,
          0.1975
         ],
         "gridcolor": "#E1E5ED",
         "showgrid": false,
         "tickfont": {
          "color": "#4D5663"
         },
         "title": {
          "font": {
           "color": "#4D5663"
          },
          "text": ""
         },
         "zerolinecolor": "#E1E5ED"
        },
        "yaxis14": {
         "anchor": "x14",
         "domain": [
          0,
          0.1975
         ],
         "gridcolor": "#E1E5ED",
         "showgrid": false,
         "tickfont": {
          "color": "#4D5663"
         },
         "title": {
          "font": {
           "color": "#4D5663"
          },
          "text": ""
         },
         "zerolinecolor": "#E1E5ED"
        },
        "yaxis15": {
         "anchor": "x15",
         "domain": [
          0,
          0.1975
         ],
         "gridcolor": "#E1E5ED",
         "showgrid": false,
         "tickfont": {
          "color": "#4D5663"
         },
         "title": {
          "font": {
           "color": "#4D5663"
          },
          "text": ""
         },
         "zerolinecolor": "#E1E5ED"
        },
        "yaxis16": {
         "anchor": "x16",
         "domain": [
          0,
          0.1975
         ],
         "gridcolor": "#E1E5ED",
         "showgrid": false,
         "tickfont": {
          "color": "#4D5663"
         },
         "title": {
          "font": {
           "color": "#4D5663"
          },
          "text": ""
         },
         "zerolinecolor": "#E1E5ED"
        },
        "yaxis2": {
         "anchor": "x2",
         "domain": [
          0.8025,
          1
         ],
         "gridcolor": "#E1E5ED",
         "showgrid": false,
         "tickfont": {
          "color": "#4D5663"
         },
         "title": {
          "font": {
           "color": "#4D5663"
          },
          "text": ""
         },
         "zerolinecolor": "#E1E5ED"
        },
        "yaxis3": {
         "anchor": "x3",
         "domain": [
          0.8025,
          1
         ],
         "gridcolor": "#E1E5ED",
         "showgrid": false,
         "tickfont": {
          "color": "#4D5663"
         },
         "title": {
          "font": {
           "color": "#4D5663"
          },
          "text": ""
         },
         "zerolinecolor": "#E1E5ED"
        },
        "yaxis4": {
         "anchor": "x4",
         "domain": [
          0.8025,
          1
         ],
         "gridcolor": "#E1E5ED",
         "showgrid": false,
         "tickfont": {
          "color": "#4D5663"
         },
         "title": {
          "font": {
           "color": "#4D5663"
          },
          "text": ""
         },
         "zerolinecolor": "#E1E5ED"
        },
        "yaxis5": {
         "anchor": "x5",
         "domain": [
          0.535,
          0.7325
         ],
         "gridcolor": "#E1E5ED",
         "showgrid": false,
         "tickfont": {
          "color": "#4D5663"
         },
         "title": {
          "font": {
           "color": "#4D5663"
          },
          "text": ""
         },
         "zerolinecolor": "#E1E5ED"
        },
        "yaxis6": {
         "anchor": "x6",
         "domain": [
          0.535,
          0.7325
         ],
         "gridcolor": "#E1E5ED",
         "showgrid": false,
         "tickfont": {
          "color": "#4D5663"
         },
         "title": {
          "font": {
           "color": "#4D5663"
          },
          "text": ""
         },
         "zerolinecolor": "#E1E5ED"
        },
        "yaxis7": {
         "anchor": "x7",
         "domain": [
          0.535,
          0.7325
         ],
         "gridcolor": "#E1E5ED",
         "showgrid": false,
         "tickfont": {
          "color": "#4D5663"
         },
         "title": {
          "font": {
           "color": "#4D5663"
          },
          "text": ""
         },
         "zerolinecolor": "#E1E5ED"
        },
        "yaxis8": {
         "anchor": "x8",
         "domain": [
          0.535,
          0.7325
         ],
         "gridcolor": "#E1E5ED",
         "showgrid": false,
         "tickfont": {
          "color": "#4D5663"
         },
         "title": {
          "font": {
           "color": "#4D5663"
          },
          "text": ""
         },
         "zerolinecolor": "#E1E5ED"
        },
        "yaxis9": {
         "anchor": "x9",
         "domain": [
          0.2675,
          0.465
         ],
         "gridcolor": "#E1E5ED",
         "showgrid": false,
         "tickfont": {
          "color": "#4D5663"
         },
         "title": {
          "font": {
           "color": "#4D5663"
          },
          "text": ""
         },
         "zerolinecolor": "#E1E5ED"
        }
       }
      },
      "text/html": [
       "<div>                            <div id=\"1e105377-17b6-4221-8e22-b770df7d3c33\" class=\"plotly-graph-div\" style=\"height:525px; width:100%;\"></div>            <script type=\"text/javascript\">                require([\"plotly\"], function(Plotly) {                    window.PLOTLYENV=window.PLOTLYENV || {};\n",
       "                    window.PLOTLYENV.BASE_URL='https://plot.ly';                                    if (document.getElementById(\"1e105377-17b6-4221-8e22-b770df7d3c33\")) {                    Plotly.newPlot(                        \"1e105377-17b6-4221-8e22-b770df7d3c33\",                        [{\"histfunc\": \"count\", \"histnorm\": \"\", \"marker\": {\"color\": \"rgba(255, 153, 51, 1.0)\", \"line\": {\"color\": \"#4D5663\", \"width\": 1.3}}, \"name\": \"A\", \"nbinsx\": 10, \"opacity\": 0.8, \"orientation\": \"v\", \"type\": \"histogram\", \"x\": [0.8784182869438022, -0.3806389397043157, -0.015161610170961225, -0.9016207963843829, 1.5014835535230446, 0.638181087090259, -0.17587623889792092, -0.664965902036214, -0.5503517666986742, 0.7412790574276407, -0.3413855854978848, -0.14321019701085397, 0.6189236491204758, -1.3274582091937592, -0.6011515749002577, -0.3711948051377429, 0.22774803593324108, -0.1799100326269736, -0.751501350518013, 1.2726380379037925, 0.17853445966183684, 0.9029346884572302, -0.30475724605130877, 1.1242992014697217, -0.34803042426193503, -0.2789327833471177, -0.48089000530870313, -0.8898578379398597, -0.4052291987803923, 0.13910870604580186, -1.5928955584327276, 1.087535267725178, -1.0477189352750904, -0.28876647921209253, 0.23969910604040176, -1.047455217258851, -0.5833553130384778, 0.02618941267039, -1.3134439425363735, 0.37447051250925434, -0.23665849744398545, 0.38366374968200445, 0.38879693498090745, -2.489474520445726, -1.9558898206788757, -1.2820583243852897, 1.6396600196257145, 0.3257421775403651, 0.268439850249584, 0.254911311026306, -0.039997268578202474, -1.7304810128630073, 0.8792983780516312, -0.34944303317429876, -0.24483344544345187, 1.3422438252491682, -0.019157905591640125, 0.48254027223419876, 0.22916419374642585, -1.10244764076685, 0.4387464394595617, 0.49869501960824053, 0.8896596416653044, -2.2247096358959375, 0.25806961050697097, -0.8950588291502402, 1.077536774493091, 1.392456455805473, 1.8714710818287612, -0.9079560039649784, 0.5852837098112604, -1.3540490258003222, 1.5937634330895467, 1.136176797108421, -1.228998731272284, 0.32499698703778784, -1.0600488813061035, 0.16014813932158212, -0.11395722536452274, 0.5525871357354079, 0.1992200743903423, 1.4432928977698434, -0.053842849506307945, 0.5796916613556059, -0.13646583791057929, 1.1385161923835618, 0.25425497724742774, 0.06459608638843127, -0.8272692613159764, -0.13056663733668503, 1.9531971698255062, -1.200128548980169, -0.7083682008920325, 0.046109888970466854, -0.1794017215311147, -0.2804450420349651, 0.47294127780493245, -0.7939966373692098, 0.3515341825448959, 2.4246217604627764], \"xaxis\": \"x\", \"yaxis\": \"y\"}, {\"line\": {\"color\": \"rgba(128, 128, 128, 1.0)\", \"dash\": \"solid\", \"shape\": \"linear\", \"width\": 1.3}, \"marker\": {\"size\": 2, \"symbol\": \"circle\"}, \"mode\": \"markers\", \"name\": \"A\", \"text\": \"\", \"type\": \"scatter\", \"x\": [-0.4930365779602038, 0.3250304022261739, 0.9583344497638379, 0.18987007370510067, 1.3116461956482248, -0.6220817679528079, 1.1176365968869961, -0.9258464578846678, -1.2240936631275416, -1.233544955793205, -0.3237490841563232, 0.9123258973854688, 0.22842642137253671, 0.97394659908097, 0.7117637750549505, -0.5015085289746392, -0.20916801428743456, 1.2552264592940754, -0.08368782602850174, 0.3695360809011424, 0.37111403545690363, 0.6782737012924119, 0.4797622410012238, 2.911253138754174, -1.512623993787851, -2.56331258059585, 0.5615782223372155, -0.835984426866699, -0.44454088029925015, 0.23385361385822392, 0.649676684703017, 0.33734517766819383, 0.07386186184447749, 1.2849074240198488, -0.7590870044987608, 0.9617909879870938, 0.7792637515682848, 0.19076653572726923, -0.9743666833686444, 0.6382514812525082, -0.5440458953899364, 0.7456070716698415, 0.12989614246183692, -1.6423156210534684, 1.7163396732325287, -0.45416706950050567, 0.4441043716591119, -1.224061455455319, 0.5332178930668302, 2.019759276110566, 0.36277696743342686, -1.8556915806269134, 0.492238886798876, -1.54995228762088, -0.04113350096243654, -0.6434973828541718, 0.8661086529225488, 0.9989323504656847, 0.541137576993134, 1.2391192072924329, 0.5745147693028827, -0.2414084320240968, 0.541309991070589, 0.7859289747510708, 1.4831153439368039, -0.5254666265863034, -0.7021612584368963, -0.28667722150976127, 0.6385384203001963, 0.1594149116250348, -1.4050472102870275, -0.7673306354425335, 0.7441053584114531, -0.31765516460868404, 1.6164404742814527, 1.243123471433262, 0.49469166601581016, 0.06350558800969401, 0.6383441449086565, 0.16265538575948088, -0.4586828174957983, -1.997774359164692, 0.3451467817844908, -0.9849906422659223, 1.296687209780314, -0.617686845046229, -0.8107617488505277, -0.6900329691237589, -0.37413489066330313, -0.6005443256657182, -1.046402165049117, 0.4896257869686791, 0.5601417492243187, -1.383651457886147, 0.8410728557430217, -0.405818172853134, -0.3831616014981088, 0.4658052982328494, 0.20681148045450257, 0.4565200818659963], \"xaxis\": \"x2\", \"y\": [0.8784182869438022, -0.3806389397043157, -0.015161610170961225, -0.9016207963843829, 1.5014835535230446, 0.638181087090259, -0.17587623889792092, -0.664965902036214, -0.5503517666986742, 0.7412790574276407, -0.3413855854978848, -0.14321019701085397, 0.6189236491204758, -1.3274582091937592, -0.6011515749002577, -0.3711948051377429, 0.22774803593324108, -0.1799100326269736, -0.751501350518013, 1.2726380379037925, 0.17853445966183684, 0.9029346884572302, -0.30475724605130877, 1.1242992014697217, -0.34803042426193503, -0.2789327833471177, -0.48089000530870313, -0.8898578379398597, -0.4052291987803923, 0.13910870604580186, -1.5928955584327276, 1.087535267725178, -1.0477189352750904, -0.28876647921209253, 0.23969910604040176, -1.047455217258851, -0.5833553130384778, 0.02618941267039, -1.3134439425363735, 0.37447051250925434, -0.23665849744398545, 0.38366374968200445, 0.38879693498090745, -2.489474520445726, -1.9558898206788757, -1.2820583243852897, 1.6396600196257145, 0.3257421775403651, 0.268439850249584, 0.254911311026306, -0.039997268578202474, -1.7304810128630073, 0.8792983780516312, -0.34944303317429876, -0.24483344544345187, 1.3422438252491682, -0.019157905591640125, 0.48254027223419876, 0.22916419374642585, -1.10244764076685, 0.4387464394595617, 0.49869501960824053, 0.8896596416653044, -2.2247096358959375, 0.25806961050697097, -0.8950588291502402, 1.077536774493091, 1.392456455805473, 1.8714710818287612, -0.9079560039649784, 0.5852837098112604, -1.3540490258003222, 1.5937634330895467, 1.136176797108421, -1.228998731272284, 0.32499698703778784, -1.0600488813061035, 0.16014813932158212, -0.11395722536452274, 0.5525871357354079, 0.1992200743903423, 1.4432928977698434, -0.053842849506307945, 0.5796916613556059, -0.13646583791057929, 1.1385161923835618, 0.25425497724742774, 0.06459608638843127, -0.8272692613159764, -0.13056663733668503, 1.9531971698255062, -1.200128548980169, -0.7083682008920325, 0.046109888970466854, -0.1794017215311147, -0.2804450420349651, 0.47294127780493245, -0.7939966373692098, 0.3515341825448959, 2.4246217604627764], \"yaxis\": \"y2\"}, {\"line\": {\"color\": \"rgba(128, 128, 128, 1.0)\", \"dash\": \"solid\", \"shape\": \"linear\", \"width\": 1.3}, \"marker\": {\"size\": 2, \"symbol\": \"circle\"}, \"mode\": \"markers\", \"name\": \"A\", \"text\": \"\", \"type\": \"scatter\", \"x\": [1.500706888198252, 0.4626380430580365, 1.1650512666383757, 1.7142254561170285, 0.1539844717715234, -0.2732552156647188, -0.20030091534607036, 1.0918379149903092, 0.9008210124185305, 0.18245382786094433, -0.30755670004941127, 0.0992352675038754, -2.0423540078113125, 1.6339540613493813, -1.3486388693569185, 0.7302063716924077, -0.10420934964050436, -0.6851335015827352, 0.9013979117975525, -1.004192908545839, 0.2501581953470005, 1.8360835590276545, 1.071040887552531, 0.6555635807597393, -0.5508156931449266, 1.6340686944429952, 0.24869216205157882, -0.331711283057869, -0.42068117872117666, 0.12291202975103795, 0.8150104044450903, 1.0360073838239503, 0.9307964208333379, 0.7061960120649322, 0.7509560170371947, 1.229871460861379, -0.9082891948308699, -0.6253894762549496, 0.4583535570964156, 0.03617940272864027, -0.3033517172401607, -0.9474593473748577, 0.8814537933101844, 0.792930097806262, 0.624335096417186, -0.8581490191791381, -1.4687629162239995, -0.7006170792064712, 0.8107509674595839, 0.27947282996035067, 0.5465992493227325, -1.5842002859620234, 0.31430544164532437, -0.005012709155082159, 0.7639312655016676, -1.1523680672664105, 1.5246899317433875, -1.767640083860489, 0.29266282512600844, 0.2423345876705051, 1.5667849577849062, -1.8069741434569542, 0.6721413263814878, -0.4367502491786467, -2.8082319589973084, -0.8139335969049255, -0.17739763345626064, 0.2535508941542086, -0.06392141289709034, -0.002096316762234468, -0.32560483887986535, 0.4017226746678383, 0.8810378533108364, -1.2120505469901488, 0.9252240442339137, 1.1944548776685913, -0.5314053614017786, 0.9592246397370383, -0.14195206311847106, 0.648351940351426, -1.6443752083364018, 0.3916535644836725, 1.5870359419255373, 0.8982527093055426, 1.3595560760113108, 0.36504464458630037, -1.8190891886726197, 0.4217168365382286, -0.43694526067309253, -0.9249276511682633, 0.8432761663518943, -0.29978140858588587, -0.6657049896937373, 0.6932133361840458, -2.1145628345737104, 0.5978049830549731, -0.3003603316644389, 0.434879860393503, 1.2909651686238386, 1.236513797583111], \"xaxis\": \"x3\", \"y\": [0.8784182869438022, -0.3806389397043157, -0.015161610170961225, -0.9016207963843829, 1.5014835535230446, 0.638181087090259, -0.17587623889792092, -0.664965902036214, -0.5503517666986742, 0.7412790574276407, -0.3413855854978848, -0.14321019701085397, 0.6189236491204758, -1.3274582091937592, -0.6011515749002577, -0.3711948051377429, 0.22774803593324108, -0.1799100326269736, -0.751501350518013, 1.2726380379037925, 0.17853445966183684, 0.9029346884572302, -0.30475724605130877, 1.1242992014697217, -0.34803042426193503, -0.2789327833471177, -0.48089000530870313, -0.8898578379398597, -0.4052291987803923, 0.13910870604580186, -1.5928955584327276, 1.087535267725178, -1.0477189352750904, -0.28876647921209253, 0.23969910604040176, -1.047455217258851, -0.5833553130384778, 0.02618941267039, -1.3134439425363735, 0.37447051250925434, -0.23665849744398545, 0.38366374968200445, 0.38879693498090745, -2.489474520445726, -1.9558898206788757, -1.2820583243852897, 1.6396600196257145, 0.3257421775403651, 0.268439850249584, 0.254911311026306, -0.039997268578202474, -1.7304810128630073, 0.8792983780516312, -0.34944303317429876, -0.24483344544345187, 1.3422438252491682, -0.019157905591640125, 0.48254027223419876, 0.22916419374642585, -1.10244764076685, 0.4387464394595617, 0.49869501960824053, 0.8896596416653044, -2.2247096358959375, 0.25806961050697097, -0.8950588291502402, 1.077536774493091, 1.392456455805473, 1.8714710818287612, -0.9079560039649784, 0.5852837098112604, -1.3540490258003222, 1.5937634330895467, 1.136176797108421, -1.228998731272284, 0.32499698703778784, -1.0600488813061035, 0.16014813932158212, -0.11395722536452274, 0.5525871357354079, 0.1992200743903423, 1.4432928977698434, -0.053842849506307945, 0.5796916613556059, -0.13646583791057929, 1.1385161923835618, 0.25425497724742774, 0.06459608638843127, -0.8272692613159764, -0.13056663733668503, 1.9531971698255062, -1.200128548980169, -0.7083682008920325, 0.046109888970466854, -0.1794017215311147, -0.2804450420349651, 0.47294127780493245, -0.7939966373692098, 0.3515341825448959, 2.4246217604627764], \"yaxis\": \"y3\"}, {\"line\": {\"color\": \"rgba(128, 128, 128, 1.0)\", \"dash\": \"solid\", \"shape\": \"linear\", \"width\": 1.3}, \"marker\": {\"size\": 2, \"symbol\": \"circle\"}, \"mode\": \"markers\", \"name\": \"A\", \"text\": \"\", \"type\": \"scatter\", \"x\": [0.09619778561893773, 2.3718711032826993, -0.7350090454655396, -0.19375323607714165, 0.32541558206751314, -0.03568210209281752, -0.37221205498497, -1.8185103536645288, 1.5053320447719372, -1.4108976748031865, 2.614671556032302, 0.37173765003320236, -0.3310116001538482, 1.0606300085721005, -0.7015101848106754, -0.10272917711433686, -0.48464703657907265, -0.3049608592468676, 1.0168256775698932, 1.3041426892568055, 0.227282186764907, 0.6026161573510717, -0.9088215682061821, -0.9388164277967703, 0.6687852808467871, -0.4242854141213294, 1.0965187952818678, -1.2434611584040602, 0.6999126506219229, 0.4277860690451645, -0.06811208520424537, -0.4282103783931777, -0.3074209535534217, -0.25242627682283586, 0.9012363488017996, -0.3481850680393719, -0.14349131531173503, 1.7083868480111033, 0.9585831035330805, 0.7909936100523438, 0.557460467045621, -0.5030614557033, -0.09116025613533921, 0.4007025188140722, -0.6821193034869832, -1.7527305323776292, -1.1412273282567689, -0.9226230729338252, -0.8322645249443698, 0.26975965660919726, 0.9885535567140861, -1.342142942512881, 1.0495199684120897, -0.8661106538948654, -0.7449905540190652, 0.41238366245717695, 0.29887607839836666, -0.039306633826568294, -0.11337667669361165, -1.0264200421407708, -0.5322397651365385, 2.091940537625189, 0.15041061867569272, 0.6084366295322634, -0.5546623989673322, 1.111419240245961, -0.7655760723329117, 0.23980897570051066, 0.3507632684420595, -1.274174914948869, 0.7145136544106467, 0.4460848231109961, -2.0374974122194978, 2.2255746539641614, 0.018127346474249947, -0.964579357706184, -0.9075752451406188, 1.8577006873832411, -0.5673188525233243, -0.535806276496681, -0.6229537031685048, 1.01801919299748, 1.0471203739036494, 0.3307869879152975, -0.3673171993217387, 1.0270694485741976, 1.2568027156619328, -0.3403770233571368, -0.8343727028699456, 0.06890535553288837, -1.415029120935102, -0.7317121999156917, -0.8111375167247362, -0.5046598501032468, -0.1868198776252593, 1.212295789688365, -0.4317194192036839, 2.9649213489069064, -0.23007536308025497, 0.8371789584822209], \"xaxis\": \"x4\", \"y\": [0.8784182869438022, -0.3806389397043157, -0.015161610170961225, -0.9016207963843829, 1.5014835535230446, 0.638181087090259, -0.17587623889792092, -0.664965902036214, -0.5503517666986742, 0.7412790574276407, -0.3413855854978848, -0.14321019701085397, 0.6189236491204758, -1.3274582091937592, -0.6011515749002577, -0.3711948051377429, 0.22774803593324108, -0.1799100326269736, -0.751501350518013, 1.2726380379037925, 0.17853445966183684, 0.9029346884572302, -0.30475724605130877, 1.1242992014697217, -0.34803042426193503, -0.2789327833471177, -0.48089000530870313, -0.8898578379398597, -0.4052291987803923, 0.13910870604580186, -1.5928955584327276, 1.087535267725178, -1.0477189352750904, -0.28876647921209253, 0.23969910604040176, -1.047455217258851, -0.5833553130384778, 0.02618941267039, -1.3134439425363735, 0.37447051250925434, -0.23665849744398545, 0.38366374968200445, 0.38879693498090745, -2.489474520445726, -1.9558898206788757, -1.2820583243852897, 1.6396600196257145, 0.3257421775403651, 0.268439850249584, 0.254911311026306, -0.039997268578202474, -1.7304810128630073, 0.8792983780516312, -0.34944303317429876, -0.24483344544345187, 1.3422438252491682, -0.019157905591640125, 0.48254027223419876, 0.22916419374642585, -1.10244764076685, 0.4387464394595617, 0.49869501960824053, 0.8896596416653044, -2.2247096358959375, 0.25806961050697097, -0.8950588291502402, 1.077536774493091, 1.392456455805473, 1.8714710818287612, -0.9079560039649784, 0.5852837098112604, -1.3540490258003222, 1.5937634330895467, 1.136176797108421, -1.228998731272284, 0.32499698703778784, -1.0600488813061035, 0.16014813932158212, -0.11395722536452274, 0.5525871357354079, 0.1992200743903423, 1.4432928977698434, -0.053842849506307945, 0.5796916613556059, -0.13646583791057929, 1.1385161923835618, 0.25425497724742774, 0.06459608638843127, -0.8272692613159764, -0.13056663733668503, 1.9531971698255062, -1.200128548980169, -0.7083682008920325, 0.046109888970466854, -0.1794017215311147, -0.2804450420349651, 0.47294127780493245, -0.7939966373692098, 0.3515341825448959, 2.4246217604627764], \"yaxis\": \"y4\"}, {\"line\": {\"color\": \"rgba(128, 128, 128, 1.0)\", \"dash\": \"solid\", \"shape\": \"linear\", \"width\": 1.3}, \"marker\": {\"size\": 2, \"symbol\": \"circle\"}, \"mode\": \"markers\", \"name\": \"B\", \"text\": \"\", \"type\": \"scatter\", \"x\": [0.8784182869438022, -0.3806389397043157, -0.015161610170961225, -0.9016207963843829, 1.5014835535230446, 0.638181087090259, -0.17587623889792092, -0.664965902036214, -0.5503517666986742, 0.7412790574276407, -0.3413855854978848, -0.14321019701085397, 0.6189236491204758, -1.3274582091937592, -0.6011515749002577, -0.3711948051377429, 0.22774803593324108, -0.1799100326269736, -0.751501350518013, 1.2726380379037925, 0.17853445966183684, 0.9029346884572302, -0.30475724605130877, 1.1242992014697217, -0.34803042426193503, -0.2789327833471177, -0.48089000530870313, -0.8898578379398597, -0.4052291987803923, 0.13910870604580186, -1.5928955584327276, 1.087535267725178, -1.0477189352750904, -0.28876647921209253, 0.23969910604040176, -1.047455217258851, -0.5833553130384778, 0.02618941267039, -1.3134439425363735, 0.37447051250925434, -0.23665849744398545, 0.38366374968200445, 0.38879693498090745, -2.489474520445726, -1.9558898206788757, -1.2820583243852897, 1.6396600196257145, 0.3257421775403651, 0.268439850249584, 0.254911311026306, -0.039997268578202474, -1.7304810128630073, 0.8792983780516312, -0.34944303317429876, -0.24483344544345187, 1.3422438252491682, -0.019157905591640125, 0.48254027223419876, 0.22916419374642585, -1.10244764076685, 0.4387464394595617, 0.49869501960824053, 0.8896596416653044, -2.2247096358959375, 0.25806961050697097, -0.8950588291502402, 1.077536774493091, 1.392456455805473, 1.8714710818287612, -0.9079560039649784, 0.5852837098112604, -1.3540490258003222, 1.5937634330895467, 1.136176797108421, -1.228998731272284, 0.32499698703778784, -1.0600488813061035, 0.16014813932158212, -0.11395722536452274, 0.5525871357354079, 0.1992200743903423, 1.4432928977698434, -0.053842849506307945, 0.5796916613556059, -0.13646583791057929, 1.1385161923835618, 0.25425497724742774, 0.06459608638843127, -0.8272692613159764, -0.13056663733668503, 1.9531971698255062, -1.200128548980169, -0.7083682008920325, 0.046109888970466854, -0.1794017215311147, -0.2804450420349651, 0.47294127780493245, -0.7939966373692098, 0.3515341825448959, 2.4246217604627764], \"xaxis\": \"x5\", \"y\": [-0.4930365779602038, 0.3250304022261739, 0.9583344497638379, 0.18987007370510067, 1.3116461956482248, -0.6220817679528079, 1.1176365968869961, -0.9258464578846678, -1.2240936631275416, -1.233544955793205, -0.3237490841563232, 0.9123258973854688, 0.22842642137253671, 0.97394659908097, 0.7117637750549505, -0.5015085289746392, -0.20916801428743456, 1.2552264592940754, -0.08368782602850174, 0.3695360809011424, 0.37111403545690363, 0.6782737012924119, 0.4797622410012238, 2.911253138754174, -1.512623993787851, -2.56331258059585, 0.5615782223372155, -0.835984426866699, -0.44454088029925015, 0.23385361385822392, 0.649676684703017, 0.33734517766819383, 0.07386186184447749, 1.2849074240198488, -0.7590870044987608, 0.9617909879870938, 0.7792637515682848, 0.19076653572726923, -0.9743666833686444, 0.6382514812525082, -0.5440458953899364, 0.7456070716698415, 0.12989614246183692, -1.6423156210534684, 1.7163396732325287, -0.45416706950050567, 0.4441043716591119, -1.224061455455319, 0.5332178930668302, 2.019759276110566, 0.36277696743342686, -1.8556915806269134, 0.492238886798876, -1.54995228762088, -0.04113350096243654, -0.6434973828541718, 0.8661086529225488, 0.9989323504656847, 0.541137576993134, 1.2391192072924329, 0.5745147693028827, -0.2414084320240968, 0.541309991070589, 0.7859289747510708, 1.4831153439368039, -0.5254666265863034, -0.7021612584368963, -0.28667722150976127, 0.6385384203001963, 0.1594149116250348, -1.4050472102870275, -0.7673306354425335, 0.7441053584114531, -0.31765516460868404, 1.6164404742814527, 1.243123471433262, 0.49469166601581016, 0.06350558800969401, 0.6383441449086565, 0.16265538575948088, -0.4586828174957983, -1.997774359164692, 0.3451467817844908, -0.9849906422659223, 1.296687209780314, -0.617686845046229, -0.8107617488505277, -0.6900329691237589, -0.37413489066330313, -0.6005443256657182, -1.046402165049117, 0.4896257869686791, 0.5601417492243187, -1.383651457886147, 0.8410728557430217, -0.405818172853134, -0.3831616014981088, 0.4658052982328494, 0.20681148045450257, 0.4565200818659963], \"yaxis\": \"y5\"}, {\"histfunc\": \"count\", \"histnorm\": \"\", \"marker\": {\"color\": \"rgba(55, 128, 191, 1.0)\", \"line\": {\"color\": \"#4D5663\", \"width\": 1.3}}, \"name\": \"B\", \"nbinsx\": 10, \"opacity\": 0.8, \"orientation\": \"v\", \"type\": \"histogram\", \"x\": [-0.4930365779602038, 0.3250304022261739, 0.9583344497638379, 0.18987007370510067, 1.3116461956482248, -0.6220817679528079, 1.1176365968869961, -0.9258464578846678, -1.2240936631275416, -1.233544955793205, -0.3237490841563232, 0.9123258973854688, 0.22842642137253671, 0.97394659908097, 0.7117637750549505, -0.5015085289746392, -0.20916801428743456, 1.2552264592940754, -0.08368782602850174, 0.3695360809011424, 0.37111403545690363, 0.6782737012924119, 0.4797622410012238, 2.911253138754174, -1.512623993787851, -2.56331258059585, 0.5615782223372155, -0.835984426866699, -0.44454088029925015, 0.23385361385822392, 0.649676684703017, 0.33734517766819383, 0.07386186184447749, 1.2849074240198488, -0.7590870044987608, 0.9617909879870938, 0.7792637515682848, 0.19076653572726923, -0.9743666833686444, 0.6382514812525082, -0.5440458953899364, 0.7456070716698415, 0.12989614246183692, -1.6423156210534684, 1.7163396732325287, -0.45416706950050567, 0.4441043716591119, -1.224061455455319, 0.5332178930668302, 2.019759276110566, 0.36277696743342686, -1.8556915806269134, 0.492238886798876, -1.54995228762088, -0.04113350096243654, -0.6434973828541718, 0.8661086529225488, 0.9989323504656847, 0.541137576993134, 1.2391192072924329, 0.5745147693028827, -0.2414084320240968, 0.541309991070589, 0.7859289747510708, 1.4831153439368039, -0.5254666265863034, -0.7021612584368963, -0.28667722150976127, 0.6385384203001963, 0.1594149116250348, -1.4050472102870275, -0.7673306354425335, 0.7441053584114531, -0.31765516460868404, 1.6164404742814527, 1.243123471433262, 0.49469166601581016, 0.06350558800969401, 0.6383441449086565, 0.16265538575948088, -0.4586828174957983, -1.997774359164692, 0.3451467817844908, -0.9849906422659223, 1.296687209780314, -0.617686845046229, -0.8107617488505277, -0.6900329691237589, -0.37413489066330313, -0.6005443256657182, -1.046402165049117, 0.4896257869686791, 0.5601417492243187, -1.383651457886147, 0.8410728557430217, -0.405818172853134, -0.3831616014981088, 0.4658052982328494, 0.20681148045450257, 0.4565200818659963], \"xaxis\": \"x6\", \"yaxis\": \"y6\"}, {\"line\": {\"color\": \"rgba(128, 128, 128, 1.0)\", \"dash\": \"solid\", \"shape\": \"linear\", \"width\": 1.3}, \"marker\": {\"size\": 2, \"symbol\": \"circle\"}, \"mode\": \"markers\", \"name\": \"B\", \"text\": \"\", \"type\": \"scatter\", \"x\": [1.500706888198252, 0.4626380430580365, 1.1650512666383757, 1.7142254561170285, 0.1539844717715234, -0.2732552156647188, -0.20030091534607036, 1.0918379149903092, 0.9008210124185305, 0.18245382786094433, -0.30755670004941127, 0.0992352675038754, -2.0423540078113125, 1.6339540613493813, -1.3486388693569185, 0.7302063716924077, -0.10420934964050436, -0.6851335015827352, 0.9013979117975525, -1.004192908545839, 0.2501581953470005, 1.8360835590276545, 1.071040887552531, 0.6555635807597393, -0.5508156931449266, 1.6340686944429952, 0.24869216205157882, -0.331711283057869, -0.42068117872117666, 0.12291202975103795, 0.8150104044450903, 1.0360073838239503, 0.9307964208333379, 0.7061960120649322, 0.7509560170371947, 1.229871460861379, -0.9082891948308699, -0.6253894762549496, 0.4583535570964156, 0.03617940272864027, -0.3033517172401607, -0.9474593473748577, 0.8814537933101844, 0.792930097806262, 0.624335096417186, -0.8581490191791381, -1.4687629162239995, -0.7006170792064712, 0.8107509674595839, 0.27947282996035067, 0.5465992493227325, -1.5842002859620234, 0.31430544164532437, -0.005012709155082159, 0.7639312655016676, -1.1523680672664105, 1.5246899317433875, -1.767640083860489, 0.29266282512600844, 0.2423345876705051, 1.5667849577849062, -1.8069741434569542, 0.6721413263814878, -0.4367502491786467, -2.8082319589973084, -0.8139335969049255, -0.17739763345626064, 0.2535508941542086, -0.06392141289709034, -0.002096316762234468, -0.32560483887986535, 0.4017226746678383, 0.8810378533108364, -1.2120505469901488, 0.9252240442339137, 1.1944548776685913, -0.5314053614017786, 0.9592246397370383, -0.14195206311847106, 0.648351940351426, -1.6443752083364018, 0.3916535644836725, 1.5870359419255373, 0.8982527093055426, 1.3595560760113108, 0.36504464458630037, -1.8190891886726197, 0.4217168365382286, -0.43694526067309253, -0.9249276511682633, 0.8432761663518943, -0.29978140858588587, -0.6657049896937373, 0.6932133361840458, -2.1145628345737104, 0.5978049830549731, -0.3003603316644389, 0.434879860393503, 1.2909651686238386, 1.236513797583111], \"xaxis\": \"x7\", \"y\": [-0.4930365779602038, 0.3250304022261739, 0.9583344497638379, 0.18987007370510067, 1.3116461956482248, -0.6220817679528079, 1.1176365968869961, -0.9258464578846678, -1.2240936631275416, -1.233544955793205, -0.3237490841563232, 0.9123258973854688, 0.22842642137253671, 0.97394659908097, 0.7117637750549505, -0.5015085289746392, -0.20916801428743456, 1.2552264592940754, -0.08368782602850174, 0.3695360809011424, 0.37111403545690363, 0.6782737012924119, 0.4797622410012238, 2.911253138754174, -1.512623993787851, -2.56331258059585, 0.5615782223372155, -0.835984426866699, -0.44454088029925015, 0.23385361385822392, 0.649676684703017, 0.33734517766819383, 0.07386186184447749, 1.2849074240198488, -0.7590870044987608, 0.9617909879870938, 0.7792637515682848, 0.19076653572726923, -0.9743666833686444, 0.6382514812525082, -0.5440458953899364, 0.7456070716698415, 0.12989614246183692, -1.6423156210534684, 1.7163396732325287, -0.45416706950050567, 0.4441043716591119, -1.224061455455319, 0.5332178930668302, 2.019759276110566, 0.36277696743342686, -1.8556915806269134, 0.492238886798876, -1.54995228762088, -0.04113350096243654, -0.6434973828541718, 0.8661086529225488, 0.9989323504656847, 0.541137576993134, 1.2391192072924329, 0.5745147693028827, -0.2414084320240968, 0.541309991070589, 0.7859289747510708, 1.4831153439368039, -0.5254666265863034, -0.7021612584368963, -0.28667722150976127, 0.6385384203001963, 0.1594149116250348, -1.4050472102870275, -0.7673306354425335, 0.7441053584114531, -0.31765516460868404, 1.6164404742814527, 1.243123471433262, 0.49469166601581016, 0.06350558800969401, 0.6383441449086565, 0.16265538575948088, -0.4586828174957983, -1.997774359164692, 0.3451467817844908, -0.9849906422659223, 1.296687209780314, -0.617686845046229, -0.8107617488505277, -0.6900329691237589, -0.37413489066330313, -0.6005443256657182, -1.046402165049117, 0.4896257869686791, 0.5601417492243187, -1.383651457886147, 0.8410728557430217, -0.405818172853134, -0.3831616014981088, 0.4658052982328494, 0.20681148045450257, 0.4565200818659963], \"yaxis\": \"y7\"}, {\"line\": {\"color\": \"rgba(128, 128, 128, 1.0)\", \"dash\": \"solid\", \"shape\": \"linear\", \"width\": 1.3}, \"marker\": {\"size\": 2, \"symbol\": \"circle\"}, \"mode\": \"markers\", \"name\": \"B\", \"text\": \"\", \"type\": \"scatter\", \"x\": [0.09619778561893773, 2.3718711032826993, -0.7350090454655396, -0.19375323607714165, 0.32541558206751314, -0.03568210209281752, -0.37221205498497, -1.8185103536645288, 1.5053320447719372, -1.4108976748031865, 2.614671556032302, 0.37173765003320236, -0.3310116001538482, 1.0606300085721005, -0.7015101848106754, -0.10272917711433686, -0.48464703657907265, -0.3049608592468676, 1.0168256775698932, 1.3041426892568055, 0.227282186764907, 0.6026161573510717, -0.9088215682061821, -0.9388164277967703, 0.6687852808467871, -0.4242854141213294, 1.0965187952818678, -1.2434611584040602, 0.6999126506219229, 0.4277860690451645, -0.06811208520424537, -0.4282103783931777, -0.3074209535534217, -0.25242627682283586, 0.9012363488017996, -0.3481850680393719, -0.14349131531173503, 1.7083868480111033, 0.9585831035330805, 0.7909936100523438, 0.557460467045621, -0.5030614557033, -0.09116025613533921, 0.4007025188140722, -0.6821193034869832, -1.7527305323776292, -1.1412273282567689, -0.9226230729338252, -0.8322645249443698, 0.26975965660919726, 0.9885535567140861, -1.342142942512881, 1.0495199684120897, -0.8661106538948654, -0.7449905540190652, 0.41238366245717695, 0.29887607839836666, -0.039306633826568294, -0.11337667669361165, -1.0264200421407708, -0.5322397651365385, 2.091940537625189, 0.15041061867569272, 0.6084366295322634, -0.5546623989673322, 1.111419240245961, -0.7655760723329117, 0.23980897570051066, 0.3507632684420595, -1.274174914948869, 0.7145136544106467, 0.4460848231109961, -2.0374974122194978, 2.2255746539641614, 0.018127346474249947, -0.964579357706184, -0.9075752451406188, 1.8577006873832411, -0.5673188525233243, -0.535806276496681, -0.6229537031685048, 1.01801919299748, 1.0471203739036494, 0.3307869879152975, -0.3673171993217387, 1.0270694485741976, 1.2568027156619328, -0.3403770233571368, -0.8343727028699456, 0.06890535553288837, -1.415029120935102, -0.7317121999156917, -0.8111375167247362, -0.5046598501032468, -0.1868198776252593, 1.212295789688365, -0.4317194192036839, 2.9649213489069064, -0.23007536308025497, 0.8371789584822209], \"xaxis\": \"x8\", \"y\": [-0.4930365779602038, 0.3250304022261739, 0.9583344497638379, 0.18987007370510067, 1.3116461956482248, -0.6220817679528079, 1.1176365968869961, -0.9258464578846678, -1.2240936631275416, -1.233544955793205, -0.3237490841563232, 0.9123258973854688, 0.22842642137253671, 0.97394659908097, 0.7117637750549505, -0.5015085289746392, -0.20916801428743456, 1.2552264592940754, -0.08368782602850174, 0.3695360809011424, 0.37111403545690363, 0.6782737012924119, 0.4797622410012238, 2.911253138754174, -1.512623993787851, -2.56331258059585, 0.5615782223372155, -0.835984426866699, -0.44454088029925015, 0.23385361385822392, 0.649676684703017, 0.33734517766819383, 0.07386186184447749, 1.2849074240198488, -0.7590870044987608, 0.9617909879870938, 0.7792637515682848, 0.19076653572726923, -0.9743666833686444, 0.6382514812525082, -0.5440458953899364, 0.7456070716698415, 0.12989614246183692, -1.6423156210534684, 1.7163396732325287, -0.45416706950050567, 0.4441043716591119, -1.224061455455319, 0.5332178930668302, 2.019759276110566, 0.36277696743342686, -1.8556915806269134, 0.492238886798876, -1.54995228762088, -0.04113350096243654, -0.6434973828541718, 0.8661086529225488, 0.9989323504656847, 0.541137576993134, 1.2391192072924329, 0.5745147693028827, -0.2414084320240968, 0.541309991070589, 0.7859289747510708, 1.4831153439368039, -0.5254666265863034, -0.7021612584368963, -0.28667722150976127, 0.6385384203001963, 0.1594149116250348, -1.4050472102870275, -0.7673306354425335, 0.7441053584114531, -0.31765516460868404, 1.6164404742814527, 1.243123471433262, 0.49469166601581016, 0.06350558800969401, 0.6383441449086565, 0.16265538575948088, -0.4586828174957983, -1.997774359164692, 0.3451467817844908, -0.9849906422659223, 1.296687209780314, -0.617686845046229, -0.8107617488505277, -0.6900329691237589, -0.37413489066330313, -0.6005443256657182, -1.046402165049117, 0.4896257869686791, 0.5601417492243187, -1.383651457886147, 0.8410728557430217, -0.405818172853134, -0.3831616014981088, 0.4658052982328494, 0.20681148045450257, 0.4565200818659963], \"yaxis\": \"y8\"}, {\"line\": {\"color\": \"rgba(128, 128, 128, 1.0)\", \"dash\": \"solid\", \"shape\": \"linear\", \"width\": 1.3}, \"marker\": {\"size\": 2, \"symbol\": \"circle\"}, \"mode\": \"markers\", \"name\": \"C\", \"text\": \"\", \"type\": \"scatter\", \"x\": [0.8784182869438022, -0.3806389397043157, -0.015161610170961225, -0.9016207963843829, 1.5014835535230446, 0.638181087090259, -0.17587623889792092, -0.664965902036214, -0.5503517666986742, 0.7412790574276407, -0.3413855854978848, -0.14321019701085397, 0.6189236491204758, -1.3274582091937592, -0.6011515749002577, -0.3711948051377429, 0.22774803593324108, -0.1799100326269736, -0.751501350518013, 1.2726380379037925, 0.17853445966183684, 0.9029346884572302, -0.30475724605130877, 1.1242992014697217, -0.34803042426193503, -0.2789327833471177, -0.48089000530870313, -0.8898578379398597, -0.4052291987803923, 0.13910870604580186, -1.5928955584327276, 1.087535267725178, -1.0477189352750904, -0.28876647921209253, 0.23969910604040176, -1.047455217258851, -0.5833553130384778, 0.02618941267039, -1.3134439425363735, 0.37447051250925434, -0.23665849744398545, 0.38366374968200445, 0.38879693498090745, -2.489474520445726, -1.9558898206788757, -1.2820583243852897, 1.6396600196257145, 0.3257421775403651, 0.268439850249584, 0.254911311026306, -0.039997268578202474, -1.7304810128630073, 0.8792983780516312, -0.34944303317429876, -0.24483344544345187, 1.3422438252491682, -0.019157905591640125, 0.48254027223419876, 0.22916419374642585, -1.10244764076685, 0.4387464394595617, 0.49869501960824053, 0.8896596416653044, -2.2247096358959375, 0.25806961050697097, -0.8950588291502402, 1.077536774493091, 1.392456455805473, 1.8714710818287612, -0.9079560039649784, 0.5852837098112604, -1.3540490258003222, 1.5937634330895467, 1.136176797108421, -1.228998731272284, 0.32499698703778784, -1.0600488813061035, 0.16014813932158212, -0.11395722536452274, 0.5525871357354079, 0.1992200743903423, 1.4432928977698434, -0.053842849506307945, 0.5796916613556059, -0.13646583791057929, 1.1385161923835618, 0.25425497724742774, 0.06459608638843127, -0.8272692613159764, -0.13056663733668503, 1.9531971698255062, -1.200128548980169, -0.7083682008920325, 0.046109888970466854, -0.1794017215311147, -0.2804450420349651, 0.47294127780493245, -0.7939966373692098, 0.3515341825448959, 2.4246217604627764], \"xaxis\": \"x9\", \"y\": [1.500706888198252, 0.4626380430580365, 1.1650512666383757, 1.7142254561170285, 0.1539844717715234, -0.2732552156647188, -0.20030091534607036, 1.0918379149903092, 0.9008210124185305, 0.18245382786094433, -0.30755670004941127, 0.0992352675038754, -2.0423540078113125, 1.6339540613493813, -1.3486388693569185, 0.7302063716924077, -0.10420934964050436, -0.6851335015827352, 0.9013979117975525, -1.004192908545839, 0.2501581953470005, 1.8360835590276545, 1.071040887552531, 0.6555635807597393, -0.5508156931449266, 1.6340686944429952, 0.24869216205157882, -0.331711283057869, -0.42068117872117666, 0.12291202975103795, 0.8150104044450903, 1.0360073838239503, 0.9307964208333379, 0.7061960120649322, 0.7509560170371947, 1.229871460861379, -0.9082891948308699, -0.6253894762549496, 0.4583535570964156, 0.03617940272864027, -0.3033517172401607, -0.9474593473748577, 0.8814537933101844, 0.792930097806262, 0.624335096417186, -0.8581490191791381, -1.4687629162239995, -0.7006170792064712, 0.8107509674595839, 0.27947282996035067, 0.5465992493227325, -1.5842002859620234, 0.31430544164532437, -0.005012709155082159, 0.7639312655016676, -1.1523680672664105, 1.5246899317433875, -1.767640083860489, 0.29266282512600844, 0.2423345876705051, 1.5667849577849062, -1.8069741434569542, 0.6721413263814878, -0.4367502491786467, -2.8082319589973084, -0.8139335969049255, -0.17739763345626064, 0.2535508941542086, -0.06392141289709034, -0.002096316762234468, -0.32560483887986535, 0.4017226746678383, 0.8810378533108364, -1.2120505469901488, 0.9252240442339137, 1.1944548776685913, -0.5314053614017786, 0.9592246397370383, -0.14195206311847106, 0.648351940351426, -1.6443752083364018, 0.3916535644836725, 1.5870359419255373, 0.8982527093055426, 1.3595560760113108, 0.36504464458630037, -1.8190891886726197, 0.4217168365382286, -0.43694526067309253, -0.9249276511682633, 0.8432761663518943, -0.29978140858588587, -0.6657049896937373, 0.6932133361840458, -2.1145628345737104, 0.5978049830549731, -0.3003603316644389, 0.434879860393503, 1.2909651686238386, 1.236513797583111], \"yaxis\": \"y9\"}, {\"line\": {\"color\": \"rgba(128, 128, 128, 1.0)\", \"dash\": \"solid\", \"shape\": \"linear\", \"width\": 1.3}, \"marker\": {\"size\": 2, \"symbol\": \"circle\"}, \"mode\": \"markers\", \"name\": \"C\", \"text\": \"\", \"type\": \"scatter\", \"x\": [-0.4930365779602038, 0.3250304022261739, 0.9583344497638379, 0.18987007370510067, 1.3116461956482248, -0.6220817679528079, 1.1176365968869961, -0.9258464578846678, -1.2240936631275416, -1.233544955793205, -0.3237490841563232, 0.9123258973854688, 0.22842642137253671, 0.97394659908097, 0.7117637750549505, -0.5015085289746392, -0.20916801428743456, 1.2552264592940754, -0.08368782602850174, 0.3695360809011424, 0.37111403545690363, 0.6782737012924119, 0.4797622410012238, 2.911253138754174, -1.512623993787851, -2.56331258059585, 0.5615782223372155, -0.835984426866699, -0.44454088029925015, 0.23385361385822392, 0.649676684703017, 0.33734517766819383, 0.07386186184447749, 1.2849074240198488, -0.7590870044987608, 0.9617909879870938, 0.7792637515682848, 0.19076653572726923, -0.9743666833686444, 0.6382514812525082, -0.5440458953899364, 0.7456070716698415, 0.12989614246183692, -1.6423156210534684, 1.7163396732325287, -0.45416706950050567, 0.4441043716591119, -1.224061455455319, 0.5332178930668302, 2.019759276110566, 0.36277696743342686, -1.8556915806269134, 0.492238886798876, -1.54995228762088, -0.04113350096243654, -0.6434973828541718, 0.8661086529225488, 0.9989323504656847, 0.541137576993134, 1.2391192072924329, 0.5745147693028827, -0.2414084320240968, 0.541309991070589, 0.7859289747510708, 1.4831153439368039, -0.5254666265863034, -0.7021612584368963, -0.28667722150976127, 0.6385384203001963, 0.1594149116250348, -1.4050472102870275, -0.7673306354425335, 0.7441053584114531, -0.31765516460868404, 1.6164404742814527, 1.243123471433262, 0.49469166601581016, 0.06350558800969401, 0.6383441449086565, 0.16265538575948088, -0.4586828174957983, -1.997774359164692, 0.3451467817844908, -0.9849906422659223, 1.296687209780314, -0.617686845046229, -0.8107617488505277, -0.6900329691237589, -0.37413489066330313, -0.6005443256657182, -1.046402165049117, 0.4896257869686791, 0.5601417492243187, -1.383651457886147, 0.8410728557430217, -0.405818172853134, -0.3831616014981088, 0.4658052982328494, 0.20681148045450257, 0.4565200818659963], \"xaxis\": \"x10\", \"y\": [1.500706888198252, 0.4626380430580365, 1.1650512666383757, 1.7142254561170285, 0.1539844717715234, -0.2732552156647188, -0.20030091534607036, 1.0918379149903092, 0.9008210124185305, 0.18245382786094433, -0.30755670004941127, 0.0992352675038754, -2.0423540078113125, 1.6339540613493813, -1.3486388693569185, 0.7302063716924077, -0.10420934964050436, -0.6851335015827352, 0.9013979117975525, -1.004192908545839, 0.2501581953470005, 1.8360835590276545, 1.071040887552531, 0.6555635807597393, -0.5508156931449266, 1.6340686944429952, 0.24869216205157882, -0.331711283057869, -0.42068117872117666, 0.12291202975103795, 0.8150104044450903, 1.0360073838239503, 0.9307964208333379, 0.7061960120649322, 0.7509560170371947, 1.229871460861379, -0.9082891948308699, -0.6253894762549496, 0.4583535570964156, 0.03617940272864027, -0.3033517172401607, -0.9474593473748577, 0.8814537933101844, 0.792930097806262, 0.624335096417186, -0.8581490191791381, -1.4687629162239995, -0.7006170792064712, 0.8107509674595839, 0.27947282996035067, 0.5465992493227325, -1.5842002859620234, 0.31430544164532437, -0.005012709155082159, 0.7639312655016676, -1.1523680672664105, 1.5246899317433875, -1.767640083860489, 0.29266282512600844, 0.2423345876705051, 1.5667849577849062, -1.8069741434569542, 0.6721413263814878, -0.4367502491786467, -2.8082319589973084, -0.8139335969049255, -0.17739763345626064, 0.2535508941542086, -0.06392141289709034, -0.002096316762234468, -0.32560483887986535, 0.4017226746678383, 0.8810378533108364, -1.2120505469901488, 0.9252240442339137, 1.1944548776685913, -0.5314053614017786, 0.9592246397370383, -0.14195206311847106, 0.648351940351426, -1.6443752083364018, 0.3916535644836725, 1.5870359419255373, 0.8982527093055426, 1.3595560760113108, 0.36504464458630037, -1.8190891886726197, 0.4217168365382286, -0.43694526067309253, -0.9249276511682633, 0.8432761663518943, -0.29978140858588587, -0.6657049896937373, 0.6932133361840458, -2.1145628345737104, 0.5978049830549731, -0.3003603316644389, 0.434879860393503, 1.2909651686238386, 1.236513797583111], \"yaxis\": \"y10\"}, {\"histfunc\": \"count\", \"histnorm\": \"\", \"marker\": {\"color\": \"rgba(50, 171, 96, 1.0)\", \"line\": {\"color\": \"#4D5663\", \"width\": 1.3}}, \"name\": \"C\", \"nbinsx\": 10, \"opacity\": 0.8, \"orientation\": \"v\", \"type\": \"histogram\", \"x\": [1.500706888198252, 0.4626380430580365, 1.1650512666383757, 1.7142254561170285, 0.1539844717715234, -0.2732552156647188, -0.20030091534607036, 1.0918379149903092, 0.9008210124185305, 0.18245382786094433, -0.30755670004941127, 0.0992352675038754, -2.0423540078113125, 1.6339540613493813, -1.3486388693569185, 0.7302063716924077, -0.10420934964050436, -0.6851335015827352, 0.9013979117975525, -1.004192908545839, 0.2501581953470005, 1.8360835590276545, 1.071040887552531, 0.6555635807597393, -0.5508156931449266, 1.6340686944429952, 0.24869216205157882, -0.331711283057869, -0.42068117872117666, 0.12291202975103795, 0.8150104044450903, 1.0360073838239503, 0.9307964208333379, 0.7061960120649322, 0.7509560170371947, 1.229871460861379, -0.9082891948308699, -0.6253894762549496, 0.4583535570964156, 0.03617940272864027, -0.3033517172401607, -0.9474593473748577, 0.8814537933101844, 0.792930097806262, 0.624335096417186, -0.8581490191791381, -1.4687629162239995, -0.7006170792064712, 0.8107509674595839, 0.27947282996035067, 0.5465992493227325, -1.5842002859620234, 0.31430544164532437, -0.005012709155082159, 0.7639312655016676, -1.1523680672664105, 1.5246899317433875, -1.767640083860489, 0.29266282512600844, 0.2423345876705051, 1.5667849577849062, -1.8069741434569542, 0.6721413263814878, -0.4367502491786467, -2.8082319589973084, -0.8139335969049255, -0.17739763345626064, 0.2535508941542086, -0.06392141289709034, -0.002096316762234468, -0.32560483887986535, 0.4017226746678383, 0.8810378533108364, -1.2120505469901488, 0.9252240442339137, 1.1944548776685913, -0.5314053614017786, 0.9592246397370383, -0.14195206311847106, 0.648351940351426, -1.6443752083364018, 0.3916535644836725, 1.5870359419255373, 0.8982527093055426, 1.3595560760113108, 0.36504464458630037, -1.8190891886726197, 0.4217168365382286, -0.43694526067309253, -0.9249276511682633, 0.8432761663518943, -0.29978140858588587, -0.6657049896937373, 0.6932133361840458, -2.1145628345737104, 0.5978049830549731, -0.3003603316644389, 0.434879860393503, 1.2909651686238386, 1.236513797583111], \"xaxis\": \"x11\", \"yaxis\": \"y11\"}, {\"line\": {\"color\": \"rgba(128, 128, 128, 1.0)\", \"dash\": \"solid\", \"shape\": \"linear\", \"width\": 1.3}, \"marker\": {\"size\": 2, \"symbol\": \"circle\"}, \"mode\": \"markers\", \"name\": \"C\", \"text\": \"\", \"type\": \"scatter\", \"x\": [0.09619778561893773, 2.3718711032826993, -0.7350090454655396, -0.19375323607714165, 0.32541558206751314, -0.03568210209281752, -0.37221205498497, -1.8185103536645288, 1.5053320447719372, -1.4108976748031865, 2.614671556032302, 0.37173765003320236, -0.3310116001538482, 1.0606300085721005, -0.7015101848106754, -0.10272917711433686, -0.48464703657907265, -0.3049608592468676, 1.0168256775698932, 1.3041426892568055, 0.227282186764907, 0.6026161573510717, -0.9088215682061821, -0.9388164277967703, 0.6687852808467871, -0.4242854141213294, 1.0965187952818678, -1.2434611584040602, 0.6999126506219229, 0.4277860690451645, -0.06811208520424537, -0.4282103783931777, -0.3074209535534217, -0.25242627682283586, 0.9012363488017996, -0.3481850680393719, -0.14349131531173503, 1.7083868480111033, 0.9585831035330805, 0.7909936100523438, 0.557460467045621, -0.5030614557033, -0.09116025613533921, 0.4007025188140722, -0.6821193034869832, -1.7527305323776292, -1.1412273282567689, -0.9226230729338252, -0.8322645249443698, 0.26975965660919726, 0.9885535567140861, -1.342142942512881, 1.0495199684120897, -0.8661106538948654, -0.7449905540190652, 0.41238366245717695, 0.29887607839836666, -0.039306633826568294, -0.11337667669361165, -1.0264200421407708, -0.5322397651365385, 2.091940537625189, 0.15041061867569272, 0.6084366295322634, -0.5546623989673322, 1.111419240245961, -0.7655760723329117, 0.23980897570051066, 0.3507632684420595, -1.274174914948869, 0.7145136544106467, 0.4460848231109961, -2.0374974122194978, 2.2255746539641614, 0.018127346474249947, -0.964579357706184, -0.9075752451406188, 1.8577006873832411, -0.5673188525233243, -0.535806276496681, -0.6229537031685048, 1.01801919299748, 1.0471203739036494, 0.3307869879152975, -0.3673171993217387, 1.0270694485741976, 1.2568027156619328, -0.3403770233571368, -0.8343727028699456, 0.06890535553288837, -1.415029120935102, -0.7317121999156917, -0.8111375167247362, -0.5046598501032468, -0.1868198776252593, 1.212295789688365, -0.4317194192036839, 2.9649213489069064, -0.23007536308025497, 0.8371789584822209], \"xaxis\": \"x12\", \"y\": [1.500706888198252, 0.4626380430580365, 1.1650512666383757, 1.7142254561170285, 0.1539844717715234, -0.2732552156647188, -0.20030091534607036, 1.0918379149903092, 0.9008210124185305, 0.18245382786094433, -0.30755670004941127, 0.0992352675038754, -2.0423540078113125, 1.6339540613493813, -1.3486388693569185, 0.7302063716924077, -0.10420934964050436, -0.6851335015827352, 0.9013979117975525, -1.004192908545839, 0.2501581953470005, 1.8360835590276545, 1.071040887552531, 0.6555635807597393, -0.5508156931449266, 1.6340686944429952, 0.24869216205157882, -0.331711283057869, -0.42068117872117666, 0.12291202975103795, 0.8150104044450903, 1.0360073838239503, 0.9307964208333379, 0.7061960120649322, 0.7509560170371947, 1.229871460861379, -0.9082891948308699, -0.6253894762549496, 0.4583535570964156, 0.03617940272864027, -0.3033517172401607, -0.9474593473748577, 0.8814537933101844, 0.792930097806262, 0.624335096417186, -0.8581490191791381, -1.4687629162239995, -0.7006170792064712, 0.8107509674595839, 0.27947282996035067, 0.5465992493227325, -1.5842002859620234, 0.31430544164532437, -0.005012709155082159, 0.7639312655016676, -1.1523680672664105, 1.5246899317433875, -1.767640083860489, 0.29266282512600844, 0.2423345876705051, 1.5667849577849062, -1.8069741434569542, 0.6721413263814878, -0.4367502491786467, -2.8082319589973084, -0.8139335969049255, -0.17739763345626064, 0.2535508941542086, -0.06392141289709034, -0.002096316762234468, -0.32560483887986535, 0.4017226746678383, 0.8810378533108364, -1.2120505469901488, 0.9252240442339137, 1.1944548776685913, -0.5314053614017786, 0.9592246397370383, -0.14195206311847106, 0.648351940351426, -1.6443752083364018, 0.3916535644836725, 1.5870359419255373, 0.8982527093055426, 1.3595560760113108, 0.36504464458630037, -1.8190891886726197, 0.4217168365382286, -0.43694526067309253, -0.9249276511682633, 0.8432761663518943, -0.29978140858588587, -0.6657049896937373, 0.6932133361840458, -2.1145628345737104, 0.5978049830549731, -0.3003603316644389, 0.434879860393503, 1.2909651686238386, 1.236513797583111], \"yaxis\": \"y12\"}, {\"line\": {\"color\": \"rgba(128, 128, 128, 1.0)\", \"dash\": \"solid\", \"shape\": \"linear\", \"width\": 1.3}, \"marker\": {\"size\": 2, \"symbol\": \"circle\"}, \"mode\": \"markers\", \"name\": \"D\", \"text\": \"\", \"type\": \"scatter\", \"x\": [0.8784182869438022, -0.3806389397043157, -0.015161610170961225, -0.9016207963843829, 1.5014835535230446, 0.638181087090259, -0.17587623889792092, -0.664965902036214, -0.5503517666986742, 0.7412790574276407, -0.3413855854978848, -0.14321019701085397, 0.6189236491204758, -1.3274582091937592, -0.6011515749002577, -0.3711948051377429, 0.22774803593324108, -0.1799100326269736, -0.751501350518013, 1.2726380379037925, 0.17853445966183684, 0.9029346884572302, -0.30475724605130877, 1.1242992014697217, -0.34803042426193503, -0.2789327833471177, -0.48089000530870313, -0.8898578379398597, -0.4052291987803923, 0.13910870604580186, -1.5928955584327276, 1.087535267725178, -1.0477189352750904, -0.28876647921209253, 0.23969910604040176, -1.047455217258851, -0.5833553130384778, 0.02618941267039, -1.3134439425363735, 0.37447051250925434, -0.23665849744398545, 0.38366374968200445, 0.38879693498090745, -2.489474520445726, -1.9558898206788757, -1.2820583243852897, 1.6396600196257145, 0.3257421775403651, 0.268439850249584, 0.254911311026306, -0.039997268578202474, -1.7304810128630073, 0.8792983780516312, -0.34944303317429876, -0.24483344544345187, 1.3422438252491682, -0.019157905591640125, 0.48254027223419876, 0.22916419374642585, -1.10244764076685, 0.4387464394595617, 0.49869501960824053, 0.8896596416653044, -2.2247096358959375, 0.25806961050697097, -0.8950588291502402, 1.077536774493091, 1.392456455805473, 1.8714710818287612, -0.9079560039649784, 0.5852837098112604, -1.3540490258003222, 1.5937634330895467, 1.136176797108421, -1.228998731272284, 0.32499698703778784, -1.0600488813061035, 0.16014813932158212, -0.11395722536452274, 0.5525871357354079, 0.1992200743903423, 1.4432928977698434, -0.053842849506307945, 0.5796916613556059, -0.13646583791057929, 1.1385161923835618, 0.25425497724742774, 0.06459608638843127, -0.8272692613159764, -0.13056663733668503, 1.9531971698255062, -1.200128548980169, -0.7083682008920325, 0.046109888970466854, -0.1794017215311147, -0.2804450420349651, 0.47294127780493245, -0.7939966373692098, 0.3515341825448959, 2.4246217604627764], \"xaxis\": \"x13\", \"y\": [0.09619778561893773, 2.3718711032826993, -0.7350090454655396, -0.19375323607714165, 0.32541558206751314, -0.03568210209281752, -0.37221205498497, -1.8185103536645288, 1.5053320447719372, -1.4108976748031865, 2.614671556032302, 0.37173765003320236, -0.3310116001538482, 1.0606300085721005, -0.7015101848106754, -0.10272917711433686, -0.48464703657907265, -0.3049608592468676, 1.0168256775698932, 1.3041426892568055, 0.227282186764907, 0.6026161573510717, -0.9088215682061821, -0.9388164277967703, 0.6687852808467871, -0.4242854141213294, 1.0965187952818678, -1.2434611584040602, 0.6999126506219229, 0.4277860690451645, -0.06811208520424537, -0.4282103783931777, -0.3074209535534217, -0.25242627682283586, 0.9012363488017996, -0.3481850680393719, -0.14349131531173503, 1.7083868480111033, 0.9585831035330805, 0.7909936100523438, 0.557460467045621, -0.5030614557033, -0.09116025613533921, 0.4007025188140722, -0.6821193034869832, -1.7527305323776292, -1.1412273282567689, -0.9226230729338252, -0.8322645249443698, 0.26975965660919726, 0.9885535567140861, -1.342142942512881, 1.0495199684120897, -0.8661106538948654, -0.7449905540190652, 0.41238366245717695, 0.29887607839836666, -0.039306633826568294, -0.11337667669361165, -1.0264200421407708, -0.5322397651365385, 2.091940537625189, 0.15041061867569272, 0.6084366295322634, -0.5546623989673322, 1.111419240245961, -0.7655760723329117, 0.23980897570051066, 0.3507632684420595, -1.274174914948869, 0.7145136544106467, 0.4460848231109961, -2.0374974122194978, 2.2255746539641614, 0.018127346474249947, -0.964579357706184, -0.9075752451406188, 1.8577006873832411, -0.5673188525233243, -0.535806276496681, -0.6229537031685048, 1.01801919299748, 1.0471203739036494, 0.3307869879152975, -0.3673171993217387, 1.0270694485741976, 1.2568027156619328, -0.3403770233571368, -0.8343727028699456, 0.06890535553288837, -1.415029120935102, -0.7317121999156917, -0.8111375167247362, -0.5046598501032468, -0.1868198776252593, 1.212295789688365, -0.4317194192036839, 2.9649213489069064, -0.23007536308025497, 0.8371789584822209], \"yaxis\": \"y13\"}, {\"line\": {\"color\": \"rgba(128, 128, 128, 1.0)\", \"dash\": \"solid\", \"shape\": \"linear\", \"width\": 1.3}, \"marker\": {\"size\": 2, \"symbol\": \"circle\"}, \"mode\": \"markers\", \"name\": \"D\", \"text\": \"\", \"type\": \"scatter\", \"x\": [-0.4930365779602038, 0.3250304022261739, 0.9583344497638379, 0.18987007370510067, 1.3116461956482248, -0.6220817679528079, 1.1176365968869961, -0.9258464578846678, -1.2240936631275416, -1.233544955793205, -0.3237490841563232, 0.9123258973854688, 0.22842642137253671, 0.97394659908097, 0.7117637750549505, -0.5015085289746392, -0.20916801428743456, 1.2552264592940754, -0.08368782602850174, 0.3695360809011424, 0.37111403545690363, 0.6782737012924119, 0.4797622410012238, 2.911253138754174, -1.512623993787851, -2.56331258059585, 0.5615782223372155, -0.835984426866699, -0.44454088029925015, 0.23385361385822392, 0.649676684703017, 0.33734517766819383, 0.07386186184447749, 1.2849074240198488, -0.7590870044987608, 0.9617909879870938, 0.7792637515682848, 0.19076653572726923, -0.9743666833686444, 0.6382514812525082, -0.5440458953899364, 0.7456070716698415, 0.12989614246183692, -1.6423156210534684, 1.7163396732325287, -0.45416706950050567, 0.4441043716591119, -1.224061455455319, 0.5332178930668302, 2.019759276110566, 0.36277696743342686, -1.8556915806269134, 0.492238886798876, -1.54995228762088, -0.04113350096243654, -0.6434973828541718, 0.8661086529225488, 0.9989323504656847, 0.541137576993134, 1.2391192072924329, 0.5745147693028827, -0.2414084320240968, 0.541309991070589, 0.7859289747510708, 1.4831153439368039, -0.5254666265863034, -0.7021612584368963, -0.28667722150976127, 0.6385384203001963, 0.1594149116250348, -1.4050472102870275, -0.7673306354425335, 0.7441053584114531, -0.31765516460868404, 1.6164404742814527, 1.243123471433262, 0.49469166601581016, 0.06350558800969401, 0.6383441449086565, 0.16265538575948088, -0.4586828174957983, -1.997774359164692, 0.3451467817844908, -0.9849906422659223, 1.296687209780314, -0.617686845046229, -0.8107617488505277, -0.6900329691237589, -0.37413489066330313, -0.6005443256657182, -1.046402165049117, 0.4896257869686791, 0.5601417492243187, -1.383651457886147, 0.8410728557430217, -0.405818172853134, -0.3831616014981088, 0.4658052982328494, 0.20681148045450257, 0.4565200818659963], \"xaxis\": \"x14\", \"y\": [0.09619778561893773, 2.3718711032826993, -0.7350090454655396, -0.19375323607714165, 0.32541558206751314, -0.03568210209281752, -0.37221205498497, -1.8185103536645288, 1.5053320447719372, -1.4108976748031865, 2.614671556032302, 0.37173765003320236, -0.3310116001538482, 1.0606300085721005, -0.7015101848106754, -0.10272917711433686, -0.48464703657907265, -0.3049608592468676, 1.0168256775698932, 1.3041426892568055, 0.227282186764907, 0.6026161573510717, -0.9088215682061821, -0.9388164277967703, 0.6687852808467871, -0.4242854141213294, 1.0965187952818678, -1.2434611584040602, 0.6999126506219229, 0.4277860690451645, -0.06811208520424537, -0.4282103783931777, -0.3074209535534217, -0.25242627682283586, 0.9012363488017996, -0.3481850680393719, -0.14349131531173503, 1.7083868480111033, 0.9585831035330805, 0.7909936100523438, 0.557460467045621, -0.5030614557033, -0.09116025613533921, 0.4007025188140722, -0.6821193034869832, -1.7527305323776292, -1.1412273282567689, -0.9226230729338252, -0.8322645249443698, 0.26975965660919726, 0.9885535567140861, -1.342142942512881, 1.0495199684120897, -0.8661106538948654, -0.7449905540190652, 0.41238366245717695, 0.29887607839836666, -0.039306633826568294, -0.11337667669361165, -1.0264200421407708, -0.5322397651365385, 2.091940537625189, 0.15041061867569272, 0.6084366295322634, -0.5546623989673322, 1.111419240245961, -0.7655760723329117, 0.23980897570051066, 0.3507632684420595, -1.274174914948869, 0.7145136544106467, 0.4460848231109961, -2.0374974122194978, 2.2255746539641614, 0.018127346474249947, -0.964579357706184, -0.9075752451406188, 1.8577006873832411, -0.5673188525233243, -0.535806276496681, -0.6229537031685048, 1.01801919299748, 1.0471203739036494, 0.3307869879152975, -0.3673171993217387, 1.0270694485741976, 1.2568027156619328, -0.3403770233571368, -0.8343727028699456, 0.06890535553288837, -1.415029120935102, -0.7317121999156917, -0.8111375167247362, -0.5046598501032468, -0.1868198776252593, 1.212295789688365, -0.4317194192036839, 2.9649213489069064, -0.23007536308025497, 0.8371789584822209], \"yaxis\": \"y14\"}, {\"line\": {\"color\": \"rgba(128, 128, 128, 1.0)\", \"dash\": \"solid\", \"shape\": \"linear\", \"width\": 1.3}, \"marker\": {\"size\": 2, \"symbol\": \"circle\"}, \"mode\": \"markers\", \"name\": \"D\", \"text\": \"\", \"type\": \"scatter\", \"x\": [1.500706888198252, 0.4626380430580365, 1.1650512666383757, 1.7142254561170285, 0.1539844717715234, -0.2732552156647188, -0.20030091534607036, 1.0918379149903092, 0.9008210124185305, 0.18245382786094433, -0.30755670004941127, 0.0992352675038754, -2.0423540078113125, 1.6339540613493813, -1.3486388693569185, 0.7302063716924077, -0.10420934964050436, -0.6851335015827352, 0.9013979117975525, -1.004192908545839, 0.2501581953470005, 1.8360835590276545, 1.071040887552531, 0.6555635807597393, -0.5508156931449266, 1.6340686944429952, 0.24869216205157882, -0.331711283057869, -0.42068117872117666, 0.12291202975103795, 0.8150104044450903, 1.0360073838239503, 0.9307964208333379, 0.7061960120649322, 0.7509560170371947, 1.229871460861379, -0.9082891948308699, -0.6253894762549496, 0.4583535570964156, 0.03617940272864027, -0.3033517172401607, -0.9474593473748577, 0.8814537933101844, 0.792930097806262, 0.624335096417186, -0.8581490191791381, -1.4687629162239995, -0.7006170792064712, 0.8107509674595839, 0.27947282996035067, 0.5465992493227325, -1.5842002859620234, 0.31430544164532437, -0.005012709155082159, 0.7639312655016676, -1.1523680672664105, 1.5246899317433875, -1.767640083860489, 0.29266282512600844, 0.2423345876705051, 1.5667849577849062, -1.8069741434569542, 0.6721413263814878, -0.4367502491786467, -2.8082319589973084, -0.8139335969049255, -0.17739763345626064, 0.2535508941542086, -0.06392141289709034, -0.002096316762234468, -0.32560483887986535, 0.4017226746678383, 0.8810378533108364, -1.2120505469901488, 0.9252240442339137, 1.1944548776685913, -0.5314053614017786, 0.9592246397370383, -0.14195206311847106, 0.648351940351426, -1.6443752083364018, 0.3916535644836725, 1.5870359419255373, 0.8982527093055426, 1.3595560760113108, 0.36504464458630037, -1.8190891886726197, 0.4217168365382286, -0.43694526067309253, -0.9249276511682633, 0.8432761663518943, -0.29978140858588587, -0.6657049896937373, 0.6932133361840458, -2.1145628345737104, 0.5978049830549731, -0.3003603316644389, 0.434879860393503, 1.2909651686238386, 1.236513797583111], \"xaxis\": \"x15\", \"y\": [0.09619778561893773, 2.3718711032826993, -0.7350090454655396, -0.19375323607714165, 0.32541558206751314, -0.03568210209281752, -0.37221205498497, -1.8185103536645288, 1.5053320447719372, -1.4108976748031865, 2.614671556032302, 0.37173765003320236, -0.3310116001538482, 1.0606300085721005, -0.7015101848106754, -0.10272917711433686, -0.48464703657907265, -0.3049608592468676, 1.0168256775698932, 1.3041426892568055, 0.227282186764907, 0.6026161573510717, -0.9088215682061821, -0.9388164277967703, 0.6687852808467871, -0.4242854141213294, 1.0965187952818678, -1.2434611584040602, 0.6999126506219229, 0.4277860690451645, -0.06811208520424537, -0.4282103783931777, -0.3074209535534217, -0.25242627682283586, 0.9012363488017996, -0.3481850680393719, -0.14349131531173503, 1.7083868480111033, 0.9585831035330805, 0.7909936100523438, 0.557460467045621, -0.5030614557033, -0.09116025613533921, 0.4007025188140722, -0.6821193034869832, -1.7527305323776292, -1.1412273282567689, -0.9226230729338252, -0.8322645249443698, 0.26975965660919726, 0.9885535567140861, -1.342142942512881, 1.0495199684120897, -0.8661106538948654, -0.7449905540190652, 0.41238366245717695, 0.29887607839836666, -0.039306633826568294, -0.11337667669361165, -1.0264200421407708, -0.5322397651365385, 2.091940537625189, 0.15041061867569272, 0.6084366295322634, -0.5546623989673322, 1.111419240245961, -0.7655760723329117, 0.23980897570051066, 0.3507632684420595, -1.274174914948869, 0.7145136544106467, 0.4460848231109961, -2.0374974122194978, 2.2255746539641614, 0.018127346474249947, -0.964579357706184, -0.9075752451406188, 1.8577006873832411, -0.5673188525233243, -0.535806276496681, -0.6229537031685048, 1.01801919299748, 1.0471203739036494, 0.3307869879152975, -0.3673171993217387, 1.0270694485741976, 1.2568027156619328, -0.3403770233571368, -0.8343727028699456, 0.06890535553288837, -1.415029120935102, -0.7317121999156917, -0.8111375167247362, -0.5046598501032468, -0.1868198776252593, 1.212295789688365, -0.4317194192036839, 2.9649213489069064, -0.23007536308025497, 0.8371789584822209], \"yaxis\": \"y15\"}, {\"histfunc\": \"count\", \"histnorm\": \"\", \"marker\": {\"color\": \"rgba(128, 0, 128, 1.0)\", \"line\": {\"color\": \"#4D5663\", \"width\": 1.3}}, \"name\": \"D\", \"nbinsx\": 10, \"opacity\": 0.8, \"orientation\": \"v\", \"type\": \"histogram\", \"x\": [0.09619778561893773, 2.3718711032826993, -0.7350090454655396, -0.19375323607714165, 0.32541558206751314, -0.03568210209281752, -0.37221205498497, -1.8185103536645288, 1.5053320447719372, -1.4108976748031865, 2.614671556032302, 0.37173765003320236, -0.3310116001538482, 1.0606300085721005, -0.7015101848106754, -0.10272917711433686, -0.48464703657907265, -0.3049608592468676, 1.0168256775698932, 1.3041426892568055, 0.227282186764907, 0.6026161573510717, -0.9088215682061821, -0.9388164277967703, 0.6687852808467871, -0.4242854141213294, 1.0965187952818678, -1.2434611584040602, 0.6999126506219229, 0.4277860690451645, -0.06811208520424537, -0.4282103783931777, -0.3074209535534217, -0.25242627682283586, 0.9012363488017996, -0.3481850680393719, -0.14349131531173503, 1.7083868480111033, 0.9585831035330805, 0.7909936100523438, 0.557460467045621, -0.5030614557033, -0.09116025613533921, 0.4007025188140722, -0.6821193034869832, -1.7527305323776292, -1.1412273282567689, -0.9226230729338252, -0.8322645249443698, 0.26975965660919726, 0.9885535567140861, -1.342142942512881, 1.0495199684120897, -0.8661106538948654, -0.7449905540190652, 0.41238366245717695, 0.29887607839836666, -0.039306633826568294, -0.11337667669361165, -1.0264200421407708, -0.5322397651365385, 2.091940537625189, 0.15041061867569272, 0.6084366295322634, -0.5546623989673322, 1.111419240245961, -0.7655760723329117, 0.23980897570051066, 0.3507632684420595, -1.274174914948869, 0.7145136544106467, 0.4460848231109961, -2.0374974122194978, 2.2255746539641614, 0.018127346474249947, -0.964579357706184, -0.9075752451406188, 1.8577006873832411, -0.5673188525233243, -0.535806276496681, -0.6229537031685048, 1.01801919299748, 1.0471203739036494, 0.3307869879152975, -0.3673171993217387, 1.0270694485741976, 1.2568027156619328, -0.3403770233571368, -0.8343727028699456, 0.06890535553288837, -1.415029120935102, -0.7317121999156917, -0.8111375167247362, -0.5046598501032468, -0.1868198776252593, 1.212295789688365, -0.4317194192036839, 2.9649213489069064, -0.23007536308025497, 0.8371789584822209], \"xaxis\": \"x16\", \"yaxis\": \"y16\"}],                        {\"bargap\": 0.02, \"legend\": {\"bgcolor\": \"#F5F6F9\", \"font\": {\"color\": \"#4D5663\"}}, \"paper_bgcolor\": \"#F5F6F9\", \"plot_bgcolor\": \"#F5F6F9\", \"showlegend\": false, \"template\": {\"data\": {\"bar\": [{\"error_x\": {\"color\": \"#2a3f5f\"}, \"error_y\": {\"color\": \"#2a3f5f\"}, \"marker\": {\"line\": {\"color\": \"#E5ECF6\", \"width\": 0.5}}, \"type\": \"bar\"}], \"barpolar\": [{\"marker\": {\"line\": {\"color\": \"#E5ECF6\", \"width\": 0.5}}, \"type\": \"barpolar\"}], \"carpet\": [{\"aaxis\": {\"endlinecolor\": \"#2a3f5f\", \"gridcolor\": \"white\", \"linecolor\": \"white\", \"minorgridcolor\": \"white\", \"startlinecolor\": \"#2a3f5f\"}, \"baxis\": {\"endlinecolor\": \"#2a3f5f\", \"gridcolor\": \"white\", \"linecolor\": \"white\", \"minorgridcolor\": \"white\", \"startlinecolor\": \"#2a3f5f\"}, \"type\": \"carpet\"}], \"choropleth\": [{\"colorbar\": {\"outlinewidth\": 0, \"ticks\": \"\"}, \"type\": \"choropleth\"}], \"contour\": [{\"colorbar\": {\"outlinewidth\": 0, \"ticks\": \"\"}, \"colorscale\": [[0.0, \"#0d0887\"], [0.1111111111111111, \"#46039f\"], [0.2222222222222222, \"#7201a8\"], [0.3333333333333333, \"#9c179e\"], [0.4444444444444444, \"#bd3786\"], [0.5555555555555556, \"#d8576b\"], [0.6666666666666666, \"#ed7953\"], [0.7777777777777778, \"#fb9f3a\"], [0.8888888888888888, \"#fdca26\"], [1.0, \"#f0f921\"]], \"type\": \"contour\"}], \"contourcarpet\": [{\"colorbar\": {\"outlinewidth\": 0, \"ticks\": \"\"}, \"type\": \"contourcarpet\"}], \"heatmap\": [{\"colorbar\": {\"outlinewidth\": 0, \"ticks\": \"\"}, \"colorscale\": [[0.0, \"#0d0887\"], [0.1111111111111111, \"#46039f\"], [0.2222222222222222, \"#7201a8\"], [0.3333333333333333, \"#9c179e\"], [0.4444444444444444, \"#bd3786\"], [0.5555555555555556, \"#d8576b\"], [0.6666666666666666, \"#ed7953\"], [0.7777777777777778, \"#fb9f3a\"], [0.8888888888888888, \"#fdca26\"], [1.0, \"#f0f921\"]], \"type\": \"heatmap\"}], \"heatmapgl\": [{\"colorbar\": {\"outlinewidth\": 0, \"ticks\": \"\"}, \"colorscale\": [[0.0, \"#0d0887\"], [0.1111111111111111, \"#46039f\"], [0.2222222222222222, \"#7201a8\"], [0.3333333333333333, \"#9c179e\"], [0.4444444444444444, \"#bd3786\"], [0.5555555555555556, \"#d8576b\"], [0.6666666666666666, \"#ed7953\"], [0.7777777777777778, \"#fb9f3a\"], [0.8888888888888888, \"#fdca26\"], [1.0, \"#f0f921\"]], \"type\": \"heatmapgl\"}], \"histogram\": [{\"marker\": {\"colorbar\": {\"outlinewidth\": 0, \"ticks\": \"\"}}, \"type\": \"histogram\"}], \"histogram2d\": [{\"colorbar\": {\"outlinewidth\": 0, \"ticks\": \"\"}, \"colorscale\": [[0.0, \"#0d0887\"], [0.1111111111111111, \"#46039f\"], [0.2222222222222222, \"#7201a8\"], [0.3333333333333333, \"#9c179e\"], [0.4444444444444444, \"#bd3786\"], [0.5555555555555556, \"#d8576b\"], [0.6666666666666666, \"#ed7953\"], [0.7777777777777778, \"#fb9f3a\"], [0.8888888888888888, \"#fdca26\"], [1.0, \"#f0f921\"]], \"type\": \"histogram2d\"}], \"histogram2dcontour\": [{\"colorbar\": {\"outlinewidth\": 0, \"ticks\": \"\"}, \"colorscale\": [[0.0, \"#0d0887\"], [0.1111111111111111, \"#46039f\"], [0.2222222222222222, \"#7201a8\"], [0.3333333333333333, \"#9c179e\"], [0.4444444444444444, \"#bd3786\"], [0.5555555555555556, \"#d8576b\"], [0.6666666666666666, \"#ed7953\"], [0.7777777777777778, \"#fb9f3a\"], [0.8888888888888888, \"#fdca26\"], [1.0, \"#f0f921\"]], \"type\": \"histogram2dcontour\"}], \"mesh3d\": [{\"colorbar\": {\"outlinewidth\": 0, \"ticks\": \"\"}, \"type\": \"mesh3d\"}], \"parcoords\": [{\"line\": {\"colorbar\": {\"outlinewidth\": 0, \"ticks\": \"\"}}, \"type\": \"parcoords\"}], \"pie\": [{\"automargin\": true, \"type\": \"pie\"}], \"scatter\": [{\"marker\": {\"colorbar\": {\"outlinewidth\": 0, \"ticks\": \"\"}}, \"type\": \"scatter\"}], \"scatter3d\": [{\"line\": {\"colorbar\": {\"outlinewidth\": 0, \"ticks\": \"\"}}, \"marker\": {\"colorbar\": {\"outlinewidth\": 0, \"ticks\": \"\"}}, \"type\": \"scatter3d\"}], \"scattercarpet\": [{\"marker\": {\"colorbar\": {\"outlinewidth\": 0, \"ticks\": \"\"}}, \"type\": \"scattercarpet\"}], \"scattergeo\": [{\"marker\": {\"colorbar\": {\"outlinewidth\": 0, \"ticks\": \"\"}}, \"type\": \"scattergeo\"}], \"scattergl\": [{\"marker\": {\"colorbar\": {\"outlinewidth\": 0, \"ticks\": \"\"}}, \"type\": \"scattergl\"}], \"scattermapbox\": [{\"marker\": {\"colorbar\": {\"outlinewidth\": 0, \"ticks\": \"\"}}, \"type\": \"scattermapbox\"}], \"scatterpolar\": [{\"marker\": {\"colorbar\": {\"outlinewidth\": 0, \"ticks\": \"\"}}, \"type\": \"scatterpolar\"}], \"scatterpolargl\": [{\"marker\": {\"colorbar\": {\"outlinewidth\": 0, \"ticks\": \"\"}}, \"type\": \"scatterpolargl\"}], \"scatterternary\": [{\"marker\": {\"colorbar\": {\"outlinewidth\": 0, \"ticks\": \"\"}}, \"type\": \"scatterternary\"}], \"surface\": [{\"colorbar\": {\"outlinewidth\": 0, \"ticks\": \"\"}, \"colorscale\": [[0.0, \"#0d0887\"], [0.1111111111111111, \"#46039f\"], [0.2222222222222222, \"#7201a8\"], [0.3333333333333333, \"#9c179e\"], [0.4444444444444444, \"#bd3786\"], [0.5555555555555556, \"#d8576b\"], [0.6666666666666666, \"#ed7953\"], [0.7777777777777778, \"#fb9f3a\"], [0.8888888888888888, \"#fdca26\"], [1.0, \"#f0f921\"]], \"type\": \"surface\"}], \"table\": [{\"cells\": {\"fill\": {\"color\": \"#EBF0F8\"}, \"line\": {\"color\": \"white\"}}, \"header\": {\"fill\": {\"color\": \"#C8D4E3\"}, \"line\": {\"color\": \"white\"}}, \"type\": \"table\"}]}, \"layout\": {\"annotationdefaults\": {\"arrowcolor\": \"#2a3f5f\", \"arrowhead\": 0, \"arrowwidth\": 1}, \"autotypenumbers\": \"strict\", \"coloraxis\": {\"colorbar\": {\"outlinewidth\": 0, \"ticks\": \"\"}}, \"colorscale\": {\"diverging\": [[0, \"#8e0152\"], [0.1, \"#c51b7d\"], [0.2, \"#de77ae\"], [0.3, \"#f1b6da\"], [0.4, \"#fde0ef\"], [0.5, \"#f7f7f7\"], [0.6, \"#e6f5d0\"], [0.7, \"#b8e186\"], [0.8, \"#7fbc41\"], [0.9, \"#4d9221\"], [1, \"#276419\"]], \"sequential\": [[0.0, \"#0d0887\"], [0.1111111111111111, \"#46039f\"], [0.2222222222222222, \"#7201a8\"], [0.3333333333333333, \"#9c179e\"], [0.4444444444444444, \"#bd3786\"], [0.5555555555555556, \"#d8576b\"], [0.6666666666666666, \"#ed7953\"], [0.7777777777777778, \"#fb9f3a\"], [0.8888888888888888, \"#fdca26\"], [1.0, \"#f0f921\"]], \"sequentialminus\": [[0.0, \"#0d0887\"], [0.1111111111111111, \"#46039f\"], [0.2222222222222222, \"#7201a8\"], [0.3333333333333333, \"#9c179e\"], [0.4444444444444444, \"#bd3786\"], [0.5555555555555556, \"#d8576b\"], [0.6666666666666666, \"#ed7953\"], [0.7777777777777778, \"#fb9f3a\"], [0.8888888888888888, \"#fdca26\"], [1.0, \"#f0f921\"]]}, \"colorway\": [\"#636efa\", \"#EF553B\", \"#00cc96\", \"#ab63fa\", \"#FFA15A\", \"#19d3f3\", \"#FF6692\", \"#B6E880\", \"#FF97FF\", \"#FECB52\"], \"font\": {\"color\": \"#2a3f5f\"}, \"geo\": {\"bgcolor\": \"white\", \"lakecolor\": \"white\", \"landcolor\": \"#E5ECF6\", \"showlakes\": true, \"showland\": true, \"subunitcolor\": \"white\"}, \"hoverlabel\": {\"align\": \"left\"}, \"hovermode\": \"closest\", \"mapbox\": {\"style\": \"light\"}, \"paper_bgcolor\": \"white\", \"plot_bgcolor\": \"#E5ECF6\", \"polar\": {\"angularaxis\": {\"gridcolor\": \"white\", \"linecolor\": \"white\", \"ticks\": \"\"}, \"bgcolor\": \"#E5ECF6\", \"radialaxis\": {\"gridcolor\": \"white\", \"linecolor\": \"white\", \"ticks\": \"\"}}, \"scene\": {\"xaxis\": {\"backgroundcolor\": \"#E5ECF6\", \"gridcolor\": \"white\", \"gridwidth\": 2, \"linecolor\": \"white\", \"showbackground\": true, \"ticks\": \"\", \"zerolinecolor\": \"white\"}, \"yaxis\": {\"backgroundcolor\": \"#E5ECF6\", \"gridcolor\": \"white\", \"gridwidth\": 2, \"linecolor\": \"white\", \"showbackground\": true, \"ticks\": \"\", \"zerolinecolor\": \"white\"}, \"zaxis\": {\"backgroundcolor\": \"#E5ECF6\", \"gridcolor\": \"white\", \"gridwidth\": 2, \"linecolor\": \"white\", \"showbackground\": true, \"ticks\": \"\", \"zerolinecolor\": \"white\"}}, \"shapedefaults\": {\"line\": {\"color\": \"#2a3f5f\"}}, \"ternary\": {\"aaxis\": {\"gridcolor\": \"white\", \"linecolor\": \"white\", \"ticks\": \"\"}, \"baxis\": {\"gridcolor\": \"white\", \"linecolor\": \"white\", \"ticks\": \"\"}, \"bgcolor\": \"#E5ECF6\", \"caxis\": {\"gridcolor\": \"white\", \"linecolor\": \"white\", \"ticks\": \"\"}}, \"title\": {\"x\": 0.05}, \"xaxis\": {\"automargin\": true, \"gridcolor\": \"white\", \"linecolor\": \"white\", \"ticks\": \"\", \"title\": {\"standoff\": 15}, \"zerolinecolor\": \"white\", \"zerolinewidth\": 2}, \"yaxis\": {\"automargin\": true, \"gridcolor\": \"white\", \"linecolor\": \"white\", \"ticks\": \"\", \"title\": {\"standoff\": 15}, \"zerolinecolor\": \"white\", \"zerolinewidth\": 2}}}, \"title\": {\"font\": {\"color\": \"#4D5663\"}}, \"xaxis\": {\"anchor\": \"y\", \"domain\": [0.0, 0.2125], \"gridcolor\": \"#E1E5ED\", \"showgrid\": false, \"tickfont\": {\"color\": \"#4D5663\"}, \"title\": {\"font\": {\"color\": \"#4D5663\"}, \"text\": \"\"}, \"zerolinecolor\": \"#E1E5ED\"}, \"xaxis10\": {\"anchor\": \"y10\", \"domain\": [0.2625, 0.475], \"gridcolor\": \"#E1E5ED\", \"showgrid\": false, \"tickfont\": {\"color\": \"#4D5663\"}, \"title\": {\"font\": {\"color\": \"#4D5663\"}, \"text\": \"\"}, \"zerolinecolor\": \"#E1E5ED\"}, \"xaxis11\": {\"anchor\": \"y11\", \"domain\": [0.525, 0.7375], \"gridcolor\": \"#E1E5ED\", \"showgrid\": false, \"tickfont\": {\"color\": \"#4D5663\"}, \"title\": {\"font\": {\"color\": \"#4D5663\"}, \"text\": \"\"}, \"zerolinecolor\": \"#E1E5ED\"}, \"xaxis12\": {\"anchor\": \"y12\", \"domain\": [0.7875, 1.0], \"gridcolor\": \"#E1E5ED\", \"showgrid\": false, \"tickfont\": {\"color\": \"#4D5663\"}, \"title\": {\"font\": {\"color\": \"#4D5663\"}, \"text\": \"\"}, \"zerolinecolor\": \"#E1E5ED\"}, \"xaxis13\": {\"anchor\": \"y13\", \"domain\": [0.0, 0.2125], \"gridcolor\": \"#E1E5ED\", \"showgrid\": false, \"tickfont\": {\"color\": \"#4D5663\"}, \"title\": {\"font\": {\"color\": \"#4D5663\"}, \"text\": \"\"}, \"zerolinecolor\": \"#E1E5ED\"}, \"xaxis14\": {\"anchor\": \"y14\", \"domain\": [0.2625, 0.475], \"gridcolor\": \"#E1E5ED\", \"showgrid\": false, \"tickfont\": {\"color\": \"#4D5663\"}, \"title\": {\"font\": {\"color\": \"#4D5663\"}, \"text\": \"\"}, \"zerolinecolor\": \"#E1E5ED\"}, \"xaxis15\": {\"anchor\": \"y15\", \"domain\": [0.525, 0.7375], \"gridcolor\": \"#E1E5ED\", \"showgrid\": false, \"tickfont\": {\"color\": \"#4D5663\"}, \"title\": {\"font\": {\"color\": \"#4D5663\"}, \"text\": \"\"}, \"zerolinecolor\": \"#E1E5ED\"}, \"xaxis16\": {\"anchor\": \"y16\", \"domain\": [0.7875, 1.0], \"gridcolor\": \"#E1E5ED\", \"showgrid\": false, \"tickfont\": {\"color\": \"#4D5663\"}, \"title\": {\"font\": {\"color\": \"#4D5663\"}, \"text\": \"\"}, \"zerolinecolor\": \"#E1E5ED\"}, \"xaxis2\": {\"anchor\": \"y2\", \"domain\": [0.2625, 0.475], \"gridcolor\": \"#E1E5ED\", \"showgrid\": false, \"tickfont\": {\"color\": \"#4D5663\"}, \"title\": {\"font\": {\"color\": \"#4D5663\"}, \"text\": \"\"}, \"zerolinecolor\": \"#E1E5ED\"}, \"xaxis3\": {\"anchor\": \"y3\", \"domain\": [0.525, 0.7375], \"gridcolor\": \"#E1E5ED\", \"showgrid\": false, \"tickfont\": {\"color\": \"#4D5663\"}, \"title\": {\"font\": {\"color\": \"#4D5663\"}, \"text\": \"\"}, \"zerolinecolor\": \"#E1E5ED\"}, \"xaxis4\": {\"anchor\": \"y4\", \"domain\": [0.7875, 1.0], \"gridcolor\": \"#E1E5ED\", \"showgrid\": false, \"tickfont\": {\"color\": \"#4D5663\"}, \"title\": {\"font\": {\"color\": \"#4D5663\"}, \"text\": \"\"}, \"zerolinecolor\": \"#E1E5ED\"}, \"xaxis5\": {\"anchor\": \"y5\", \"domain\": [0.0, 0.2125], \"gridcolor\": \"#E1E5ED\", \"showgrid\": false, \"tickfont\": {\"color\": \"#4D5663\"}, \"title\": {\"font\": {\"color\": \"#4D5663\"}, \"text\": \"\"}, \"zerolinecolor\": \"#E1E5ED\"}, \"xaxis6\": {\"anchor\": \"y6\", \"domain\": [0.2625, 0.475], \"gridcolor\": \"#E1E5ED\", \"showgrid\": false, \"tickfont\": {\"color\": \"#4D5663\"}, \"title\": {\"font\": {\"color\": \"#4D5663\"}, \"text\": \"\"}, \"zerolinecolor\": \"#E1E5ED\"}, \"xaxis7\": {\"anchor\": \"y7\", \"domain\": [0.525, 0.7375], \"gridcolor\": \"#E1E5ED\", \"showgrid\": false, \"tickfont\": {\"color\": \"#4D5663\"}, \"title\": {\"font\": {\"color\": \"#4D5663\"}, \"text\": \"\"}, \"zerolinecolor\": \"#E1E5ED\"}, \"xaxis8\": {\"anchor\": \"y8\", \"domain\": [0.7875, 1.0], \"gridcolor\": \"#E1E5ED\", \"showgrid\": false, \"tickfont\": {\"color\": \"#4D5663\"}, \"title\": {\"font\": {\"color\": \"#4D5663\"}, \"text\": \"\"}, \"zerolinecolor\": \"#E1E5ED\"}, \"xaxis9\": {\"anchor\": \"y9\", \"domain\": [0.0, 0.2125], \"gridcolor\": \"#E1E5ED\", \"showgrid\": false, \"tickfont\": {\"color\": \"#4D5663\"}, \"title\": {\"font\": {\"color\": \"#4D5663\"}, \"text\": \"\"}, \"zerolinecolor\": \"#E1E5ED\"}, \"yaxis\": {\"anchor\": \"x\", \"domain\": [0.8025, 1.0], \"gridcolor\": \"#E1E5ED\", \"showgrid\": false, \"tickfont\": {\"color\": \"#4D5663\"}, \"title\": {\"font\": {\"color\": \"#4D5663\"}, \"text\": \"\"}, \"zerolinecolor\": \"#E1E5ED\"}, \"yaxis10\": {\"anchor\": \"x10\", \"domain\": [0.2675, 0.465], \"gridcolor\": \"#E1E5ED\", \"showgrid\": false, \"tickfont\": {\"color\": \"#4D5663\"}, \"title\": {\"font\": {\"color\": \"#4D5663\"}, \"text\": \"\"}, \"zerolinecolor\": \"#E1E5ED\"}, \"yaxis11\": {\"anchor\": \"x11\", \"domain\": [0.2675, 0.465], \"gridcolor\": \"#E1E5ED\", \"showgrid\": false, \"tickfont\": {\"color\": \"#4D5663\"}, \"title\": {\"font\": {\"color\": \"#4D5663\"}, \"text\": \"\"}, \"zerolinecolor\": \"#E1E5ED\"}, \"yaxis12\": {\"anchor\": \"x12\", \"domain\": [0.2675, 0.465], \"gridcolor\": \"#E1E5ED\", \"showgrid\": false, \"tickfont\": {\"color\": \"#4D5663\"}, \"title\": {\"font\": {\"color\": \"#4D5663\"}, \"text\": \"\"}, \"zerolinecolor\": \"#E1E5ED\"}, \"yaxis13\": {\"anchor\": \"x13\", \"domain\": [0.0, 0.1975], \"gridcolor\": \"#E1E5ED\", \"showgrid\": false, \"tickfont\": {\"color\": \"#4D5663\"}, \"title\": {\"font\": {\"color\": \"#4D5663\"}, \"text\": \"\"}, \"zerolinecolor\": \"#E1E5ED\"}, \"yaxis14\": {\"anchor\": \"x14\", \"domain\": [0.0, 0.1975], \"gridcolor\": \"#E1E5ED\", \"showgrid\": false, \"tickfont\": {\"color\": \"#4D5663\"}, \"title\": {\"font\": {\"color\": \"#4D5663\"}, \"text\": \"\"}, \"zerolinecolor\": \"#E1E5ED\"}, \"yaxis15\": {\"anchor\": \"x15\", \"domain\": [0.0, 0.1975], \"gridcolor\": \"#E1E5ED\", \"showgrid\": false, \"tickfont\": {\"color\": \"#4D5663\"}, \"title\": {\"font\": {\"color\": \"#4D5663\"}, \"text\": \"\"}, \"zerolinecolor\": \"#E1E5ED\"}, \"yaxis16\": {\"anchor\": \"x16\", \"domain\": [0.0, 0.1975], \"gridcolor\": \"#E1E5ED\", \"showgrid\": false, \"tickfont\": {\"color\": \"#4D5663\"}, \"title\": {\"font\": {\"color\": \"#4D5663\"}, \"text\": \"\"}, \"zerolinecolor\": \"#E1E5ED\"}, \"yaxis2\": {\"anchor\": \"x2\", \"domain\": [0.8025, 1.0], \"gridcolor\": \"#E1E5ED\", \"showgrid\": false, \"tickfont\": {\"color\": \"#4D5663\"}, \"title\": {\"font\": {\"color\": \"#4D5663\"}, \"text\": \"\"}, \"zerolinecolor\": \"#E1E5ED\"}, \"yaxis3\": {\"anchor\": \"x3\", \"domain\": [0.8025, 1.0], \"gridcolor\": \"#E1E5ED\", \"showgrid\": false, \"tickfont\": {\"color\": \"#4D5663\"}, \"title\": {\"font\": {\"color\": \"#4D5663\"}, \"text\": \"\"}, \"zerolinecolor\": \"#E1E5ED\"}, \"yaxis4\": {\"anchor\": \"x4\", \"domain\": [0.8025, 1.0], \"gridcolor\": \"#E1E5ED\", \"showgrid\": false, \"tickfont\": {\"color\": \"#4D5663\"}, \"title\": {\"font\": {\"color\": \"#4D5663\"}, \"text\": \"\"}, \"zerolinecolor\": \"#E1E5ED\"}, \"yaxis5\": {\"anchor\": \"x5\", \"domain\": [0.535, 0.7325], \"gridcolor\": \"#E1E5ED\", \"showgrid\": false, \"tickfont\": {\"color\": \"#4D5663\"}, \"title\": {\"font\": {\"color\": \"#4D5663\"}, \"text\": \"\"}, \"zerolinecolor\": \"#E1E5ED\"}, \"yaxis6\": {\"anchor\": \"x6\", \"domain\": [0.535, 0.7325], \"gridcolor\": \"#E1E5ED\", \"showgrid\": false, \"tickfont\": {\"color\": \"#4D5663\"}, \"title\": {\"font\": {\"color\": \"#4D5663\"}, \"text\": \"\"}, \"zerolinecolor\": \"#E1E5ED\"}, \"yaxis7\": {\"anchor\": \"x7\", \"domain\": [0.535, 0.7325], \"gridcolor\": \"#E1E5ED\", \"showgrid\": false, \"tickfont\": {\"color\": \"#4D5663\"}, \"title\": {\"font\": {\"color\": \"#4D5663\"}, \"text\": \"\"}, \"zerolinecolor\": \"#E1E5ED\"}, \"yaxis8\": {\"anchor\": \"x8\", \"domain\": [0.535, 0.7325], \"gridcolor\": \"#E1E5ED\", \"showgrid\": false, \"tickfont\": {\"color\": \"#4D5663\"}, \"title\": {\"font\": {\"color\": \"#4D5663\"}, \"text\": \"\"}, \"zerolinecolor\": \"#E1E5ED\"}, \"yaxis9\": {\"anchor\": \"x9\", \"domain\": [0.2675, 0.465], \"gridcolor\": \"#E1E5ED\", \"showgrid\": false, \"tickfont\": {\"color\": \"#4D5663\"}, \"title\": {\"font\": {\"color\": \"#4D5663\"}, \"text\": \"\"}, \"zerolinecolor\": \"#E1E5ED\"}},                        {\"showLink\": true, \"linkText\": \"Export to plot.ly\", \"plotlyServerURL\": \"https://plot.ly\", \"responsive\": true}                    ).then(function(){\n",
       "                            \n",
       "var gd = document.getElementById('1e105377-17b6-4221-8e22-b770df7d3c33');\n",
       "var x = new MutationObserver(function (mutations, observer) {{\n",
       "        var display = window.getComputedStyle(gd).display;\n",
       "        if (!display || display === 'none') {{\n",
       "            console.log([gd, 'removed!']);\n",
       "            Plotly.purge(gd);\n",
       "            observer.disconnect();\n",
       "        }}\n",
       "}});\n",
       "\n",
       "// Listen for the removal of the full notebook cells\n",
       "var notebookContainer = gd.closest('#notebook-container');\n",
       "if (notebookContainer) {{\n",
       "    x.observe(notebookContainer, {childList: true});\n",
       "}}\n",
       "\n",
       "// Listen for the clearing of the current output cell\n",
       "var outputEl = gd.closest('.output');\n",
       "if (outputEl) {{\n",
       "    x.observe(outputEl, {childList: true});\n",
       "}}\n",
       "\n",
       "                        })                };                });            </script>        </div>"
      ]
     },
     "metadata": {},
     "output_type": "display_data"
    }
   ],
   "source": [
    "df.scatter_matrix()"
   ]
  },
  {
   "cell_type": "markdown",
   "metadata": {
    "collapsed": true
   },
   "source": [
    "# Great Job!"
   ]
  }
 ],
 "metadata": {
  "kernelspec": {
   "display_name": "Python 3",
   "language": "python",
   "name": "python3"
  },
  "language_info": {
   "codemirror_mode": {
    "name": "ipython",
    "version": 3
   },
   "file_extension": ".py",
   "mimetype": "text/x-python",
   "name": "python",
   "nbconvert_exporter": "python",
   "pygments_lexer": "ipython3",
   "version": "3.7.6"
  }
 },
 "nbformat": 4,
 "nbformat_minor": 1
}
